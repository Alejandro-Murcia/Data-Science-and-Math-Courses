{
 "cells": [
  {
   "cell_type": "markdown",
   "id": "493cf6ba",
   "metadata": {},
   "source": [
    "# First Neural Network (Using Perceptrons)"
   ]
  },
  {
   "cell_type": "markdown",
   "id": "630ba8b3",
   "metadata": {},
   "source": [
    "## OR function"
   ]
  },
  {
   "cell_type": "code",
   "execution_count": 8,
   "id": "13946509",
   "metadata": {},
   "outputs": [],
   "source": [
    "# Data set: OR Function\n",
    "\n",
    "#Input\n",
    "X = [[0.,0.],[0.,1.], [1.,0.],[1.,1.]]\n",
    "#Output\n",
    "y = [0,1,1,1]"
   ]
  },
  {
   "cell_type": "code",
   "execution_count": 9,
   "id": "660b257e",
   "metadata": {},
   "outputs": [],
   "source": [
    "# Sklearn library\n",
    "from sklearn.linear_model import Perceptron"
   ]
  },
  {
   "cell_type": "code",
   "execution_count": null,
   "id": "d6e53efc",
   "metadata": {},
   "outputs": [],
   "source": [
    "# Create an object from the class Sklearn\n",
    "model = Perceptron()\n",
    "\n",
    "# Fit the data and train\n",
    "model.fit(X,y)\n",
    "model.score(X,y)"
   ]
  },
  {
   "cell_type": "code",
   "execution_count": 11,
   "id": "f8a1417a",
   "metadata": {},
   "outputs": [
    {
     "data": {
      "text/plain": [
       "array([0, 1, 1, 1])"
      ]
     },
     "execution_count": 11,
     "metadata": {},
     "output_type": "execute_result"
    }
   ],
   "source": [
    "model.predict(X)"
   ]
  },
  {
   "cell_type": "markdown",
   "id": "dc47e9bb",
   "metadata": {},
   "source": [
    "## XOR function"
   ]
  },
  {
   "cell_type": "code",
   "execution_count": 12,
   "id": "d81a93d1",
   "metadata": {},
   "outputs": [],
   "source": [
    "# Data set: XOR Function\n",
    "X = [[0.,0.],[0.,1.], [1.,0.],[1.,1.]]\n",
    "y = [0,1,1,0]"
   ]
  },
  {
   "cell_type": "code",
   "execution_count": 13,
   "id": "0e61cab1",
   "metadata": {},
   "outputs": [
    {
     "data": {
      "text/plain": [
       "0.5"
      ]
     },
     "execution_count": 13,
     "metadata": {},
     "output_type": "execute_result"
    }
   ],
   "source": [
    "# Create an object from the class Sklearn\n",
    "xor = Perceptron()\n",
    "\n",
    "# Fit the data and train\n",
    "xor.fit(X,y)\n",
    "xor.score(X,y)"
   ]
  },
  {
   "cell_type": "code",
   "execution_count": 15,
   "id": "460b8c1b",
   "metadata": {},
   "outputs": [
    {
     "data": {
      "text/plain": [
       "array([0, 0, 0, 0])"
      ]
     },
     "execution_count": 15,
     "metadata": {},
     "output_type": "execute_result"
    }
   ],
   "source": [
    "xor.predict(X)"
   ]
  }
 ],
 "metadata": {
  "kernelspec": {
   "display_name": "Python 3 (ipykernel)",
   "language": "python",
   "name": "python3"
  },
  "language_info": {
   "codemirror_mode": {
    "name": "ipython",
    "version": 3
   },
   "file_extension": ".py",
   "mimetype": "text/x-python",
   "name": "python",
   "nbconvert_exporter": "python",
   "pygments_lexer": "ipython3",
   "version": "3.9.7"
  }
 },
 "nbformat": 4,
 "nbformat_minor": 5
}
