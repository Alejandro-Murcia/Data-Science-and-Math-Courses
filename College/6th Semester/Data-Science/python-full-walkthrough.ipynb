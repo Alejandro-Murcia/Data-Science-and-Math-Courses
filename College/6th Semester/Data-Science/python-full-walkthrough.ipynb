{
 "cells": [
  {
   "attachments": {},
   "cell_type": "markdown",
   "metadata": {},
   "source": [
    "# Python Course"
   ]
  },
  {
   "attachments": {},
   "cell_type": "markdown",
   "metadata": {},
   "source": [
    "## Variables"
   ]
  },
  {
   "attachments": {},
   "cell_type": "markdown",
   "metadata": {},
   "source": [
    "A variable is a container for a value. We can imagine a box that contains a particular piece of information, we store it there, and we can toss it, change it or even delete it. Behaves like the value."
   ]
  },
  {
   "attachments": {},
   "cell_type": "markdown",
   "metadata": {},
   "source": [
    "### Data Types"
   ]
  },
  {
   "attachments": {},
   "cell_type": "markdown",
   "metadata": {},
   "source": [
    "In Python instead of declaring directly the data type of a variable we declare, we do not need to explicitly do it. We just create the variable. But there is a trick, even if we do not declare it, the syntaxis of that specific value tells us what data. We present all the types of data in Python are presented:"
   ]
  },
  {
   "attachments": {},
   "cell_type": "markdown",
   "metadata": {},
   "source": [
    "1. **Numbers**: Python supports several numeric data types, including integers (int), floating-point numbers (float), and complex numbers."
   ]
  },
  {
   "cell_type": "code",
   "execution_count": 7,
   "metadata": {},
   "outputs": [
    {
     "name": "stdout",
     "output_type": "stream",
     "text": [
      "These are integers:  10 , 5\n"
     ]
    }
   ],
   "source": [
    "# Integers\n",
    "int1 = 10\n",
    "int2 = 5\n",
    "\n",
    "print(\"These are integers: \", int1, \",\", int2)\n",
    "\n",
    "# Floating-point numbers\n",
    "float1 = 3.1416\n",
    "float2 = 2.50\n",
    "\n",
    "# Complex numbers\n",
    "complex1 = 2 + 3j\n",
    "complex2 = 4 - 5j\n"
   ]
  }
 ],
 "metadata": {
  "kernelspec": {
   "display_name": "base",
   "language": "python",
   "name": "python3"
  },
  "language_info": {
   "codemirror_mode": {
    "name": "ipython",
    "version": 3
   },
   "file_extension": ".py",
   "mimetype": "text/x-python",
   "name": "python",
   "nbconvert_exporter": "python",
   "pygments_lexer": "ipython3",
   "version": "3.11.3"
  },
  "orig_nbformat": 4
 },
 "nbformat": 4,
 "nbformat_minor": 2
}
