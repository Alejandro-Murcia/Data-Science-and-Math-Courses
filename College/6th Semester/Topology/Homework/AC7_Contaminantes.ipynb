{
 "cells": [
  {
   "cell_type": "code",
   "execution_count": 1,
   "metadata": {},
   "outputs": [],
   "source": [
    "import numpy as np\n",
    "import pandas as pd\n",
    "import gtda\n",
    "import matplotlib.pyplot as plt"
   ]
  },
  {
   "attachments": {},
   "cell_type": "markdown",
   "metadata": {},
   "source": [
    "# Series de Tiempo de Contaminantes para la CDMX\n",
    "\n",
    "A continuación estudiaremos una base de datos con algunos contaminantes de la CDMX. La base de datos se encuentra en el archivo `contaminantes_CDMX.csv` y contiene las siguientes columnas:\n",
    "\n",
    "- `fecha`: Fecha de la medición\n",
    "- `NO`: Monóxido de Nitrógeno\n",
    "- `NO.1`: Dióxido de Nitrógeno\n",
    "- `O3`: Ozono\n",
    "- `PM10`: Partículas menores a 10 micras\n",
    "- `PM25`: Partículas menores a 2.5 micras\n",
    "- `SO2`: Dióxido de Azufre\n",
    "- `Ln_PM10`: Logaritmo natural de PM10\n",
    "\n",
    "Queremos conocer si existen recurrencia entre nuestras mediciones."
   ]
  },
  {
   "cell_type": "code",
   "execution_count": 2,
   "metadata": {},
   "outputs": [],
   "source": [
    "contaminants = pd.read_csv('contaminantes_CDMX.csv')"
   ]
  },
  {
   "cell_type": "code",
   "execution_count": 3,
   "metadata": {},
   "outputs": [
    {
     "data": {
      "text/html": [
       "<div>\n",
       "<style scoped>\n",
       "    .dataframe tbody tr th:only-of-type {\n",
       "        vertical-align: middle;\n",
       "    }\n",
       "\n",
       "    .dataframe tbody tr th {\n",
       "        vertical-align: top;\n",
       "    }\n",
       "\n",
       "    .dataframe thead th {\n",
       "        text-align: right;\n",
       "    }\n",
       "</style>\n",
       "<table border=\"1\" class=\"dataframe\">\n",
       "  <thead>\n",
       "    <tr style=\"text-align: right;\">\n",
       "      <th></th>\n",
       "      <th>Fecha</th>\n",
       "      <th>NO</th>\n",
       "      <th>NO.1</th>\n",
       "      <th>O3</th>\n",
       "      <th>PM10</th>\n",
       "      <th>PM25</th>\n",
       "      <th>SO2</th>\n",
       "      <th>Ln_PM10</th>\n",
       "    </tr>\n",
       "  </thead>\n",
       "  <tbody>\n",
       "    <tr>\n",
       "      <th>0</th>\n",
       "      <td>01/01/2020</td>\n",
       "      <td>7</td>\n",
       "      <td>25</td>\n",
       "      <td>29</td>\n",
       "      <td>13</td>\n",
       "      <td>10</td>\n",
       "      <td>6</td>\n",
       "      <td>2.564949</td>\n",
       "    </tr>\n",
       "    <tr>\n",
       "      <th>1</th>\n",
       "      <td>02/01/2020</td>\n",
       "      <td>1</td>\n",
       "      <td>2</td>\n",
       "      <td>54</td>\n",
       "      <td>4</td>\n",
       "      <td>2</td>\n",
       "      <td>5</td>\n",
       "      <td>1.386294</td>\n",
       "    </tr>\n",
       "    <tr>\n",
       "      <th>2</th>\n",
       "      <td>03/01/2020</td>\n",
       "      <td>1</td>\n",
       "      <td>3</td>\n",
       "      <td>76</td>\n",
       "      <td>12</td>\n",
       "      <td>2</td>\n",
       "      <td>4</td>\n",
       "      <td>2.484907</td>\n",
       "    </tr>\n",
       "    <tr>\n",
       "      <th>3</th>\n",
       "      <td>04/01/2020</td>\n",
       "      <td>1</td>\n",
       "      <td>3</td>\n",
       "      <td>56</td>\n",
       "      <td>4</td>\n",
       "      <td>2</td>\n",
       "      <td>4</td>\n",
       "      <td>1.386294</td>\n",
       "    </tr>\n",
       "    <tr>\n",
       "      <th>4</th>\n",
       "      <td>05/01/2020</td>\n",
       "      <td>2</td>\n",
       "      <td>1</td>\n",
       "      <td>53</td>\n",
       "      <td>6</td>\n",
       "      <td>3</td>\n",
       "      <td>2</td>\n",
       "      <td>1.791759</td>\n",
       "    </tr>\n",
       "  </tbody>\n",
       "</table>\n",
       "</div>"
      ],
      "text/plain": [
       "        Fecha  NO  NO.1  O3  PM10  PM25  SO2   Ln_PM10\n",
       "0  01/01/2020   7    25  29    13    10    6  2.564949\n",
       "1  02/01/2020   1     2  54     4     2    5  1.386294\n",
       "2  03/01/2020   1     3  76    12     2    4  2.484907\n",
       "3  04/01/2020   1     3  56     4     2    4  1.386294\n",
       "4  05/01/2020   2     1  53     6     3    2  1.791759"
      ]
     },
     "execution_count": 3,
     "metadata": {},
     "output_type": "execute_result"
    }
   ],
   "source": [
    "contaminants.head()"
   ]
  },
  {
   "attachments": {},
   "cell_type": "markdown",
   "metadata": {},
   "source": [
    "Veamos si la fecha es un timestamp de pandas"
   ]
  },
  {
   "cell_type": "code",
   "execution_count": 4,
   "metadata": {},
   "outputs": [
    {
     "data": {
      "text/plain": [
       "Fecha       object\n",
       "NO           int64\n",
       "NO.1         int64\n",
       "O3           int64\n",
       "PM10         int64\n",
       "PM25         int64\n",
       "SO2          int64\n",
       "Ln_PM10    float64\n",
       "dtype: object"
      ]
     },
     "execution_count": 4,
     "metadata": {},
     "output_type": "execute_result"
    }
   ],
   "source": [
    "\n",
    "contaminants.dtypes"
   ]
  },
  {
   "cell_type": "markdown",
   "metadata": {},
   "source": [
    "No lo es, por lo que cambiaremos a timestamp para su manejo más eficiente."
   ]
  },
  {
   "cell_type": "code",
   "execution_count": 5,
   "metadata": {},
   "outputs": [
    {
     "name": "stderr",
     "output_type": "stream",
     "text": [
      "C:\\Users\\alejandro.murcia\\AppData\\Local\\Temp\\ipykernel_54908\\1586979963.py:1: UserWarning: Parsing dates in DD/MM/YYYY format when dayfirst=False (the default) was specified. This may lead to inconsistently parsed dates! Specify a format to ensure consistent parsing.\n",
      "  contaminants['Fecha'] = pd.to_datetime(contaminants['Fecha'])\n"
     ]
    }
   ],
   "source": [
    "contaminants['Fecha'] = pd.to_datetime(contaminants['Fecha'])"
   ]
  },
  {
   "cell_type": "code",
   "execution_count": 6,
   "metadata": {},
   "outputs": [],
   "source": [
    "PM10 = pd.Series(contaminants['PM10'])"
   ]
  },
  {
   "cell_type": "code",
   "execution_count": 7,
   "metadata": {},
   "outputs": [
    {
     "data": {
      "text/plain": [
       "[<matplotlib.lines.Line2D at 0x1a2085bd150>]"
      ]
     },
     "execution_count": 7,
     "metadata": {},
     "output_type": "execute_result"
    },
    {
     "data": {
      "image/png": "[encoded data removed]",
      "text/plain": [
       "<Figure size 640x480 with 1 Axes>"
      ]
     },
     "metadata": {},
     "output_type": "display_data"
    }
   ],
   "source": [
    " plt.plot(PM10, '--', label='ML Predictions')"
   ]
  },
  {
   "cell_type": "code",
   "execution_count": 8,
   "metadata": {},
   "outputs": [],
   "source": [
    "from gtda.time_series import SingleTakensEmbedding, takens_embedding_optimal_parameters\n",
    "import plotly.graph_objects as go\n",
    "from gtda.plotting import plot_point_cloud"
   ]
  },
  {
   "cell_type": "code",
   "execution_count": 9,
   "metadata": {},
   "outputs": [
    {
     "data": {
      "text/plain": [
       "4"
      ]
     },
     "execution_count": 9,
     "metadata": {},
     "output_type": "execute_result"
    }
   ],
   "source": [
    "PM10[1]"
   ]
  },
  {
   "cell_type": "code",
   "execution_count": 10,
   "metadata": {},
   "outputs": [
    {
     "name": "stdout",
     "output_type": "stream",
     "text": [
      "Shape of embedded time series: (75, 3)\n"
     ]
    }
   ],
   "source": [
    "x_contaminantes = PM10.index\n",
    "y_contaminantes = [PM10[i] for i in x_contaminantes]\n",
    "\n",
    "# Escogemos nuestros parametros para el encaje\n",
    "# d= embedding_dimension_periodic\n",
    "# tau = embedding_time_delay_periodic\n",
    "# stride = nos permite tomar un subconjunto de los datos.\n",
    "embedding_dimension_periodic = 3\n",
    "embedding_time_delay_periodic = 30\n",
    "stride = 1\n",
    "\n",
    "# Modifica el `stride` y el `delay` para obtener diferentes encajes, de lo anterior.\n",
    "\n",
    "embedder_periodic = SingleTakensEmbedding(\n",
    "    parameters_type=\"fixed\",\n",
    "    n_jobs=2,\n",
    "    time_delay=embedding_time_delay_periodic,\n",
    "    dimension=embedding_dimension_periodic,\n",
    "    stride=stride,\n",
    ")\n",
    "\n",
    "y_periodic_embedded = embedder_periodic.fit_transform(y_contaminantes)\n",
    "print(f\"Shape of embedded time series: {y_periodic_embedded.shape}\")"
   ]
  },
  {
   "cell_type": "code",
   "execution_count": 11,
   "metadata": {},
   "outputs": [
    {
     "data": {
      "application/vnd.plotly.v1+json": {
       "config": {
        "plotlyServerURL": "https://plot.ly"
       },
       "data": [
        {
         "marker": {
          "color": [
           0,
           1,
           2,
           3,
           4,
           5,
           6,
           7,
           8,
           9,
           10,
           11,
           12,
           13,
           14,
           15,
           16,
           17,
           18,
           19,
           20,
           21,
           22,
           23,
           24,
           25,
           26,
           27,
           28,
           29,
           30,
           31,
           32,
           33,
           34,
           35,
           36,
           37,
           38,
           39,
           40,
           41,
           42,
           43,
           44,
           45,
           46,
           47,
           48,
           49,
           50,
           51,
           52,
           53,
           54,
           55,
           56,
           57,
           58,
           59,
           60,
           61,
           62,
           63,
           64,
           65,
           66,
           67,
           68,
           69,
           70,
           71,
           72,
           73,
           74
          ],
          "colorscale": [
           [
            0,
            "#440154"
           ],
           [
            0.1111111111111111,
            "#482878"
           ],
           [
            0.2222222222222222,
            "#3e4989"
           ],
           [
            0.3333333333333333,
            "#31688e"
           ],
           [
            0.4444444444444444,
            "#26828e"
           ],
           [
            0.5555555555555556,
            "#1f9e89"
           ],
           [
            0.6666666666666666,
            "#35b779"
           ],
           [
            0.7777777777777778,
            "#6ece58"
           ],
           [
            0.8888888888888888,
            "#b5de2b"
           ],
           [
            1,
            "#fde725"
           ]
          ],
          "opacity": 0.8,
          "size": 4
         },
         "mode": "markers",
         "type": "scatter3d",
         "x": [
          13,
          4,
          12,
          4,
          6,
          9,
          8,
          7,
          7,
          7,
          7,
          5,
          7,
          12,
          8,
          13,
          24,
          21,
          7,
          8,
          7,
          4,
          4,
          6,
          4,
          13,
          4,
          3,
          8,
          4,
          20,
          7,
          6,
          9,
          6,
          5,
          8,
          7,
          12,
          13,
          9,
          10,
          20,
          9,
          6,
          45,
          54,
          50,
          15,
          18,
          9,
          11,
          7,
          17,
          11,
          25,
          23,
          21,
          12,
          15,
          12,
          15,
          6,
          4,
          11,
          12,
          5,
          7,
          19,
          9,
          13,
          10,
          5,
          5,
          4
         ],
         "y": [
          20,
          7,
          6,
          9,
          6,
          5,
          8,
          7,
          12,
          13,
          9,
          10,
          20,
          9,
          6,
          45,
          54,
          50,
          15,
          18,
          9,
          11,
          7,
          17,
          11,
          25,
          23,
          21,
          12,
          15,
          12,
          15,
          6,
          4,
          11,
          12,
          5,
          7,
          19,
          9,
          13,
          10,
          5,
          5,
          4,
          5,
          5,
          6,
          7,
          8,
          9,
          8,
          9,
          8,
          9,
          6,
          6,
          6,
          8,
          11,
          6,
          6,
          8,
          7,
          6,
          9,
          8,
          14,
          13,
          12,
          13,
          12,
          13,
          16,
          11
         ],
         "z": [
          12,
          15,
          6,
          4,
          11,
          12,
          5,
          7,
          19,
          9,
          13,
          10,
          5,
          5,
          4,
          5,
          5,
          6,
          7,
          8,
          9,
          8,
          9,
          8,
          9,
          6,
          6,
          6,
          8,
          11,
          6,
          6,
          8,
          7,
          6,
          9,
          8,
          14,
          13,
          12,
          13,
          12,
          13,
          16,
          11,
          12,
          16,
          13,
          15,
          17,
          14,
          16,
          15,
          5,
          15,
          5,
          5,
          8,
          12,
          6,
          8,
          7,
          7,
          10,
          10,
          10,
          9,
          15,
          15,
          18,
          17,
          8,
          8,
          9,
          11
         ]
        }
       ],
       "layout": {
        "scene": {
         "xaxis": {
          "exponentformat": "e",
          "showexponent": "all",
          "title": {
           "text": "0th"
          },
          "type": "linear"
         },
         "yaxis": {
          "exponentformat": "e",
          "showexponent": "all",
          "title": {
           "text": "1st"
          },
          "type": "linear"
         },
         "zaxis": {
          "exponentformat": "e",
          "showexponent": "all",
          "title": {
           "text": "2nd"
          },
          "type": "linear"
         }
        },
        "template": {
         "data": {
          "bar": [
           {
            "error_x": {
             "color": "#2a3f5f"
            },
            "error_y": {
             "color": "#2a3f5f"
            },
            "marker": {
             "line": {
              "color": "#E5ECF6",
              "width": 0.5
             },
             "pattern": {
              "fillmode": "overlay",
              "size": 10,
              "solidity": 0.2
             }
            },
            "type": "bar"
           }
          ],
          "barpolar": [
           {
            "marker": {
             "line": {
              "color": "#E5ECF6",
              "width": 0.5
             },
             "pattern": {
              "fillmode": "overlay",
              "size": 10,
              "solidity": 0.2
             }
            },
            "type": "barpolar"
           }
          ],
          "carpet": [
           {
            "aaxis": {
             "endlinecolor": "#2a3f5f",
             "gridcolor": "white",
             "linecolor": "white",
             "minorgridcolor": "white",
             "startlinecolor": "#2a3f5f"
            },
            "baxis": {
             "endlinecolor": "#2a3f5f",
             "gridcolor": "white",
             "linecolor": "white",
             "minorgridcolor": "white",
             "startlinecolor": "#2a3f5f"
            },
            "type": "carpet"
           }
          ],
          "choropleth": [
           {
            "colorbar": {
             "outlinewidth": 0,
             "ticks": ""
            },
            "type": "choropleth"
           }
          ],
          "contour": [
           {
            "colorbar": {
             "outlinewidth": 0,
             "ticks": ""
            },
            "colorscale": [
             [
              0,
              "#0d0887"
             ],
             [
              0.1111111111111111,
              "#46039f"
             ],
             [
              0.2222222222222222,
              "#7201a8"
             ],
             [
              0.3333333333333333,
              "#9c179e"
             ],
             [
              0.4444444444444444,
              "#bd3786"
             ],
             [
              0.5555555555555556,
              "#d8576b"
             ],
             [
              0.6666666666666666,
              "#ed7953"
             ],
             [
              0.7777777777777778,
              "#fb9f3a"
             ],
             [
              0.8888888888888888,
              "#fdca26"
             ],
             [
              1,
              "#f0f921"
             ]
            ],
            "type": "contour"
           }
          ],
          "contourcarpet": [
           {
            "colorbar": {
             "outlinewidth": 0,
             "ticks": ""
            },
            "type": "contourcarpet"
           }
          ],
          "heatmap": [
           {
            "colorbar": {
             "outlinewidth": 0,
             "ticks": ""
            },
            "colorscale": [
             [
              0,
              "#0d0887"
             ],
             [
              0.1111111111111111,
              "#46039f"
             ],
             [
              0.2222222222222222,
              "#7201a8"
             ],
             [
              0.3333333333333333,
              "#9c179e"
             ],
             [
              0.4444444444444444,
              "#bd3786"
             ],
             [
              0.5555555555555556,
              "#d8576b"
             ],
             [
              0.6666666666666666,
              "#ed7953"
             ],
             [
              0.7777777777777778,
              "#fb9f3a"
             ],
             [
              0.8888888888888888,
              "#fdca26"
             ],
             [
              1,
              "#f0f921"
             ]
            ],
            "type": "heatmap"
           }
          ],
          "heatmapgl": [
           {
            "colorbar": {
             "outlinewidth": 0,
             "ticks": ""
            },
            "colorscale": [
             [
              0,
              "#0d0887"
             ],
             [
              0.1111111111111111,
              "#46039f"
             ],
             [
              0.2222222222222222,
              "#7201a8"
             ],
             [
              0.3333333333333333,
              "#9c179e"
             ],
             [
              0.4444444444444444,
              "#bd3786"
             ],
             [
              0.5555555555555556,
              "#d8576b"
             ],
             [
              0.6666666666666666,
              "#ed7953"
             ],
             [
              0.7777777777777778,
              "#fb9f3a"
             ],
             [
              0.8888888888888888,
              "#fdca26"
             ],
             [
              1,
              "#f0f921"
             ]
            ],
            "type": "heatmapgl"
           }
          ],
          "histogram": [
           {
            "marker": {
             "pattern": {
              "fillmode": "overlay",
              "size": 10,
              "solidity": 0.2
             }
            },
            "type": "histogram"
           }
          ],
          "histogram2d": [
           {
            "colorbar": {
             "outlinewidth": 0,
             "ticks": ""
            },
            "colorscale": [
             [
              0,
              "#0d0887"
             ],
             [
              0.1111111111111111,
              "#46039f"
             ],
             [
              0.2222222222222222,
              "#7201a8"
             ],
             [
              0.3333333333333333,
              "#9c179e"
             ],
             [
              0.4444444444444444,
              "#bd3786"
             ],
             [
              0.5555555555555556,
              "#d8576b"
             ],
             [
              0.6666666666666666,
              "#ed7953"
             ],
             [
              0.7777777777777778,
              "#fb9f3a"
             ],
             [
              0.8888888888888888,
              "#fdca26"
             ],
             [
              1,
              "#f0f921"
             ]
            ],
            "type": "histogram2d"
           }
          ],
          "histogram2dcontour": [
           {
            "colorbar": {
             "outlinewidth": 0,
             "ticks": ""
            },
            "colorscale": [
             [
              0,
              "#0d0887"
             ],
             [
              0.1111111111111111,
              "#46039f"
             ],
             [
              0.2222222222222222,
              "#7201a8"
             ],
             [
              0.3333333333333333,
              "#9c179e"
             ],
             [
              0.4444444444444444,
              "#bd3786"
             ],
             [
              0.5555555555555556,
              "#d8576b"
             ],
             [
              0.6666666666666666,
              "#ed7953"
             ],
             [
              0.7777777777777778,
              "#fb9f3a"
             ],
             [
              0.8888888888888888,
              "#fdca26"
             ],
             [
              1,
              "#f0f921"
             ]
            ],
            "type": "histogram2dcontour"
           }
          ],
          "mesh3d": [
           {
            "colorbar": {
             "outlinewidth": 0,
             "ticks": ""
            },
            "type": "mesh3d"
           }
          ],
          "parcoords": [
           {
            "line": {
             "colorbar": {
              "outlinewidth": 0,
              "ticks": ""
             }
            },
            "type": "parcoords"
           }
          ],
          "pie": [
           {
            "automargin": true,
            "type": "pie"
           }
          ],
          "scatter": [
           {
            "fillpattern": {
             "fillmode": "overlay",
             "size": 10,
             "solidity": 0.2
            },
            "type": "scatter"
           }
          ],
          "scatter3d": [
           {
            "line": {
             "colorbar": {
              "outlinewidth": 0,
              "ticks": ""
             }
            },
            "marker": {
             "colorbar": {
              "outlinewidth": 0,
              "ticks": ""
             }
            },
            "type": "scatter3d"
           }
          ],
          "scattercarpet": [
           {
            "marker": {
             "colorbar": {
              "outlinewidth": 0,
              "ticks": ""
             }
            },
            "type": "scattercarpet"
           }
          ],
          "scattergeo": [
           {
            "marker": {
             "colorbar": {
              "outlinewidth": 0,
              "ticks": ""
             }
            },
            "type": "scattergeo"
           }
          ],
          "scattergl": [
           {
            "marker": {
             "colorbar": {
              "outlinewidth": 0,
              "ticks": ""
             }
            },
            "type": "scattergl"
           }
          ],
          "scattermapbox": [
           {
            "marker": {
             "colorbar": {
              "outlinewidth": 0,
              "ticks": ""
             }
            },
            "type": "scattermapbox"
           }
          ],
          "scatterpolar": [
           {
            "marker": {
             "colorbar": {
              "outlinewidth": 0,
              "ticks": ""
             }
            },
            "type": "scatterpolar"
           }
          ],
          "scatterpolargl": [
           {
            "marker": {
             "colorbar": {
              "outlinewidth": 0,
              "ticks": ""
             }
            },
            "type": "scatterpolargl"
           }
          ],
          "scatterternary": [
           {
            "marker": {
             "colorbar": {
              "outlinewidth": 0,
              "ticks": ""
             }
            },
            "type": "scatterternary"
           }
          ],
          "surface": [
           {
            "colorbar": {
             "outlinewidth": 0,
             "ticks": ""
            },
            "colorscale": [
             [
              0,
              "#0d0887"
             ],
             [
              0.1111111111111111,
              "#46039f"
             ],
             [
              0.2222222222222222,
              "#7201a8"
             ],
             [
              0.3333333333333333,
              "#9c179e"
             ],
             [
              0.4444444444444444,
              "#bd3786"
             ],
             [
              0.5555555555555556,
              "#d8576b"
             ],
             [
              0.6666666666666666,
              "#ed7953"
             ],
             [
              0.7777777777777778,
              "#fb9f3a"
             ],
             [
              0.8888888888888888,
              "#fdca26"
             ],
             [
              1,
              "#f0f921"
             ]
            ],
            "type": "surface"
           }
          ],
          "table": [
           {
            "cells": {
             "fill": {
              "color": "#EBF0F8"
             },
             "line": {
              "color": "white"
             }
            },
            "header": {
             "fill": {
              "color": "#C8D4E3"
             },
             "line": {
              "color": "white"
             }
            },
            "type": "table"
           }
          ]
         },
         "layout": {
          "annotationdefaults": {
           "arrowcolor": "#2a3f5f",
           "arrowhead": 0,
           "arrowwidth": 1
          },
          "autotypenumbers": "strict",
          "coloraxis": {
           "colorbar": {
            "outlinewidth": 0,
            "ticks": ""
           }
          },
          "colorscale": {
           "diverging": [
            [
             0,
             "#8e0152"
            ],
            [
             0.1,
             "#c51b7d"
            ],
            [
             0.2,
             "#de77ae"
            ],
            [
             0.3,
             "#f1b6da"
            ],
            [
             0.4,
             "#fde0ef"
            ],
            [
             0.5,
             "#f7f7f7"
            ],
            [
             0.6,
             "#e6f5d0"
            ],
            [
             0.7,
             "#b8e186"
            ],
            [
             0.8,
             "#7fbc41"
            ],
            [
             0.9,
             "#4d9221"
            ],
            [
             1,
             "#276419"
            ]
           ],
           "sequential": [
            [
             0,
             "#0d0887"
            ],
            [
             0.1111111111111111,
             "#46039f"
            ],
            [
             0.2222222222222222,
             "#7201a8"
            ],
            [
             0.3333333333333333,
             "#9c179e"
            ],
            [
             0.4444444444444444,
             "#bd3786"
            ],
            [
             0.5555555555555556,
             "#d8576b"
            ],
            [
             0.6666666666666666,
             "#ed7953"
            ],
            [
             0.7777777777777778,
             "#fb9f3a"
            ],
            [
             0.8888888888888888,
             "#fdca26"
            ],
            [
             1,
             "#f0f921"
            ]
           ],
           "sequentialminus": [
            [
             0,
             "#0d0887"
            ],
            [
             0.1111111111111111,
             "#46039f"
            ],
            [
             0.2222222222222222,
             "#7201a8"
            ],
            [
             0.3333333333333333,
             "#9c179e"
            ],
            [
             0.4444444444444444,
             "#bd3786"
            ],
            [
             0.5555555555555556,
             "#d8576b"
            ],
            [
             0.6666666666666666,
             "#ed7953"
            ],
            [
             0.7777777777777778,
             "#fb9f3a"
            ],
            [
             0.8888888888888888,
             "#fdca26"
            ],
            [
             1,
             "#f0f921"
            ]
           ]
          },
          "colorway": [
           "#636efa",
           "#EF553B",
           "#00cc96",
           "#ab63fa",
           "#FFA15A",
           "#19d3f3",
           "#FF6692",
           "#B6E880",
           "#FF97FF",
           "#FECB52"
          ],
          "font": {
           "color": "#2a3f5f"
          },
          "geo": {
           "bgcolor": "white",
           "lakecolor": "white",
           "landcolor": "#E5ECF6",
           "showlakes": true,
           "showland": true,
           "subunitcolor": "white"
          },
          "hoverlabel": {
           "align": "left"
          },
          "hovermode": "closest",
          "mapbox": {
           "style": "light"
          },
          "paper_bgcolor": "white",
          "plot_bgcolor": "#E5ECF6",
          "polar": {
           "angularaxis": {
            "gridcolor": "white",
            "linecolor": "white",
            "ticks": ""
           },
           "bgcolor": "#E5ECF6",
           "radialaxis": {
            "gridcolor": "white",
            "linecolor": "white",
            "ticks": ""
           }
          },
          "scene": {
           "xaxis": {
            "backgroundcolor": "#E5ECF6",
            "gridcolor": "white",
            "gridwidth": 2,
            "linecolor": "white",
            "showbackground": true,
            "ticks": "",
            "zerolinecolor": "white"
           },
           "yaxis": {
            "backgroundcolor": "#E5ECF6",
            "gridcolor": "white",
            "gridwidth": 2,
            "linecolor": "white",
            "showbackground": true,
            "ticks": "",
            "zerolinecolor": "white"
           },
           "zaxis": {
            "backgroundcolor": "#E5ECF6",
            "gridcolor": "white",
            "gridwidth": 2,
            "linecolor": "white",
            "showbackground": true,
            "ticks": "",
            "zerolinecolor": "white"
           }
          },
          "shapedefaults": {
           "line": {
            "color": "#2a3f5f"
           }
          },
          "ternary": {
           "aaxis": {
            "gridcolor": "white",
            "linecolor": "white",
            "ticks": ""
           },
           "baxis": {
            "gridcolor": "white",
            "linecolor": "white",
            "ticks": ""
           },
           "bgcolor": "#E5ECF6",
           "caxis": {
            "gridcolor": "white",
            "linecolor": "white",
            "ticks": ""
           }
          },
          "title": {
           "x": 0.05
          },
          "xaxis": {
           "automargin": true,
           "gridcolor": "white",
           "linecolor": "white",
           "ticks": "",
           "title": {
            "standoff": 15
           },
           "zerolinecolor": "white",
           "zerolinewidth": 2
          },
          "yaxis": {
           "automargin": true,
           "gridcolor": "white",
           "linecolor": "white",
           "ticks": "",
           "title": {
            "standoff": 15
           },
           "zerolinecolor": "white",
           "zerolinewidth": 2
          }
         }
        }
       }
      }
     },
     "metadata": {},
     "output_type": "display_data"
    }
   ],
   "source": [
    "plot_point_cloud(y_periodic_embedded)"
   ]
  },
  {
   "cell_type": "code",
   "execution_count": 12,
   "metadata": {},
   "outputs": [
    {
     "name": "stdout",
     "output_type": "stream",
     "text": [
      "Persistence diagram for periodic signal\n"
     ]
    },
    {
     "data": {
      "application/vnd.plotly.v1+json": {
       "config": {
        "plotlyServerURL": "https://plot.ly"
       },
       "data": [
        {
         "hoverinfo": "none",
         "line": {
          "color": "black",
          "dash": "dash",
          "width": 1
         },
         "mode": "lines",
         "showlegend": false,
         "type": "scatter",
         "x": [
          -0.4242640686035156,
          21.637467498779298
         ],
         "y": [
          -0.4242640686035156,
          21.637467498779298
         ]
        },
        {
         "hoverinfo": "text",
         "hovertext": [
          "(0.0, 1.0), multiplicity: 3",
          "(0.0, 1.0), multiplicity: 3",
          "(0.0, 1.0), multiplicity: 3",
          "(0.0, 1.4142135381698608), multiplicity: 6",
          "(0.0, 1.4142135381698608), multiplicity: 6",
          "(0.0, 1.4142135381698608), multiplicity: 6",
          "(0.0, 1.4142135381698608), multiplicity: 6",
          "(0.0, 1.4142135381698608), multiplicity: 6",
          "(0.0, 1.4142135381698608), multiplicity: 6",
          "(0.0, 1.7320507764816284), multiplicity: 7",
          "(0.0, 1.7320507764816284), multiplicity: 7",
          "(0.0, 1.7320507764816284), multiplicity: 7",
          "(0.0, 1.7320507764816284), multiplicity: 7",
          "(0.0, 1.7320507764816284), multiplicity: 7",
          "(0.0, 1.7320507764816284), multiplicity: 7",
          "(0.0, 1.7320507764816284), multiplicity: 7",
          "(0.0, 2.0), multiplicity: 5",
          "(0.0, 2.0), multiplicity: 5",
          "(0.0, 2.0), multiplicity: 5",
          "(0.0, 2.0), multiplicity: 5",
          "(0.0, 2.0), multiplicity: 5",
          "(0.0, 2.2360680103302), multiplicity: 14",
          "(0.0, 2.2360680103302), multiplicity: 14",
          "(0.0, 2.2360680103302), multiplicity: 14",
          "(0.0, 2.2360680103302), multiplicity: 14",
          "(0.0, 2.2360680103302), multiplicity: 14",
          "(0.0, 2.2360680103302), multiplicity: 14",
          "(0.0, 2.2360680103302), multiplicity: 14",
          "(0.0, 2.2360680103302), multiplicity: 14",
          "(0.0, 2.2360680103302), multiplicity: 14",
          "(0.0, 2.2360680103302), multiplicity: 14",
          "(0.0, 2.2360680103302), multiplicity: 14",
          "(0.0, 2.2360680103302), multiplicity: 14",
          "(0.0, 2.2360680103302), multiplicity: 14",
          "(0.0, 2.2360680103302), multiplicity: 14",
          "(0.0, 2.4494898319244385), multiplicity: 5",
          "(0.0, 2.4494898319244385), multiplicity: 5",
          "(0.0, 2.4494898319244385), multiplicity: 5",
          "(0.0, 2.4494898319244385), multiplicity: 5",
          "(0.0, 2.4494898319244385), multiplicity: 5",
          "(0.0, 2.8284270763397217), multiplicity: 3",
          "(0.0, 2.8284270763397217), multiplicity: 3",
          "(0.0, 2.8284270763397217), multiplicity: 3",
          "(0.0, 3.0), multiplicity: 3",
          "(0.0, 3.0), multiplicity: 3",
          "(0.0, 3.0), multiplicity: 3",
          "(0.0, 3.1622776985168457), multiplicity: 3",
          "(0.0, 3.1622776985168457), multiplicity: 3",
          "(0.0, 3.1622776985168457), multiplicity: 3",
          "(0.0, 3.316624879837036), multiplicity: 2",
          "(0.0, 3.316624879837036), multiplicity: 2",
          "(0.0, 3.464101552963257), multiplicity: 3",
          "(0.0, 3.464101552963257), multiplicity: 3",
          "(0.0, 3.464101552963257), multiplicity: 3",
          "(0.0, 3.605551242828369)",
          "(0.0, 3.7416574954986572), multiplicity: 3",
          "(0.0, 3.7416574954986572), multiplicity: 3",
          "(0.0, 3.7416574954986572), multiplicity: 3",
          "(0.0, 4.123105525970459), multiplicity: 2",
          "(0.0, 4.123105525970459), multiplicity: 2",
          "(0.0, 4.242640495300293), multiplicity: 2",
          "(0.0, 4.242640495300293), multiplicity: 2",
          "(0.0, 5.099019527435303), multiplicity: 3",
          "(0.0, 5.099019527435303), multiplicity: 3",
          "(0.0, 5.099019527435303), multiplicity: 3",
          "(0.0, 5.196152210235596), multiplicity: 2",
          "(0.0, 5.196152210235596), multiplicity: 2",
          "(0.0, 5.385164737701416)",
          "(0.0, 5.4772257804870605)",
          "(0.0, 6.480740547180176)",
          "(0.0, 7.8102498054504395)",
          "(0.0, 9.486832618713379)",
          "(0.0, 20.02498435974121)",
          "(0.0, 21.21320343017578)"
         ],
         "mode": "markers",
         "name": "H0",
         "type": "scatter",
         "x": [
          0,
          0,
          0,
          0,
          0,
          0,
          0,
          0,
          0,
          0,
          0,
          0,
          0,
          0,
          0,
          0,
          0,
          0,
          0,
          0,
          0,
          0,
          0,
          0,
          0,
          0,
          0,
          0,
          0,
          0,
          0,
          0,
          0,
          0,
          0,
          0,
          0,
          0,
          0,
          0,
          0,
          0,
          0,
          0,
          0,
          0,
          0,
          0,
          0,
          0,
          0,
          0,
          0,
          0,
          0,
          0,
          0,
          0,
          0,
          0,
          0,
          0,
          0,
          0,
          0,
          0,
          0,
          0,
          0,
          0,
          0,
          0,
          0,
          0
         ],
         "y": [
          1,
          1,
          1,
          1.4142135381698608,
          1.4142135381698608,
          1.4142135381698608,
          1.4142135381698608,
          1.4142135381698608,
          1.4142135381698608,
          1.7320507764816284,
          1.7320507764816284,
          1.7320507764816284,
          1.7320507764816284,
          1.7320507764816284,
          1.7320507764816284,
          1.7320507764816284,
          2,
          2,
          2,
          2,
          2,
          2.2360680103302,
          2.2360680103302,
          2.2360680103302,
          2.2360680103302,
          2.2360680103302,
          2.2360680103302,
          2.2360680103302,
          2.2360680103302,
          2.2360680103302,
          2.2360680103302,
          2.2360680103302,
          2.2360680103302,
          2.2360680103302,
          2.2360680103302,
          2.4494898319244385,
          2.4494898319244385,
          2.4494898319244385,
          2.4494898319244385,
          2.4494898319244385,
          2.8284270763397217,
          2.8284270763397217,
          2.8284270763397217,
          3,
          3,
          3,
          3.1622776985168457,
          3.1622776985168457,
          3.1622776985168457,
          3.316624879837036,
          3.316624879837036,
          3.464101552963257,
          3.464101552963257,
          3.464101552963257,
          3.605551242828369,
          3.7416574954986572,
          3.7416574954986572,
          3.7416574954986572,
          4.123105525970459,
          4.123105525970459,
          4.242640495300293,
          4.242640495300293,
          5.099019527435303,
          5.099019527435303,
          5.099019527435303,
          5.196152210235596,
          5.196152210235596,
          5.385164737701416,
          5.4772257804870605,
          6.480740547180176,
          7.8102498054504395,
          9.486832618713379,
          20.02498435974121,
          21.21320343017578
         ]
        },
        {
         "hoverinfo": "text",
         "hovertext": [
          "(9.110433578491211, 9.486832618713379)",
          "(7.874007701873779, 8.83176040649414)",
          "(6.7082037925720215, 7.141428470611572)",
          "(6.324555397033691, 7.071067810058594)",
          "(5.385164737701416, 8.062257766723633)",
          "(5.099019527435303, 5.74456262588501)",
          "(4.690415859222412, 5.0), multiplicity: 2",
          "(4.690415859222412, 5.0), multiplicity: 2",
          "(4.4721360206604, 5.196152210235596)",
          "(4.242640495300293, 4.358899116516113)",
          "(4.123105525970459, 4.582575798034668)",
          "(4.123105525970459, 4.4721360206604)",
          "(3.7416574954986572, 5.099019527435303)",
          "(3.7416574954986572, 4.123105525970459), multiplicity: 2",
          "(3.7416574954986572, 4.123105525970459), multiplicity: 2",
          "(3.7416574954986572, 4.0)",
          "(3.605551242828369, 4.4721360206604)",
          "(3.316624879837036, 4.4721360206604)",
          "(3.316624879837036, 3.605551242828369)",
          "(3.1622776985168457, 3.7416574954986572)",
          "(3.0, 3.1622776985168457)"
         ],
         "mode": "markers",
         "name": "H1",
         "type": "scatter",
         "x": [
          9.110433578491211,
          7.874007701873779,
          6.7082037925720215,
          6.324555397033691,
          5.385164737701416,
          5.099019527435303,
          4.690415859222412,
          4.690415859222412,
          4.4721360206604,
          4.242640495300293,
          4.123105525970459,
          4.123105525970459,
          3.7416574954986572,
          3.7416574954986572,
          3.7416574954986572,
          3.7416574954986572,
          3.605551242828369,
          3.316624879837036,
          3.316624879837036,
          3.1622776985168457,
          3
         ],
         "y": [
          9.486832618713379,
          8.83176040649414,
          7.141428470611572,
          7.071067810058594,
          8.062257766723633,
          5.74456262588501,
          5,
          5,
          5.196152210235596,
          4.358899116516113,
          4.582575798034668,
          4.4721360206604,
          5.099019527435303,
          4.123105525970459,
          4.123105525970459,
          4,
          4.4721360206604,
          4.4721360206604,
          3.605551242828369,
          3.7416574954986572,
          3.1622776985168457
         ]
        },
        {
         "hoverinfo": "text",
         "hovertext": [
          "(5.385164737701416, 6.164413928985596)",
          "(5.099019527435303, 5.385164737701416)"
         ],
         "mode": "markers",
         "name": "H2",
         "type": "scatter",
         "x": [
          5.385164737701416,
          5.099019527435303
         ],
         "y": [
          6.164413928985596,
          5.385164737701416
         ]
        }
       ],
       "layout": {
        "height": 500,
        "plot_bgcolor": "white",
        "template": {
         "data": {
          "bar": [
           {
            "error_x": {
             "color": "#2a3f5f"
            },
            "error_y": {
             "color": "#2a3f5f"
            },
            "marker": {
             "line": {
              "color": "#E5ECF6",
              "width": 0.5
             },
             "pattern": {
              "fillmode": "overlay",
              "size": 10,
              "solidity": 0.2
             }
            },
            "type": "bar"
           }
          ],
          "barpolar": [
           {
            "marker": {
             "line": {
              "color": "#E5ECF6",
              "width": 0.5
             },
             "pattern": {
              "fillmode": "overlay",
              "size": 10,
              "solidity": 0.2
             }
            },
            "type": "barpolar"
           }
          ],
          "carpet": [
           {
            "aaxis": {
             "endlinecolor": "#2a3f5f",
             "gridcolor": "white",
             "linecolor": "white",
             "minorgridcolor": "white",
             "startlinecolor": "#2a3f5f"
            },
            "baxis": {
             "endlinecolor": "#2a3f5f",
             "gridcolor": "white",
             "linecolor": "white",
             "minorgridcolor": "white",
             "startlinecolor": "#2a3f5f"
            },
            "type": "carpet"
           }
          ],
          "choropleth": [
           {
            "colorbar": {
             "outlinewidth": 0,
             "ticks": ""
            },
            "type": "choropleth"
           }
          ],
          "contour": [
           {
            "colorbar": {
             "outlinewidth": 0,
             "ticks": ""
            },
            "colorscale": [
             [
              0,
              "#0d0887"
             ],
             [
              0.1111111111111111,
              "#46039f"
             ],
             [
              0.2222222222222222,
              "#7201a8"
             ],
             [
              0.3333333333333333,
              "#9c179e"
             ],
             [
              0.4444444444444444,
              "#bd3786"
             ],
             [
              0.5555555555555556,
              "#d8576b"
             ],
             [
              0.6666666666666666,
              "#ed7953"
             ],
             [
              0.7777777777777778,
              "#fb9f3a"
             ],
             [
              0.8888888888888888,
              "#fdca26"
             ],
             [
              1,
              "#f0f921"
             ]
            ],
            "type": "contour"
           }
          ],
          "contourcarpet": [
           {
            "colorbar": {
             "outlinewidth": 0,
             "ticks": ""
            },
            "type": "contourcarpet"
           }
          ],
          "heatmap": [
           {
            "colorbar": {
             "outlinewidth": 0,
             "ticks": ""
            },
            "colorscale": [
             [
              0,
              "#0d0887"
             ],
             [
              0.1111111111111111,
              "#46039f"
             ],
             [
              0.2222222222222222,
              "#7201a8"
             ],
             [
              0.3333333333333333,
              "#9c179e"
             ],
             [
              0.4444444444444444,
              "#bd3786"
             ],
             [
              0.5555555555555556,
              "#d8576b"
             ],
             [
              0.6666666666666666,
              "#ed7953"
             ],
             [
              0.7777777777777778,
              "#fb9f3a"
             ],
             [
              0.8888888888888888,
              "#fdca26"
             ],
             [
              1,
              "#f0f921"
             ]
            ],
            "type": "heatmap"
           }
          ],
          "heatmapgl": [
           {
            "colorbar": {
             "outlinewidth": 0,
             "ticks": ""
            },
            "colorscale": [
             [
              0,
              "#0d0887"
             ],
             [
              0.1111111111111111,
              "#46039f"
             ],
             [
              0.2222222222222222,
              "#7201a8"
             ],
             [
              0.3333333333333333,
              "#9c179e"
             ],
             [
              0.4444444444444444,
              "#bd3786"
             ],
             [
              0.5555555555555556,
              "#d8576b"
             ],
             [
              0.6666666666666666,
              "#ed7953"
             ],
             [
              0.7777777777777778,
              "#fb9f3a"
             ],
             [
              0.8888888888888888,
              "#fdca26"
             ],
             [
              1,
              "#f0f921"
             ]
            ],
            "type": "heatmapgl"
           }
          ],
          "histogram": [
           {
            "marker": {
             "pattern": {
              "fillmode": "overlay",
              "size": 10,
              "solidity": 0.2
             }
            },
            "type": "histogram"
           }
          ],
          "histogram2d": [
           {
            "colorbar": {
             "outlinewidth": 0,
             "ticks": ""
            },
            "colorscale": [
             [
              0,
              "#0d0887"
             ],
             [
              0.1111111111111111,
              "#46039f"
             ],
             [
              0.2222222222222222,
              "#7201a8"
             ],
             [
              0.3333333333333333,
              "#9c179e"
             ],
             [
              0.4444444444444444,
              "#bd3786"
             ],
             [
              0.5555555555555556,
              "#d8576b"
             ],
             [
              0.6666666666666666,
              "#ed7953"
             ],
             [
              0.7777777777777778,
              "#fb9f3a"
             ],
             [
              0.8888888888888888,
              "#fdca26"
             ],
             [
              1,
              "#f0f921"
             ]
            ],
            "type": "histogram2d"
           }
          ],
          "histogram2dcontour": [
           {
            "colorbar": {
             "outlinewidth": 0,
             "ticks": ""
            },
            "colorscale": [
             [
              0,
              "#0d0887"
             ],
             [
              0.1111111111111111,
              "#46039f"
             ],
             [
              0.2222222222222222,
              "#7201a8"
             ],
             [
              0.3333333333333333,
              "#9c179e"
             ],
             [
              0.4444444444444444,
              "#bd3786"
             ],
             [
              0.5555555555555556,
              "#d8576b"
             ],
             [
              0.6666666666666666,
              "#ed7953"
             ],
             [
              0.7777777777777778,
              "#fb9f3a"
             ],
             [
              0.8888888888888888,
              "#fdca26"
             ],
             [
              1,
              "#f0f921"
             ]
            ],
            "type": "histogram2dcontour"
           }
          ],
          "mesh3d": [
           {
            "colorbar": {
             "outlinewidth": 0,
             "ticks": ""
            },
            "type": "mesh3d"
           }
          ],
          "parcoords": [
           {
            "line": {
             "colorbar": {
              "outlinewidth": 0,
              "ticks": ""
             }
            },
            "type": "parcoords"
           }
          ],
          "pie": [
           {
            "automargin": true,
            "type": "pie"
           }
          ],
          "scatter": [
           {
            "fillpattern": {
             "fillmode": "overlay",
             "size": 10,
             "solidity": 0.2
            },
            "type": "scatter"
           }
          ],
          "scatter3d": [
           {
            "line": {
             "colorbar": {
              "outlinewidth": 0,
              "ticks": ""
             }
            },
            "marker": {
             "colorbar": {
              "outlinewidth": 0,
              "ticks": ""
             }
            },
            "type": "scatter3d"
           }
          ],
          "scattercarpet": [
           {
            "marker": {
             "colorbar": {
              "outlinewidth": 0,
              "ticks": ""
             }
            },
            "type": "scattercarpet"
           }
          ],
          "scattergeo": [
           {
            "marker": {
             "colorbar": {
              "outlinewidth": 0,
              "ticks": ""
             }
            },
            "type": "scattergeo"
           }
          ],
          "scattergl": [
           {
            "marker": {
             "colorbar": {
              "outlinewidth": 0,
              "ticks": ""
             }
            },
            "type": "scattergl"
           }
          ],
          "scattermapbox": [
           {
            "marker": {
             "colorbar": {
              "outlinewidth": 0,
              "ticks": ""
             }
            },
            "type": "scattermapbox"
           }
          ],
          "scatterpolar": [
           {
            "marker": {
             "colorbar": {
              "outlinewidth": 0,
              "ticks": ""
             }
            },
            "type": "scatterpolar"
           }
          ],
          "scatterpolargl": [
           {
            "marker": {
             "colorbar": {
              "outlinewidth": 0,
              "ticks": ""
             }
            },
            "type": "scatterpolargl"
           }
          ],
          "scatterternary": [
           {
            "marker": {
             "colorbar": {
              "outlinewidth": 0,
              "ticks": ""
             }
            },
            "type": "scatterternary"
           }
          ],
          "surface": [
           {
            "colorbar": {
             "outlinewidth": 0,
             "ticks": ""
            },
            "colorscale": [
             [
              0,
              "#0d0887"
             ],
             [
              0.1111111111111111,
              "#46039f"
             ],
             [
              0.2222222222222222,
              "#7201a8"
             ],
             [
              0.3333333333333333,
              "#9c179e"
             ],
             [
              0.4444444444444444,
              "#bd3786"
             ],
             [
              0.5555555555555556,
              "#d8576b"
             ],
             [
              0.6666666666666666,
              "#ed7953"
             ],
             [
              0.7777777777777778,
              "#fb9f3a"
             ],
             [
              0.8888888888888888,
              "#fdca26"
             ],
             [
              1,
              "#f0f921"
             ]
            ],
            "type": "surface"
           }
          ],
          "table": [
           {
            "cells": {
             "fill": {
              "color": "#EBF0F8"
             },
             "line": {
              "color": "white"
             }
            },
            "header": {
             "fill": {
              "color": "#C8D4E3"
             },
             "line": {
              "color": "white"
             }
            },
            "type": "table"
           }
          ]
         },
         "layout": {
          "annotationdefaults": {
           "arrowcolor": "#2a3f5f",
           "arrowhead": 0,
           "arrowwidth": 1
          },
          "autotypenumbers": "strict",
          "coloraxis": {
           "colorbar": {
            "outlinewidth": 0,
            "ticks": ""
           }
          },
          "colorscale": {
           "diverging": [
            [
             0,
             "#8e0152"
            ],
            [
             0.1,
             "#c51b7d"
            ],
            [
             0.2,
             "#de77ae"
            ],
            [
             0.3,
             "#f1b6da"
            ],
            [
             0.4,
             "#fde0ef"
            ],
            [
             0.5,
             "#f7f7f7"
            ],
            [
             0.6,
             "#e6f5d0"
            ],
            [
             0.7,
             "#b8e186"
            ],
            [
             0.8,
             "#7fbc41"
            ],
            [
             0.9,
             "#4d9221"
            ],
            [
             1,
             "#276419"
            ]
           ],
           "sequential": [
            [
             0,
             "#0d0887"
            ],
            [
             0.1111111111111111,
             "#46039f"
            ],
            [
             0.2222222222222222,
             "#7201a8"
            ],
            [
             0.3333333333333333,
             "#9c179e"
            ],
            [
             0.4444444444444444,
             "#bd3786"
            ],
            [
             0.5555555555555556,
             "#d8576b"
            ],
            [
             0.6666666666666666,
             "#ed7953"
            ],
            [
             0.7777777777777778,
             "#fb9f3a"
            ],
            [
             0.8888888888888888,
             "#fdca26"
            ],
            [
             1,
             "#f0f921"
            ]
           ],
           "sequentialminus": [
            [
             0,
             "#0d0887"
            ],
            [
             0.1111111111111111,
             "#46039f"
            ],
            [
             0.2222222222222222,
             "#7201a8"
            ],
            [
             0.3333333333333333,
             "#9c179e"
            ],
            [
             0.4444444444444444,
             "#bd3786"
            ],
            [
             0.5555555555555556,
             "#d8576b"
            ],
            [
             0.6666666666666666,
             "#ed7953"
            ],
            [
             0.7777777777777778,
             "#fb9f3a"
            ],
            [
             0.8888888888888888,
             "#fdca26"
            ],
            [
             1,
             "#f0f921"
            ]
           ]
          },
          "colorway": [
           "#636efa",
           "#EF553B",
           "#00cc96",
           "#ab63fa",
           "#FFA15A",
           "#19d3f3",
           "#FF6692",
           "#B6E880",
           "#FF97FF",
           "#FECB52"
          ],
          "font": {
           "color": "#2a3f5f"
          },
          "geo": {
           "bgcolor": "white",
           "lakecolor": "white",
           "landcolor": "#E5ECF6",
           "showlakes": true,
           "showland": true,
           "subunitcolor": "white"
          },
          "hoverlabel": {
           "align": "left"
          },
          "hovermode": "closest",
          "mapbox": {
           "style": "light"
          },
          "paper_bgcolor": "white",
          "plot_bgcolor": "#E5ECF6",
          "polar": {
           "angularaxis": {
            "gridcolor": "white",
            "linecolor": "white",
            "ticks": ""
           },
           "bgcolor": "#E5ECF6",
           "radialaxis": {
            "gridcolor": "white",
            "linecolor": "white",
            "ticks": ""
           }
          },
          "scene": {
           "xaxis": {
            "backgroundcolor": "#E5ECF6",
            "gridcolor": "white",
            "gridwidth": 2,
            "linecolor": "white",
            "showbackground": true,
            "ticks": "",
            "zerolinecolor": "white"
           },
           "yaxis": {
            "backgroundcolor": "#E5ECF6",
            "gridcolor": "white",
            "gridwidth": 2,
            "linecolor": "white",
            "showbackground": true,
            "ticks": "",
            "zerolinecolor": "white"
           },
           "zaxis": {
            "backgroundcolor": "#E5ECF6",
            "gridcolor": "white",
            "gridwidth": 2,
            "linecolor": "white",
            "showbackground": true,
            "ticks": "",
            "zerolinecolor": "white"
           }
          },
          "shapedefaults": {
           "line": {
            "color": "#2a3f5f"
           }
          },
          "ternary": {
           "aaxis": {
            "gridcolor": "white",
            "linecolor": "white",
            "ticks": ""
           },
           "baxis": {
            "gridcolor": "white",
            "linecolor": "white",
            "ticks": ""
           },
           "bgcolor": "#E5ECF6",
           "caxis": {
            "gridcolor": "white",
            "linecolor": "white",
            "ticks": ""
           }
          },
          "title": {
           "x": 0.05
          },
          "xaxis": {
           "automargin": true,
           "gridcolor": "white",
           "linecolor": "white",
           "ticks": "",
           "title": {
            "standoff": 15
           },
           "zerolinecolor": "white",
           "zerolinewidth": 2
          },
          "yaxis": {
           "automargin": true,
           "gridcolor": "white",
           "linecolor": "white",
           "ticks": "",
           "title": {
            "standoff": 15
           },
           "zerolinecolor": "white",
           "zerolinewidth": 2
          }
         }
        },
        "width": 500,
        "xaxis": {
         "autorange": false,
         "exponentformat": "e",
         "linecolor": "black",
         "linewidth": 1,
         "mirror": false,
         "range": [
          -0.4242640686035156,
          21.637467498779298
         ],
         "showexponent": "all",
         "showline": true,
         "side": "bottom",
         "ticks": "outside",
         "title": {
          "text": "Birth"
         },
         "type": "linear",
         "zeroline": true
        },
        "yaxis": {
         "autorange": false,
         "exponentformat": "e",
         "linecolor": "black",
         "linewidth": 1,
         "mirror": false,
         "range": [
          -0.4242640686035156,
          21.637467498779298
         ],
         "scaleanchor": "x",
         "scaleratio": 1,
         "showexponent": "all",
         "showline": true,
         "side": "left",
         "ticks": "outside",
         "title": {
          "text": "Death"
         },
         "type": "linear",
         "zeroline": true
        }
       }
      }
     },
     "metadata": {},
     "output_type": "display_data"
    },
    {
     "data": {
      "text/plain": [
       "array([[[ 0.        ,  1.        ,  0.        ],\n",
       "        [ 0.        ,  1.        ,  0.        ],\n",
       "        [ 0.        ,  1.        ,  0.        ],\n",
       "        [ 0.        ,  1.41421354,  0.        ],\n",
       "        [ 0.        ,  1.41421354,  0.        ],\n",
       "        [ 0.        ,  1.41421354,  0.        ],\n",
       "        [ 0.        ,  1.41421354,  0.        ],\n",
       "        [ 0.        ,  1.41421354,  0.        ],\n",
       "        [ 0.        ,  1.41421354,  0.        ],\n",
       "        [ 0.        ,  1.73205078,  0.        ],\n",
       "        [ 0.        ,  1.73205078,  0.        ],\n",
       "        [ 0.        ,  1.73205078,  0.        ],\n",
       "        [ 0.        ,  1.73205078,  0.        ],\n",
       "        [ 0.        ,  1.73205078,  0.        ],\n",
       "        [ 0.        ,  1.73205078,  0.        ],\n",
       "        [ 0.        ,  1.73205078,  0.        ],\n",
       "        [ 0.        ,  2.        ,  0.        ],\n",
       "        [ 0.        ,  2.        ,  0.        ],\n",
       "        [ 0.        ,  2.        ,  0.        ],\n",
       "        [ 0.        ,  2.        ,  0.        ],\n",
       "        [ 0.        ,  2.        ,  0.        ],\n",
       "        [ 0.        ,  2.23606801,  0.        ],\n",
       "        [ 0.        ,  2.23606801,  0.        ],\n",
       "        [ 0.        ,  2.23606801,  0.        ],\n",
       "        [ 0.        ,  2.23606801,  0.        ],\n",
       "        [ 0.        ,  2.23606801,  0.        ],\n",
       "        [ 0.        ,  2.23606801,  0.        ],\n",
       "        [ 0.        ,  2.23606801,  0.        ],\n",
       "        [ 0.        ,  2.23606801,  0.        ],\n",
       "        [ 0.        ,  2.23606801,  0.        ],\n",
       "        [ 0.        ,  2.23606801,  0.        ],\n",
       "        [ 0.        ,  2.23606801,  0.        ],\n",
       "        [ 0.        ,  2.23606801,  0.        ],\n",
       "        [ 0.        ,  2.23606801,  0.        ],\n",
       "        [ 0.        ,  2.23606801,  0.        ],\n",
       "        [ 0.        ,  2.44948983,  0.        ],\n",
       "        [ 0.        ,  2.44948983,  0.        ],\n",
       "        [ 0.        ,  2.44948983,  0.        ],\n",
       "        [ 0.        ,  2.44948983,  0.        ],\n",
       "        [ 0.        ,  2.44948983,  0.        ],\n",
       "        [ 0.        ,  2.82842708,  0.        ],\n",
       "        [ 0.        ,  2.82842708,  0.        ],\n",
       "        [ 0.        ,  2.82842708,  0.        ],\n",
       "        [ 0.        ,  3.        ,  0.        ],\n",
       "        [ 0.        ,  3.        ,  0.        ],\n",
       "        [ 0.        ,  3.        ,  0.        ],\n",
       "        [ 0.        ,  3.1622777 ,  0.        ],\n",
       "        [ 0.        ,  3.1622777 ,  0.        ],\n",
       "        [ 0.        ,  3.1622777 ,  0.        ],\n",
       "        [ 0.        ,  3.31662488,  0.        ],\n",
       "        [ 0.        ,  3.31662488,  0.        ],\n",
       "        [ 0.        ,  3.46410155,  0.        ],\n",
       "        [ 0.        ,  3.46410155,  0.        ],\n",
       "        [ 0.        ,  3.46410155,  0.        ],\n",
       "        [ 0.        ,  3.60555124,  0.        ],\n",
       "        [ 0.        ,  3.7416575 ,  0.        ],\n",
       "        [ 0.        ,  3.7416575 ,  0.        ],\n",
       "        [ 0.        ,  3.7416575 ,  0.        ],\n",
       "        [ 0.        ,  4.12310553,  0.        ],\n",
       "        [ 0.        ,  4.12310553,  0.        ],\n",
       "        [ 0.        ,  4.2426405 ,  0.        ],\n",
       "        [ 0.        ,  4.2426405 ,  0.        ],\n",
       "        [ 0.        ,  5.09901953,  0.        ],\n",
       "        [ 0.        ,  5.09901953,  0.        ],\n",
       "        [ 0.        ,  5.09901953,  0.        ],\n",
       "        [ 0.        ,  5.19615221,  0.        ],\n",
       "        [ 0.        ,  5.19615221,  0.        ],\n",
       "        [ 0.        ,  5.38516474,  0.        ],\n",
       "        [ 0.        ,  5.47722578,  0.        ],\n",
       "        [ 0.        ,  6.48074055,  0.        ],\n",
       "        [ 0.        ,  7.81024981,  0.        ],\n",
       "        [ 0.        ,  9.48683262,  0.        ],\n",
       "        [ 0.        , 20.02498436,  0.        ],\n",
       "        [ 0.        , 21.21320343,  0.        ],\n",
       "        [ 9.11043358,  9.48683262,  1.        ],\n",
       "        [ 7.8740077 ,  8.83176041,  1.        ],\n",
       "        [ 6.70820379,  7.14142847,  1.        ],\n",
       "        [ 6.3245554 ,  7.07106781,  1.        ],\n",
       "        [ 5.38516474,  8.06225777,  1.        ],\n",
       "        [ 5.09901953,  5.74456263,  1.        ],\n",
       "        [ 4.69041586,  5.        ,  1.        ],\n",
       "        [ 4.69041586,  5.        ,  1.        ],\n",
       "        [ 4.47213602,  5.19615221,  1.        ],\n",
       "        [ 4.2426405 ,  4.35889912,  1.        ],\n",
       "        [ 4.12310553,  4.5825758 ,  1.        ],\n",
       "        [ 4.12310553,  4.47213602,  1.        ],\n",
       "        [ 3.7416575 ,  5.09901953,  1.        ],\n",
       "        [ 3.7416575 ,  4.12310553,  1.        ],\n",
       "        [ 3.7416575 ,  4.12310553,  1.        ],\n",
       "        [ 3.7416575 ,  4.        ,  1.        ],\n",
       "        [ 3.60555124,  4.47213602,  1.        ],\n",
       "        [ 3.31662488,  4.47213602,  1.        ],\n",
       "        [ 3.31662488,  3.60555124,  1.        ],\n",
       "        [ 3.1622777 ,  3.7416575 ,  1.        ],\n",
       "        [ 3.        ,  3.1622777 ,  1.        ],\n",
       "        [ 5.38516474,  6.16441393,  2.        ],\n",
       "        [ 5.09901953,  5.38516474,  2.        ]]])"
      ]
     },
     "execution_count": 12,
     "metadata": {},
     "output_type": "execute_result"
    }
   ],
   "source": [
    "from gtda.homology import VietorisRipsPersistence\n",
    "\n",
    "y_periodic_embedded = y_periodic_embedded[None, :, :]\n",
    "# 0 - connected components, 1 - loops, 2 - voids\n",
    "homology_dimensions = [0, 1, 2]\n",
    "\n",
    "contaminantes_persistence = VietorisRipsPersistence(\n",
    "    homology_dimensions=homology_dimensions, n_jobs=1\n",
    ")\n",
    "print(\"Persistence diagram for periodic signal\")\n",
    "contaminantes_persistence.fit_transform_plot(y_periodic_embedded)"
   ]
  },
  {
   "attachments": {},
   "cell_type": "markdown",
   "metadata": {},
   "source": [
    "## Hacer Ln PM10 y O3"
   ]
  },
  {
   "attachments": {},
   "cell_type": "markdown",
   "metadata": {},
   "source": [
    "### $ln (PM_{10})$"
   ]
  },
  {
   "cell_type": "code",
   "execution_count": 13,
   "metadata": {},
   "outputs": [],
   "source": [
    "ln_PM10 = pd.Series(contaminants['Ln_PM10'])"
   ]
  },
  {
   "cell_type": "code",
   "execution_count": 14,
   "metadata": {},
   "outputs": [
    {
     "data": {
      "text/plain": [
       "[<matplotlib.lines.Line2D at 0x1a20d6928f0>]"
      ]
     },
     "execution_count": 14,
     "metadata": {},
     "output_type": "execute_result"
    },
    {
     "data": {
      "image/png": "[encoded data removed]",
      "text/plain": [
       "<Figure size 640x480 with 1 Axes>"
      ]
     },
     "metadata": {},
     "output_type": "display_data"
    }
   ],
   "source": [
    "plt.plot(ln_PM10, '--', label='ML Predictions')"
   ]
  },
  {
   "cell_type": "code",
   "execution_count": 22,
   "metadata": {},
   "outputs": [
    {
     "name": "stdout",
     "output_type": "stream",
     "text": [
      "Shape of embedded time series: (75, 3)\n"
     ]
    }
   ],
   "source": [
    "x_contaminantes = ln_PM10.index\n",
    "y_contaminantes = [ln_PM10[i] for i in x_contaminantes]\n",
    "\n",
    "# Escogemos nuestros parametros para el encaje\n",
    "# d= embedding_dimension_periodic\n",
    "# tau = embedding_time_delay_periodic\n",
    "# stride = nos permite tomar un subconjunto de los datos.\n",
    "embedding_dimension_periodic = 3\n",
    "embedding_time_delay_periodic = 30\n",
    "stride = 1\n",
    "\n",
    "# Modifica el `stride` y el `delay` para obtener diferentes encajes, de lo anterior.\n",
    "\n",
    "embedder_periodic = SingleTakensEmbedding(\n",
    "    parameters_type=\"fixed\",\n",
    "    n_jobs=2,\n",
    "    time_delay=embedding_time_delay_periodic,\n",
    "    dimension=embedding_dimension_periodic,\n",
    "    stride=stride,\n",
    ")\n",
    "\n",
    "y_periodic_embedded = embedder_periodic.fit_transform(y_contaminantes)\n",
    "print(f\"Shape of embedded time series: {y_periodic_embedded.shape}\")"
   ]
  },
  {
   "cell_type": "code",
   "execution_count": 23,
   "metadata": {},
   "outputs": [
    {
     "data": {
      "application/vnd.plotly.v1+json": {
       "config": {
        "plotlyServerURL": "https://plot.ly"
       },
       "data": [
        {
         "marker": {
          "color": [
           0,
           1,
           2,
           3,
           4,
           5,
           6,
           7,
           8,
           9,
           10,
           11,
           12,
           13,
           14,
           15,
           16,
           17,
           18,
           19,
           20,
           21,
           22,
           23,
           24,
           25,
           26,
           27,
           28,
           29,
           30,
           31,
           32,
           33,
           34,
           35,
           36,
           37,
           38,
           39,
           40,
           41,
           42,
           43,
           44,
           45,
           46,
           47,
           48,
           49,
           50,
           51,
           52,
           53,
           54,
           55,
           56,
           57,
           58,
           59,
           60,
           61,
           62,
           63,
           64,
           65,
           66,
           67,
           68,
           69,
           70,
           71,
           72,
           73,
           74
          ],
          "colorscale": [
           [
            0,
            "#440154"
           ],
           [
            0.1111111111111111,
            "#482878"
           ],
           [
            0.2222222222222222,
            "#3e4989"
           ],
           [
            0.3333333333333333,
            "#31688e"
           ],
           [
            0.4444444444444444,
            "#26828e"
           ],
           [
            0.5555555555555556,
            "#1f9e89"
           ],
           [
            0.6666666666666666,
            "#35b779"
           ],
           [
            0.7777777777777778,
            "#6ece58"
           ],
           [
            0.8888888888888888,
            "#b5de2b"
           ],
           [
            1,
            "#fde725"
           ]
          ],
          "opacity": 0.8,
          "size": 4
         },
         "mode": "markers",
         "type": "scatter3d",
         "x": [
          2.564949357,
          1.386294361,
          2.48490665,
          1.386294361,
          1.791759469,
          2.197224577,
          2.079441542,
          1.945910149,
          1.945910149,
          1.945910149,
          1.945910149,
          1.609437912,
          1.945910149,
          2.48490665,
          2.079441542,
          2.564949357,
          3.17805383,
          3.044522438,
          1.945910149,
          2.079441542,
          1.945910149,
          1.386294361,
          1.386294361,
          1.791759469,
          1.386294361,
          2.564949357,
          1.386294361,
          1.098612289,
          2.079441542,
          1.386294361,
          2.995732274,
          1.945910149,
          1.791759469,
          2.197224577,
          1.791759469,
          1.609437912,
          2.079441542,
          1.945910149,
          2.48490665,
          2.564949357,
          2.197224577,
          2.302585093,
          2.995732274,
          2.197224577,
          1.791759469,
          3.80666249,
          3.988984047,
          3.912023005,
          2.708050201,
          2.890371758,
          2.197224577,
          2.397895273,
          1.945910149,
          2.833213344,
          2.397895273,
          3.218875825,
          3.135494216,
          3.044522438,
          2.48490665,
          2.708050201,
          2.48490665,
          2.708050201,
          1.791759469,
          1.386294361,
          2.397895273,
          2.48490665,
          1.609437912,
          1.945910149,
          2.944438979,
          2.197224577,
          2.564949357,
          2.302585093,
          1.609437912,
          1.609437912,
          1.386294361
         ],
         "y": [
          2.995732274,
          1.945910149,
          1.791759469,
          2.197224577,
          1.791759469,
          1.609437912,
          2.079441542,
          1.945910149,
          2.48490665,
          2.564949357,
          2.197224577,
          2.302585093,
          2.995732274,
          2.197224577,
          1.791759469,
          3.80666249,
          3.988984047,
          3.912023005,
          2.708050201,
          2.890371758,
          2.197224577,
          2.397895273,
          1.945910149,
          2.833213344,
          2.397895273,
          3.218875825,
          3.135494216,
          3.044522438,
          2.48490665,
          2.708050201,
          2.48490665,
          2.708050201,
          1.791759469,
          1.386294361,
          2.397895273,
          2.48490665,
          1.609437912,
          1.945910149,
          2.944438979,
          2.197224577,
          2.564949357,
          2.302585093,
          1.609437912,
          1.609437912,
          1.386294361,
          1.609437912,
          1.609437912,
          1.791759469,
          1.945910149,
          2.079441542,
          2.197224577,
          2.079441542,
          2.197224577,
          2.079441542,
          2.197224577,
          1.791759469,
          1.791759469,
          1.791759469,
          2.079441542,
          2.397895273,
          1.791759469,
          1.791759469,
          2.079441542,
          1.945910149,
          1.791759469,
          2.197224577,
          2.079441542,
          2.63905733,
          2.564949357,
          2.48490665,
          2.564949357,
          2.48490665,
          2.564949357,
          2.772588722,
          2.397895273
         ],
         "z": [
          2.48490665,
          2.708050201,
          1.791759469,
          1.386294361,
          2.397895273,
          2.48490665,
          1.609437912,
          1.945910149,
          2.944438979,
          2.197224577,
          2.564949357,
          2.302585093,
          1.609437912,
          1.609437912,
          1.386294361,
          1.609437912,
          1.609437912,
          1.791759469,
          1.945910149,
          2.079441542,
          2.197224577,
          2.079441542,
          2.197224577,
          2.079441542,
          2.197224577,
          1.791759469,
          1.791759469,
          1.791759469,
          2.079441542,
          2.397895273,
          1.791759469,
          1.791759469,
          2.079441542,
          1.945910149,
          1.791759469,
          2.197224577,
          2.079441542,
          2.63905733,
          2.564949357,
          2.48490665,
          2.564949357,
          2.48490665,
          2.564949357,
          2.772588722,
          2.397895273,
          2.48490665,
          2.772588722,
          2.564949357,
          2.708050201,
          2.833213344,
          2.63905733,
          2.772588722,
          2.708050201,
          1.609437912,
          2.708050201,
          1.609437912,
          1.609437912,
          2.079441542,
          2.48490665,
          1.791759469,
          2.079441542,
          1.945910149,
          1.945910149,
          2.302585093,
          2.302585093,
          2.302585093,
          2.197224577,
          2.708050201,
          2.708050201,
          2.890371758,
          2.833213344,
          2.079441542,
          2.079441542,
          2.197224577,
          2.397895273
         ]
        }
       ],
       "layout": {
        "scene": {
         "xaxis": {
          "exponentformat": "e",
          "showexponent": "all",
          "title": {
           "text": "0th"
          },
          "type": "linear"
         },
         "yaxis": {
          "exponentformat": "e",
          "showexponent": "all",
          "title": {
           "text": "1st"
          },
          "type": "linear"
         },
         "zaxis": {
          "exponentformat": "e",
          "showexponent": "all",
          "title": {
           "text": "2nd"
          },
          "type": "linear"
         }
        },
        "template": {
         "data": {
          "bar": [
           {
            "error_x": {
             "color": "#2a3f5f"
            },
            "error_y": {
             "color": "#2a3f5f"
            },
            "marker": {
             "line": {
              "color": "#E5ECF6",
              "width": 0.5
             },
             "pattern": {
              "fillmode": "overlay",
              "size": 10,
              "solidity": 0.2
             }
            },
            "type": "bar"
           }
          ],
          "barpolar": [
           {
            "marker": {
             "line": {
              "color": "#E5ECF6",
              "width": 0.5
             },
             "pattern": {
              "fillmode": "overlay",
              "size": 10,
              "solidity": 0.2
             }
            },
            "type": "barpolar"
           }
          ],
          "carpet": [
           {
            "aaxis": {
             "endlinecolor": "#2a3f5f",
             "gridcolor": "white",
             "linecolor": "white",
             "minorgridcolor": "white",
             "startlinecolor": "#2a3f5f"
            },
            "baxis": {
             "endlinecolor": "#2a3f5f",
             "gridcolor": "white",
             "linecolor": "white",
             "minorgridcolor": "white",
             "startlinecolor": "#2a3f5f"
            },
            "type": "carpet"
           }
          ],
          "choropleth": [
           {
            "colorbar": {
             "outlinewidth": 0,
             "ticks": ""
            },
            "type": "choropleth"
           }
          ],
          "contour": [
           {
            "colorbar": {
             "outlinewidth": 0,
             "ticks": ""
            },
            "colorscale": [
             [
              0,
              "#0d0887"
             ],
             [
              0.1111111111111111,
              "#46039f"
             ],
             [
              0.2222222222222222,
              "#7201a8"
             ],
             [
              0.3333333333333333,
              "#9c179e"
             ],
             [
              0.4444444444444444,
              "#bd3786"
             ],
             [
              0.5555555555555556,
              "#d8576b"
             ],
             [
              0.6666666666666666,
              "#ed7953"
             ],
             [
              0.7777777777777778,
              "#fb9f3a"
             ],
             [
              0.8888888888888888,
              "#fdca26"
             ],
             [
              1,
              "#f0f921"
             ]
            ],
            "type": "contour"
           }
          ],
          "contourcarpet": [
           {
            "colorbar": {
             "outlinewidth": 0,
             "ticks": ""
            },
            "type": "contourcarpet"
           }
          ],
          "heatmap": [
           {
            "colorbar": {
             "outlinewidth": 0,
             "ticks": ""
            },
            "colorscale": [
             [
              0,
              "#0d0887"
             ],
             [
              0.1111111111111111,
              "#46039f"
             ],
             [
              0.2222222222222222,
              "#7201a8"
             ],
             [
              0.3333333333333333,
              "#9c179e"
             ],
             [
              0.4444444444444444,
              "#bd3786"
             ],
             [
              0.5555555555555556,
              "#d8576b"
             ],
             [
              0.6666666666666666,
              "#ed7953"
             ],
             [
              0.7777777777777778,
              "#fb9f3a"
             ],
             [
              0.8888888888888888,
              "#fdca26"
             ],
             [
              1,
              "#f0f921"
             ]
            ],
            "type": "heatmap"
           }
          ],
          "heatmapgl": [
           {
            "colorbar": {
             "outlinewidth": 0,
             "ticks": ""
            },
            "colorscale": [
             [
              0,
              "#0d0887"
             ],
             [
              0.1111111111111111,
              "#46039f"
             ],
             [
              0.2222222222222222,
              "#7201a8"
             ],
             [
              0.3333333333333333,
              "#9c179e"
             ],
             [
              0.4444444444444444,
              "#bd3786"
             ],
             [
              0.5555555555555556,
              "#d8576b"
             ],
             [
              0.6666666666666666,
              "#ed7953"
             ],
             [
              0.7777777777777778,
              "#fb9f3a"
             ],
             [
              0.8888888888888888,
              "#fdca26"
             ],
             [
              1,
              "#f0f921"
             ]
            ],
            "type": "heatmapgl"
           }
          ],
          "histogram": [
           {
            "marker": {
             "pattern": {
              "fillmode": "overlay",
              "size": 10,
              "solidity": 0.2
             }
            },
            "type": "histogram"
           }
          ],
          "histogram2d": [
           {
            "colorbar": {
             "outlinewidth": 0,
             "ticks": ""
            },
            "colorscale": [
             [
              0,
              "#0d0887"
             ],
             [
              0.1111111111111111,
              "#46039f"
             ],
             [
              0.2222222222222222,
              "#7201a8"
             ],
             [
              0.3333333333333333,
              "#9c179e"
             ],
             [
              0.4444444444444444,
              "#bd3786"
             ],
             [
              0.5555555555555556,
              "#d8576b"
             ],
             [
              0.6666666666666666,
              "#ed7953"
             ],
             [
              0.7777777777777778,
              "#fb9f3a"
             ],
             [
              0.8888888888888888,
              "#fdca26"
             ],
             [
              1,
              "#f0f921"
             ]
            ],
            "type": "histogram2d"
           }
          ],
          "histogram2dcontour": [
           {
            "colorbar": {
             "outlinewidth": 0,
             "ticks": ""
            },
            "colorscale": [
             [
              0,
              "#0d0887"
             ],
             [
              0.1111111111111111,
              "#46039f"
             ],
             [
              0.2222222222222222,
              "#7201a8"
             ],
             [
              0.3333333333333333,
              "#9c179e"
             ],
             [
              0.4444444444444444,
              "#bd3786"
             ],
             [
              0.5555555555555556,
              "#d8576b"
             ],
             [
              0.6666666666666666,
              "#ed7953"
             ],
             [
              0.7777777777777778,
              "#fb9f3a"
             ],
             [
              0.8888888888888888,
              "#fdca26"
             ],
             [
              1,
              "#f0f921"
             ]
            ],
            "type": "histogram2dcontour"
           }
          ],
          "mesh3d": [
           {
            "colorbar": {
             "outlinewidth": 0,
             "ticks": ""
            },
            "type": "mesh3d"
           }
          ],
          "parcoords": [
           {
            "line": {
             "colorbar": {
              "outlinewidth": 0,
              "ticks": ""
             }
            },
            "type": "parcoords"
           }
          ],
          "pie": [
           {
            "automargin": true,
            "type": "pie"
           }
          ],
          "scatter": [
           {
            "fillpattern": {
             "fillmode": "overlay",
             "size": 10,
             "solidity": 0.2
            },
            "type": "scatter"
           }
          ],
          "scatter3d": [
           {
            "line": {
             "colorbar": {
              "outlinewidth": 0,
              "ticks": ""
             }
            },
            "marker": {
             "colorbar": {
              "outlinewidth": 0,
              "ticks": ""
             }
            },
            "type": "scatter3d"
           }
          ],
          "scattercarpet": [
           {
            "marker": {
             "colorbar": {
              "outlinewidth": 0,
              "ticks": ""
             }
            },
            "type": "scattercarpet"
           }
          ],
          "scattergeo": [
           {
            "marker": {
             "colorbar": {
              "outlinewidth": 0,
              "ticks": ""
             }
            },
            "type": "scattergeo"
           }
          ],
          "scattergl": [
           {
            "marker": {
             "colorbar": {
              "outlinewidth": 0,
              "ticks": ""
             }
            },
            "type": "scattergl"
           }
          ],
          "scattermapbox": [
           {
            "marker": {
             "colorbar": {
              "outlinewidth": 0,
              "ticks": ""
             }
            },
            "type": "scattermapbox"
           }
          ],
          "scatterpolar": [
           {
            "marker": {
             "colorbar": {
              "outlinewidth": 0,
              "ticks": ""
             }
            },
            "type": "scatterpolar"
           }
          ],
          "scatterpolargl": [
           {
            "marker": {
             "colorbar": {
              "outlinewidth": 0,
              "ticks": ""
             }
            },
            "type": "scatterpolargl"
           }
          ],
          "scatterternary": [
           {
            "marker": {
             "colorbar": {
              "outlinewidth": 0,
              "ticks": ""
             }
            },
            "type": "scatterternary"
           }
          ],
          "surface": [
           {
            "colorbar": {
             "outlinewidth": 0,
             "ticks": ""
            },
            "colorscale": [
             [
              0,
              "#0d0887"
             ],
             [
              0.1111111111111111,
              "#46039f"
             ],
             [
              0.2222222222222222,
              "#7201a8"
             ],
             [
              0.3333333333333333,
              "#9c179e"
             ],
             [
              0.4444444444444444,
              "#bd3786"
             ],
             [
              0.5555555555555556,
              "#d8576b"
             ],
             [
              0.6666666666666666,
              "#ed7953"
             ],
             [
              0.7777777777777778,
              "#fb9f3a"
             ],
             [
              0.8888888888888888,
              "#fdca26"
             ],
             [
              1,
              "#f0f921"
             ]
            ],
            "type": "surface"
           }
          ],
          "table": [
           {
            "cells": {
             "fill": {
              "color": "#EBF0F8"
             },
             "line": {
              "color": "white"
             }
            },
            "header": {
             "fill": {
              "color": "#C8D4E3"
             },
             "line": {
              "color": "white"
             }
            },
            "type": "table"
           }
          ]
         },
         "layout": {
          "annotationdefaults": {
           "arrowcolor": "#2a3f5f",
           "arrowhead": 0,
           "arrowwidth": 1
          },
          "autotypenumbers": "strict",
          "coloraxis": {
           "colorbar": {
            "outlinewidth": 0,
            "ticks": ""
           }
          },
          "colorscale": {
           "diverging": [
            [
             0,
             "#8e0152"
            ],
            [
             0.1,
             "#c51b7d"
            ],
            [
             0.2,
             "#de77ae"
            ],
            [
             0.3,
             "#f1b6da"
            ],
            [
             0.4,
             "#fde0ef"
            ],
            [
             0.5,
             "#f7f7f7"
            ],
            [
             0.6,
             "#e6f5d0"
            ],
            [
             0.7,
             "#b8e186"
            ],
            [
             0.8,
             "#7fbc41"
            ],
            [
             0.9,
             "#4d9221"
            ],
            [
             1,
             "#276419"
            ]
           ],
           "sequential": [
            [
             0,
             "#0d0887"
            ],
            [
             0.1111111111111111,
             "#46039f"
            ],
            [
             0.2222222222222222,
             "#7201a8"
            ],
            [
             0.3333333333333333,
             "#9c179e"
            ],
            [
             0.4444444444444444,
             "#bd3786"
            ],
            [
             0.5555555555555556,
             "#d8576b"
            ],
            [
             0.6666666666666666,
             "#ed7953"
            ],
            [
             0.7777777777777778,
             "#fb9f3a"
            ],
            [
             0.8888888888888888,
             "#fdca26"
            ],
            [
             1,
             "#f0f921"
            ]
           ],
           "sequentialminus": [
            [
             0,
             "#0d0887"
            ],
            [
             0.1111111111111111,
             "#46039f"
            ],
            [
             0.2222222222222222,
             "#7201a8"
            ],
            [
             0.3333333333333333,
             "#9c179e"
            ],
            [
             0.4444444444444444,
             "#bd3786"
            ],
            [
             0.5555555555555556,
             "#d8576b"
            ],
            [
             0.6666666666666666,
             "#ed7953"
            ],
            [
             0.7777777777777778,
             "#fb9f3a"
            ],
            [
             0.8888888888888888,
             "#fdca26"
            ],
            [
             1,
             "#f0f921"
            ]
           ]
          },
          "colorway": [
           "#636efa",
           "#EF553B",
           "#00cc96",
           "#ab63fa",
           "#FFA15A",
           "#19d3f3",
           "#FF6692",
           "#B6E880",
           "#FF97FF",
           "#FECB52"
          ],
          "font": {
           "color": "#2a3f5f"
          },
          "geo": {
           "bgcolor": "white",
           "lakecolor": "white",
           "landcolor": "#E5ECF6",
           "showlakes": true,
           "showland": true,
           "subunitcolor": "white"
          },
          "hoverlabel": {
           "align": "left"
          },
          "hovermode": "closest",
          "mapbox": {
           "style": "light"
          },
          "paper_bgcolor": "white",
          "plot_bgcolor": "#E5ECF6",
          "polar": {
           "angularaxis": {
            "gridcolor": "white",
            "linecolor": "white",
            "ticks": ""
           },
           "bgcolor": "#E5ECF6",
           "radialaxis": {
            "gridcolor": "white",
            "linecolor": "white",
            "ticks": ""
           }
          },
          "scene": {
           "xaxis": {
            "backgroundcolor": "#E5ECF6",
            "gridcolor": "white",
            "gridwidth": 2,
            "linecolor": "white",
            "showbackground": true,
            "ticks": "",
            "zerolinecolor": "white"
           },
           "yaxis": {
            "backgroundcolor": "#E5ECF6",
            "gridcolor": "white",
            "gridwidth": 2,
            "linecolor": "white",
            "showbackground": true,
            "ticks": "",
            "zerolinecolor": "white"
           },
           "zaxis": {
            "backgroundcolor": "#E5ECF6",
            "gridcolor": "white",
            "gridwidth": 2,
            "linecolor": "white",
            "showbackground": true,
            "ticks": "",
            "zerolinecolor": "white"
           }
          },
          "shapedefaults": {
           "line": {
            "color": "#2a3f5f"
           }
          },
          "ternary": {
           "aaxis": {
            "gridcolor": "white",
            "linecolor": "white",
            "ticks": ""
           },
           "baxis": {
            "gridcolor": "white",
            "linecolor": "white",
            "ticks": ""
           },
           "bgcolor": "#E5ECF6",
           "caxis": {
            "gridcolor": "white",
            "linecolor": "white",
            "ticks": ""
           }
          },
          "title": {
           "x": 0.05
          },
          "xaxis": {
           "automargin": true,
           "gridcolor": "white",
           "linecolor": "white",
           "ticks": "",
           "title": {
            "standoff": 15
           },
           "zerolinecolor": "white",
           "zerolinewidth": 2
          },
          "yaxis": {
           "automargin": true,
           "gridcolor": "white",
           "linecolor": "white",
           "ticks": "",
           "title": {
            "standoff": 15
           },
           "zerolinecolor": "white",
           "zerolinewidth": 2
          }
         }
        }
       }
      }
     },
     "metadata": {},
     "output_type": "display_data"
    }
   ],
   "source": [
    "plot_point_cloud(y_periodic_embedded)"
   ]
  },
  {
   "cell_type": "code",
   "execution_count": 24,
   "metadata": {},
   "outputs": [
    {
     "name": "stdout",
     "output_type": "stream",
     "text": [
      "Persistence diagram for periodic signal\n"
     ]
    },
    {
     "data": {
      "application/vnd.plotly.v1+json": {
       "config": {
        "plotlyServerURL": "https://plot.ly"
       },
       "data": [
        {
         "hoverinfo": "none",
         "line": {
          "color": "black",
          "dash": "dash",
          "width": 1
         },
         "mode": "lines",
         "showlegend": false,
         "type": "scatter",
         "x": [
          -0.01629741907119751,
          0.831168372631073
         ],
         "y": [
          -0.01629741907119751,
          0.831168372631073
         ]
        },
        {
         "hoverinfo": "text",
         "hovertext": [
          "(0.0, 0.08338160812854767)",
          "(0.0, 0.10536051541566849)",
          "(0.0, 0.11778303235769272)",
          "(0.0, 0.12427659332752228)",
          "(0.0, 0.13430586457252502)",
          "(0.0, 0.14240673184394836), multiplicity: 2",
          "(0.0, 0.14240673184394836), multiplicity: 2",
          "(0.0, 0.14310084283351898)",
          "(0.0, 0.15415067970752716)",
          "(0.0, 0.19521862268447876)",
          "(0.0, 0.1991180181503296)",
          "(0.0, 0.20067068934440613)",
          "(0.0, 0.20394377410411835)",
          "(0.0, 0.21057537198066711)",
          "(0.0, 0.21219977736473083)",
          "(0.0, 0.21439242362976074)",
          "(0.0, 0.2231435477733612)",
          "(0.0, 0.22527499496936798)",
          "(0.0, 0.22536489367485046)",
          "(0.0, 0.2387193888425827)",
          "(0.0, 0.23873580992221832)",
          "(0.0, 0.23928827047348022)",
          "(0.0, 0.23950788378715515), multiplicity: 2",
          "(0.0, 0.23950788378715515), multiplicity: 2",
          "(0.0, 0.2467668652534485)",
          "(0.0, 0.255647212266922)",
          "(0.0, 0.2570645809173584)",
          "(0.0, 0.25833621621131897)",
          "(0.0, 0.26004552841186523), multiplicity: 2",
          "(0.0, 0.26004552841186523), multiplicity: 2",
          "(0.0, 0.2606126666069031), multiplicity: 2",
          "(0.0, 0.2606126666069031), multiplicity: 2",
          "(0.0, 0.26249268651008606)",
          "(0.0, 0.266902357339859)",
          "(0.0, 0.2712111175060272)",
          "(0.0, 0.2822093069553375)",
          "(0.0, 0.2854759693145752)",
          "(0.0, 0.28684186935424805)",
          "(0.0, 0.28768208622932434)",
          "(0.0, 0.2892002761363983)",
          "(0.0, 0.29384124279022217)",
          "(0.0, 0.29854443669319153)",
          "(0.0, 0.30055275559425354)",
          "(0.0, 0.3017231225967407)",
          "(0.0, 0.3069641590118408)",
          "(0.0, 0.3104836344718933)",
          "(0.0, 0.31748104095458984)",
          "(0.0, 0.31845372915267944)",
          "(0.0, 0.32509076595306396)",
          "(0.0, 0.3267277479171753)",
          "(0.0, 0.34059083461761475), multiplicity: 2",
          "(0.0, 0.34059083461761475), multiplicity: 2",
          "(0.0, 0.3426612317562103)",
          "(0.0, 0.3463502824306488)",
          "(0.0, 0.3511451482772827)",
          "(0.0, 0.35152965784072876)",
          "(0.0, 0.3620002865791321)",
          "(0.0, 0.36407968401908875)",
          "(0.0, 0.36768245697021484)",
          "(0.0, 0.3806513249874115)",
          "(0.0, 0.3858430087566376)",
          "(0.0, 0.39959752559661865)",
          "(0.0, 0.40546509623527527), multiplicity: 2",
          "(0.0, 0.40546509623527527), multiplicity: 2",
          "(0.0, 0.4172945022583008)",
          "(0.0, 0.4222260117530823)",
          "(0.0, 0.46524444222450256)",
          "(0.0, 0.47157689929008484)",
          "(0.0, 0.5237674117088318)",
          "(0.0, 0.5818390250205994)",
          "(0.0, 0.6075134873390198)",
          "(0.0, 0.6154139637947083)",
          "(0.0, 0.6529883146286011)",
          "(0.0, 0.8148709535598755)"
         ],
         "mode": "markers",
         "name": "H0",
         "type": "scatter",
         "x": [
          0,
          0,
          0,
          0,
          0,
          0,
          0,
          0,
          0,
          0,
          0,
          0,
          0,
          0,
          0,
          0,
          0,
          0,
          0,
          0,
          0,
          0,
          0,
          0,
          0,
          0,
          0,
          0,
          0,
          0,
          0,
          0,
          0,
          0,
          0,
          0,
          0,
          0,
          0,
          0,
          0,
          0,
          0,
          0,
          0,
          0,
          0,
          0,
          0,
          0,
          0,
          0,
          0,
          0,
          0,
          0,
          0,
          0,
          0,
          0,
          0,
          0,
          0,
          0,
          0,
          0,
          0,
          0,
          0,
          0,
          0,
          0,
          0,
          0
         ],
         "y": [
          0.08338160812854767,
          0.10536051541566849,
          0.11778303235769272,
          0.12427659332752228,
          0.13430586457252502,
          0.14240673184394836,
          0.14240673184394836,
          0.14310084283351898,
          0.15415067970752716,
          0.19521862268447876,
          0.1991180181503296,
          0.20067068934440613,
          0.20394377410411835,
          0.21057537198066711,
          0.21219977736473083,
          0.21439242362976074,
          0.2231435477733612,
          0.22527499496936798,
          0.22536489367485046,
          0.2387193888425827,
          0.23873580992221832,
          0.23928827047348022,
          0.23950788378715515,
          0.23950788378715515,
          0.2467668652534485,
          0.255647212266922,
          0.2570645809173584,
          0.25833621621131897,
          0.26004552841186523,
          0.26004552841186523,
          0.2606126666069031,
          0.2606126666069031,
          0.26249268651008606,
          0.266902357339859,
          0.2712111175060272,
          0.2822093069553375,
          0.2854759693145752,
          0.28684186935424805,
          0.28768208622932434,
          0.2892002761363983,
          0.29384124279022217,
          0.29854443669319153,
          0.30055275559425354,
          0.3017231225967407,
          0.3069641590118408,
          0.3104836344718933,
          0.31748104095458984,
          0.31845372915267944,
          0.32509076595306396,
          0.3267277479171753,
          0.34059083461761475,
          0.34059083461761475,
          0.3426612317562103,
          0.3463502824306488,
          0.3511451482772827,
          0.35152965784072876,
          0.3620002865791321,
          0.36407968401908875,
          0.36768245697021484,
          0.3806513249874115,
          0.3858430087566376,
          0.39959752559661865,
          0.40546509623527527,
          0.40546509623527527,
          0.4172945022583008,
          0.4222260117530823,
          0.46524444222450256,
          0.47157689929008484,
          0.5237674117088318,
          0.5818390250205994,
          0.6075134873390198,
          0.6154139637947083,
          0.6529883146286011,
          0.8148709535598755
         ]
        },
        {
         "hoverinfo": "text",
         "hovertext": [
          "(0.5209025740623474, 0.6840465664863586)",
          "(0.5047116875648499, 0.6254302859306335)",
          "(0.5042884945869446, 0.5736086964607239)",
          "(0.47872671484947205, 0.5439870953559875)",
          "(0.46004384756088257, 0.48715466260910034)",
          "(0.4453991949558258, 0.5032151937484741)",
          "(0.4445706903934479, 0.5814138650894165)",
          "(0.44068485498428345, 0.46627771854400635)",
          "(0.4222260117530823, 0.5510575175285339)",
          "(0.4071795344352722, 0.4731287658214569)",
          "(0.3793536424636841, 0.38925832509994507)",
          "(0.3723447620868683, 0.4232742190361023)",
          "(0.36772477626800537, 0.47794675827026367)",
          "(0.35380110144615173, 0.47794675827026367)",
          "(0.3458618223667145, 0.3564918041229248)",
          "(0.33832594752311707, 0.43948766589164734)",
          "(0.3351217210292816, 0.34664466977119446)",
          "(0.31015491485595703, 0.3739716708660126)",
          "(0.2785375118255615, 0.28272926807403564)",
          "(0.2606935203075409, 0.2645334005355835)"
         ],
         "mode": "markers",
         "name": "H1",
         "type": "scatter",
         "x": [
          0.5209025740623474,
          0.5047116875648499,
          0.5042884945869446,
          0.47872671484947205,
          0.46004384756088257,
          0.4453991949558258,
          0.4445706903934479,
          0.44068485498428345,
          0.4222260117530823,
          0.4071795344352722,
          0.3793536424636841,
          0.3723447620868683,
          0.36772477626800537,
          0.35380110144615173,
          0.3458618223667145,
          0.33832594752311707,
          0.3351217210292816,
          0.31015491485595703,
          0.2785375118255615,
          0.2606935203075409
         ],
         "y": [
          0.6840465664863586,
          0.6254302859306335,
          0.5736086964607239,
          0.5439870953559875,
          0.48715466260910034,
          0.5032151937484741,
          0.5814138650894165,
          0.46627771854400635,
          0.5510575175285339,
          0.4731287658214569,
          0.38925832509994507,
          0.4232742190361023,
          0.47794675827026367,
          0.47794675827026367,
          0.3564918041229248,
          0.43948766589164734,
          0.34664466977119446,
          0.3739716708660126,
          0.28272926807403564,
          0.2645334005355835
         ]
        },
        {
         "hoverinfo": "text",
         "hovertext": [
          "(0.659619927406311, 0.6934646368026733)",
          "(0.5762901306152344, 0.5841802358627319)",
          "(0.5200413465499878, 0.5280274748802185)",
          "(0.46442872285842896, 0.46782293915748596)"
         ],
         "mode": "markers",
         "name": "H2",
         "type": "scatter",
         "x": [
          0.659619927406311,
          0.5762901306152344,
          0.5200413465499878,
          0.46442872285842896
         ],
         "y": [
          0.6934646368026733,
          0.5841802358627319,
          0.5280274748802185,
          0.46782293915748596
         ]
        }
       ],
       "layout": {
        "height": 500,
        "plot_bgcolor": "white",
        "template": {
         "data": {
          "bar": [
           {
            "error_x": {
             "color": "#2a3f5f"
            },
            "error_y": {
             "color": "#2a3f5f"
            },
            "marker": {
             "line": {
              "color": "#E5ECF6",
              "width": 0.5
             },
             "pattern": {
              "fillmode": "overlay",
              "size": 10,
              "solidity": 0.2
             }
            },
            "type": "bar"
           }
          ],
          "barpolar": [
           {
            "marker": {
             "line": {
              "color": "#E5ECF6",
              "width": 0.5
             },
             "pattern": {
              "fillmode": "overlay",
              "size": 10,
              "solidity": 0.2
             }
            },
            "type": "barpolar"
           }
          ],
          "carpet": [
           {
            "aaxis": {
             "endlinecolor": "#2a3f5f",
             "gridcolor": "white",
             "linecolor": "white",
             "minorgridcolor": "white",
             "startlinecolor": "#2a3f5f"
            },
            "baxis": {
             "endlinecolor": "#2a3f5f",
             "gridcolor": "white",
             "linecolor": "white",
             "minorgridcolor": "white",
             "startlinecolor": "#2a3f5f"
            },
            "type": "carpet"
           }
          ],
          "choropleth": [
           {
            "colorbar": {
             "outlinewidth": 0,
             "ticks": ""
            },
            "type": "choropleth"
           }
          ],
          "contour": [
           {
            "colorbar": {
             "outlinewidth": 0,
             "ticks": ""
            },
            "colorscale": [
             [
              0,
              "#0d0887"
             ],
             [
              0.1111111111111111,
              "#46039f"
             ],
             [
              0.2222222222222222,
              "#7201a8"
             ],
             [
              0.3333333333333333,
              "#9c179e"
             ],
             [
              0.4444444444444444,
              "#bd3786"
             ],
             [
              0.5555555555555556,
              "#d8576b"
             ],
             [
              0.6666666666666666,
              "#ed7953"
             ],
             [
              0.7777777777777778,
              "#fb9f3a"
             ],
             [
              0.8888888888888888,
              "#fdca26"
             ],
             [
              1,
              "#f0f921"
             ]
            ],
            "type": "contour"
           }
          ],
          "contourcarpet": [
           {
            "colorbar": {
             "outlinewidth": 0,
             "ticks": ""
            },
            "type": "contourcarpet"
           }
          ],
          "heatmap": [
           {
            "colorbar": {
             "outlinewidth": 0,
             "ticks": ""
            },
            "colorscale": [
             [
              0,
              "#0d0887"
             ],
             [
              0.1111111111111111,
              "#46039f"
             ],
             [
              0.2222222222222222,
              "#7201a8"
             ],
             [
              0.3333333333333333,
              "#9c179e"
             ],
             [
              0.4444444444444444,
              "#bd3786"
             ],
             [
              0.5555555555555556,
              "#d8576b"
             ],
             [
              0.6666666666666666,
              "#ed7953"
             ],
             [
              0.7777777777777778,
              "#fb9f3a"
             ],
             [
              0.8888888888888888,
              "#fdca26"
             ],
             [
              1,
              "#f0f921"
             ]
            ],
            "type": "heatmap"
           }
          ],
          "heatmapgl": [
           {
            "colorbar": {
             "outlinewidth": 0,
             "ticks": ""
            },
            "colorscale": [
             [
              0,
              "#0d0887"
             ],
             [
              0.1111111111111111,
              "#46039f"
             ],
             [
              0.2222222222222222,
              "#7201a8"
             ],
             [
              0.3333333333333333,
              "#9c179e"
             ],
             [
              0.4444444444444444,
              "#bd3786"
             ],
             [
              0.5555555555555556,
              "#d8576b"
             ],
             [
              0.6666666666666666,
              "#ed7953"
             ],
             [
              0.7777777777777778,
              "#fb9f3a"
             ],
             [
              0.8888888888888888,
              "#fdca26"
             ],
             [
              1,
              "#f0f921"
             ]
            ],
            "type": "heatmapgl"
           }
          ],
          "histogram": [
           {
            "marker": {
             "pattern": {
              "fillmode": "overlay",
              "size": 10,
              "solidity": 0.2
             }
            },
            "type": "histogram"
           }
          ],
          "histogram2d": [
           {
            "colorbar": {
             "outlinewidth": 0,
             "ticks": ""
            },
            "colorscale": [
             [
              0,
              "#0d0887"
             ],
             [
              0.1111111111111111,
              "#46039f"
             ],
             [
              0.2222222222222222,
              "#7201a8"
             ],
             [
              0.3333333333333333,
              "#9c179e"
             ],
             [
              0.4444444444444444,
              "#bd3786"
             ],
             [
              0.5555555555555556,
              "#d8576b"
             ],
             [
              0.6666666666666666,
              "#ed7953"
             ],
             [
              0.7777777777777778,
              "#fb9f3a"
             ],
             [
              0.8888888888888888,
              "#fdca26"
             ],
             [
              1,
              "#f0f921"
             ]
            ],
            "type": "histogram2d"
           }
          ],
          "histogram2dcontour": [
           {
            "colorbar": {
             "outlinewidth": 0,
             "ticks": ""
            },
            "colorscale": [
             [
              0,
              "#0d0887"
             ],
             [
              0.1111111111111111,
              "#46039f"
             ],
             [
              0.2222222222222222,
              "#7201a8"
             ],
             [
              0.3333333333333333,
              "#9c179e"
             ],
             [
              0.4444444444444444,
              "#bd3786"
             ],
             [
              0.5555555555555556,
              "#d8576b"
             ],
             [
              0.6666666666666666,
              "#ed7953"
             ],
             [
              0.7777777777777778,
              "#fb9f3a"
             ],
             [
              0.8888888888888888,
              "#fdca26"
             ],
             [
              1,
              "#f0f921"
             ]
            ],
            "type": "histogram2dcontour"
           }
          ],
          "mesh3d": [
           {
            "colorbar": {
             "outlinewidth": 0,
             "ticks": ""
            },
            "type": "mesh3d"
           }
          ],
          "parcoords": [
           {
            "line": {
             "colorbar": {
              "outlinewidth": 0,
              "ticks": ""
             }
            },
            "type": "parcoords"
           }
          ],
          "pie": [
           {
            "automargin": true,
            "type": "pie"
           }
          ],
          "scatter": [
           {
            "fillpattern": {
             "fillmode": "overlay",
             "size": 10,
             "solidity": 0.2
            },
            "type": "scatter"
           }
          ],
          "scatter3d": [
           {
            "line": {
             "colorbar": {
              "outlinewidth": 0,
              "ticks": ""
             }
            },
            "marker": {
             "colorbar": {
              "outlinewidth": 0,
              "ticks": ""
             }
            },
            "type": "scatter3d"
           }
          ],
          "scattercarpet": [
           {
            "marker": {
             "colorbar": {
              "outlinewidth": 0,
              "ticks": ""
             }
            },
            "type": "scattercarpet"
           }
          ],
          "scattergeo": [
           {
            "marker": {
             "colorbar": {
              "outlinewidth": 0,
              "ticks": ""
             }
            },
            "type": "scattergeo"
           }
          ],
          "scattergl": [
           {
            "marker": {
             "colorbar": {
              "outlinewidth": 0,
              "ticks": ""
             }
            },
            "type": "scattergl"
           }
          ],
          "scattermapbox": [
           {
            "marker": {
             "colorbar": {
              "outlinewidth": 0,
              "ticks": ""
             }
            },
            "type": "scattermapbox"
           }
          ],
          "scatterpolar": [
           {
            "marker": {
             "colorbar": {
              "outlinewidth": 0,
              "ticks": ""
             }
            },
            "type": "scatterpolar"
           }
          ],
          "scatterpolargl": [
           {
            "marker": {
             "colorbar": {
              "outlinewidth": 0,
              "ticks": ""
             }
            },
            "type": "scatterpolargl"
           }
          ],
          "scatterternary": [
           {
            "marker": {
             "colorbar": {
              "outlinewidth": 0,
              "ticks": ""
             }
            },
            "type": "scatterternary"
           }
          ],
          "surface": [
           {
            "colorbar": {
             "outlinewidth": 0,
             "ticks": ""
            },
            "colorscale": [
             [
              0,
              "#0d0887"
             ],
             [
              0.1111111111111111,
              "#46039f"
             ],
             [
              0.2222222222222222,
              "#7201a8"
             ],
             [
              0.3333333333333333,
              "#9c179e"
             ],
             [
              0.4444444444444444,
              "#bd3786"
             ],
             [
              0.5555555555555556,
              "#d8576b"
             ],
             [
              0.6666666666666666,
              "#ed7953"
             ],
             [
              0.7777777777777778,
              "#fb9f3a"
             ],
             [
              0.8888888888888888,
              "#fdca26"
             ],
             [
              1,
              "#f0f921"
             ]
            ],
            "type": "surface"
           }
          ],
          "table": [
           {
            "cells": {
             "fill": {
              "color": "#EBF0F8"
             },
             "line": {
              "color": "white"
             }
            },
            "header": {
             "fill": {
              "color": "#C8D4E3"
             },
             "line": {
              "color": "white"
             }
            },
            "type": "table"
           }
          ]
         },
         "layout": {
          "annotationdefaults": {
           "arrowcolor": "#2a3f5f",
           "arrowhead": 0,
           "arrowwidth": 1
          },
          "autotypenumbers": "strict",
          "coloraxis": {
           "colorbar": {
            "outlinewidth": 0,
            "ticks": ""
           }
          },
          "colorscale": {
           "diverging": [
            [
             0,
             "#8e0152"
            ],
            [
             0.1,
             "#c51b7d"
            ],
            [
             0.2,
             "#de77ae"
            ],
            [
             0.3,
             "#f1b6da"
            ],
            [
             0.4,
             "#fde0ef"
            ],
            [
             0.5,
             "#f7f7f7"
            ],
            [
             0.6,
             "#e6f5d0"
            ],
            [
             0.7,
             "#b8e186"
            ],
            [
             0.8,
             "#7fbc41"
            ],
            [
             0.9,
             "#4d9221"
            ],
            [
             1,
             "#276419"
            ]
           ],
           "sequential": [
            [
             0,
             "#0d0887"
            ],
            [
             0.1111111111111111,
             "#46039f"
            ],
            [
             0.2222222222222222,
             "#7201a8"
            ],
            [
             0.3333333333333333,
             "#9c179e"
            ],
            [
             0.4444444444444444,
             "#bd3786"
            ],
            [
             0.5555555555555556,
             "#d8576b"
            ],
            [
             0.6666666666666666,
             "#ed7953"
            ],
            [
             0.7777777777777778,
             "#fb9f3a"
            ],
            [
             0.8888888888888888,
             "#fdca26"
            ],
            [
             1,
             "#f0f921"
            ]
           ],
           "sequentialminus": [
            [
             0,
             "#0d0887"
            ],
            [
             0.1111111111111111,
             "#46039f"
            ],
            [
             0.2222222222222222,
             "#7201a8"
            ],
            [
             0.3333333333333333,
             "#9c179e"
            ],
            [
             0.4444444444444444,
             "#bd3786"
            ],
            [
             0.5555555555555556,
             "#d8576b"
            ],
            [
             0.6666666666666666,
             "#ed7953"
            ],
            [
             0.7777777777777778,
             "#fb9f3a"
            ],
            [
             0.8888888888888888,
             "#fdca26"
            ],
            [
             1,
             "#f0f921"
            ]
           ]
          },
          "colorway": [
           "#636efa",
           "#EF553B",
           "#00cc96",
           "#ab63fa",
           "#FFA15A",
           "#19d3f3",
           "#FF6692",
           "#B6E880",
           "#FF97FF",
           "#FECB52"
          ],
          "font": {
           "color": "#2a3f5f"
          },
          "geo": {
           "bgcolor": "white",
           "lakecolor": "white",
           "landcolor": "#E5ECF6",
           "showlakes": true,
           "showland": true,
           "subunitcolor": "white"
          },
          "hoverlabel": {
           "align": "left"
          },
          "hovermode": "closest",
          "mapbox": {
           "style": "light"
          },
          "paper_bgcolor": "white",
          "plot_bgcolor": "#E5ECF6",
          "polar": {
           "angularaxis": {
            "gridcolor": "white",
            "linecolor": "white",
            "ticks": ""
           },
           "bgcolor": "#E5ECF6",
           "radialaxis": {
            "gridcolor": "white",
            "linecolor": "white",
            "ticks": ""
           }
          },
          "scene": {
           "xaxis": {
            "backgroundcolor": "#E5ECF6",
            "gridcolor": "white",
            "gridwidth": 2,
            "linecolor": "white",
            "showbackground": true,
            "ticks": "",
            "zerolinecolor": "white"
           },
           "yaxis": {
            "backgroundcolor": "#E5ECF6",
            "gridcolor": "white",
            "gridwidth": 2,
            "linecolor": "white",
            "showbackground": true,
            "ticks": "",
            "zerolinecolor": "white"
           },
           "zaxis": {
            "backgroundcolor": "#E5ECF6",
            "gridcolor": "white",
            "gridwidth": 2,
            "linecolor": "white",
            "showbackground": true,
            "ticks": "",
            "zerolinecolor": "white"
           }
          },
          "shapedefaults": {
           "line": {
            "color": "#2a3f5f"
           }
          },
          "ternary": {
           "aaxis": {
            "gridcolor": "white",
            "linecolor": "white",
            "ticks": ""
           },
           "baxis": {
            "gridcolor": "white",
            "linecolor": "white",
            "ticks": ""
           },
           "bgcolor": "#E5ECF6",
           "caxis": {
            "gridcolor": "white",
            "linecolor": "white",
            "ticks": ""
           }
          },
          "title": {
           "x": 0.05
          },
          "xaxis": {
           "automargin": true,
           "gridcolor": "white",
           "linecolor": "white",
           "ticks": "",
           "title": {
            "standoff": 15
           },
           "zerolinecolor": "white",
           "zerolinewidth": 2
          },
          "yaxis": {
           "automargin": true,
           "gridcolor": "white",
           "linecolor": "white",
           "ticks": "",
           "title": {
            "standoff": 15
           },
           "zerolinecolor": "white",
           "zerolinewidth": 2
          }
         }
        },
        "width": 500,
        "xaxis": {
         "autorange": false,
         "exponentformat": "e",
         "linecolor": "black",
         "linewidth": 1,
         "mirror": false,
         "range": [
          -0.01629741907119751,
          0.831168372631073
         ],
         "showexponent": "all",
         "showline": true,
         "side": "bottom",
         "ticks": "outside",
         "title": {
          "text": "Birth"
         },
         "type": "linear",
         "zeroline": true
        },
        "yaxis": {
         "autorange": false,
         "exponentformat": "e",
         "linecolor": "black",
         "linewidth": 1,
         "mirror": false,
         "range": [
          -0.01629741907119751,
          0.831168372631073
         ],
         "scaleanchor": "x",
         "scaleratio": 1,
         "showexponent": "all",
         "showline": true,
         "side": "left",
         "ticks": "outside",
         "title": {
          "text": "Death"
         },
         "type": "linear",
         "zeroline": true
        }
       }
      }
     },
     "metadata": {},
     "output_type": "display_data"
    },
    {
     "data": {
      "text/plain": [
       "array([[[0.        , 0.08338161, 0.        ],\n",
       "        [0.        , 0.10536052, 0.        ],\n",
       "        [0.        , 0.11778303, 0.        ],\n",
       "        [0.        , 0.12427659, 0.        ],\n",
       "        [0.        , 0.13430586, 0.        ],\n",
       "        [0.        , 0.14240673, 0.        ],\n",
       "        [0.        , 0.14240673, 0.        ],\n",
       "        [0.        , 0.14310084, 0.        ],\n",
       "        [0.        , 0.15415068, 0.        ],\n",
       "        [0.        , 0.19521862, 0.        ],\n",
       "        [0.        , 0.19911802, 0.        ],\n",
       "        [0.        , 0.20067069, 0.        ],\n",
       "        [0.        , 0.20394377, 0.        ],\n",
       "        [0.        , 0.21057537, 0.        ],\n",
       "        [0.        , 0.21219978, 0.        ],\n",
       "        [0.        , 0.21439242, 0.        ],\n",
       "        [0.        , 0.22314355, 0.        ],\n",
       "        [0.        , 0.22527499, 0.        ],\n",
       "        [0.        , 0.22536489, 0.        ],\n",
       "        [0.        , 0.23871939, 0.        ],\n",
       "        [0.        , 0.23873581, 0.        ],\n",
       "        [0.        , 0.23928827, 0.        ],\n",
       "        [0.        , 0.23950788, 0.        ],\n",
       "        [0.        , 0.23950788, 0.        ],\n",
       "        [0.        , 0.24676687, 0.        ],\n",
       "        [0.        , 0.25564721, 0.        ],\n",
       "        [0.        , 0.25706458, 0.        ],\n",
       "        [0.        , 0.25833622, 0.        ],\n",
       "        [0.        , 0.26004553, 0.        ],\n",
       "        [0.        , 0.26004553, 0.        ],\n",
       "        [0.        , 0.26061267, 0.        ],\n",
       "        [0.        , 0.26061267, 0.        ],\n",
       "        [0.        , 0.26249269, 0.        ],\n",
       "        [0.        , 0.26690236, 0.        ],\n",
       "        [0.        , 0.27121112, 0.        ],\n",
       "        [0.        , 0.28220931, 0.        ],\n",
       "        [0.        , 0.28547597, 0.        ],\n",
       "        [0.        , 0.28684187, 0.        ],\n",
       "        [0.        , 0.28768209, 0.        ],\n",
       "        [0.        , 0.28920028, 0.        ],\n",
       "        [0.        , 0.29384124, 0.        ],\n",
       "        [0.        , 0.29854444, 0.        ],\n",
       "        [0.        , 0.30055276, 0.        ],\n",
       "        [0.        , 0.30172312, 0.        ],\n",
       "        [0.        , 0.30696416, 0.        ],\n",
       "        [0.        , 0.31048363, 0.        ],\n",
       "        [0.        , 0.31748104, 0.        ],\n",
       "        [0.        , 0.31845373, 0.        ],\n",
       "        [0.        , 0.32509077, 0.        ],\n",
       "        [0.        , 0.32672775, 0.        ],\n",
       "        [0.        , 0.34059083, 0.        ],\n",
       "        [0.        , 0.34059083, 0.        ],\n",
       "        [0.        , 0.34266123, 0.        ],\n",
       "        [0.        , 0.34635028, 0.        ],\n",
       "        [0.        , 0.35114515, 0.        ],\n",
       "        [0.        , 0.35152966, 0.        ],\n",
       "        [0.        , 0.36200029, 0.        ],\n",
       "        [0.        , 0.36407968, 0.        ],\n",
       "        [0.        , 0.36768246, 0.        ],\n",
       "        [0.        , 0.38065132, 0.        ],\n",
       "        [0.        , 0.38584301, 0.        ],\n",
       "        [0.        , 0.39959753, 0.        ],\n",
       "        [0.        , 0.4054651 , 0.        ],\n",
       "        [0.        , 0.4054651 , 0.        ],\n",
       "        [0.        , 0.4172945 , 0.        ],\n",
       "        [0.        , 0.42222601, 0.        ],\n",
       "        [0.        , 0.46524444, 0.        ],\n",
       "        [0.        , 0.4715769 , 0.        ],\n",
       "        [0.        , 0.52376741, 0.        ],\n",
       "        [0.        , 0.58183903, 0.        ],\n",
       "        [0.        , 0.60751349, 0.        ],\n",
       "        [0.        , 0.61541396, 0.        ],\n",
       "        [0.        , 0.65298831, 0.        ],\n",
       "        [0.        , 0.81487095, 0.        ],\n",
       "        [0.52090257, 0.68404657, 1.        ],\n",
       "        [0.50471169, 0.62543029, 1.        ],\n",
       "        [0.50428849, 0.5736087 , 1.        ],\n",
       "        [0.47872671, 0.5439871 , 1.        ],\n",
       "        [0.46004385, 0.48715466, 1.        ],\n",
       "        [0.44539919, 0.50321519, 1.        ],\n",
       "        [0.44457069, 0.58141387, 1.        ],\n",
       "        [0.44068485, 0.46627772, 1.        ],\n",
       "        [0.42222601, 0.55105752, 1.        ],\n",
       "        [0.40717953, 0.47312877, 1.        ],\n",
       "        [0.37935364, 0.38925833, 1.        ],\n",
       "        [0.37234476, 0.42327422, 1.        ],\n",
       "        [0.36772478, 0.47794676, 1.        ],\n",
       "        [0.3538011 , 0.47794676, 1.        ],\n",
       "        [0.34586182, 0.3564918 , 1.        ],\n",
       "        [0.33832595, 0.43948767, 1.        ],\n",
       "        [0.33512172, 0.34664467, 1.        ],\n",
       "        [0.31015491, 0.37397167, 1.        ],\n",
       "        [0.27853751, 0.28272927, 1.        ],\n",
       "        [0.26069352, 0.2645334 , 1.        ],\n",
       "        [0.65961993, 0.69346464, 2.        ],\n",
       "        [0.57629013, 0.58418024, 2.        ],\n",
       "        [0.52004135, 0.52802747, 2.        ],\n",
       "        [0.46442872, 0.46782294, 2.        ]]])"
      ]
     },
     "execution_count": 24,
     "metadata": {},
     "output_type": "execute_result"
    }
   ],
   "source": [
    "from gtda.homology import VietorisRipsPersistence\n",
    "\n",
    "y_periodic_embedded = y_periodic_embedded[None, :, :]\n",
    "# 0 - connected components, 1 - loops, 2 - voids\n",
    "homology_dimensions = [0, 1, 2]\n",
    "\n",
    "contaminantes_persistence = VietorisRipsPersistence(\n",
    "    homology_dimensions=homology_dimensions, n_jobs=1\n",
    ")\n",
    "print(\"Persistence diagram for periodic signal\")\n",
    "contaminantes_persistence.fit_transform_plot(y_periodic_embedded)"
   ]
  },
  {
   "attachments": {},
   "cell_type": "markdown",
   "metadata": {},
   "source": [
    "### $O_{3}$"
   ]
  },
  {
   "cell_type": "code",
   "execution_count": 28,
   "metadata": {},
   "outputs": [],
   "source": [
    "ozone = pd.Series(contaminants['O3'])"
   ]
  },
  {
   "cell_type": "code",
   "execution_count": 29,
   "metadata": {},
   "outputs": [
    {
     "data": {
      "text/plain": [
       "[<matplotlib.lines.Line2D at 0x1a20d77f730>]"
      ]
     },
     "execution_count": 29,
     "metadata": {},
     "output_type": "execute_result"
    },
    {
     "data": {
      "image/png": "[encoded data removed]",
      "text/plain": [
       "<Figure size 640x480 with 1 Axes>"
      ]
     },
     "metadata": {},
     "output_type": "display_data"
    }
   ],
   "source": [
    "plt.plot(ozone, '--', label='ML Predictions')"
   ]
  },
  {
   "cell_type": "code",
   "execution_count": 49,
   "metadata": {},
   "outputs": [
    {
     "name": "stdout",
     "output_type": "stream",
     "text": [
      "Shape of embedded time series: (75, 3)\n"
     ]
    }
   ],
   "source": [
    "x_contaminantes = ozone.index\n",
    "y_contaminantes = [ozone[i] for i in x_contaminantes]\n",
    "\n",
    "# Escogemos nuestros parametros para el encaje\n",
    "# d= embedding_dimension_periodic\n",
    "# tau = embedding_time_delay_periodic\n",
    "# stride = nos permite tomar un subconjunto de los datos.\n",
    "embedding_dimension_periodic = 3\n",
    "embedding_time_delay_periodic = 30\n",
    "stride = 1\n",
    "\n",
    "# Modifica el `stride` y el `delay` para obtener diferentes encajes, de lo anterior.\n",
    "\n",
    "embedder_periodic = SingleTakensEmbedding(\n",
    "    parameters_type=\"fixed\",\n",
    "    n_jobs=2,\n",
    "    time_delay=embedding_time_delay_periodic,\n",
    "    dimension=embedding_dimension_periodic,\n",
    "    stride=stride,\n",
    ")\n",
    "\n",
    "y_periodic_embedded = embedder_periodic.fit_transform(y_contaminantes)\n",
    "print(f\"Shape of embedded time series: {y_periodic_embedded.shape}\")"
   ]
  },
  {
   "cell_type": "code",
   "execution_count": 50,
   "metadata": {},
   "outputs": [
    {
     "data": {
      "application/vnd.plotly.v1+json": {
       "config": {
        "plotlyServerURL": "https://plot.ly"
       },
       "data": [
        {
         "marker": {
          "color": [
           0,
           1,
           2,
           3,
           4,
           5,
           6,
           7,
           8,
           9,
           10,
           11,
           12,
           13,
           14,
           15,
           16,
           17,
           18,
           19,
           20,
           21,
           22,
           23,
           24,
           25,
           26,
           27,
           28,
           29,
           30,
           31,
           32,
           33,
           34,
           35,
           36,
           37,
           38,
           39,
           40,
           41,
           42,
           43,
           44,
           45,
           46,
           47,
           48,
           49,
           50,
           51,
           52,
           53,
           54,
           55,
           56,
           57,
           58,
           59,
           60,
           61,
           62,
           63,
           64,
           65,
           66,
           67,
           68,
           69,
           70,
           71,
           72,
           73,
           74
          ],
          "colorscale": [
           [
            0,
            "#440154"
           ],
           [
            0.1111111111111111,
            "#482878"
           ],
           [
            0.2222222222222222,
            "#3e4989"
           ],
           [
            0.3333333333333333,
            "#31688e"
           ],
           [
            0.4444444444444444,
            "#26828e"
           ],
           [
            0.5555555555555556,
            "#1f9e89"
           ],
           [
            0.6666666666666666,
            "#35b779"
           ],
           [
            0.7777777777777778,
            "#6ece58"
           ],
           [
            0.8888888888888888,
            "#b5de2b"
           ],
           [
            1,
            "#fde725"
           ]
          ],
          "opacity": 0.8,
          "size": 4
         },
         "mode": "markers",
         "type": "scatter3d",
         "x": [
          29,
          54,
          76,
          56,
          53,
          93,
          25,
          71,
          72,
          68,
          64,
          62,
          71,
          67,
          53,
          49,
          37,
          33,
          38,
          54,
          68,
          63,
          62,
          66,
          55,
          38,
          49,
          80,
          77,
          37,
          76,
          48,
          43,
          46,
          55,
          59,
          64,
          48,
          55,
          55,
          46,
          51,
          49,
          67,
          70,
          63,
          59,
          69,
          42,
          34,
          69,
          88,
          45,
          57,
          71,
          46,
          73,
          70,
          86,
          90,
          71,
          87,
          82,
          61,
          54,
          41,
          58,
          73,
          56,
          72,
          71,
          65,
          80,
          74,
          74
         ],
         "y": [
          76,
          48,
          43,
          46,
          55,
          59,
          64,
          48,
          55,
          55,
          46,
          51,
          49,
          67,
          70,
          63,
          59,
          69,
          42,
          34,
          69,
          88,
          45,
          57,
          71,
          46,
          73,
          70,
          86,
          90,
          71,
          87,
          82,
          61,
          54,
          41,
          58,
          73,
          56,
          72,
          71,
          65,
          80,
          74,
          74,
          72,
          71,
          58,
          72,
          78,
          55,
          46,
          52,
          62,
          77,
          73,
          74,
          79,
          49,
          66,
          66,
          79,
          67,
          62,
          71,
          61,
          76,
          95,
          94,
          93,
          88,
          82,
          77,
          72,
          66
         ],
         "z": [
          71,
          87,
          82,
          61,
          54,
          41,
          58,
          73,
          56,
          72,
          71,
          65,
          80,
          74,
          74,
          72,
          71,
          58,
          72,
          78,
          55,
          46,
          52,
          62,
          77,
          73,
          74,
          79,
          49,
          66,
          66,
          79,
          67,
          62,
          71,
          61,
          76,
          95,
          94,
          93,
          88,
          82,
          77,
          72,
          66,
          71,
          69,
          86,
          74,
          66,
          80,
          76,
          77,
          20,
          32,
          77,
          65,
          57,
          46,
          77,
          74,
          59,
          54,
          73,
          65,
          59,
          70,
          77,
          71,
          57,
          61,
          45,
          48,
          52,
          61
         ]
        }
       ],
       "layout": {
        "scene": {
         "xaxis": {
          "exponentformat": "e",
          "showexponent": "all",
          "title": {
           "text": "0th"
          },
          "type": "linear"
         },
         "yaxis": {
          "exponentformat": "e",
          "showexponent": "all",
          "title": {
           "text": "1st"
          },
          "type": "linear"
         },
         "zaxis": {
          "exponentformat": "e",
          "showexponent": "all",
          "title": {
           "text": "2nd"
          },
          "type": "linear"
         }
        },
        "template": {
         "data": {
          "bar": [
           {
            "error_x": {
             "color": "#2a3f5f"
            },
            "error_y": {
             "color": "#2a3f5f"
            },
            "marker": {
             "line": {
              "color": "#E5ECF6",
              "width": 0.5
             },
             "pattern": {
              "fillmode": "overlay",
              "size": 10,
              "solidity": 0.2
             }
            },
            "type": "bar"
           }
          ],
          "barpolar": [
           {
            "marker": {
             "line": {
              "color": "#E5ECF6",
              "width": 0.5
             },
             "pattern": {
              "fillmode": "overlay",
              "size": 10,
              "solidity": 0.2
             }
            },
            "type": "barpolar"
           }
          ],
          "carpet": [
           {
            "aaxis": {
             "endlinecolor": "#2a3f5f",
             "gridcolor": "white",
             "linecolor": "white",
             "minorgridcolor": "white",
             "startlinecolor": "#2a3f5f"
            },
            "baxis": {
             "endlinecolor": "#2a3f5f",
             "gridcolor": "white",
             "linecolor": "white",
             "minorgridcolor": "white",
             "startlinecolor": "#2a3f5f"
            },
            "type": "carpet"
           }
          ],
          "choropleth": [
           {
            "colorbar": {
             "outlinewidth": 0,
             "ticks": ""
            },
            "type": "choropleth"
           }
          ],
          "contour": [
           {
            "colorbar": {
             "outlinewidth": 0,
             "ticks": ""
            },
            "colorscale": [
             [
              0,
              "#0d0887"
             ],
             [
              0.1111111111111111,
              "#46039f"
             ],
             [
              0.2222222222222222,
              "#7201a8"
             ],
             [
              0.3333333333333333,
              "#9c179e"
             ],
             [
              0.4444444444444444,
              "#bd3786"
             ],
             [
              0.5555555555555556,
              "#d8576b"
             ],
             [
              0.6666666666666666,
              "#ed7953"
             ],
             [
              0.7777777777777778,
              "#fb9f3a"
             ],
             [
              0.8888888888888888,
              "#fdca26"
             ],
             [
              1,
              "#f0f921"
             ]
            ],
            "type": "contour"
           }
          ],
          "contourcarpet": [
           {
            "colorbar": {
             "outlinewidth": 0,
             "ticks": ""
            },
            "type": "contourcarpet"
           }
          ],
          "heatmap": [
           {
            "colorbar": {
             "outlinewidth": 0,
             "ticks": ""
            },
            "colorscale": [
             [
              0,
              "#0d0887"
             ],
             [
              0.1111111111111111,
              "#46039f"
             ],
             [
              0.2222222222222222,
              "#7201a8"
             ],
             [
              0.3333333333333333,
              "#9c179e"
             ],
             [
              0.4444444444444444,
              "#bd3786"
             ],
             [
              0.5555555555555556,
              "#d8576b"
             ],
             [
              0.6666666666666666,
              "#ed7953"
             ],
             [
              0.7777777777777778,
              "#fb9f3a"
             ],
             [
              0.8888888888888888,
              "#fdca26"
             ],
             [
              1,
              "#f0f921"
             ]
            ],
            "type": "heatmap"
           }
          ],
          "heatmapgl": [
           {
            "colorbar": {
             "outlinewidth": 0,
             "ticks": ""
            },
            "colorscale": [
             [
              0,
              "#0d0887"
             ],
             [
              0.1111111111111111,
              "#46039f"
             ],
             [
              0.2222222222222222,
              "#7201a8"
             ],
             [
              0.3333333333333333,
              "#9c179e"
             ],
             [
              0.4444444444444444,
              "#bd3786"
             ],
             [
              0.5555555555555556,
              "#d8576b"
             ],
             [
              0.6666666666666666,
              "#ed7953"
             ],
             [
              0.7777777777777778,
              "#fb9f3a"
             ],
             [
              0.8888888888888888,
              "#fdca26"
             ],
             [
              1,
              "#f0f921"
             ]
            ],
            "type": "heatmapgl"
           }
          ],
          "histogram": [
           {
            "marker": {
             "pattern": {
              "fillmode": "overlay",
              "size": 10,
              "solidity": 0.2
             }
            },
            "type": "histogram"
           }
          ],
          "histogram2d": [
           {
            "colorbar": {
             "outlinewidth": 0,
             "ticks": ""
            },
            "colorscale": [
             [
              0,
              "#0d0887"
             ],
             [
              0.1111111111111111,
              "#46039f"
             ],
             [
              0.2222222222222222,
              "#7201a8"
             ],
             [
              0.3333333333333333,
              "#9c179e"
             ],
             [
              0.4444444444444444,
              "#bd3786"
             ],
             [
              0.5555555555555556,
              "#d8576b"
             ],
             [
              0.6666666666666666,
              "#ed7953"
             ],
             [
              0.7777777777777778,
              "#fb9f3a"
             ],
             [
              0.8888888888888888,
              "#fdca26"
             ],
             [
              1,
              "#f0f921"
             ]
            ],
            "type": "histogram2d"
           }
          ],
          "histogram2dcontour": [
           {
            "colorbar": {
             "outlinewidth": 0,
             "ticks": ""
            },
            "colorscale": [
             [
              0,
              "#0d0887"
             ],
             [
              0.1111111111111111,
              "#46039f"
             ],
             [
              0.2222222222222222,
              "#7201a8"
             ],
             [
              0.3333333333333333,
              "#9c179e"
             ],
             [
              0.4444444444444444,
              "#bd3786"
             ],
             [
              0.5555555555555556,
              "#d8576b"
             ],
             [
              0.6666666666666666,
              "#ed7953"
             ],
             [
              0.7777777777777778,
              "#fb9f3a"
             ],
             [
              0.8888888888888888,
              "#fdca26"
             ],
             [
              1,
              "#f0f921"
             ]
            ],
            "type": "histogram2dcontour"
           }
          ],
          "mesh3d": [
           {
            "colorbar": {
             "outlinewidth": 0,
             "ticks": ""
            },
            "type": "mesh3d"
           }
          ],
          "parcoords": [
           {
            "line": {
             "colorbar": {
              "outlinewidth": 0,
              "ticks": ""
             }
            },
            "type": "parcoords"
           }
          ],
          "pie": [
           {
            "automargin": true,
            "type": "pie"
           }
          ],
          "scatter": [
           {
            "fillpattern": {
             "fillmode": "overlay",
             "size": 10,
             "solidity": 0.2
            },
            "type": "scatter"
           }
          ],
          "scatter3d": [
           {
            "line": {
             "colorbar": {
              "outlinewidth": 0,
              "ticks": ""
             }
            },
            "marker": {
             "colorbar": {
              "outlinewidth": 0,
              "ticks": ""
             }
            },
            "type": "scatter3d"
           }
          ],
          "scattercarpet": [
           {
            "marker": {
             "colorbar": {
              "outlinewidth": 0,
              "ticks": ""
             }
            },
            "type": "scattercarpet"
           }
          ],
          "scattergeo": [
           {
            "marker": {
             "colorbar": {
              "outlinewidth": 0,
              "ticks": ""
             }
            },
            "type": "scattergeo"
           }
          ],
          "scattergl": [
           {
            "marker": {
             "colorbar": {
              "outlinewidth": 0,
              "ticks": ""
             }
            },
            "type": "scattergl"
           }
          ],
          "scattermapbox": [
           {
            "marker": {
             "colorbar": {
              "outlinewidth": 0,
              "ticks": ""
             }
            },
            "type": "scattermapbox"
           }
          ],
          "scatterpolar": [
           {
            "marker": {
             "colorbar": {
              "outlinewidth": 0,
              "ticks": ""
             }
            },
            "type": "scatterpolar"
           }
          ],
          "scatterpolargl": [
           {
            "marker": {
             "colorbar": {
              "outlinewidth": 0,
              "ticks": ""
             }
            },
            "type": "scatterpolargl"
           }
          ],
          "scatterternary": [
           {
            "marker": {
             "colorbar": {
              "outlinewidth": 0,
              "ticks": ""
             }
            },
            "type": "scatterternary"
           }
          ],
          "surface": [
           {
            "colorbar": {
             "outlinewidth": 0,
             "ticks": ""
            },
            "colorscale": [
             [
              0,
              "#0d0887"
             ],
             [
              0.1111111111111111,
              "#46039f"
             ],
             [
              0.2222222222222222,
              "#7201a8"
             ],
             [
              0.3333333333333333,
              "#9c179e"
             ],
             [
              0.4444444444444444,
              "#bd3786"
             ],
             [
              0.5555555555555556,
              "#d8576b"
             ],
             [
              0.6666666666666666,
              "#ed7953"
             ],
             [
              0.7777777777777778,
              "#fb9f3a"
             ],
             [
              0.8888888888888888,
              "#fdca26"
             ],
             [
              1,
              "#f0f921"
             ]
            ],
            "type": "surface"
           }
          ],
          "table": [
           {
            "cells": {
             "fill": {
              "color": "#EBF0F8"
             },
             "line": {
              "color": "white"
             }
            },
            "header": {
             "fill": {
              "color": "#C8D4E3"
             },
             "line": {
              "color": "white"
             }
            },
            "type": "table"
           }
          ]
         },
         "layout": {
          "annotationdefaults": {
           "arrowcolor": "#2a3f5f",
           "arrowhead": 0,
           "arrowwidth": 1
          },
          "autotypenumbers": "strict",
          "coloraxis": {
           "colorbar": {
            "outlinewidth": 0,
            "ticks": ""
           }
          },
          "colorscale": {
           "diverging": [
            [
             0,
             "#8e0152"
            ],
            [
             0.1,
             "#c51b7d"
            ],
            [
             0.2,
             "#de77ae"
            ],
            [
             0.3,
             "#f1b6da"
            ],
            [
             0.4,
             "#fde0ef"
            ],
            [
             0.5,
             "#f7f7f7"
            ],
            [
             0.6,
             "#e6f5d0"
            ],
            [
             0.7,
             "#b8e186"
            ],
            [
             0.8,
             "#7fbc41"
            ],
            [
             0.9,
             "#4d9221"
            ],
            [
             1,
             "#276419"
            ]
           ],
           "sequential": [
            [
             0,
             "#0d0887"
            ],
            [
             0.1111111111111111,
             "#46039f"
            ],
            [
             0.2222222222222222,
             "#7201a8"
            ],
            [
             0.3333333333333333,
             "#9c179e"
            ],
            [
             0.4444444444444444,
             "#bd3786"
            ],
            [
             0.5555555555555556,
             "#d8576b"
            ],
            [
             0.6666666666666666,
             "#ed7953"
            ],
            [
             0.7777777777777778,
             "#fb9f3a"
            ],
            [
             0.8888888888888888,
             "#fdca26"
            ],
            [
             1,
             "#f0f921"
            ]
           ],
           "sequentialminus": [
            [
             0,
             "#0d0887"
            ],
            [
             0.1111111111111111,
             "#46039f"
            ],
            [
             0.2222222222222222,
             "#7201a8"
            ],
            [
             0.3333333333333333,
             "#9c179e"
            ],
            [
             0.4444444444444444,
             "#bd3786"
            ],
            [
             0.5555555555555556,
             "#d8576b"
            ],
            [
             0.6666666666666666,
             "#ed7953"
            ],
            [
             0.7777777777777778,
             "#fb9f3a"
            ],
            [
             0.8888888888888888,
             "#fdca26"
            ],
            [
             1,
             "#f0f921"
            ]
           ]
          },
          "colorway": [
           "#636efa",
           "#EF553B",
           "#00cc96",
           "#ab63fa",
           "#FFA15A",
           "#19d3f3",
           "#FF6692",
           "#B6E880",
           "#FF97FF",
           "#FECB52"
          ],
          "font": {
           "color": "#2a3f5f"
          },
          "geo": {
           "bgcolor": "white",
           "lakecolor": "white",
           "landcolor": "#E5ECF6",
           "showlakes": true,
           "showland": true,
           "subunitcolor": "white"
          },
          "hoverlabel": {
           "align": "left"
          },
          "hovermode": "closest",
          "mapbox": {
           "style": "light"
          },
          "paper_bgcolor": "white",
          "plot_bgcolor": "#E5ECF6",
          "polar": {
           "angularaxis": {
            "gridcolor": "white",
            "linecolor": "white",
            "ticks": ""
           },
           "bgcolor": "#E5ECF6",
           "radialaxis": {
            "gridcolor": "white",
            "linecolor": "white",
            "ticks": ""
           }
          },
          "scene": {
           "xaxis": {
            "backgroundcolor": "#E5ECF6",
            "gridcolor": "white",
            "gridwidth": 2,
            "linecolor": "white",
            "showbackground": true,
            "ticks": "",
            "zerolinecolor": "white"
           },
           "yaxis": {
            "backgroundcolor": "#E5ECF6",
            "gridcolor": "white",
            "gridwidth": 2,
            "linecolor": "white",
            "showbackground": true,
            "ticks": "",
            "zerolinecolor": "white"
           },
           "zaxis": {
            "backgroundcolor": "#E5ECF6",
            "gridcolor": "white",
            "gridwidth": 2,
            "linecolor": "white",
            "showbackground": true,
            "ticks": "",
            "zerolinecolor": "white"
           }
          },
          "shapedefaults": {
           "line": {
            "color": "#2a3f5f"
           }
          },
          "ternary": {
           "aaxis": {
            "gridcolor": "white",
            "linecolor": "white",
            "ticks": ""
           },
           "baxis": {
            "gridcolor": "white",
            "linecolor": "white",
            "ticks": ""
           },
           "bgcolor": "#E5ECF6",
           "caxis": {
            "gridcolor": "white",
            "linecolor": "white",
            "ticks": ""
           }
          },
          "title": {
           "x": 0.05
          },
          "xaxis": {
           "automargin": true,
           "gridcolor": "white",
           "linecolor": "white",
           "ticks": "",
           "title": {
            "standoff": 15
           },
           "zerolinecolor": "white",
           "zerolinewidth": 2
          },
          "yaxis": {
           "automargin": true,
           "gridcolor": "white",
           "linecolor": "white",
           "ticks": "",
           "title": {
            "standoff": 15
           },
           "zerolinecolor": "white",
           "zerolinewidth": 2
          }
         }
        }
       }
      }
     },
     "metadata": {},
     "output_type": "display_data"
    }
   ],
   "source": [
    "plot_point_cloud(y_periodic_embedded)"
   ]
  },
  {
   "cell_type": "code",
   "execution_count": 51,
   "metadata": {},
   "outputs": [
    {
     "name": "stdout",
     "output_type": "stream",
     "text": [
      "Persistence diagram for periodic signal\n"
     ]
    },
    {
     "data": {
      "application/vnd.plotly.v1+json": {
       "config": {
        "plotlyServerURL": "https://plot.ly"
       },
       "data": [
        {
         "hoverinfo": "none",
         "line": {
          "color": "black",
          "dash": "dash",
          "width": 1
         },
         "mode": "lines",
         "showlegend": false,
         "type": "scatter",
         "x": [
          -0.47791213989257814,
          24.373519134521484
         ],
         "y": [
          -0.47791213989257814,
          24.373519134521484
         ]
        },
        {
         "hoverinfo": "text",
         "hovertext": [
          "(0.0, 3.1622776985168457)",
          "(0.0, 3.7416574954986572)",
          "(0.0, 4.123105525970459), multiplicity: 2",
          "(0.0, 4.123105525970459), multiplicity: 2",
          "(0.0, 4.242640495300293)",
          "(0.0, 4.358899116516113)",
          "(0.0, 4.582575798034668), multiplicity: 2",
          "(0.0, 4.582575798034668), multiplicity: 2",
          "(0.0, 5.0)",
          "(0.0, 5.099019527435303)",
          "(0.0, 5.196152210235596)",
          "(0.0, 5.830951690673828), multiplicity: 3",
          "(0.0, 5.830951690673828), multiplicity: 3",
          "(0.0, 5.830951690673828), multiplicity: 3",
          "(0.0, 6.324555397033691)",
          "(0.0, 6.4031243324279785), multiplicity: 3",
          "(0.0, 6.4031243324279785), multiplicity: 3",
          "(0.0, 6.4031243324279785), multiplicity: 3",
          "(0.0, 6.480740547180176)",
          "(0.0, 6.7082037925720215), multiplicity: 2",
          "(0.0, 6.7082037925720215), multiplicity: 2",
          "(0.0, 7.071067810058594), multiplicity: 3",
          "(0.0, 7.071067810058594), multiplicity: 3",
          "(0.0, 7.071067810058594), multiplicity: 3",
          "(0.0, 7.348469257354736), multiplicity: 5",
          "(0.0, 7.348469257354736), multiplicity: 5",
          "(0.0, 7.348469257354736), multiplicity: 5",
          "(0.0, 7.348469257354736), multiplicity: 5",
          "(0.0, 7.348469257354736), multiplicity: 5",
          "(0.0, 7.549834251403809), multiplicity: 2",
          "(0.0, 7.549834251403809), multiplicity: 2",
          "(0.0, 7.6157732009887695)",
          "(0.0, 7.8102498054504395)",
          "(0.0, 7.874007701873779), multiplicity: 2",
          "(0.0, 7.874007701873779), multiplicity: 2",
          "(0.0, 8.062257766723633), multiplicity: 2",
          "(0.0, 8.062257766723633), multiplicity: 2",
          "(0.0, 8.306623458862305)",
          "(0.0, 8.717798233032227)",
          "(0.0, 8.774964332580566), multiplicity: 3",
          "(0.0, 8.774964332580566), multiplicity: 3",
          "(0.0, 8.774964332580566), multiplicity: 3",
          "(0.0, 9.0)",
          "(0.0, 9.433980941772461)",
          "(0.0, 9.486832618713379)",
          "(0.0, 9.539392471313477)",
          "(0.0, 9.643651008605957)",
          "(0.0, 9.69536018371582)",
          "(0.0, 9.848857879638672)",
          "(0.0, 9.899495124816895), multiplicity: 2",
          "(0.0, 9.899495124816895), multiplicity: 2",
          "(0.0, 10.049875259399414), multiplicity: 2",
          "(0.0, 10.049875259399414), multiplicity: 2",
          "(0.0, 10.29563045501709)",
          "(0.0, 10.630146026611328)",
          "(0.0, 10.677078247070312)",
          "(0.0, 10.954451560974121)",
          "(0.0, 11.045360565185547)",
          "(0.0, 11.357816696166992)",
          "(0.0, 11.789826393127441)",
          "(0.0, 11.832159996032715), multiplicity: 2",
          "(0.0, 11.832159996032715), multiplicity: 2",
          "(0.0, 12.206555366516113)",
          "(0.0, 13.190905570983887), multiplicity: 2",
          "(0.0, 13.190905570983887), multiplicity: 2",
          "(0.0, 13.266499519348145)",
          "(0.0, 13.304134368896484)",
          "(0.0, 13.747727394104004)",
          "(0.0, 14.03566837310791)",
          "(0.0, 15.165750503540039)",
          "(0.0, 16.6433162689209)",
          "(0.0, 17.57839584350586)",
          "(0.0, 18.220867156982422)",
          "(0.0, 23.76972770690918)"
         ],
         "mode": "markers",
         "name": "H0",
         "type": "scatter",
         "x": [
          0,
          0,
          0,
          0,
          0,
          0,
          0,
          0,
          0,
          0,
          0,
          0,
          0,
          0,
          0,
          0,
          0,
          0,
          0,
          0,
          0,
          0,
          0,
          0,
          0,
          0,
          0,
          0,
          0,
          0,
          0,
          0,
          0,
          0,
          0,
          0,
          0,
          0,
          0,
          0,
          0,
          0,
          0,
          0,
          0,
          0,
          0,
          0,
          0,
          0,
          0,
          0,
          0,
          0,
          0,
          0,
          0,
          0,
          0,
          0,
          0,
          0,
          0,
          0,
          0,
          0,
          0,
          0,
          0,
          0,
          0,
          0,
          0,
          0
         ],
         "y": [
          3.1622776985168457,
          3.7416574954986572,
          4.123105525970459,
          4.123105525970459,
          4.242640495300293,
          4.358899116516113,
          4.582575798034668,
          4.582575798034668,
          5,
          5.099019527435303,
          5.196152210235596,
          5.830951690673828,
          5.830951690673828,
          5.830951690673828,
          6.324555397033691,
          6.4031243324279785,
          6.4031243324279785,
          6.4031243324279785,
          6.480740547180176,
          6.7082037925720215,
          6.7082037925720215,
          7.071067810058594,
          7.071067810058594,
          7.071067810058594,
          7.348469257354736,
          7.348469257354736,
          7.348469257354736,
          7.348469257354736,
          7.348469257354736,
          7.549834251403809,
          7.549834251403809,
          7.6157732009887695,
          7.8102498054504395,
          7.874007701873779,
          7.874007701873779,
          8.062257766723633,
          8.062257766723633,
          8.306623458862305,
          8.717798233032227,
          8.774964332580566,
          8.774964332580566,
          8.774964332580566,
          9,
          9.433980941772461,
          9.486832618713379,
          9.539392471313477,
          9.643651008605957,
          9.69536018371582,
          9.848857879638672,
          9.899495124816895,
          9.899495124816895,
          10.049875259399414,
          10.049875259399414,
          10.29563045501709,
          10.630146026611328,
          10.677078247070312,
          10.954451560974121,
          11.045360565185547,
          11.357816696166992,
          11.789826393127441,
          11.832159996032715,
          11.832159996032715,
          12.206555366516113,
          13.190905570983887,
          13.190905570983887,
          13.266499519348145,
          13.304134368896484,
          13.747727394104004,
          14.03566837310791,
          15.165750503540039,
          16.6433162689209,
          17.57839584350586,
          18.220867156982422,
          23.76972770690918
         ]
        },
        {
         "hoverinfo": "text",
         "hovertext": [
          "(20.124610900878906, 23.895606994628906)",
          "(18.867961883544922, 20.14944076538086)",
          "(18.81488800048828, 20.099750518798828)",
          "(18.055469512939453, 19.84943389892578)",
          "(17.11724281311035, 18.973665237426758)",
          "(16.248077392578125, 18.055469512939453)",
          "(15.524174690246582, 17.972200393676758)",
          "(12.806248664855957, 12.884099006652832)",
          "(12.727922439575195, 13.56466007232666)",
          "(12.688577651977539, 12.727922439575195)",
          "(12.206555366516113, 17.14642906188965)",
          "(12.083045959472656, 18.601076126098633)",
          "(12.083045959472656, 15.65247631072998)",
          "(11.747340202331543, 13.601470947265625)",
          "(10.862780570983887, 12.083045959472656)",
          "(10.677078247070312, 11.224971771240234)",
          "(10.677078247070312, 10.816654205322266)",
          "(10.198039054870605, 13.0)",
          "(10.049875259399414, 10.24695110321045)",
          "(9.899495124816895, 12.247448921203613)",
          "(7.681145668029785, 10.099504470825195)"
         ],
         "mode": "markers",
         "name": "H1",
         "type": "scatter",
         "x": [
          20.124610900878906,
          18.867961883544922,
          18.81488800048828,
          18.055469512939453,
          17.11724281311035,
          16.248077392578125,
          15.524174690246582,
          12.806248664855957,
          12.727922439575195,
          12.688577651977539,
          12.206555366516113,
          12.083045959472656,
          12.083045959472656,
          11.747340202331543,
          10.862780570983887,
          10.677078247070312,
          10.677078247070312,
          10.198039054870605,
          10.049875259399414,
          9.899495124816895,
          7.681145668029785
         ],
         "y": [
          23.895606994628906,
          20.14944076538086,
          20.099750518798828,
          19.84943389892578,
          18.973665237426758,
          18.055469512939453,
          17.972200393676758,
          12.884099006652832,
          13.56466007232666,
          12.727922439575195,
          17.14642906188965,
          18.601076126098633,
          15.65247631072998,
          13.601470947265625,
          12.083045959472656,
          11.224971771240234,
          10.816654205322266,
          13,
          10.24695110321045,
          12.247448921203613,
          10.099504470825195
         ]
        },
        {
         "hoverinfo": "text",
         "hovertext": [
          "(17.14642906188965, 17.66352081298828)"
         ],
         "mode": "markers",
         "name": "H2",
         "type": "scatter",
         "x": [
          17.14642906188965
         ],
         "y": [
          17.66352081298828
         ]
        }
       ],
       "layout": {
        "height": 500,
        "plot_bgcolor": "white",
        "template": {
         "data": {
          "bar": [
           {
            "error_x": {
             "color": "#2a3f5f"
            },
            "error_y": {
             "color": "#2a3f5f"
            },
            "marker": {
             "line": {
              "color": "#E5ECF6",
              "width": 0.5
             },
             "pattern": {
              "fillmode": "overlay",
              "size": 10,
              "solidity": 0.2
             }
            },
            "type": "bar"
           }
          ],
          "barpolar": [
           {
            "marker": {
             "line": {
              "color": "#E5ECF6",
              "width": 0.5
             },
             "pattern": {
              "fillmode": "overlay",
              "size": 10,
              "solidity": 0.2
             }
            },
            "type": "barpolar"
           }
          ],
          "carpet": [
           {
            "aaxis": {
             "endlinecolor": "#2a3f5f",
             "gridcolor": "white",
             "linecolor": "white",
             "minorgridcolor": "white",
             "startlinecolor": "#2a3f5f"
            },
            "baxis": {
             "endlinecolor": "#2a3f5f",
             "gridcolor": "white",
             "linecolor": "white",
             "minorgridcolor": "white",
             "startlinecolor": "#2a3f5f"
            },
            "type": "carpet"
           }
          ],
          "choropleth": [
           {
            "colorbar": {
             "outlinewidth": 0,
             "ticks": ""
            },
            "type": "choropleth"
           }
          ],
          "contour": [
           {
            "colorbar": {
             "outlinewidth": 0,
             "ticks": ""
            },
            "colorscale": [
             [
              0,
              "#0d0887"
             ],
             [
              0.1111111111111111,
              "#46039f"
             ],
             [
              0.2222222222222222,
              "#7201a8"
             ],
             [
              0.3333333333333333,
              "#9c179e"
             ],
             [
              0.4444444444444444,
              "#bd3786"
             ],
             [
              0.5555555555555556,
              "#d8576b"
             ],
             [
              0.6666666666666666,
              "#ed7953"
             ],
             [
              0.7777777777777778,
              "#fb9f3a"
             ],
             [
              0.8888888888888888,
              "#fdca26"
             ],
             [
              1,
              "#f0f921"
             ]
            ],
            "type": "contour"
           }
          ],
          "contourcarpet": [
           {
            "colorbar": {
             "outlinewidth": 0,
             "ticks": ""
            },
            "type": "contourcarpet"
           }
          ],
          "heatmap": [
           {
            "colorbar": {
             "outlinewidth": 0,
             "ticks": ""
            },
            "colorscale": [
             [
              0,
              "#0d0887"
             ],
             [
              0.1111111111111111,
              "#46039f"
             ],
             [
              0.2222222222222222,
              "#7201a8"
             ],
             [
              0.3333333333333333,
              "#9c179e"
             ],
             [
              0.4444444444444444,
              "#bd3786"
             ],
             [
              0.5555555555555556,
              "#d8576b"
             ],
             [
              0.6666666666666666,
              "#ed7953"
             ],
             [
              0.7777777777777778,
              "#fb9f3a"
             ],
             [
              0.8888888888888888,
              "#fdca26"
             ],
             [
              1,
              "#f0f921"
             ]
            ],
            "type": "heatmap"
           }
          ],
          "heatmapgl": [
           {
            "colorbar": {
             "outlinewidth": 0,
             "ticks": ""
            },
            "colorscale": [
             [
              0,
              "#0d0887"
             ],
             [
              0.1111111111111111,
              "#46039f"
             ],
             [
              0.2222222222222222,
              "#7201a8"
             ],
             [
              0.3333333333333333,
              "#9c179e"
             ],
             [
              0.4444444444444444,
              "#bd3786"
             ],
             [
              0.5555555555555556,
              "#d8576b"
             ],
             [
              0.6666666666666666,
              "#ed7953"
             ],
             [
              0.7777777777777778,
              "#fb9f3a"
             ],
             [
              0.8888888888888888,
              "#fdca26"
             ],
             [
              1,
              "#f0f921"
             ]
            ],
            "type": "heatmapgl"
           }
          ],
          "histogram": [
           {
            "marker": {
             "pattern": {
              "fillmode": "overlay",
              "size": 10,
              "solidity": 0.2
             }
            },
            "type": "histogram"
           }
          ],
          "histogram2d": [
           {
            "colorbar": {
             "outlinewidth": 0,
             "ticks": ""
            },
            "colorscale": [
             [
              0,
              "#0d0887"
             ],
             [
              0.1111111111111111,
              "#46039f"
             ],
             [
              0.2222222222222222,
              "#7201a8"
             ],
             [
              0.3333333333333333,
              "#9c179e"
             ],
             [
              0.4444444444444444,
              "#bd3786"
             ],
             [
              0.5555555555555556,
              "#d8576b"
             ],
             [
              0.6666666666666666,
              "#ed7953"
             ],
             [
              0.7777777777777778,
              "#fb9f3a"
             ],
             [
              0.8888888888888888,
              "#fdca26"
             ],
             [
              1,
              "#f0f921"
             ]
            ],
            "type": "histogram2d"
           }
          ],
          "histogram2dcontour": [
           {
            "colorbar": {
             "outlinewidth": 0,
             "ticks": ""
            },
            "colorscale": [
             [
              0,
              "#0d0887"
             ],
             [
              0.1111111111111111,
              "#46039f"
             ],
             [
              0.2222222222222222,
              "#7201a8"
             ],
             [
              0.3333333333333333,
              "#9c179e"
             ],
             [
              0.4444444444444444,
              "#bd3786"
             ],
             [
              0.5555555555555556,
              "#d8576b"
             ],
             [
              0.6666666666666666,
              "#ed7953"
             ],
             [
              0.7777777777777778,
              "#fb9f3a"
             ],
             [
              0.8888888888888888,
              "#fdca26"
             ],
             [
              1,
              "#f0f921"
             ]
            ],
            "type": "histogram2dcontour"
           }
          ],
          "mesh3d": [
           {
            "colorbar": {
             "outlinewidth": 0,
             "ticks": ""
            },
            "type": "mesh3d"
           }
          ],
          "parcoords": [
           {
            "line": {
             "colorbar": {
              "outlinewidth": 0,
              "ticks": ""
             }
            },
            "type": "parcoords"
           }
          ],
          "pie": [
           {
            "automargin": true,
            "type": "pie"
           }
          ],
          "scatter": [
           {
            "fillpattern": {
             "fillmode": "overlay",
             "size": 10,
             "solidity": 0.2
            },
            "type": "scatter"
           }
          ],
          "scatter3d": [
           {
            "line": {
             "colorbar": {
              "outlinewidth": 0,
              "ticks": ""
             }
            },
            "marker": {
             "colorbar": {
              "outlinewidth": 0,
              "ticks": ""
             }
            },
            "type": "scatter3d"
           }
          ],
          "scattercarpet": [
           {
            "marker": {
             "colorbar": {
              "outlinewidth": 0,
              "ticks": ""
             }
            },
            "type": "scattercarpet"
           }
          ],
          "scattergeo": [
           {
            "marker": {
             "colorbar": {
              "outlinewidth": 0,
              "ticks": ""
             }
            },
            "type": "scattergeo"
           }
          ],
          "scattergl": [
           {
            "marker": {
             "colorbar": {
              "outlinewidth": 0,
              "ticks": ""
             }
            },
            "type": "scattergl"
           }
          ],
          "scattermapbox": [
           {
            "marker": {
             "colorbar": {
              "outlinewidth": 0,
              "ticks": ""
             }
            },
            "type": "scattermapbox"
           }
          ],
          "scatterpolar": [
           {
            "marker": {
             "colorbar": {
              "outlinewidth": 0,
              "ticks": ""
             }
            },
            "type": "scatterpolar"
           }
          ],
          "scatterpolargl": [
           {
            "marker": {
             "colorbar": {
              "outlinewidth": 0,
              "ticks": ""
             }
            },
            "type": "scatterpolargl"
           }
          ],
          "scatterternary": [
           {
            "marker": {
             "colorbar": {
              "outlinewidth": 0,
              "ticks": ""
             }
            },
            "type": "scatterternary"
           }
          ],
          "surface": [
           {
            "colorbar": {
             "outlinewidth": 0,
             "ticks": ""
            },
            "colorscale": [
             [
              0,
              "#0d0887"
             ],
             [
              0.1111111111111111,
              "#46039f"
             ],
             [
              0.2222222222222222,
              "#7201a8"
             ],
             [
              0.3333333333333333,
              "#9c179e"
             ],
             [
              0.4444444444444444,
              "#bd3786"
             ],
             [
              0.5555555555555556,
              "#d8576b"
             ],
             [
              0.6666666666666666,
              "#ed7953"
             ],
             [
              0.7777777777777778,
              "#fb9f3a"
             ],
             [
              0.8888888888888888,
              "#fdca26"
             ],
             [
              1,
              "#f0f921"
             ]
            ],
            "type": "surface"
           }
          ],
          "table": [
           {
            "cells": {
             "fill": {
              "color": "#EBF0F8"
             },
             "line": {
              "color": "white"
             }
            },
            "header": {
             "fill": {
              "color": "#C8D4E3"
             },
             "line": {
              "color": "white"
             }
            },
            "type": "table"
           }
          ]
         },
         "layout": {
          "annotationdefaults": {
           "arrowcolor": "#2a3f5f",
           "arrowhead": 0,
           "arrowwidth": 1
          },
          "autotypenumbers": "strict",
          "coloraxis": {
           "colorbar": {
            "outlinewidth": 0,
            "ticks": ""
           }
          },
          "colorscale": {
           "diverging": [
            [
             0,
             "#8e0152"
            ],
            [
             0.1,
             "#c51b7d"
            ],
            [
             0.2,
             "#de77ae"
            ],
            [
             0.3,
             "#f1b6da"
            ],
            [
             0.4,
             "#fde0ef"
            ],
            [
             0.5,
             "#f7f7f7"
            ],
            [
             0.6,
             "#e6f5d0"
            ],
            [
             0.7,
             "#b8e186"
            ],
            [
             0.8,
             "#7fbc41"
            ],
            [
             0.9,
             "#4d9221"
            ],
            [
             1,
             "#276419"
            ]
           ],
           "sequential": [
            [
             0,
             "#0d0887"
            ],
            [
             0.1111111111111111,
             "#46039f"
            ],
            [
             0.2222222222222222,
             "#7201a8"
            ],
            [
             0.3333333333333333,
             "#9c179e"
            ],
            [
             0.4444444444444444,
             "#bd3786"
            ],
            [
             0.5555555555555556,
             "#d8576b"
            ],
            [
             0.6666666666666666,
             "#ed7953"
            ],
            [
             0.7777777777777778,
             "#fb9f3a"
            ],
            [
             0.8888888888888888,
             "#fdca26"
            ],
            [
             1,
             "#f0f921"
            ]
           ],
           "sequentialminus": [
            [
             0,
             "#0d0887"
            ],
            [
             0.1111111111111111,
             "#46039f"
            ],
            [
             0.2222222222222222,
             "#7201a8"
            ],
            [
             0.3333333333333333,
             "#9c179e"
            ],
            [
             0.4444444444444444,
             "#bd3786"
            ],
            [
             0.5555555555555556,
             "#d8576b"
            ],
            [
             0.6666666666666666,
             "#ed7953"
            ],
            [
             0.7777777777777778,
             "#fb9f3a"
            ],
            [
             0.8888888888888888,
             "#fdca26"
            ],
            [
             1,
             "#f0f921"
            ]
           ]
          },
          "colorway": [
           "#636efa",
           "#EF553B",
           "#00cc96",
           "#ab63fa",
           "#FFA15A",
           "#19d3f3",
           "#FF6692",
           "#B6E880",
           "#FF97FF",
           "#FECB52"
          ],
          "font": {
           "color": "#2a3f5f"
          },
          "geo": {
           "bgcolor": "white",
           "lakecolor": "white",
           "landcolor": "#E5ECF6",
           "showlakes": true,
           "showland": true,
           "subunitcolor": "white"
          },
          "hoverlabel": {
           "align": "left"
          },
          "hovermode": "closest",
          "mapbox": {
           "style": "light"
          },
          "paper_bgcolor": "white",
          "plot_bgcolor": "#E5ECF6",
          "polar": {
           "angularaxis": {
            "gridcolor": "white",
            "linecolor": "white",
            "ticks": ""
           },
           "bgcolor": "#E5ECF6",
           "radialaxis": {
            "gridcolor": "white",
            "linecolor": "white",
            "ticks": ""
           }
          },
          "scene": {
           "xaxis": {
            "backgroundcolor": "#E5ECF6",
            "gridcolor": "white",
            "gridwidth": 2,
            "linecolor": "white",
            "showbackground": true,
            "ticks": "",
            "zerolinecolor": "white"
           },
           "yaxis": {
            "backgroundcolor": "#E5ECF6",
            "gridcolor": "white",
            "gridwidth": 2,
            "linecolor": "white",
            "showbackground": true,
            "ticks": "",
            "zerolinecolor": "white"
           },
           "zaxis": {
            "backgroundcolor": "#E5ECF6",
            "gridcolor": "white",
            "gridwidth": 2,
            "linecolor": "white",
            "showbackground": true,
            "ticks": "",
            "zerolinecolor": "white"
           }
          },
          "shapedefaults": {
           "line": {
            "color": "#2a3f5f"
           }
          },
          "ternary": {
           "aaxis": {
            "gridcolor": "white",
            "linecolor": "white",
            "ticks": ""
           },
           "baxis": {
            "gridcolor": "white",
            "linecolor": "white",
            "ticks": ""
           },
           "bgcolor": "#E5ECF6",
           "caxis": {
            "gridcolor": "white",
            "linecolor": "white",
            "ticks": ""
           }
          },
          "title": {
           "x": 0.05
          },
          "xaxis": {
           "automargin": true,
           "gridcolor": "white",
           "linecolor": "white",
           "ticks": "",
           "title": {
            "standoff": 15
           },
           "zerolinecolor": "white",
           "zerolinewidth": 2
          },
          "yaxis": {
           "automargin": true,
           "gridcolor": "white",
           "linecolor": "white",
           "ticks": "",
           "title": {
            "standoff": 15
           },
           "zerolinecolor": "white",
           "zerolinewidth": 2
          }
         }
        },
        "width": 500,
        "xaxis": {
         "autorange": false,
         "exponentformat": "e",
         "linecolor": "black",
         "linewidth": 1,
         "mirror": false,
         "range": [
          -0.47791213989257814,
          24.373519134521484
         ],
         "showexponent": "all",
         "showline": true,
         "side": "bottom",
         "ticks": "outside",
         "title": {
          "text": "Birth"
         },
         "type": "linear",
         "zeroline": true
        },
        "yaxis": {
         "autorange": false,
         "exponentformat": "e",
         "linecolor": "black",
         "linewidth": 1,
         "mirror": false,
         "range": [
          -0.47791213989257814,
          24.373519134521484
         ],
         "scaleanchor": "x",
         "scaleratio": 1,
         "showexponent": "all",
         "showline": true,
         "side": "left",
         "ticks": "outside",
         "title": {
          "text": "Death"
         },
         "type": "linear",
         "zeroline": true
        }
       }
      }
     },
     "metadata": {},
     "output_type": "display_data"
    },
    {
     "data": {
      "text/plain": [
       "array([[[ 0.        ,  3.1622777 ,  0.        ],\n",
       "        [ 0.        ,  3.7416575 ,  0.        ],\n",
       "        [ 0.        ,  4.12310553,  0.        ],\n",
       "        [ 0.        ,  4.12310553,  0.        ],\n",
       "        [ 0.        ,  4.2426405 ,  0.        ],\n",
       "        [ 0.        ,  4.35889912,  0.        ],\n",
       "        [ 0.        ,  4.5825758 ,  0.        ],\n",
       "        [ 0.        ,  4.5825758 ,  0.        ],\n",
       "        [ 0.        ,  5.        ,  0.        ],\n",
       "        [ 0.        ,  5.09901953,  0.        ],\n",
       "        [ 0.        ,  5.19615221,  0.        ],\n",
       "        [ 0.        ,  5.83095169,  0.        ],\n",
       "        [ 0.        ,  5.83095169,  0.        ],\n",
       "        [ 0.        ,  5.83095169,  0.        ],\n",
       "        [ 0.        ,  6.3245554 ,  0.        ],\n",
       "        [ 0.        ,  6.40312433,  0.        ],\n",
       "        [ 0.        ,  6.40312433,  0.        ],\n",
       "        [ 0.        ,  6.40312433,  0.        ],\n",
       "        [ 0.        ,  6.48074055,  0.        ],\n",
       "        [ 0.        ,  6.70820379,  0.        ],\n",
       "        [ 0.        ,  6.70820379,  0.        ],\n",
       "        [ 0.        ,  7.07106781,  0.        ],\n",
       "        [ 0.        ,  7.07106781,  0.        ],\n",
       "        [ 0.        ,  7.07106781,  0.        ],\n",
       "        [ 0.        ,  7.34846926,  0.        ],\n",
       "        [ 0.        ,  7.34846926,  0.        ],\n",
       "        [ 0.        ,  7.34846926,  0.        ],\n",
       "        [ 0.        ,  7.34846926,  0.        ],\n",
       "        [ 0.        ,  7.34846926,  0.        ],\n",
       "        [ 0.        ,  7.54983425,  0.        ],\n",
       "        [ 0.        ,  7.54983425,  0.        ],\n",
       "        [ 0.        ,  7.6157732 ,  0.        ],\n",
       "        [ 0.        ,  7.81024981,  0.        ],\n",
       "        [ 0.        ,  7.8740077 ,  0.        ],\n",
       "        [ 0.        ,  7.8740077 ,  0.        ],\n",
       "        [ 0.        ,  8.06225777,  0.        ],\n",
       "        [ 0.        ,  8.06225777,  0.        ],\n",
       "        [ 0.        ,  8.30662346,  0.        ],\n",
       "        [ 0.        ,  8.71779823,  0.        ],\n",
       "        [ 0.        ,  8.77496433,  0.        ],\n",
       "        [ 0.        ,  8.77496433,  0.        ],\n",
       "        [ 0.        ,  8.77496433,  0.        ],\n",
       "        [ 0.        ,  9.        ,  0.        ],\n",
       "        [ 0.        ,  9.43398094,  0.        ],\n",
       "        [ 0.        ,  9.48683262,  0.        ],\n",
       "        [ 0.        ,  9.53939247,  0.        ],\n",
       "        [ 0.        ,  9.64365101,  0.        ],\n",
       "        [ 0.        ,  9.69536018,  0.        ],\n",
       "        [ 0.        ,  9.84885788,  0.        ],\n",
       "        [ 0.        ,  9.89949512,  0.        ],\n",
       "        [ 0.        ,  9.89949512,  0.        ],\n",
       "        [ 0.        , 10.04987526,  0.        ],\n",
       "        [ 0.        , 10.04987526,  0.        ],\n",
       "        [ 0.        , 10.29563046,  0.        ],\n",
       "        [ 0.        , 10.63014603,  0.        ],\n",
       "        [ 0.        , 10.67707825,  0.        ],\n",
       "        [ 0.        , 10.95445156,  0.        ],\n",
       "        [ 0.        , 11.04536057,  0.        ],\n",
       "        [ 0.        , 11.3578167 ,  0.        ],\n",
       "        [ 0.        , 11.78982639,  0.        ],\n",
       "        [ 0.        , 11.83216   ,  0.        ],\n",
       "        [ 0.        , 11.83216   ,  0.        ],\n",
       "        [ 0.        , 12.20655537,  0.        ],\n",
       "        [ 0.        , 13.19090557,  0.        ],\n",
       "        [ 0.        , 13.19090557,  0.        ],\n",
       "        [ 0.        , 13.26649952,  0.        ],\n",
       "        [ 0.        , 13.30413437,  0.        ],\n",
       "        [ 0.        , 13.74772739,  0.        ],\n",
       "        [ 0.        , 14.03566837,  0.        ],\n",
       "        [ 0.        , 15.1657505 ,  0.        ],\n",
       "        [ 0.        , 16.64331627,  0.        ],\n",
       "        [ 0.        , 17.57839584,  0.        ],\n",
       "        [ 0.        , 18.22086716,  0.        ],\n",
       "        [ 0.        , 23.76972771,  0.        ],\n",
       "        [20.1246109 , 23.89560699,  1.        ],\n",
       "        [18.86796188, 20.14944077,  1.        ],\n",
       "        [18.814888  , 20.09975052,  1.        ],\n",
       "        [18.05546951, 19.8494339 ,  1.        ],\n",
       "        [17.11724281, 18.97366524,  1.        ],\n",
       "        [16.24807739, 18.05546951,  1.        ],\n",
       "        [15.52417469, 17.97220039,  1.        ],\n",
       "        [12.80624866, 12.88409901,  1.        ],\n",
       "        [12.72792244, 13.56466007,  1.        ],\n",
       "        [12.68857765, 12.72792244,  1.        ],\n",
       "        [12.20655537, 17.14642906,  1.        ],\n",
       "        [12.08304596, 18.60107613,  1.        ],\n",
       "        [12.08304596, 15.65247631,  1.        ],\n",
       "        [11.7473402 , 13.60147095,  1.        ],\n",
       "        [10.86278057, 12.08304596,  1.        ],\n",
       "        [10.67707825, 11.22497177,  1.        ],\n",
       "        [10.67707825, 10.81665421,  1.        ],\n",
       "        [10.19803905, 13.        ,  1.        ],\n",
       "        [10.04987526, 10.2469511 ,  1.        ],\n",
       "        [ 9.89949512, 12.24744892,  1.        ],\n",
       "        [ 7.68114567, 10.09950447,  1.        ],\n",
       "        [17.14642906, 17.66352081,  2.        ]]])"
      ]
     },
     "execution_count": 51,
     "metadata": {},
     "output_type": "execute_result"
    }
   ],
   "source": [
    "from gtda.homology import VietorisRipsPersistence\n",
    "\n",
    "y_periodic_embedded = y_periodic_embedded[None, :, :]\n",
    "# 0 - connected components, 1 - loops, 2 - voids\n",
    "homology_dimensions = [0, 1, 2]\n",
    "\n",
    "contaminantes_persistence = VietorisRipsPersistence(\n",
    "    homology_dimensions=homology_dimensions, n_jobs=1\n",
    ")\n",
    "print(\"Persistence diagram for periodic signal\")\n",
    "contaminantes_persistence.fit_transform_plot(y_periodic_embedded)"
   ]
  },
  {
   "attachments": {},
   "cell_type": "markdown",
   "metadata": {},
   "source": [
    "Con base con los gráficos de persistencia observados, en el caso de $Ln PM10$, observamos persistencia únicamente en la componente conexa, sin embargo, no observamos persistencia en los huecos para poder concluir que existe periodicidad. En el caso de $O_3$, observamos una componente conexa persistente, pero no podemos concluir que haya periodicidad, ya que, de haber huecos, habrían al menos dos de ellos, lo que nos lleva a pensar que debe de haber al menos dos períodos. "
   ]
  }
 ],
 "metadata": {
  "kernelspec": {
   "display_name": "Python 3",
   "language": "python",
   "name": "python3"
  },
  "language_info": {
   "codemirror_mode": {
    "name": "ipython",
    "version": 3
   },
   "file_extension": ".py",
   "mimetype": "text/x-python",
   "name": "python",
   "nbconvert_exporter": "python",
   "pygments_lexer": "ipython3",
   "version": "3.10.9"
  },
  "orig_nbformat": 4
 },
 "nbformat": 4,
 "nbformat_minor": 2
}
