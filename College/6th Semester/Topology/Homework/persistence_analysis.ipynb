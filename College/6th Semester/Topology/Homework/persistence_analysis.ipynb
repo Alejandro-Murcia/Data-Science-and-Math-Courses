{
 "cells": [
  {
   "attachments": {},
   "cell_type": "markdown",
   "metadata": {},
   "source": [
    "# Diagramas de Persistencia\n",
    "\n",
    "Los diagramas de persistencia nos indican las propiedades topológicas (de nuestra base de datos) que persisten cuando hacemos variar el parámetro de filtración. En este caso, el parámetro de filtración es el radio de las bolas abiertas en nuestra cubierta (directamente relacionada con el complejo de Rips).\n",
    "\n",
    "Decimos que una propiedad topológica nace cuando aparece por primera vez en el diagrama de persistencia y muere cuando desaparece. La duración de una propiedad topológica es el tiempo que vive en el diagrama de persistencia.\n",
    "\n",
    "Mientras más alejada sea la muerte (o no exista muerte) de la nacimiento, la propiedad topológica es intrinseca a la base de datos.\n",
    "\n",
    "Es importante mencionar que una propiedad topológica puede nacer y morir en el mismo instante de filtración, lo que significa que la propiedad topológica no es intrínseca a la base de datos. Pero una propiedad topológica no puede morir antes de nacer, por lo que parte inferior del rectangulo de la persistencia siempre es cero o no se toma en cuenta.\n",
    "\n",
    "Veamos esto con algunos ejemplos:\n",
    "\n",
    "Componentes conexas: https://gjkoplik.github.io/pers-hom-examples/0d_pers_2d_data_widget.html\n",
    "\n",
    "Hoyo de dimensión 1: https://gjkoplik.github.io/pers-hom-examples/1d_pers_2d_data_widget.html "
   ]
  },
  {
   "attachments": {},
   "cell_type": "markdown",
   "metadata": {},
   "source": [
    "# Intuición con Componentes Conexas\n",
    "\n",
    "El número de componentes conexas persistentes indicará el número de grupos de datos que son intrínsecos a la base de datos. En el ejemplo siguiente, veremos que hay 3 componentes conexas persistentes, lo que significa que hay 3 grupos de datos que son intrínsecos a la base de datos."
   ]
  },
  {
   "cell_type": "code",
   "execution_count": 3,
   "metadata": {},
   "outputs": [],
   "source": [
    "import numpy as np\n",
    "import scipy as sp\n",
    "import pandas as pd\n",
    "import matplotlib.pyplot as plt\n",
    "import tadasets\n",
    "import ripser\n",
    "import persim\n",
    "import gudhi as gd\n",
    "import plotly.graph_objects as go"
   ]
  },
  {
   "cell_type": "code",
   "execution_count": 4,
   "metadata": {},
   "outputs": [
    {
     "data": {
      "text/plain": [
       "<function matplotlib.pyplot.show(close=None, block=None)>"
      ]
     },
     "execution_count": 4,
     "metadata": {},
     "output_type": "execute_result"
    },
    {
     "data": {
      "image/png": "[encoded data removed]",
      "text/plain": [
       "<Figure size 640x480 with 1 Axes>"
      ]
     },
     "metadata": {},
     "output_type": "display_data"
    }
   ],
   "source": [
    "#Primero demos un conjunto de puntos simulados en 3 grupos\n",
    "X1 = np.random.multivariate_normal([0,0],np.array([[1,0],[0,1]]),size = 10)\n",
    "X2 = np.random.multivariate_normal([7,0],np.array([[1,0],[0,0.2]]),size = 8)\n",
    "X3 = np.random.multivariate_normal([0,11],np.array([[1,0],[0,1]]),size = 12)\n",
    "X = np.concatenate((X1,X2,X3))\n",
    "\n",
    "plt.plot(X[:,0],X[:,1],'r+')\n",
    "plt.axis('equal')\n",
    "plt.show"
   ]
  },
  {
   "attachments": {},
   "cell_type": "markdown",
   "metadata": {},
   "source": [
    "### ¿Qué podemos decir de esta base de datos a primera vista?\n",
    "\n",
    "1. ¿Cuántos grupos de datos (componentes conexas) intuyes que hay?\n",
    "2. ¿Cuénta con huecos? ¿De qué dimensión?\n",
    "3. Si existen huecos, ¿podemos decir si estos datos son recurrentes?\n",
    "\n"
   ]
  },
  {
   "cell_type": "code",
   "execution_count": 5,
   "metadata": {},
   "outputs": [],
   "source": [
    "# Vamos a aumentar la dimensión de este array para utilizar la función rips_graph.\n",
    "Xaug=np.array([[X[i,0],X[i,1],0] for i in range(len(X))])"
   ]
  },
  {
   "cell_type": "code",
   "execution_count": 6,
   "metadata": {},
   "outputs": [],
   "source": [
    "\n",
    "def rips_graph(points,mel):\n",
    "    \"\"\"\n",
    "    Generate the Vietoris-Rips complex on the given set of points in 3D.\n",
    "    Only simplexes up to dimension 2 (2-skeleton) are computed.\n",
    "    The mel parameter denotes the distance cut-off value.\n",
    "    \"\"\"\n",
    "    rc = gd.RipsComplex(points=points,max_edge_length=mel)\n",
    "    st = rc.create_simplex_tree(max_dimension=3)\n",
    "    triangles = np.array([s[0] for s in st.get_skeleton(2) if len(s[0])==3])\n",
    "    edges = []\n",
    "    for s in st.get_skeleton(1):\n",
    "        e = s[0]\n",
    "        if len(e) == 2:\n",
    "            edges.append(points[[e[0],e[1]]])\n",
    "            \n",
    "    f2 = go.Mesh3d(\n",
    "        x=points[:,0],\n",
    "        y=points[:,1],\n",
    "        z=points[:,2],\n",
    "        i = triangles[:,0],\n",
    "        j = triangles[:,1],\n",
    "        k = triangles[:,2],\n",
    "    )\n",
    "    f0 = go.Scatter3d(x=points[:,0], y=points[:,1],z=points[:,2], mode=\"markers\")\n",
    "    data = [f2, f0]\n",
    "# Plot edges\n",
    "    for pts in edges:\n",
    "        seg = go.Scatter3d(x=pts[:,0],y=pts[:,1],z=pts[:,2],mode=\"lines\",line=dict(color='green'))\n",
    "        data.append(seg)\n",
    "    fig = go.Figure(data=data,layout=dict(showlegend=False))\n",
    "    fig.show()"
   ]
  },
  {
   "attachments": {},
   "cell_type": "markdown",
   "metadata": {},
   "source": [
    "### Ejemplo:\n",
    "\n",
    "Realiza el plot del complejo de Rips del conjunto de datos $X,$ utilizando diferentes radios: \n",
    "1. $r=1.$\n",
    "2. $r=2.$\n",
    "3. $r=10.$\n",
    "\n",
    "Dependiendo de los radios, ¿qué observas? ¿Qué puedes decir de la base de datos (propiedades topológicas)?\n",
    "\n",
    "(Responde aquí)"
   ]
  },
  {
   "cell_type": "code",
   "execution_count": 7,
   "metadata": {},
   "outputs": [
    {
     "data": {
      "application/vnd.plotly.v1+json": {
       "config": {
        "plotlyServerURL": "https://plot.ly"
       },
       "data": [
        {
         "i": [
          0,
          0,
          0,
          0,
          0,
          0,
          0,
          0,
          0,
          0,
          0,
          0,
          0,
          0,
          0,
          0,
          0,
          0,
          0,
          0,
          0,
          0,
          0,
          0,
          0,
          0,
          0,
          0,
          0,
          0,
          0,
          0,
          0,
          0,
          0,
          0,
          0,
          0,
          0,
          0,
          0,
          0,
          0,
          0,
          0,
          0,
          0,
          0,
          0,
          0,
          0,
          0,
          0,
          0,
          0,
          0,
          0,
          0,
          0,
          0,
          0,
          0,
          0,
          0,
          0,
          0,
          0,
          0,
          0,
          0,
          0,
          0,
          0,
          0,
          0,
          0,
          0,
          0,
          0,
          0,
          0,
          0,
          0,
          0,
          0,
          0,
          0,
          0,
          0,
          0,
          0,
          0,
          0,
          0,
          0,
          0,
          0,
          0,
          0,
          0,
          0,
          0,
          0,
          0,
          0,
          0,
          0,
          0,
          0,
          0,
          0,
          0,
          0,
          0,
          0,
          0,
          0,
          0,
          0,
          0,
          0,
          0,
          0,
          0,
          0,
          0,
          0,
          0,
          0,
          0,
          0,
          0,
          1,
          1,
          1,
          1,
          1,
          1,
          1,
          1,
          1,
          1,
          1,
          1,
          1,
          1,
          1,
          1,
          1,
          1,
          1,
          1,
          1,
          1,
          1,
          1,
          1,
          1,
          1,
          1,
          1,
          1,
          1,
          1,
          1,
          1,
          1,
          1,
          1,
          1,
          1,
          1,
          1,
          1,
          1,
          1,
          1,
          1,
          1,
          1,
          1,
          1,
          1,
          1,
          1,
          1,
          1,
          1,
          1,
          1,
          1,
          1,
          1,
          1,
          1,
          1,
          1,
          1,
          1,
          1,
          1,
          1,
          1,
          1,
          1,
          1,
          1,
          1,
          1,
          1,
          1,
          1,
          1,
          1,
          1,
          1,
          1,
          1,
          1,
          1,
          1,
          1,
          1,
          1,
          1,
          1,
          1,
          1,
          1,
          1,
          1,
          1,
          1,
          1,
          1,
          1,
          1,
          1,
          1,
          1,
          1,
          1,
          1,
          1,
          1,
          1,
          2,
          2,
          2,
          2,
          2,
          2,
          2,
          2,
          2,
          2,
          2,
          2,
          2,
          2,
          2,
          2,
          2,
          2,
          2,
          2,
          2,
          2,
          2,
          2,
          2,
          2,
          2,
          2,
          2,
          2,
          2,
          2,
          2,
          2,
          2,
          2,
          2,
          2,
          2,
          2,
          2,
          2,
          2,
          2,
          2,
          2,
          2,
          2,
          2,
          2,
          2,
          2,
          2,
          2,
          2,
          2,
          2,
          2,
          2,
          2,
          2,
          2,
          2,
          2,
          2,
          2,
          2,
          2,
          2,
          2,
          2,
          2,
          2,
          2,
          2,
          2,
          2,
          2,
          2,
          2,
          2,
          2,
          2,
          2,
          2,
          2,
          2,
          2,
          2,
          2,
          2,
          2,
          2,
          2,
          2,
          2,
          2,
          2,
          2,
          2,
          2,
          2,
          2,
          2,
          2,
          2,
          2,
          2,
          2,
          2,
          2,
          2,
          2,
          2,
          2,
          2,
          2,
          2,
          2,
          2,
          2,
          2,
          2,
          2,
          2,
          2,
          2,
          2,
          2,
          2,
          2,
          2,
          2,
          2,
          2,
          2,
          2,
          2,
          3,
          3,
          3,
          3,
          3,
          3,
          3,
          3,
          3,
          3,
          3,
          3,
          3,
          3,
          3,
          3,
          3,
          3,
          3,
          3,
          3,
          3,
          3,
          3,
          3,
          3,
          3,
          3,
          3,
          3,
          3,
          3,
          3,
          3,
          3,
          3,
          3,
          3,
          3,
          3,
          3,
          3,
          3,
          3,
          3,
          3,
          3,
          3,
          3,
          3,
          3,
          3,
          3,
          3,
          3,
          3,
          3,
          3,
          3,
          3,
          3,
          3,
          3,
          3,
          3,
          3,
          3,
          3,
          3,
          3,
          3,
          3,
          3,
          3,
          3,
          3,
          3,
          3,
          3,
          3,
          3,
          3,
          3,
          3,
          3,
          3,
          3,
          3,
          3,
          3,
          3,
          3,
          3,
          3,
          3,
          3,
          3,
          3,
          4,
          4,
          4,
          4,
          4,
          4,
          4,
          4,
          4,
          4,
          4,
          4,
          4,
          4,
          4,
          4,
          4,
          4,
          4,
          4,
          4,
          4,
          4,
          4,
          4,
          4,
          4,
          4,
          4,
          4,
          4,
          4,
          4,
          4,
          4,
          4,
          4,
          4,
          4,
          4,
          4,
          4,
          4,
          4,
          4,
          4,
          4,
          4,
          4,
          4,
          4,
          4,
          4,
          4,
          4,
          4,
          4,
          4,
          4,
          4,
          4,
          4,
          4,
          4,
          4,
          4,
          4,
          4,
          4,
          4,
          4,
          4,
          4,
          5,
          5,
          5,
          5,
          5,
          5,
          5,
          5,
          5,
          5,
          5,
          5,
          5,
          5,
          5,
          5,
          5,
          5,
          5,
          5,
          5,
          5,
          5,
          5,
          5,
          5,
          5,
          5,
          5,
          5,
          5,
          5,
          5,
          5,
          5,
          5,
          5,
          5,
          5,
          5,
          5,
          5,
          5,
          5,
          5,
          5,
          5,
          5,
          5,
          5,
          5,
          5,
          5,
          5,
          5,
          5,
          5,
          5,
          5,
          5,
          5,
          6,
          6,
          6,
          6,
          6,
          6,
          6,
          6,
          6,
          6,
          6,
          6,
          6,
          6,
          6,
          6,
          6,
          6,
          6,
          6,
          6,
          6,
          6,
          6,
          6,
          6,
          6,
          6,
          6,
          6,
          6,
          6,
          6,
          6,
          6,
          6,
          6,
          6,
          6,
          6,
          6,
          7,
          7,
          7,
          7,
          7,
          7,
          7,
          7,
          7,
          7,
          7,
          7,
          7,
          7,
          7,
          7,
          7,
          7,
          7,
          7,
          7,
          7,
          7,
          7,
          7,
          7,
          7,
          7,
          7,
          7,
          7,
          7,
          7,
          7,
          7,
          7,
          7,
          7,
          7,
          7,
          7,
          7,
          7,
          7,
          7,
          7,
          7,
          7,
          8,
          8,
          8,
          8,
          8,
          8,
          8,
          8,
          8,
          8,
          8,
          8,
          8,
          8,
          8,
          8,
          8,
          8,
          8,
          8,
          8,
          8,
          8,
          8,
          8,
          8,
          8,
          8,
          9,
          9,
          9,
          9,
          9,
          9,
          9,
          9,
          9,
          9,
          9,
          9,
          9,
          9,
          9,
          9,
          9,
          9,
          9,
          9,
          9,
          10,
          10,
          10,
          10,
          10,
          10,
          10,
          10,
          10,
          10,
          10,
          10,
          10,
          10,
          10,
          10,
          10,
          10,
          10,
          10,
          10,
          11,
          11,
          11,
          11,
          11,
          11,
          11,
          11,
          11,
          11,
          11,
          11,
          11,
          11,
          11,
          12,
          12,
          12,
          12,
          12,
          12,
          12,
          12,
          12,
          12,
          13,
          13,
          13,
          13,
          13,
          13,
          14,
          14,
          14,
          15,
          18,
          18,
          18,
          18,
          18,
          18,
          18,
          18,
          18,
          18,
          18,
          18,
          18,
          18,
          18,
          18,
          18,
          18,
          18,
          18,
          18,
          18,
          18,
          18,
          18,
          18,
          18,
          18,
          18,
          18,
          18,
          18,
          18,
          18,
          18,
          18,
          18,
          18,
          18,
          18,
          18,
          18,
          18,
          18,
          18,
          18,
          18,
          18,
          18,
          18,
          18,
          18,
          18,
          18,
          18,
          19,
          19,
          19,
          19,
          19,
          19,
          19,
          19,
          19,
          19,
          19,
          19,
          19,
          19,
          19,
          19,
          19,
          19,
          19,
          19,
          19,
          19,
          19,
          19,
          19,
          19,
          19,
          19,
          19,
          19,
          19,
          19,
          19,
          19,
          19,
          19,
          19,
          19,
          19,
          19,
          19,
          19,
          19,
          19,
          19,
          20,
          20,
          20,
          20,
          20,
          20,
          20,
          20,
          20,
          20,
          20,
          20,
          20,
          20,
          20,
          20,
          20,
          20,
          20,
          20,
          20,
          20,
          20,
          20,
          20,
          20,
          20,
          20,
          20,
          20,
          20,
          20,
          20,
          20,
          20,
          20,
          21,
          21,
          21,
          21,
          21,
          21,
          21,
          21,
          21,
          21,
          21,
          21,
          21,
          21,
          21,
          21,
          21,
          21,
          21,
          21,
          21,
          21,
          21,
          21,
          21,
          21,
          21,
          21,
          22,
          22,
          22,
          22,
          22,
          22,
          22,
          22,
          22,
          22,
          22,
          22,
          22,
          22,
          22,
          22,
          22,
          22,
          22,
          22,
          22,
          23,
          23,
          23,
          23,
          23,
          23,
          23,
          23,
          23,
          23,
          23,
          23,
          23,
          23,
          23,
          24,
          24,
          24,
          24,
          24,
          24,
          24,
          24,
          24,
          24,
          25,
          25,
          25,
          25,
          25,
          25,
          26,
          26,
          26,
          27
         ],
         "j": [
          1,
          1,
          1,
          1,
          1,
          1,
          1,
          1,
          1,
          1,
          1,
          1,
          1,
          1,
          1,
          2,
          2,
          2,
          2,
          2,
          2,
          2,
          2,
          2,
          2,
          2,
          2,
          2,
          2,
          2,
          2,
          3,
          3,
          3,
          3,
          3,
          3,
          3,
          3,
          3,
          3,
          3,
          3,
          3,
          3,
          3,
          4,
          4,
          4,
          4,
          4,
          4,
          4,
          4,
          4,
          4,
          4,
          4,
          5,
          5,
          5,
          5,
          5,
          5,
          5,
          5,
          5,
          5,
          5,
          5,
          5,
          6,
          6,
          6,
          6,
          6,
          6,
          6,
          6,
          6,
          6,
          6,
          7,
          7,
          7,
          7,
          7,
          7,
          7,
          7,
          7,
          7,
          7,
          8,
          8,
          8,
          8,
          8,
          8,
          8,
          8,
          8,
          9,
          9,
          9,
          9,
          9,
          9,
          9,
          10,
          10,
          10,
          10,
          10,
          10,
          10,
          11,
          11,
          11,
          11,
          11,
          12,
          12,
          12,
          12,
          13,
          13,
          13,
          14,
          14,
          15,
          19,
          2,
          2,
          2,
          2,
          2,
          2,
          2,
          2,
          2,
          2,
          2,
          2,
          2,
          2,
          3,
          3,
          3,
          3,
          3,
          3,
          3,
          3,
          3,
          3,
          3,
          3,
          3,
          3,
          4,
          4,
          4,
          4,
          4,
          4,
          4,
          4,
          4,
          4,
          4,
          4,
          4,
          5,
          5,
          5,
          5,
          5,
          5,
          5,
          5,
          5,
          5,
          5,
          6,
          6,
          6,
          6,
          6,
          6,
          6,
          6,
          6,
          7,
          7,
          7,
          7,
          7,
          7,
          7,
          7,
          7,
          7,
          8,
          8,
          8,
          8,
          8,
          8,
          8,
          8,
          9,
          9,
          9,
          9,
          9,
          9,
          9,
          10,
          10,
          10,
          10,
          10,
          10,
          10,
          11,
          11,
          11,
          11,
          11,
          11,
          12,
          12,
          12,
          12,
          12,
          13,
          13,
          13,
          13,
          14,
          14,
          14,
          15,
          15,
          16,
          3,
          3,
          3,
          3,
          3,
          3,
          3,
          3,
          3,
          3,
          3,
          3,
          3,
          3,
          3,
          3,
          4,
          4,
          4,
          4,
          4,
          4,
          4,
          4,
          4,
          4,
          4,
          4,
          5,
          5,
          5,
          5,
          5,
          5,
          5,
          5,
          5,
          5,
          5,
          5,
          5,
          6,
          6,
          6,
          6,
          6,
          6,
          6,
          6,
          6,
          6,
          6,
          7,
          7,
          7,
          7,
          7,
          7,
          7,
          7,
          7,
          7,
          7,
          7,
          8,
          8,
          8,
          8,
          8,
          8,
          8,
          8,
          8,
          9,
          9,
          9,
          9,
          9,
          9,
          9,
          10,
          10,
          10,
          10,
          10,
          10,
          10,
          11,
          11,
          11,
          11,
          11,
          12,
          12,
          12,
          12,
          13,
          13,
          13,
          14,
          14,
          15,
          18,
          18,
          18,
          18,
          18,
          18,
          18,
          18,
          19,
          19,
          19,
          19,
          19,
          19,
          19,
          21,
          21,
          21,
          21,
          21,
          21,
          22,
          22,
          22,
          22,
          22,
          25,
          25,
          25,
          25,
          26,
          26,
          26,
          27,
          27,
          28,
          4,
          4,
          4,
          4,
          4,
          4,
          4,
          4,
          4,
          4,
          4,
          4,
          4,
          5,
          5,
          5,
          5,
          5,
          5,
          5,
          5,
          5,
          5,
          5,
          5,
          5,
          6,
          6,
          6,
          6,
          6,
          6,
          6,
          6,
          6,
          6,
          6,
          7,
          7,
          7,
          7,
          7,
          7,
          7,
          7,
          7,
          7,
          7,
          7,
          7,
          8,
          8,
          8,
          8,
          8,
          8,
          8,
          8,
          8,
          9,
          9,
          9,
          9,
          9,
          9,
          9,
          10,
          10,
          10,
          10,
          10,
          10,
          10,
          10,
          11,
          11,
          11,
          11,
          11,
          11,
          12,
          12,
          12,
          12,
          12,
          13,
          13,
          13,
          13,
          14,
          14,
          14,
          15,
          15,
          16,
          19,
          19,
          26,
          5,
          5,
          5,
          5,
          5,
          5,
          5,
          5,
          5,
          5,
          5,
          6,
          6,
          6,
          6,
          6,
          6,
          6,
          6,
          6,
          7,
          7,
          7,
          7,
          7,
          7,
          7,
          7,
          7,
          7,
          8,
          8,
          8,
          8,
          8,
          8,
          8,
          8,
          9,
          9,
          9,
          9,
          9,
          9,
          9,
          10,
          10,
          10,
          10,
          10,
          10,
          10,
          11,
          11,
          11,
          11,
          11,
          11,
          12,
          12,
          12,
          12,
          12,
          13,
          13,
          13,
          13,
          14,
          14,
          14,
          15,
          15,
          16,
          6,
          6,
          6,
          6,
          6,
          6,
          6,
          6,
          6,
          6,
          6,
          7,
          7,
          7,
          7,
          7,
          7,
          7,
          7,
          7,
          7,
          7,
          8,
          8,
          8,
          8,
          8,
          8,
          8,
          8,
          8,
          9,
          9,
          9,
          9,
          9,
          9,
          9,
          10,
          10,
          10,
          10,
          10,
          10,
          10,
          11,
          11,
          11,
          11,
          11,
          12,
          12,
          12,
          12,
          13,
          13,
          13,
          14,
          14,
          15,
          19,
          7,
          7,
          7,
          7,
          7,
          7,
          7,
          7,
          7,
          7,
          8,
          8,
          8,
          8,
          8,
          8,
          8,
          8,
          9,
          9,
          9,
          9,
          9,
          9,
          10,
          10,
          10,
          10,
          10,
          10,
          11,
          11,
          11,
          11,
          12,
          12,
          12,
          13,
          13,
          14,
          19,
          8,
          8,
          8,
          8,
          8,
          8,
          8,
          8,
          8,
          9,
          9,
          9,
          9,
          9,
          9,
          9,
          10,
          10,
          10,
          10,
          10,
          10,
          10,
          10,
          11,
          11,
          11,
          11,
          11,
          11,
          12,
          12,
          12,
          12,
          12,
          13,
          13,
          13,
          13,
          14,
          14,
          14,
          15,
          15,
          16,
          19,
          19,
          26,
          9,
          9,
          9,
          9,
          9,
          9,
          9,
          10,
          10,
          10,
          10,
          10,
          10,
          11,
          11,
          11,
          11,
          11,
          12,
          12,
          12,
          12,
          13,
          13,
          13,
          14,
          14,
          15,
          10,
          10,
          10,
          10,
          10,
          10,
          11,
          11,
          11,
          11,
          11,
          12,
          12,
          12,
          12,
          13,
          13,
          13,
          14,
          14,
          15,
          11,
          11,
          11,
          11,
          11,
          11,
          12,
          12,
          12,
          12,
          12,
          13,
          13,
          13,
          13,
          14,
          14,
          14,
          15,
          15,
          16,
          12,
          12,
          12,
          12,
          12,
          13,
          13,
          13,
          13,
          14,
          14,
          14,
          15,
          15,
          16,
          13,
          13,
          13,
          13,
          14,
          14,
          14,
          15,
          15,
          16,
          14,
          14,
          14,
          15,
          15,
          16,
          15,
          15,
          16,
          16,
          19,
          19,
          19,
          19,
          19,
          19,
          19,
          19,
          19,
          19,
          20,
          20,
          20,
          20,
          20,
          20,
          20,
          20,
          20,
          21,
          21,
          21,
          21,
          21,
          21,
          21,
          21,
          22,
          22,
          22,
          22,
          22,
          22,
          22,
          23,
          23,
          23,
          23,
          23,
          23,
          24,
          24,
          24,
          24,
          24,
          25,
          25,
          25,
          25,
          26,
          26,
          26,
          27,
          27,
          28,
          20,
          20,
          20,
          20,
          20,
          20,
          20,
          20,
          20,
          21,
          21,
          21,
          21,
          21,
          21,
          21,
          21,
          22,
          22,
          22,
          22,
          22,
          22,
          22,
          23,
          23,
          23,
          23,
          23,
          23,
          24,
          24,
          24,
          24,
          24,
          25,
          25,
          25,
          25,
          26,
          26,
          26,
          27,
          27,
          28,
          21,
          21,
          21,
          21,
          21,
          21,
          21,
          21,
          22,
          22,
          22,
          22,
          22,
          22,
          22,
          23,
          23,
          23,
          23,
          23,
          23,
          24,
          24,
          24,
          24,
          24,
          25,
          25,
          25,
          25,
          26,
          26,
          26,
          27,
          27,
          28,
          22,
          22,
          22,
          22,
          22,
          22,
          22,
          23,
          23,
          23,
          23,
          23,
          23,
          24,
          24,
          24,
          24,
          24,
          25,
          25,
          25,
          25,
          26,
          26,
          26,
          27,
          27,
          28,
          23,
          23,
          23,
          23,
          23,
          23,
          24,
          24,
          24,
          24,
          24,
          25,
          25,
          25,
          25,
          26,
          26,
          26,
          27,
          27,
          28,
          24,
          24,
          24,
          24,
          24,
          25,
          25,
          25,
          25,
          26,
          26,
          26,
          27,
          27,
          28,
          25,
          25,
          25,
          25,
          26,
          26,
          26,
          27,
          27,
          28,
          26,
          26,
          26,
          27,
          27,
          28,
          27,
          27,
          28,
          28
         ],
         "k": [
          2,
          3,
          4,
          5,
          6,
          7,
          8,
          9,
          10,
          11,
          12,
          13,
          14,
          15,
          16,
          3,
          4,
          5,
          6,
          7,
          8,
          9,
          10,
          11,
          12,
          13,
          14,
          15,
          16,
          19,
          26,
          4,
          5,
          6,
          7,
          8,
          9,
          10,
          11,
          12,
          13,
          14,
          15,
          16,
          19,
          26,
          5,
          6,
          7,
          8,
          9,
          10,
          11,
          12,
          13,
          14,
          15,
          16,
          6,
          7,
          8,
          9,
          10,
          11,
          12,
          13,
          14,
          15,
          16,
          19,
          26,
          7,
          8,
          9,
          10,
          11,
          12,
          13,
          14,
          15,
          19,
          26,
          8,
          9,
          10,
          11,
          12,
          13,
          14,
          15,
          16,
          19,
          26,
          9,
          10,
          11,
          12,
          13,
          14,
          15,
          16,
          26,
          10,
          11,
          12,
          13,
          14,
          15,
          16,
          11,
          12,
          13,
          14,
          15,
          16,
          19,
          12,
          13,
          14,
          15,
          16,
          13,
          14,
          15,
          16,
          14,
          15,
          16,
          15,
          16,
          16,
          26,
          3,
          4,
          5,
          6,
          7,
          8,
          9,
          10,
          11,
          12,
          13,
          14,
          15,
          16,
          4,
          5,
          6,
          7,
          8,
          9,
          10,
          11,
          12,
          13,
          14,
          15,
          16,
          17,
          5,
          6,
          7,
          8,
          9,
          10,
          11,
          12,
          13,
          14,
          15,
          16,
          17,
          6,
          7,
          8,
          9,
          10,
          11,
          12,
          13,
          14,
          15,
          16,
          7,
          8,
          9,
          10,
          11,
          12,
          13,
          14,
          15,
          8,
          9,
          10,
          11,
          12,
          13,
          14,
          15,
          16,
          17,
          9,
          10,
          11,
          12,
          13,
          14,
          15,
          16,
          10,
          11,
          12,
          13,
          14,
          15,
          16,
          11,
          12,
          13,
          14,
          15,
          16,
          17,
          12,
          13,
          14,
          15,
          16,
          17,
          13,
          14,
          15,
          16,
          17,
          14,
          15,
          16,
          17,
          15,
          16,
          17,
          16,
          17,
          17,
          4,
          5,
          6,
          7,
          8,
          9,
          10,
          11,
          12,
          13,
          14,
          15,
          16,
          19,
          26,
          27,
          5,
          6,
          7,
          8,
          9,
          10,
          11,
          12,
          13,
          14,
          15,
          16,
          6,
          7,
          8,
          9,
          10,
          11,
          12,
          13,
          14,
          15,
          16,
          19,
          26,
          7,
          8,
          9,
          10,
          11,
          12,
          13,
          14,
          15,
          19,
          26,
          8,
          9,
          10,
          11,
          12,
          13,
          14,
          15,
          16,
          19,
          26,
          27,
          9,
          10,
          11,
          12,
          13,
          14,
          15,
          16,
          26,
          10,
          11,
          12,
          13,
          14,
          15,
          16,
          11,
          12,
          13,
          14,
          15,
          16,
          19,
          12,
          13,
          14,
          15,
          16,
          13,
          14,
          15,
          16,
          14,
          15,
          16,
          15,
          16,
          16,
          19,
          21,
          22,
          25,
          26,
          27,
          28,
          29,
          21,
          22,
          25,
          26,
          27,
          28,
          29,
          22,
          25,
          26,
          27,
          28,
          29,
          25,
          26,
          27,
          28,
          29,
          26,
          27,
          28,
          29,
          27,
          28,
          29,
          28,
          29,
          29,
          5,
          6,
          7,
          8,
          9,
          10,
          11,
          12,
          13,
          14,
          15,
          16,
          17,
          6,
          7,
          8,
          9,
          10,
          11,
          12,
          13,
          14,
          15,
          16,
          19,
          26,
          7,
          8,
          9,
          10,
          11,
          12,
          13,
          14,
          15,
          19,
          26,
          8,
          9,
          10,
          11,
          12,
          13,
          14,
          15,
          16,
          17,
          19,
          26,
          27,
          9,
          10,
          11,
          12,
          13,
          14,
          15,
          16,
          26,
          10,
          11,
          12,
          13,
          14,
          15,
          16,
          11,
          12,
          13,
          14,
          15,
          16,
          17,
          19,
          12,
          13,
          14,
          15,
          16,
          17,
          13,
          14,
          15,
          16,
          17,
          14,
          15,
          16,
          17,
          15,
          16,
          17,
          16,
          17,
          17,
          26,
          27,
          27,
          6,
          7,
          8,
          9,
          10,
          11,
          12,
          13,
          14,
          15,
          16,
          7,
          8,
          9,
          10,
          11,
          12,
          13,
          14,
          15,
          8,
          9,
          10,
          11,
          12,
          13,
          14,
          15,
          16,
          17,
          9,
          10,
          11,
          12,
          13,
          14,
          15,
          16,
          10,
          11,
          12,
          13,
          14,
          15,
          16,
          11,
          12,
          13,
          14,
          15,
          16,
          17,
          12,
          13,
          14,
          15,
          16,
          17,
          13,
          14,
          15,
          16,
          17,
          14,
          15,
          16,
          17,
          15,
          16,
          17,
          16,
          17,
          17,
          7,
          8,
          9,
          10,
          11,
          12,
          13,
          14,
          15,
          19,
          26,
          8,
          9,
          10,
          11,
          12,
          13,
          14,
          15,
          16,
          19,
          26,
          9,
          10,
          11,
          12,
          13,
          14,
          15,
          16,
          26,
          10,
          11,
          12,
          13,
          14,
          15,
          16,
          11,
          12,
          13,
          14,
          15,
          16,
          19,
          12,
          13,
          14,
          15,
          16,
          13,
          14,
          15,
          16,
          14,
          15,
          16,
          15,
          16,
          16,
          26,
          8,
          9,
          10,
          11,
          12,
          13,
          14,
          15,
          19,
          26,
          9,
          10,
          11,
          12,
          13,
          14,
          15,
          26,
          10,
          11,
          12,
          13,
          14,
          15,
          11,
          12,
          13,
          14,
          15,
          19,
          12,
          13,
          14,
          15,
          13,
          14,
          15,
          14,
          15,
          15,
          26,
          9,
          10,
          11,
          12,
          13,
          14,
          15,
          16,
          26,
          10,
          11,
          12,
          13,
          14,
          15,
          16,
          11,
          12,
          13,
          14,
          15,
          16,
          17,
          19,
          12,
          13,
          14,
          15,
          16,
          17,
          13,
          14,
          15,
          16,
          17,
          14,
          15,
          16,
          17,
          15,
          16,
          17,
          16,
          17,
          17,
          26,
          27,
          27,
          10,
          11,
          12,
          13,
          14,
          15,
          16,
          11,
          12,
          13,
          14,
          15,
          16,
          12,
          13,
          14,
          15,
          16,
          13,
          14,
          15,
          16,
          14,
          15,
          16,
          15,
          16,
          16,
          11,
          12,
          13,
          14,
          15,
          16,
          12,
          13,
          14,
          15,
          16,
          13,
          14,
          15,
          16,
          14,
          15,
          16,
          15,
          16,
          16,
          12,
          13,
          14,
          15,
          16,
          17,
          13,
          14,
          15,
          16,
          17,
          14,
          15,
          16,
          17,
          15,
          16,
          17,
          16,
          17,
          17,
          13,
          14,
          15,
          16,
          17,
          14,
          15,
          16,
          17,
          15,
          16,
          17,
          16,
          17,
          17,
          14,
          15,
          16,
          17,
          15,
          16,
          17,
          16,
          17,
          17,
          15,
          16,
          17,
          16,
          17,
          17,
          16,
          17,
          17,
          17,
          20,
          21,
          22,
          23,
          24,
          25,
          26,
          27,
          28,
          29,
          21,
          22,
          23,
          24,
          25,
          26,
          27,
          28,
          29,
          22,
          23,
          24,
          25,
          26,
          27,
          28,
          29,
          23,
          24,
          25,
          26,
          27,
          28,
          29,
          24,
          25,
          26,
          27,
          28,
          29,
          25,
          26,
          27,
          28,
          29,
          26,
          27,
          28,
          29,
          27,
          28,
          29,
          28,
          29,
          29,
          21,
          22,
          23,
          24,
          25,
          26,
          27,
          28,
          29,
          22,
          23,
          24,
          25,
          26,
          27,
          28,
          29,
          23,
          24,
          25,
          26,
          27,
          28,
          29,
          24,
          25,
          26,
          27,
          28,
          29,
          25,
          26,
          27,
          28,
          29,
          26,
          27,
          28,
          29,
          27,
          28,
          29,
          28,
          29,
          29,
          22,
          23,
          24,
          25,
          26,
          27,
          28,
          29,
          23,
          24,
          25,
          26,
          27,
          28,
          29,
          24,
          25,
          26,
          27,
          28,
          29,
          25,
          26,
          27,
          28,
          29,
          26,
          27,
          28,
          29,
          27,
          28,
          29,
          28,
          29,
          29,
          23,
          24,
          25,
          26,
          27,
          28,
          29,
          24,
          25,
          26,
          27,
          28,
          29,
          25,
          26,
          27,
          28,
          29,
          26,
          27,
          28,
          29,
          27,
          28,
          29,
          28,
          29,
          29,
          24,
          25,
          26,
          27,
          28,
          29,
          25,
          26,
          27,
          28,
          29,
          26,
          27,
          28,
          29,
          27,
          28,
          29,
          28,
          29,
          29,
          25,
          26,
          27,
          28,
          29,
          26,
          27,
          28,
          29,
          27,
          28,
          29,
          28,
          29,
          29,
          26,
          27,
          28,
          29,
          27,
          28,
          29,
          28,
          29,
          29,
          27,
          28,
          29,
          28,
          29,
          29,
          28,
          29,
          29,
          29
         ],
         "type": "mesh3d",
         "x": [
          0.13068851965889022,
          1.862843509810316,
          0.4738562284953017,
          1.1260739025064652,
          1.047307008754661,
          0.32474045288753517,
          -1.8788894031834233,
          1.2088727386543985,
          -0.07225389094594736,
          0.3143768945873862,
          4.928476868899158,
          7.237687625329603,
          7.639534779833281,
          6.483741576213776,
          7.181567627876272,
          5.902176599510376,
          8.1375476244561,
          10.417743877542495,
          -1.8051245386466122,
          0.9718176031721174,
          0.7551646185045764,
          0.9137160355241508,
          0.42881357831045697,
          1.2243598269105955,
          -0.8270077775253487,
          -1.9406578018732303,
          -0.6304188915916519,
          0.9372244248130781,
          0.8382407703465508,
          0.021868355117492622
         ],
         "y": [
          0.04718863734787166,
          -2.5338352713592958,
          1.289177505349141,
          0.15780426248223414,
          -0.6970369843219938,
          -0.04715779146658367,
          0.25030255194346585,
          0.435940747192312,
          -0.42904939033164113,
          -1.2672009447489614,
          0.5936212722346941,
          0.4174139479906354,
          -0.39073513223499223,
          -0.03409454435614029,
          0.49588874826994533,
          -0.06487545143619397,
          -0.3392283223497585,
          0.05187613956576393,
          10.852851702276405,
          9.549934221592075,
          11.565969029823933,
          10.847146275632058,
          10.742343458923937,
          11.751959901181635,
          11.435895024830128,
          10.906620976070723,
          9.529812869374924,
          10.042166847529726,
          11.276004808458495,
          11.23885671124404
         ],
         "z": [
          0,
          0,
          0,
          0,
          0,
          0,
          0,
          0,
          0,
          0,
          0,
          0,
          0,
          0,
          0,
          0,
          0,
          0,
          0,
          0,
          0,
          0,
          0,
          0,
          0,
          0,
          0,
          0,
          0,
          0
         ]
        },
        {
         "mode": "markers",
         "type": "scatter3d",
         "x": [
          0.13068851965889022,
          1.862843509810316,
          0.4738562284953017,
          1.1260739025064652,
          1.047307008754661,
          0.32474045288753517,
          -1.8788894031834233,
          1.2088727386543985,
          -0.07225389094594736,
          0.3143768945873862,
          4.928476868899158,
          7.237687625329603,
          7.639534779833281,
          6.483741576213776,
          7.181567627876272,
          5.902176599510376,
          8.1375476244561,
          10.417743877542495,
          -1.8051245386466122,
          0.9718176031721174,
          0.7551646185045764,
          0.9137160355241508,
          0.42881357831045697,
          1.2243598269105955,
          -0.8270077775253487,
          -1.9406578018732303,
          -0.6304188915916519,
          0.9372244248130781,
          0.8382407703465508,
          0.021868355117492622
         ],
         "y": [
          0.04718863734787166,
          -2.5338352713592958,
          1.289177505349141,
          0.15780426248223414,
          -0.6970369843219938,
          -0.04715779146658367,
          0.25030255194346585,
          0.435940747192312,
          -0.42904939033164113,
          -1.2672009447489614,
          0.5936212722346941,
          0.4174139479906354,
          -0.39073513223499223,
          -0.03409454435614029,
          0.49588874826994533,
          -0.06487545143619397,
          -0.3392283223497585,
          0.05187613956576393,
          10.852851702276405,
          9.549934221592075,
          11.565969029823933,
          10.847146275632058,
          10.742343458923937,
          11.751959901181635,
          11.435895024830128,
          10.906620976070723,
          9.529812869374924,
          10.042166847529726,
          11.276004808458495,
          11.23885671124404
         ],
         "z": [
          0,
          0,
          0,
          0,
          0,
          0,
          0,
          0,
          0,
          0,
          0,
          0,
          0,
          0,
          0,
          0,
          0,
          0,
          0,
          0,
          0,
          0,
          0,
          0,
          0,
          0,
          0,
          0,
          0,
          0
         ]
        },
        {
         "line": {
          "color": "green"
         },
         "mode": "lines",
         "type": "scatter3d",
         "x": [
          0.13068851965889022,
          1.862843509810316
         ],
         "y": [
          0.04718863734787166,
          -2.5338352713592958
         ],
         "z": [
          0,
          0
         ]
        },
        {
         "line": {
          "color": "green"
         },
         "mode": "lines",
         "type": "scatter3d",
         "x": [
          0.13068851965889022,
          0.4738562284953017
         ],
         "y": [
          0.04718863734787166,
          1.289177505349141
         ],
         "z": [
          0,
          0
         ]
        },
        {
         "line": {
          "color": "green"
         },
         "mode": "lines",
         "type": "scatter3d",
         "x": [
          0.13068851965889022,
          1.1260739025064652
         ],
         "y": [
          0.04718863734787166,
          0.15780426248223414
         ],
         "z": [
          0,
          0
         ]
        },
        {
         "line": {
          "color": "green"
         },
         "mode": "lines",
         "type": "scatter3d",
         "x": [
          0.13068851965889022,
          1.047307008754661
         ],
         "y": [
          0.04718863734787166,
          -0.6970369843219938
         ],
         "z": [
          0,
          0
         ]
        },
        {
         "line": {
          "color": "green"
         },
         "mode": "lines",
         "type": "scatter3d",
         "x": [
          0.13068851965889022,
          0.32474045288753517
         ],
         "y": [
          0.04718863734787166,
          -0.04715779146658367
         ],
         "z": [
          0,
          0
         ]
        },
        {
         "line": {
          "color": "green"
         },
         "mode": "lines",
         "type": "scatter3d",
         "x": [
          0.13068851965889022,
          -1.8788894031834233
         ],
         "y": [
          0.04718863734787166,
          0.25030255194346585
         ],
         "z": [
          0,
          0
         ]
        },
        {
         "line": {
          "color": "green"
         },
         "mode": "lines",
         "type": "scatter3d",
         "x": [
          0.13068851965889022,
          1.2088727386543985
         ],
         "y": [
          0.04718863734787166,
          0.435940747192312
         ],
         "z": [
          0,
          0
         ]
        },
        {
         "line": {
          "color": "green"
         },
         "mode": "lines",
         "type": "scatter3d",
         "x": [
          0.13068851965889022,
          -0.07225389094594736
         ],
         "y": [
          0.04718863734787166,
          -0.42904939033164113
         ],
         "z": [
          0,
          0
         ]
        },
        {
         "line": {
          "color": "green"
         },
         "mode": "lines",
         "type": "scatter3d",
         "x": [
          0.13068851965889022,
          0.3143768945873862
         ],
         "y": [
          0.04718863734787166,
          -1.2672009447489614
         ],
         "z": [
          0,
          0
         ]
        },
        {
         "line": {
          "color": "green"
         },
         "mode": "lines",
         "type": "scatter3d",
         "x": [
          0.13068851965889022,
          4.928476868899158
         ],
         "y": [
          0.04718863734787166,
          0.5936212722346941
         ],
         "z": [
          0,
          0
         ]
        },
        {
         "line": {
          "color": "green"
         },
         "mode": "lines",
         "type": "scatter3d",
         "x": [
          0.13068851965889022,
          7.237687625329603
         ],
         "y": [
          0.04718863734787166,
          0.4174139479906354
         ],
         "z": [
          0,
          0
         ]
        },
        {
         "line": {
          "color": "green"
         },
         "mode": "lines",
         "type": "scatter3d",
         "x": [
          0.13068851965889022,
          7.639534779833281
         ],
         "y": [
          0.04718863734787166,
          -0.39073513223499223
         ],
         "z": [
          0,
          0
         ]
        },
        {
         "line": {
          "color": "green"
         },
         "mode": "lines",
         "type": "scatter3d",
         "x": [
          0.13068851965889022,
          6.483741576213776
         ],
         "y": [
          0.04718863734787166,
          -0.03409454435614029
         ],
         "z": [
          0,
          0
         ]
        },
        {
         "line": {
          "color": "green"
         },
         "mode": "lines",
         "type": "scatter3d",
         "x": [
          0.13068851965889022,
          7.181567627876272
         ],
         "y": [
          0.04718863734787166,
          0.49588874826994533
         ],
         "z": [
          0,
          0
         ]
        },
        {
         "line": {
          "color": "green"
         },
         "mode": "lines",
         "type": "scatter3d",
         "x": [
          0.13068851965889022,
          5.902176599510376
         ],
         "y": [
          0.04718863734787166,
          -0.06487545143619397
         ],
         "z": [
          0,
          0
         ]
        },
        {
         "line": {
          "color": "green"
         },
         "mode": "lines",
         "type": "scatter3d",
         "x": [
          0.13068851965889022,
          8.1375476244561
         ],
         "y": [
          0.04718863734787166,
          -0.3392283223497585
         ],
         "z": [
          0,
          0
         ]
        },
        {
         "line": {
          "color": "green"
         },
         "mode": "lines",
         "type": "scatter3d",
         "x": [
          0.13068851965889022,
          0.9718176031721174
         ],
         "y": [
          0.04718863734787166,
          9.549934221592075
         ],
         "z": [
          0,
          0
         ]
        },
        {
         "line": {
          "color": "green"
         },
         "mode": "lines",
         "type": "scatter3d",
         "x": [
          0.13068851965889022,
          -0.6304188915916519
         ],
         "y": [
          0.04718863734787166,
          9.529812869374924
         ],
         "z": [
          0,
          0
         ]
        },
        {
         "line": {
          "color": "green"
         },
         "mode": "lines",
         "type": "scatter3d",
         "x": [
          1.862843509810316,
          0.4738562284953017
         ],
         "y": [
          -2.5338352713592958,
          1.289177505349141
         ],
         "z": [
          0,
          0
         ]
        },
        {
         "line": {
          "color": "green"
         },
         "mode": "lines",
         "type": "scatter3d",
         "x": [
          1.862843509810316,
          1.1260739025064652
         ],
         "y": [
          -2.5338352713592958,
          0.15780426248223414
         ],
         "z": [
          0,
          0
         ]
        },
        {
         "line": {
          "color": "green"
         },
         "mode": "lines",
         "type": "scatter3d",
         "x": [
          1.862843509810316,
          1.047307008754661
         ],
         "y": [
          -2.5338352713592958,
          -0.6970369843219938
         ],
         "z": [
          0,
          0
         ]
        },
        {
         "line": {
          "color": "green"
         },
         "mode": "lines",
         "type": "scatter3d",
         "x": [
          1.862843509810316,
          0.32474045288753517
         ],
         "y": [
          -2.5338352713592958,
          -0.04715779146658367
         ],
         "z": [
          0,
          0
         ]
        },
        {
         "line": {
          "color": "green"
         },
         "mode": "lines",
         "type": "scatter3d",
         "x": [
          1.862843509810316,
          -1.8788894031834233
         ],
         "y": [
          -2.5338352713592958,
          0.25030255194346585
         ],
         "z": [
          0,
          0
         ]
        },
        {
         "line": {
          "color": "green"
         },
         "mode": "lines",
         "type": "scatter3d",
         "x": [
          1.862843509810316,
          1.2088727386543985
         ],
         "y": [
          -2.5338352713592958,
          0.435940747192312
         ],
         "z": [
          0,
          0
         ]
        },
        {
         "line": {
          "color": "green"
         },
         "mode": "lines",
         "type": "scatter3d",
         "x": [
          1.862843509810316,
          -0.07225389094594736
         ],
         "y": [
          -2.5338352713592958,
          -0.42904939033164113
         ],
         "z": [
          0,
          0
         ]
        },
        {
         "line": {
          "color": "green"
         },
         "mode": "lines",
         "type": "scatter3d",
         "x": [
          1.862843509810316,
          0.3143768945873862
         ],
         "y": [
          -2.5338352713592958,
          -1.2672009447489614
         ],
         "z": [
          0,
          0
         ]
        },
        {
         "line": {
          "color": "green"
         },
         "mode": "lines",
         "type": "scatter3d",
         "x": [
          1.862843509810316,
          4.928476868899158
         ],
         "y": [
          -2.5338352713592958,
          0.5936212722346941
         ],
         "z": [
          0,
          0
         ]
        },
        {
         "line": {
          "color": "green"
         },
         "mode": "lines",
         "type": "scatter3d",
         "x": [
          1.862843509810316,
          7.237687625329603
         ],
         "y": [
          -2.5338352713592958,
          0.4174139479906354
         ],
         "z": [
          0,
          0
         ]
        },
        {
         "line": {
          "color": "green"
         },
         "mode": "lines",
         "type": "scatter3d",
         "x": [
          1.862843509810316,
          7.639534779833281
         ],
         "y": [
          -2.5338352713592958,
          -0.39073513223499223
         ],
         "z": [
          0,
          0
         ]
        },
        {
         "line": {
          "color": "green"
         },
         "mode": "lines",
         "type": "scatter3d",
         "x": [
          1.862843509810316,
          6.483741576213776
         ],
         "y": [
          -2.5338352713592958,
          -0.03409454435614029
         ],
         "z": [
          0,
          0
         ]
        },
        {
         "line": {
          "color": "green"
         },
         "mode": "lines",
         "type": "scatter3d",
         "x": [
          1.862843509810316,
          7.181567627876272
         ],
         "y": [
          -2.5338352713592958,
          0.49588874826994533
         ],
         "z": [
          0,
          0
         ]
        },
        {
         "line": {
          "color": "green"
         },
         "mode": "lines",
         "type": "scatter3d",
         "x": [
          1.862843509810316,
          5.902176599510376
         ],
         "y": [
          -2.5338352713592958,
          -0.06487545143619397
         ],
         "z": [
          0,
          0
         ]
        },
        {
         "line": {
          "color": "green"
         },
         "mode": "lines",
         "type": "scatter3d",
         "x": [
          1.862843509810316,
          8.1375476244561
         ],
         "y": [
          -2.5338352713592958,
          -0.3392283223497585
         ],
         "z": [
          0,
          0
         ]
        },
        {
         "line": {
          "color": "green"
         },
         "mode": "lines",
         "type": "scatter3d",
         "x": [
          1.862843509810316,
          10.417743877542495
         ],
         "y": [
          -2.5338352713592958,
          0.05187613956576393
         ],
         "z": [
          0,
          0
         ]
        },
        {
         "line": {
          "color": "green"
         },
         "mode": "lines",
         "type": "scatter3d",
         "x": [
          0.4738562284953017,
          1.1260739025064652
         ],
         "y": [
          1.289177505349141,
          0.15780426248223414
         ],
         "z": [
          0,
          0
         ]
        },
        {
         "line": {
          "color": "green"
         },
         "mode": "lines",
         "type": "scatter3d",
         "x": [
          0.4738562284953017,
          1.047307008754661
         ],
         "y": [
          1.289177505349141,
          -0.6970369843219938
         ],
         "z": [
          0,
          0
         ]
        },
        {
         "line": {
          "color": "green"
         },
         "mode": "lines",
         "type": "scatter3d",
         "x": [
          0.4738562284953017,
          0.32474045288753517
         ],
         "y": [
          1.289177505349141,
          -0.04715779146658367
         ],
         "z": [
          0,
          0
         ]
        },
        {
         "line": {
          "color": "green"
         },
         "mode": "lines",
         "type": "scatter3d",
         "x": [
          0.4738562284953017,
          -1.8788894031834233
         ],
         "y": [
          1.289177505349141,
          0.25030255194346585
         ],
         "z": [
          0,
          0
         ]
        },
        {
         "line": {
          "color": "green"
         },
         "mode": "lines",
         "type": "scatter3d",
         "x": [
          0.4738562284953017,
          1.2088727386543985
         ],
         "y": [
          1.289177505349141,
          0.435940747192312
         ],
         "z": [
          0,
          0
         ]
        },
        {
         "line": {
          "color": "green"
         },
         "mode": "lines",
         "type": "scatter3d",
         "x": [
          0.4738562284953017,
          -0.07225389094594736
         ],
         "y": [
          1.289177505349141,
          -0.42904939033164113
         ],
         "z": [
          0,
          0
         ]
        },
        {
         "line": {
          "color": "green"
         },
         "mode": "lines",
         "type": "scatter3d",
         "x": [
          0.4738562284953017,
          0.3143768945873862
         ],
         "y": [
          1.289177505349141,
          -1.2672009447489614
         ],
         "z": [
          0,
          0
         ]
        },
        {
         "line": {
          "color": "green"
         },
         "mode": "lines",
         "type": "scatter3d",
         "x": [
          0.4738562284953017,
          4.928476868899158
         ],
         "y": [
          1.289177505349141,
          0.5936212722346941
         ],
         "z": [
          0,
          0
         ]
        },
        {
         "line": {
          "color": "green"
         },
         "mode": "lines",
         "type": "scatter3d",
         "x": [
          0.4738562284953017,
          7.237687625329603
         ],
         "y": [
          1.289177505349141,
          0.4174139479906354
         ],
         "z": [
          0,
          0
         ]
        },
        {
         "line": {
          "color": "green"
         },
         "mode": "lines",
         "type": "scatter3d",
         "x": [
          0.4738562284953017,
          7.639534779833281
         ],
         "y": [
          1.289177505349141,
          -0.39073513223499223
         ],
         "z": [
          0,
          0
         ]
        },
        {
         "line": {
          "color": "green"
         },
         "mode": "lines",
         "type": "scatter3d",
         "x": [
          0.4738562284953017,
          6.483741576213776
         ],
         "y": [
          1.289177505349141,
          -0.03409454435614029
         ],
         "z": [
          0,
          0
         ]
        },
        {
         "line": {
          "color": "green"
         },
         "mode": "lines",
         "type": "scatter3d",
         "x": [
          0.4738562284953017,
          7.181567627876272
         ],
         "y": [
          1.289177505349141,
          0.49588874826994533
         ],
         "z": [
          0,
          0
         ]
        },
        {
         "line": {
          "color": "green"
         },
         "mode": "lines",
         "type": "scatter3d",
         "x": [
          0.4738562284953017,
          5.902176599510376
         ],
         "y": [
          1.289177505349141,
          -0.06487545143619397
         ],
         "z": [
          0,
          0
         ]
        },
        {
         "line": {
          "color": "green"
         },
         "mode": "lines",
         "type": "scatter3d",
         "x": [
          0.4738562284953017,
          8.1375476244561
         ],
         "y": [
          1.289177505349141,
          -0.3392283223497585
         ],
         "z": [
          0,
          0
         ]
        },
        {
         "line": {
          "color": "green"
         },
         "mode": "lines",
         "type": "scatter3d",
         "x": [
          0.4738562284953017,
          -1.8051245386466122
         ],
         "y": [
          1.289177505349141,
          10.852851702276405
         ],
         "z": [
          0,
          0
         ]
        },
        {
         "line": {
          "color": "green"
         },
         "mode": "lines",
         "type": "scatter3d",
         "x": [
          0.4738562284953017,
          0.9718176031721174
         ],
         "y": [
          1.289177505349141,
          9.549934221592075
         ],
         "z": [
          0,
          0
         ]
        },
        {
         "line": {
          "color": "green"
         },
         "mode": "lines",
         "type": "scatter3d",
         "x": [
          0.4738562284953017,
          0.9137160355241508
         ],
         "y": [
          1.289177505349141,
          10.847146275632058
         ],
         "z": [
          0,
          0
         ]
        },
        {
         "line": {
          "color": "green"
         },
         "mode": "lines",
         "type": "scatter3d",
         "x": [
          0.4738562284953017,
          0.42881357831045697
         ],
         "y": [
          1.289177505349141,
          10.742343458923937
         ],
         "z": [
          0,
          0
         ]
        },
        {
         "line": {
          "color": "green"
         },
         "mode": "lines",
         "type": "scatter3d",
         "x": [
          0.4738562284953017,
          -1.9406578018732303
         ],
         "y": [
          1.289177505349141,
          10.906620976070723
         ],
         "z": [
          0,
          0
         ]
        },
        {
         "line": {
          "color": "green"
         },
         "mode": "lines",
         "type": "scatter3d",
         "x": [
          0.4738562284953017,
          -0.6304188915916519
         ],
         "y": [
          1.289177505349141,
          9.529812869374924
         ],
         "z": [
          0,
          0
         ]
        },
        {
         "line": {
          "color": "green"
         },
         "mode": "lines",
         "type": "scatter3d",
         "x": [
          0.4738562284953017,
          0.9372244248130781
         ],
         "y": [
          1.289177505349141,
          10.042166847529726
         ],
         "z": [
          0,
          0
         ]
        },
        {
         "line": {
          "color": "green"
         },
         "mode": "lines",
         "type": "scatter3d",
         "x": [
          0.4738562284953017,
          0.8382407703465508
         ],
         "y": [
          1.289177505349141,
          11.276004808458495
         ],
         "z": [
          0,
          0
         ]
        },
        {
         "line": {
          "color": "green"
         },
         "mode": "lines",
         "type": "scatter3d",
         "x": [
          0.4738562284953017,
          0.021868355117492622
         ],
         "y": [
          1.289177505349141,
          11.23885671124404
         ],
         "z": [
          0,
          0
         ]
        },
        {
         "line": {
          "color": "green"
         },
         "mode": "lines",
         "type": "scatter3d",
         "x": [
          1.1260739025064652,
          1.047307008754661
         ],
         "y": [
          0.15780426248223414,
          -0.6970369843219938
         ],
         "z": [
          0,
          0
         ]
        },
        {
         "line": {
          "color": "green"
         },
         "mode": "lines",
         "type": "scatter3d",
         "x": [
          1.1260739025064652,
          0.32474045288753517
         ],
         "y": [
          0.15780426248223414,
          -0.04715779146658367
         ],
         "z": [
          0,
          0
         ]
        },
        {
         "line": {
          "color": "green"
         },
         "mode": "lines",
         "type": "scatter3d",
         "x": [
          1.1260739025064652,
          -1.8788894031834233
         ],
         "y": [
          0.15780426248223414,
          0.25030255194346585
         ],
         "z": [
          0,
          0
         ]
        },
        {
         "line": {
          "color": "green"
         },
         "mode": "lines",
         "type": "scatter3d",
         "x": [
          1.1260739025064652,
          1.2088727386543985
         ],
         "y": [
          0.15780426248223414,
          0.435940747192312
         ],
         "z": [
          0,
          0
         ]
        },
        {
         "line": {
          "color": "green"
         },
         "mode": "lines",
         "type": "scatter3d",
         "x": [
          1.1260739025064652,
          -0.07225389094594736
         ],
         "y": [
          0.15780426248223414,
          -0.42904939033164113
         ],
         "z": [
          0,
          0
         ]
        },
        {
         "line": {
          "color": "green"
         },
         "mode": "lines",
         "type": "scatter3d",
         "x": [
          1.1260739025064652,
          0.3143768945873862
         ],
         "y": [
          0.15780426248223414,
          -1.2672009447489614
         ],
         "z": [
          0,
          0
         ]
        },
        {
         "line": {
          "color": "green"
         },
         "mode": "lines",
         "type": "scatter3d",
         "x": [
          1.1260739025064652,
          4.928476868899158
         ],
         "y": [
          0.15780426248223414,
          0.5936212722346941
         ],
         "z": [
          0,
          0
         ]
        },
        {
         "line": {
          "color": "green"
         },
         "mode": "lines",
         "type": "scatter3d",
         "x": [
          1.1260739025064652,
          7.237687625329603
         ],
         "y": [
          0.15780426248223414,
          0.4174139479906354
         ],
         "z": [
          0,
          0
         ]
        },
        {
         "line": {
          "color": "green"
         },
         "mode": "lines",
         "type": "scatter3d",
         "x": [
          1.1260739025064652,
          7.639534779833281
         ],
         "y": [
          0.15780426248223414,
          -0.39073513223499223
         ],
         "z": [
          0,
          0
         ]
        },
        {
         "line": {
          "color": "green"
         },
         "mode": "lines",
         "type": "scatter3d",
         "x": [
          1.1260739025064652,
          6.483741576213776
         ],
         "y": [
          0.15780426248223414,
          -0.03409454435614029
         ],
         "z": [
          0,
          0
         ]
        },
        {
         "line": {
          "color": "green"
         },
         "mode": "lines",
         "type": "scatter3d",
         "x": [
          1.1260739025064652,
          7.181567627876272
         ],
         "y": [
          0.15780426248223414,
          0.49588874826994533
         ],
         "z": [
          0,
          0
         ]
        },
        {
         "line": {
          "color": "green"
         },
         "mode": "lines",
         "type": "scatter3d",
         "x": [
          1.1260739025064652,
          5.902176599510376
         ],
         "y": [
          0.15780426248223414,
          -0.06487545143619397
         ],
         "z": [
          0,
          0
         ]
        },
        {
         "line": {
          "color": "green"
         },
         "mode": "lines",
         "type": "scatter3d",
         "x": [
          1.1260739025064652,
          8.1375476244561
         ],
         "y": [
          0.15780426248223414,
          -0.3392283223497585
         ],
         "z": [
          0,
          0
         ]
        },
        {
         "line": {
          "color": "green"
         },
         "mode": "lines",
         "type": "scatter3d",
         "x": [
          1.1260739025064652,
          10.417743877542495
         ],
         "y": [
          0.15780426248223414,
          0.05187613956576393
         ],
         "z": [
          0,
          0
         ]
        },
        {
         "line": {
          "color": "green"
         },
         "mode": "lines",
         "type": "scatter3d",
         "x": [
          1.1260739025064652,
          0.9718176031721174
         ],
         "y": [
          0.15780426248223414,
          9.549934221592075
         ],
         "z": [
          0,
          0
         ]
        },
        {
         "line": {
          "color": "green"
         },
         "mode": "lines",
         "type": "scatter3d",
         "x": [
          1.1260739025064652,
          -0.6304188915916519
         ],
         "y": [
          0.15780426248223414,
          9.529812869374924
         ],
         "z": [
          0,
          0
         ]
        },
        {
         "line": {
          "color": "green"
         },
         "mode": "lines",
         "type": "scatter3d",
         "x": [
          1.1260739025064652,
          0.9372244248130781
         ],
         "y": [
          0.15780426248223414,
          10.042166847529726
         ],
         "z": [
          0,
          0
         ]
        },
        {
         "line": {
          "color": "green"
         },
         "mode": "lines",
         "type": "scatter3d",
         "x": [
          1.047307008754661,
          0.32474045288753517
         ],
         "y": [
          -0.6970369843219938,
          -0.04715779146658367
         ],
         "z": [
          0,
          0
         ]
        },
        {
         "line": {
          "color": "green"
         },
         "mode": "lines",
         "type": "scatter3d",
         "x": [
          1.047307008754661,
          -1.8788894031834233
         ],
         "y": [
          -0.6970369843219938,
          0.25030255194346585
         ],
         "z": [
          0,
          0
         ]
        },
        {
         "line": {
          "color": "green"
         },
         "mode": "lines",
         "type": "scatter3d",
         "x": [
          1.047307008754661,
          1.2088727386543985
         ],
         "y": [
          -0.6970369843219938,
          0.435940747192312
         ],
         "z": [
          0,
          0
         ]
        },
        {
         "line": {
          "color": "green"
         },
         "mode": "lines",
         "type": "scatter3d",
         "x": [
          1.047307008754661,
          -0.07225389094594736
         ],
         "y": [
          -0.6970369843219938,
          -0.42904939033164113
         ],
         "z": [
          0,
          0
         ]
        },
        {
         "line": {
          "color": "green"
         },
         "mode": "lines",
         "type": "scatter3d",
         "x": [
          1.047307008754661,
          0.3143768945873862
         ],
         "y": [
          -0.6970369843219938,
          -1.2672009447489614
         ],
         "z": [
          0,
          0
         ]
        },
        {
         "line": {
          "color": "green"
         },
         "mode": "lines",
         "type": "scatter3d",
         "x": [
          1.047307008754661,
          4.928476868899158
         ],
         "y": [
          -0.6970369843219938,
          0.5936212722346941
         ],
         "z": [
          0,
          0
         ]
        },
        {
         "line": {
          "color": "green"
         },
         "mode": "lines",
         "type": "scatter3d",
         "x": [
          1.047307008754661,
          7.237687625329603
         ],
         "y": [
          -0.6970369843219938,
          0.4174139479906354
         ],
         "z": [
          0,
          0
         ]
        },
        {
         "line": {
          "color": "green"
         },
         "mode": "lines",
         "type": "scatter3d",
         "x": [
          1.047307008754661,
          7.639534779833281
         ],
         "y": [
          -0.6970369843219938,
          -0.39073513223499223
         ],
         "z": [
          0,
          0
         ]
        },
        {
         "line": {
          "color": "green"
         },
         "mode": "lines",
         "type": "scatter3d",
         "x": [
          1.047307008754661,
          6.483741576213776
         ],
         "y": [
          -0.6970369843219938,
          -0.03409454435614029
         ],
         "z": [
          0,
          0
         ]
        },
        {
         "line": {
          "color": "green"
         },
         "mode": "lines",
         "type": "scatter3d",
         "x": [
          1.047307008754661,
          7.181567627876272
         ],
         "y": [
          -0.6970369843219938,
          0.49588874826994533
         ],
         "z": [
          0,
          0
         ]
        },
        {
         "line": {
          "color": "green"
         },
         "mode": "lines",
         "type": "scatter3d",
         "x": [
          1.047307008754661,
          5.902176599510376
         ],
         "y": [
          -0.6970369843219938,
          -0.06487545143619397
         ],
         "z": [
          0,
          0
         ]
        },
        {
         "line": {
          "color": "green"
         },
         "mode": "lines",
         "type": "scatter3d",
         "x": [
          1.047307008754661,
          8.1375476244561
         ],
         "y": [
          -0.6970369843219938,
          -0.3392283223497585
         ],
         "z": [
          0,
          0
         ]
        },
        {
         "line": {
          "color": "green"
         },
         "mode": "lines",
         "type": "scatter3d",
         "x": [
          1.047307008754661,
          10.417743877542495
         ],
         "y": [
          -0.6970369843219938,
          0.05187613956576393
         ],
         "z": [
          0,
          0
         ]
        },
        {
         "line": {
          "color": "green"
         },
         "mode": "lines",
         "type": "scatter3d",
         "x": [
          0.32474045288753517,
          -1.8788894031834233
         ],
         "y": [
          -0.04715779146658367,
          0.25030255194346585
         ],
         "z": [
          0,
          0
         ]
        },
        {
         "line": {
          "color": "green"
         },
         "mode": "lines",
         "type": "scatter3d",
         "x": [
          0.32474045288753517,
          1.2088727386543985
         ],
         "y": [
          -0.04715779146658367,
          0.435940747192312
         ],
         "z": [
          0,
          0
         ]
        },
        {
         "line": {
          "color": "green"
         },
         "mode": "lines",
         "type": "scatter3d",
         "x": [
          0.32474045288753517,
          -0.07225389094594736
         ],
         "y": [
          -0.04715779146658367,
          -0.42904939033164113
         ],
         "z": [
          0,
          0
         ]
        },
        {
         "line": {
          "color": "green"
         },
         "mode": "lines",
         "type": "scatter3d",
         "x": [
          0.32474045288753517,
          0.3143768945873862
         ],
         "y": [
          -0.04715779146658367,
          -1.2672009447489614
         ],
         "z": [
          0,
          0
         ]
        },
        {
         "line": {
          "color": "green"
         },
         "mode": "lines",
         "type": "scatter3d",
         "x": [
          0.32474045288753517,
          4.928476868899158
         ],
         "y": [
          -0.04715779146658367,
          0.5936212722346941
         ],
         "z": [
          0,
          0
         ]
        },
        {
         "line": {
          "color": "green"
         },
         "mode": "lines",
         "type": "scatter3d",
         "x": [
          0.32474045288753517,
          7.237687625329603
         ],
         "y": [
          -0.04715779146658367,
          0.4174139479906354
         ],
         "z": [
          0,
          0
         ]
        },
        {
         "line": {
          "color": "green"
         },
         "mode": "lines",
         "type": "scatter3d",
         "x": [
          0.32474045288753517,
          7.639534779833281
         ],
         "y": [
          -0.04715779146658367,
          -0.39073513223499223
         ],
         "z": [
          0,
          0
         ]
        },
        {
         "line": {
          "color": "green"
         },
         "mode": "lines",
         "type": "scatter3d",
         "x": [
          0.32474045288753517,
          6.483741576213776
         ],
         "y": [
          -0.04715779146658367,
          -0.03409454435614029
         ],
         "z": [
          0,
          0
         ]
        },
        {
         "line": {
          "color": "green"
         },
         "mode": "lines",
         "type": "scatter3d",
         "x": [
          0.32474045288753517,
          7.181567627876272
         ],
         "y": [
          -0.04715779146658367,
          0.49588874826994533
         ],
         "z": [
          0,
          0
         ]
        },
        {
         "line": {
          "color": "green"
         },
         "mode": "lines",
         "type": "scatter3d",
         "x": [
          0.32474045288753517,
          5.902176599510376
         ],
         "y": [
          -0.04715779146658367,
          -0.06487545143619397
         ],
         "z": [
          0,
          0
         ]
        },
        {
         "line": {
          "color": "green"
         },
         "mode": "lines",
         "type": "scatter3d",
         "x": [
          0.32474045288753517,
          8.1375476244561
         ],
         "y": [
          -0.04715779146658367,
          -0.3392283223497585
         ],
         "z": [
          0,
          0
         ]
        },
        {
         "line": {
          "color": "green"
         },
         "mode": "lines",
         "type": "scatter3d",
         "x": [
          0.32474045288753517,
          0.9718176031721174
         ],
         "y": [
          -0.04715779146658367,
          9.549934221592075
         ],
         "z": [
          0,
          0
         ]
        },
        {
         "line": {
          "color": "green"
         },
         "mode": "lines",
         "type": "scatter3d",
         "x": [
          0.32474045288753517,
          -0.6304188915916519
         ],
         "y": [
          -0.04715779146658367,
          9.529812869374924
         ],
         "z": [
          0,
          0
         ]
        },
        {
         "line": {
          "color": "green"
         },
         "mode": "lines",
         "type": "scatter3d",
         "x": [
          -1.8788894031834233,
          1.2088727386543985
         ],
         "y": [
          0.25030255194346585,
          0.435940747192312
         ],
         "z": [
          0,
          0
         ]
        },
        {
         "line": {
          "color": "green"
         },
         "mode": "lines",
         "type": "scatter3d",
         "x": [
          -1.8788894031834233,
          -0.07225389094594736
         ],
         "y": [
          0.25030255194346585,
          -0.42904939033164113
         ],
         "z": [
          0,
          0
         ]
        },
        {
         "line": {
          "color": "green"
         },
         "mode": "lines",
         "type": "scatter3d",
         "x": [
          -1.8788894031834233,
          0.3143768945873862
         ],
         "y": [
          0.25030255194346585,
          -1.2672009447489614
         ],
         "z": [
          0,
          0
         ]
        },
        {
         "line": {
          "color": "green"
         },
         "mode": "lines",
         "type": "scatter3d",
         "x": [
          -1.8788894031834233,
          4.928476868899158
         ],
         "y": [
          0.25030255194346585,
          0.5936212722346941
         ],
         "z": [
          0,
          0
         ]
        },
        {
         "line": {
          "color": "green"
         },
         "mode": "lines",
         "type": "scatter3d",
         "x": [
          -1.8788894031834233,
          7.237687625329603
         ],
         "y": [
          0.25030255194346585,
          0.4174139479906354
         ],
         "z": [
          0,
          0
         ]
        },
        {
         "line": {
          "color": "green"
         },
         "mode": "lines",
         "type": "scatter3d",
         "x": [
          -1.8788894031834233,
          7.639534779833281
         ],
         "y": [
          0.25030255194346585,
          -0.39073513223499223
         ],
         "z": [
          0,
          0
         ]
        },
        {
         "line": {
          "color": "green"
         },
         "mode": "lines",
         "type": "scatter3d",
         "x": [
          -1.8788894031834233,
          6.483741576213776
         ],
         "y": [
          0.25030255194346585,
          -0.03409454435614029
         ],
         "z": [
          0,
          0
         ]
        },
        {
         "line": {
          "color": "green"
         },
         "mode": "lines",
         "type": "scatter3d",
         "x": [
          -1.8788894031834233,
          7.181567627876272
         ],
         "y": [
          0.25030255194346585,
          0.49588874826994533
         ],
         "z": [
          0,
          0
         ]
        },
        {
         "line": {
          "color": "green"
         },
         "mode": "lines",
         "type": "scatter3d",
         "x": [
          -1.8788894031834233,
          5.902176599510376
         ],
         "y": [
          0.25030255194346585,
          -0.06487545143619397
         ],
         "z": [
          0,
          0
         ]
        },
        {
         "line": {
          "color": "green"
         },
         "mode": "lines",
         "type": "scatter3d",
         "x": [
          -1.8788894031834233,
          0.9718176031721174
         ],
         "y": [
          0.25030255194346585,
          9.549934221592075
         ],
         "z": [
          0,
          0
         ]
        },
        {
         "line": {
          "color": "green"
         },
         "mode": "lines",
         "type": "scatter3d",
         "x": [
          -1.8788894031834233,
          -0.6304188915916519
         ],
         "y": [
          0.25030255194346585,
          9.529812869374924
         ],
         "z": [
          0,
          0
         ]
        },
        {
         "line": {
          "color": "green"
         },
         "mode": "lines",
         "type": "scatter3d",
         "x": [
          1.2088727386543985,
          -0.07225389094594736
         ],
         "y": [
          0.435940747192312,
          -0.42904939033164113
         ],
         "z": [
          0,
          0
         ]
        },
        {
         "line": {
          "color": "green"
         },
         "mode": "lines",
         "type": "scatter3d",
         "x": [
          1.2088727386543985,
          0.3143768945873862
         ],
         "y": [
          0.435940747192312,
          -1.2672009447489614
         ],
         "z": [
          0,
          0
         ]
        },
        {
         "line": {
          "color": "green"
         },
         "mode": "lines",
         "type": "scatter3d",
         "x": [
          1.2088727386543985,
          4.928476868899158
         ],
         "y": [
          0.435940747192312,
          0.5936212722346941
         ],
         "z": [
          0,
          0
         ]
        },
        {
         "line": {
          "color": "green"
         },
         "mode": "lines",
         "type": "scatter3d",
         "x": [
          1.2088727386543985,
          7.237687625329603
         ],
         "y": [
          0.435940747192312,
          0.4174139479906354
         ],
         "z": [
          0,
          0
         ]
        },
        {
         "line": {
          "color": "green"
         },
         "mode": "lines",
         "type": "scatter3d",
         "x": [
          1.2088727386543985,
          7.639534779833281
         ],
         "y": [
          0.435940747192312,
          -0.39073513223499223
         ],
         "z": [
          0,
          0
         ]
        },
        {
         "line": {
          "color": "green"
         },
         "mode": "lines",
         "type": "scatter3d",
         "x": [
          1.2088727386543985,
          6.483741576213776
         ],
         "y": [
          0.435940747192312,
          -0.03409454435614029
         ],
         "z": [
          0,
          0
         ]
        },
        {
         "line": {
          "color": "green"
         },
         "mode": "lines",
         "type": "scatter3d",
         "x": [
          1.2088727386543985,
          7.181567627876272
         ],
         "y": [
          0.435940747192312,
          0.49588874826994533
         ],
         "z": [
          0,
          0
         ]
        },
        {
         "line": {
          "color": "green"
         },
         "mode": "lines",
         "type": "scatter3d",
         "x": [
          1.2088727386543985,
          5.902176599510376
         ],
         "y": [
          0.435940747192312,
          -0.06487545143619397
         ],
         "z": [
          0,
          0
         ]
        },
        {
         "line": {
          "color": "green"
         },
         "mode": "lines",
         "type": "scatter3d",
         "x": [
          1.2088727386543985,
          8.1375476244561
         ],
         "y": [
          0.435940747192312,
          -0.3392283223497585
         ],
         "z": [
          0,
          0
         ]
        },
        {
         "line": {
          "color": "green"
         },
         "mode": "lines",
         "type": "scatter3d",
         "x": [
          1.2088727386543985,
          10.417743877542495
         ],
         "y": [
          0.435940747192312,
          0.05187613956576393
         ],
         "z": [
          0,
          0
         ]
        },
        {
         "line": {
          "color": "green"
         },
         "mode": "lines",
         "type": "scatter3d",
         "x": [
          1.2088727386543985,
          0.9718176031721174
         ],
         "y": [
          0.435940747192312,
          9.549934221592075
         ],
         "z": [
          0,
          0
         ]
        },
        {
         "line": {
          "color": "green"
         },
         "mode": "lines",
         "type": "scatter3d",
         "x": [
          1.2088727386543985,
          -0.6304188915916519
         ],
         "y": [
          0.435940747192312,
          9.529812869374924
         ],
         "z": [
          0,
          0
         ]
        },
        {
         "line": {
          "color": "green"
         },
         "mode": "lines",
         "type": "scatter3d",
         "x": [
          1.2088727386543985,
          0.9372244248130781
         ],
         "y": [
          0.435940747192312,
          10.042166847529726
         ],
         "z": [
          0,
          0
         ]
        },
        {
         "line": {
          "color": "green"
         },
         "mode": "lines",
         "type": "scatter3d",
         "x": [
          -0.07225389094594736,
          0.3143768945873862
         ],
         "y": [
          -0.42904939033164113,
          -1.2672009447489614
         ],
         "z": [
          0,
          0
         ]
        },
        {
         "line": {
          "color": "green"
         },
         "mode": "lines",
         "type": "scatter3d",
         "x": [
          -0.07225389094594736,
          4.928476868899158
         ],
         "y": [
          -0.42904939033164113,
          0.5936212722346941
         ],
         "z": [
          0,
          0
         ]
        },
        {
         "line": {
          "color": "green"
         },
         "mode": "lines",
         "type": "scatter3d",
         "x": [
          -0.07225389094594736,
          7.237687625329603
         ],
         "y": [
          -0.42904939033164113,
          0.4174139479906354
         ],
         "z": [
          0,
          0
         ]
        },
        {
         "line": {
          "color": "green"
         },
         "mode": "lines",
         "type": "scatter3d",
         "x": [
          -0.07225389094594736,
          7.639534779833281
         ],
         "y": [
          -0.42904939033164113,
          -0.39073513223499223
         ],
         "z": [
          0,
          0
         ]
        },
        {
         "line": {
          "color": "green"
         },
         "mode": "lines",
         "type": "scatter3d",
         "x": [
          -0.07225389094594736,
          6.483741576213776
         ],
         "y": [
          -0.42904939033164113,
          -0.03409454435614029
         ],
         "z": [
          0,
          0
         ]
        },
        {
         "line": {
          "color": "green"
         },
         "mode": "lines",
         "type": "scatter3d",
         "x": [
          -0.07225389094594736,
          7.181567627876272
         ],
         "y": [
          -0.42904939033164113,
          0.49588874826994533
         ],
         "z": [
          0,
          0
         ]
        },
        {
         "line": {
          "color": "green"
         },
         "mode": "lines",
         "type": "scatter3d",
         "x": [
          -0.07225389094594736,
          5.902176599510376
         ],
         "y": [
          -0.42904939033164113,
          -0.06487545143619397
         ],
         "z": [
          0,
          0
         ]
        },
        {
         "line": {
          "color": "green"
         },
         "mode": "lines",
         "type": "scatter3d",
         "x": [
          -0.07225389094594736,
          8.1375476244561
         ],
         "y": [
          -0.42904939033164113,
          -0.3392283223497585
         ],
         "z": [
          0,
          0
         ]
        },
        {
         "line": {
          "color": "green"
         },
         "mode": "lines",
         "type": "scatter3d",
         "x": [
          -0.07225389094594736,
          -0.6304188915916519
         ],
         "y": [
          -0.42904939033164113,
          9.529812869374924
         ],
         "z": [
          0,
          0
         ]
        },
        {
         "line": {
          "color": "green"
         },
         "mode": "lines",
         "type": "scatter3d",
         "x": [
          0.3143768945873862,
          4.928476868899158
         ],
         "y": [
          -1.2672009447489614,
          0.5936212722346941
         ],
         "z": [
          0,
          0
         ]
        },
        {
         "line": {
          "color": "green"
         },
         "mode": "lines",
         "type": "scatter3d",
         "x": [
          0.3143768945873862,
          7.237687625329603
         ],
         "y": [
          -1.2672009447489614,
          0.4174139479906354
         ],
         "z": [
          0,
          0
         ]
        },
        {
         "line": {
          "color": "green"
         },
         "mode": "lines",
         "type": "scatter3d",
         "x": [
          0.3143768945873862,
          7.639534779833281
         ],
         "y": [
          -1.2672009447489614,
          -0.39073513223499223
         ],
         "z": [
          0,
          0
         ]
        },
        {
         "line": {
          "color": "green"
         },
         "mode": "lines",
         "type": "scatter3d",
         "x": [
          0.3143768945873862,
          6.483741576213776
         ],
         "y": [
          -1.2672009447489614,
          -0.03409454435614029
         ],
         "z": [
          0,
          0
         ]
        },
        {
         "line": {
          "color": "green"
         },
         "mode": "lines",
         "type": "scatter3d",
         "x": [
          0.3143768945873862,
          7.181567627876272
         ],
         "y": [
          -1.2672009447489614,
          0.49588874826994533
         ],
         "z": [
          0,
          0
         ]
        },
        {
         "line": {
          "color": "green"
         },
         "mode": "lines",
         "type": "scatter3d",
         "x": [
          0.3143768945873862,
          5.902176599510376
         ],
         "y": [
          -1.2672009447489614,
          -0.06487545143619397
         ],
         "z": [
          0,
          0
         ]
        },
        {
         "line": {
          "color": "green"
         },
         "mode": "lines",
         "type": "scatter3d",
         "x": [
          0.3143768945873862,
          8.1375476244561
         ],
         "y": [
          -1.2672009447489614,
          -0.3392283223497585
         ],
         "z": [
          0,
          0
         ]
        },
        {
         "line": {
          "color": "green"
         },
         "mode": "lines",
         "type": "scatter3d",
         "x": [
          4.928476868899158,
          7.237687625329603
         ],
         "y": [
          0.5936212722346941,
          0.4174139479906354
         ],
         "z": [
          0,
          0
         ]
        },
        {
         "line": {
          "color": "green"
         },
         "mode": "lines",
         "type": "scatter3d",
         "x": [
          4.928476868899158,
          7.639534779833281
         ],
         "y": [
          0.5936212722346941,
          -0.39073513223499223
         ],
         "z": [
          0,
          0
         ]
        },
        {
         "line": {
          "color": "green"
         },
         "mode": "lines",
         "type": "scatter3d",
         "x": [
          4.928476868899158,
          6.483741576213776
         ],
         "y": [
          0.5936212722346941,
          -0.03409454435614029
         ],
         "z": [
          0,
          0
         ]
        },
        {
         "line": {
          "color": "green"
         },
         "mode": "lines",
         "type": "scatter3d",
         "x": [
          4.928476868899158,
          7.181567627876272
         ],
         "y": [
          0.5936212722346941,
          0.49588874826994533
         ],
         "z": [
          0,
          0
         ]
        },
        {
         "line": {
          "color": "green"
         },
         "mode": "lines",
         "type": "scatter3d",
         "x": [
          4.928476868899158,
          5.902176599510376
         ],
         "y": [
          0.5936212722346941,
          -0.06487545143619397
         ],
         "z": [
          0,
          0
         ]
        },
        {
         "line": {
          "color": "green"
         },
         "mode": "lines",
         "type": "scatter3d",
         "x": [
          4.928476868899158,
          8.1375476244561
         ],
         "y": [
          0.5936212722346941,
          -0.3392283223497585
         ],
         "z": [
          0,
          0
         ]
        },
        {
         "line": {
          "color": "green"
         },
         "mode": "lines",
         "type": "scatter3d",
         "x": [
          4.928476868899158,
          10.417743877542495
         ],
         "y": [
          0.5936212722346941,
          0.05187613956576393
         ],
         "z": [
          0,
          0
         ]
        },
        {
         "line": {
          "color": "green"
         },
         "mode": "lines",
         "type": "scatter3d",
         "x": [
          4.928476868899158,
          0.9718176031721174
         ],
         "y": [
          0.5936212722346941,
          9.549934221592075
         ],
         "z": [
          0,
          0
         ]
        },
        {
         "line": {
          "color": "green"
         },
         "mode": "lines",
         "type": "scatter3d",
         "x": [
          7.237687625329603,
          7.639534779833281
         ],
         "y": [
          0.4174139479906354,
          -0.39073513223499223
         ],
         "z": [
          0,
          0
         ]
        },
        {
         "line": {
          "color": "green"
         },
         "mode": "lines",
         "type": "scatter3d",
         "x": [
          7.237687625329603,
          6.483741576213776
         ],
         "y": [
          0.4174139479906354,
          -0.03409454435614029
         ],
         "z": [
          0,
          0
         ]
        },
        {
         "line": {
          "color": "green"
         },
         "mode": "lines",
         "type": "scatter3d",
         "x": [
          7.237687625329603,
          7.181567627876272
         ],
         "y": [
          0.4174139479906354,
          0.49588874826994533
         ],
         "z": [
          0,
          0
         ]
        },
        {
         "line": {
          "color": "green"
         },
         "mode": "lines",
         "type": "scatter3d",
         "x": [
          7.237687625329603,
          5.902176599510376
         ],
         "y": [
          0.4174139479906354,
          -0.06487545143619397
         ],
         "z": [
          0,
          0
         ]
        },
        {
         "line": {
          "color": "green"
         },
         "mode": "lines",
         "type": "scatter3d",
         "x": [
          7.237687625329603,
          8.1375476244561
         ],
         "y": [
          0.4174139479906354,
          -0.3392283223497585
         ],
         "z": [
          0,
          0
         ]
        },
        {
         "line": {
          "color": "green"
         },
         "mode": "lines",
         "type": "scatter3d",
         "x": [
          7.237687625329603,
          10.417743877542495
         ],
         "y": [
          0.4174139479906354,
          0.05187613956576393
         ],
         "z": [
          0,
          0
         ]
        },
        {
         "line": {
          "color": "green"
         },
         "mode": "lines",
         "type": "scatter3d",
         "x": [
          7.639534779833281,
          6.483741576213776
         ],
         "y": [
          -0.39073513223499223,
          -0.03409454435614029
         ],
         "z": [
          0,
          0
         ]
        },
        {
         "line": {
          "color": "green"
         },
         "mode": "lines",
         "type": "scatter3d",
         "x": [
          7.639534779833281,
          7.181567627876272
         ],
         "y": [
          -0.39073513223499223,
          0.49588874826994533
         ],
         "z": [
          0,
          0
         ]
        },
        {
         "line": {
          "color": "green"
         },
         "mode": "lines",
         "type": "scatter3d",
         "x": [
          7.639534779833281,
          5.902176599510376
         ],
         "y": [
          -0.39073513223499223,
          -0.06487545143619397
         ],
         "z": [
          0,
          0
         ]
        },
        {
         "line": {
          "color": "green"
         },
         "mode": "lines",
         "type": "scatter3d",
         "x": [
          7.639534779833281,
          8.1375476244561
         ],
         "y": [
          -0.39073513223499223,
          -0.3392283223497585
         ],
         "z": [
          0,
          0
         ]
        },
        {
         "line": {
          "color": "green"
         },
         "mode": "lines",
         "type": "scatter3d",
         "x": [
          7.639534779833281,
          10.417743877542495
         ],
         "y": [
          -0.39073513223499223,
          0.05187613956576393
         ],
         "z": [
          0,
          0
         ]
        },
        {
         "line": {
          "color": "green"
         },
         "mode": "lines",
         "type": "scatter3d",
         "x": [
          6.483741576213776,
          7.181567627876272
         ],
         "y": [
          -0.03409454435614029,
          0.49588874826994533
         ],
         "z": [
          0,
          0
         ]
        },
        {
         "line": {
          "color": "green"
         },
         "mode": "lines",
         "type": "scatter3d",
         "x": [
          6.483741576213776,
          5.902176599510376
         ],
         "y": [
          -0.03409454435614029,
          -0.06487545143619397
         ],
         "z": [
          0,
          0
         ]
        },
        {
         "line": {
          "color": "green"
         },
         "mode": "lines",
         "type": "scatter3d",
         "x": [
          6.483741576213776,
          8.1375476244561
         ],
         "y": [
          -0.03409454435614029,
          -0.3392283223497585
         ],
         "z": [
          0,
          0
         ]
        },
        {
         "line": {
          "color": "green"
         },
         "mode": "lines",
         "type": "scatter3d",
         "x": [
          6.483741576213776,
          10.417743877542495
         ],
         "y": [
          -0.03409454435614029,
          0.05187613956576393
         ],
         "z": [
          0,
          0
         ]
        },
        {
         "line": {
          "color": "green"
         },
         "mode": "lines",
         "type": "scatter3d",
         "x": [
          7.181567627876272,
          5.902176599510376
         ],
         "y": [
          0.49588874826994533,
          -0.06487545143619397
         ],
         "z": [
          0,
          0
         ]
        },
        {
         "line": {
          "color": "green"
         },
         "mode": "lines",
         "type": "scatter3d",
         "x": [
          7.181567627876272,
          8.1375476244561
         ],
         "y": [
          0.49588874826994533,
          -0.3392283223497585
         ],
         "z": [
          0,
          0
         ]
        },
        {
         "line": {
          "color": "green"
         },
         "mode": "lines",
         "type": "scatter3d",
         "x": [
          7.181567627876272,
          10.417743877542495
         ],
         "y": [
          0.49588874826994533,
          0.05187613956576393
         ],
         "z": [
          0,
          0
         ]
        },
        {
         "line": {
          "color": "green"
         },
         "mode": "lines",
         "type": "scatter3d",
         "x": [
          5.902176599510376,
          8.1375476244561
         ],
         "y": [
          -0.06487545143619397,
          -0.3392283223497585
         ],
         "z": [
          0,
          0
         ]
        },
        {
         "line": {
          "color": "green"
         },
         "mode": "lines",
         "type": "scatter3d",
         "x": [
          5.902176599510376,
          10.417743877542495
         ],
         "y": [
          -0.06487545143619397,
          0.05187613956576393
         ],
         "z": [
          0,
          0
         ]
        },
        {
         "line": {
          "color": "green"
         },
         "mode": "lines",
         "type": "scatter3d",
         "x": [
          8.1375476244561,
          10.417743877542495
         ],
         "y": [
          -0.3392283223497585,
          0.05187613956576393
         ],
         "z": [
          0,
          0
         ]
        },
        {
         "line": {
          "color": "green"
         },
         "mode": "lines",
         "type": "scatter3d",
         "x": [
          -1.8051245386466122,
          0.9718176031721174
         ],
         "y": [
          10.852851702276405,
          9.549934221592075
         ],
         "z": [
          0,
          0
         ]
        },
        {
         "line": {
          "color": "green"
         },
         "mode": "lines",
         "type": "scatter3d",
         "x": [
          -1.8051245386466122,
          0.7551646185045764
         ],
         "y": [
          10.852851702276405,
          11.565969029823933
         ],
         "z": [
          0,
          0
         ]
        },
        {
         "line": {
          "color": "green"
         },
         "mode": "lines",
         "type": "scatter3d",
         "x": [
          -1.8051245386466122,
          0.9137160355241508
         ],
         "y": [
          10.852851702276405,
          10.847146275632058
         ],
         "z": [
          0,
          0
         ]
        },
        {
         "line": {
          "color": "green"
         },
         "mode": "lines",
         "type": "scatter3d",
         "x": [
          -1.8051245386466122,
          0.42881357831045697
         ],
         "y": [
          10.852851702276405,
          10.742343458923937
         ],
         "z": [
          0,
          0
         ]
        },
        {
         "line": {
          "color": "green"
         },
         "mode": "lines",
         "type": "scatter3d",
         "x": [
          -1.8051245386466122,
          1.2243598269105955
         ],
         "y": [
          10.852851702276405,
          11.751959901181635
         ],
         "z": [
          0,
          0
         ]
        },
        {
         "line": {
          "color": "green"
         },
         "mode": "lines",
         "type": "scatter3d",
         "x": [
          -1.8051245386466122,
          -0.8270077775253487
         ],
         "y": [
          10.852851702276405,
          11.435895024830128
         ],
         "z": [
          0,
          0
         ]
        },
        {
         "line": {
          "color": "green"
         },
         "mode": "lines",
         "type": "scatter3d",
         "x": [
          -1.8051245386466122,
          -1.9406578018732303
         ],
         "y": [
          10.852851702276405,
          10.906620976070723
         ],
         "z": [
          0,
          0
         ]
        },
        {
         "line": {
          "color": "green"
         },
         "mode": "lines",
         "type": "scatter3d",
         "x": [
          -1.8051245386466122,
          -0.6304188915916519
         ],
         "y": [
          10.852851702276405,
          9.529812869374924
         ],
         "z": [
          0,
          0
         ]
        },
        {
         "line": {
          "color": "green"
         },
         "mode": "lines",
         "type": "scatter3d",
         "x": [
          -1.8051245386466122,
          0.9372244248130781
         ],
         "y": [
          10.852851702276405,
          10.042166847529726
         ],
         "z": [
          0,
          0
         ]
        },
        {
         "line": {
          "color": "green"
         },
         "mode": "lines",
         "type": "scatter3d",
         "x": [
          -1.8051245386466122,
          0.8382407703465508
         ],
         "y": [
          10.852851702276405,
          11.276004808458495
         ],
         "z": [
          0,
          0
         ]
        },
        {
         "line": {
          "color": "green"
         },
         "mode": "lines",
         "type": "scatter3d",
         "x": [
          -1.8051245386466122,
          0.021868355117492622
         ],
         "y": [
          10.852851702276405,
          11.23885671124404
         ],
         "z": [
          0,
          0
         ]
        },
        {
         "line": {
          "color": "green"
         },
         "mode": "lines",
         "type": "scatter3d",
         "x": [
          0.9718176031721174,
          0.7551646185045764
         ],
         "y": [
          9.549934221592075,
          11.565969029823933
         ],
         "z": [
          0,
          0
         ]
        },
        {
         "line": {
          "color": "green"
         },
         "mode": "lines",
         "type": "scatter3d",
         "x": [
          0.9718176031721174,
          0.9137160355241508
         ],
         "y": [
          9.549934221592075,
          10.847146275632058
         ],
         "z": [
          0,
          0
         ]
        },
        {
         "line": {
          "color": "green"
         },
         "mode": "lines",
         "type": "scatter3d",
         "x": [
          0.9718176031721174,
          0.42881357831045697
         ],
         "y": [
          9.549934221592075,
          10.742343458923937
         ],
         "z": [
          0,
          0
         ]
        },
        {
         "line": {
          "color": "green"
         },
         "mode": "lines",
         "type": "scatter3d",
         "x": [
          0.9718176031721174,
          1.2243598269105955
         ],
         "y": [
          9.549934221592075,
          11.751959901181635
         ],
         "z": [
          0,
          0
         ]
        },
        {
         "line": {
          "color": "green"
         },
         "mode": "lines",
         "type": "scatter3d",
         "x": [
          0.9718176031721174,
          -0.8270077775253487
         ],
         "y": [
          9.549934221592075,
          11.435895024830128
         ],
         "z": [
          0,
          0
         ]
        },
        {
         "line": {
          "color": "green"
         },
         "mode": "lines",
         "type": "scatter3d",
         "x": [
          0.9718176031721174,
          -1.9406578018732303
         ],
         "y": [
          9.549934221592075,
          10.906620976070723
         ],
         "z": [
          0,
          0
         ]
        },
        {
         "line": {
          "color": "green"
         },
         "mode": "lines",
         "type": "scatter3d",
         "x": [
          0.9718176031721174,
          -0.6304188915916519
         ],
         "y": [
          9.549934221592075,
          9.529812869374924
         ],
         "z": [
          0,
          0
         ]
        },
        {
         "line": {
          "color": "green"
         },
         "mode": "lines",
         "type": "scatter3d",
         "x": [
          0.9718176031721174,
          0.9372244248130781
         ],
         "y": [
          9.549934221592075,
          10.042166847529726
         ],
         "z": [
          0,
          0
         ]
        },
        {
         "line": {
          "color": "green"
         },
         "mode": "lines",
         "type": "scatter3d",
         "x": [
          0.9718176031721174,
          0.8382407703465508
         ],
         "y": [
          9.549934221592075,
          11.276004808458495
         ],
         "z": [
          0,
          0
         ]
        },
        {
         "line": {
          "color": "green"
         },
         "mode": "lines",
         "type": "scatter3d",
         "x": [
          0.9718176031721174,
          0.021868355117492622
         ],
         "y": [
          9.549934221592075,
          11.23885671124404
         ],
         "z": [
          0,
          0
         ]
        },
        {
         "line": {
          "color": "green"
         },
         "mode": "lines",
         "type": "scatter3d",
         "x": [
          0.7551646185045764,
          0.9137160355241508
         ],
         "y": [
          11.565969029823933,
          10.847146275632058
         ],
         "z": [
          0,
          0
         ]
        },
        {
         "line": {
          "color": "green"
         },
         "mode": "lines",
         "type": "scatter3d",
         "x": [
          0.7551646185045764,
          0.42881357831045697
         ],
         "y": [
          11.565969029823933,
          10.742343458923937
         ],
         "z": [
          0,
          0
         ]
        },
        {
         "line": {
          "color": "green"
         },
         "mode": "lines",
         "type": "scatter3d",
         "x": [
          0.7551646185045764,
          1.2243598269105955
         ],
         "y": [
          11.565969029823933,
          11.751959901181635
         ],
         "z": [
          0,
          0
         ]
        },
        {
         "line": {
          "color": "green"
         },
         "mode": "lines",
         "type": "scatter3d",
         "x": [
          0.7551646185045764,
          -0.8270077775253487
         ],
         "y": [
          11.565969029823933,
          11.435895024830128
         ],
         "z": [
          0,
          0
         ]
        },
        {
         "line": {
          "color": "green"
         },
         "mode": "lines",
         "type": "scatter3d",
         "x": [
          0.7551646185045764,
          -1.9406578018732303
         ],
         "y": [
          11.565969029823933,
          10.906620976070723
         ],
         "z": [
          0,
          0
         ]
        },
        {
         "line": {
          "color": "green"
         },
         "mode": "lines",
         "type": "scatter3d",
         "x": [
          0.7551646185045764,
          -0.6304188915916519
         ],
         "y": [
          11.565969029823933,
          9.529812869374924
         ],
         "z": [
          0,
          0
         ]
        },
        {
         "line": {
          "color": "green"
         },
         "mode": "lines",
         "type": "scatter3d",
         "x": [
          0.7551646185045764,
          0.9372244248130781
         ],
         "y": [
          11.565969029823933,
          10.042166847529726
         ],
         "z": [
          0,
          0
         ]
        },
        {
         "line": {
          "color": "green"
         },
         "mode": "lines",
         "type": "scatter3d",
         "x": [
          0.7551646185045764,
          0.8382407703465508
         ],
         "y": [
          11.565969029823933,
          11.276004808458495
         ],
         "z": [
          0,
          0
         ]
        },
        {
         "line": {
          "color": "green"
         },
         "mode": "lines",
         "type": "scatter3d",
         "x": [
          0.7551646185045764,
          0.021868355117492622
         ],
         "y": [
          11.565969029823933,
          11.23885671124404
         ],
         "z": [
          0,
          0
         ]
        },
        {
         "line": {
          "color": "green"
         },
         "mode": "lines",
         "type": "scatter3d",
         "x": [
          0.9137160355241508,
          0.42881357831045697
         ],
         "y": [
          10.847146275632058,
          10.742343458923937
         ],
         "z": [
          0,
          0
         ]
        },
        {
         "line": {
          "color": "green"
         },
         "mode": "lines",
         "type": "scatter3d",
         "x": [
          0.9137160355241508,
          1.2243598269105955
         ],
         "y": [
          10.847146275632058,
          11.751959901181635
         ],
         "z": [
          0,
          0
         ]
        },
        {
         "line": {
          "color": "green"
         },
         "mode": "lines",
         "type": "scatter3d",
         "x": [
          0.9137160355241508,
          -0.8270077775253487
         ],
         "y": [
          10.847146275632058,
          11.435895024830128
         ],
         "z": [
          0,
          0
         ]
        },
        {
         "line": {
          "color": "green"
         },
         "mode": "lines",
         "type": "scatter3d",
         "x": [
          0.9137160355241508,
          -1.9406578018732303
         ],
         "y": [
          10.847146275632058,
          10.906620976070723
         ],
         "z": [
          0,
          0
         ]
        },
        {
         "line": {
          "color": "green"
         },
         "mode": "lines",
         "type": "scatter3d",
         "x": [
          0.9137160355241508,
          -0.6304188915916519
         ],
         "y": [
          10.847146275632058,
          9.529812869374924
         ],
         "z": [
          0,
          0
         ]
        },
        {
         "line": {
          "color": "green"
         },
         "mode": "lines",
         "type": "scatter3d",
         "x": [
          0.9137160355241508,
          0.9372244248130781
         ],
         "y": [
          10.847146275632058,
          10.042166847529726
         ],
         "z": [
          0,
          0
         ]
        },
        {
         "line": {
          "color": "green"
         },
         "mode": "lines",
         "type": "scatter3d",
         "x": [
          0.9137160355241508,
          0.8382407703465508
         ],
         "y": [
          10.847146275632058,
          11.276004808458495
         ],
         "z": [
          0,
          0
         ]
        },
        {
         "line": {
          "color": "green"
         },
         "mode": "lines",
         "type": "scatter3d",
         "x": [
          0.9137160355241508,
          0.021868355117492622
         ],
         "y": [
          10.847146275632058,
          11.23885671124404
         ],
         "z": [
          0,
          0
         ]
        },
        {
         "line": {
          "color": "green"
         },
         "mode": "lines",
         "type": "scatter3d",
         "x": [
          0.42881357831045697,
          1.2243598269105955
         ],
         "y": [
          10.742343458923937,
          11.751959901181635
         ],
         "z": [
          0,
          0
         ]
        },
        {
         "line": {
          "color": "green"
         },
         "mode": "lines",
         "type": "scatter3d",
         "x": [
          0.42881357831045697,
          -0.8270077775253487
         ],
         "y": [
          10.742343458923937,
          11.435895024830128
         ],
         "z": [
          0,
          0
         ]
        },
        {
         "line": {
          "color": "green"
         },
         "mode": "lines",
         "type": "scatter3d",
         "x": [
          0.42881357831045697,
          -1.9406578018732303
         ],
         "y": [
          10.742343458923937,
          10.906620976070723
         ],
         "z": [
          0,
          0
         ]
        },
        {
         "line": {
          "color": "green"
         },
         "mode": "lines",
         "type": "scatter3d",
         "x": [
          0.42881357831045697,
          -0.6304188915916519
         ],
         "y": [
          10.742343458923937,
          9.529812869374924
         ],
         "z": [
          0,
          0
         ]
        },
        {
         "line": {
          "color": "green"
         },
         "mode": "lines",
         "type": "scatter3d",
         "x": [
          0.42881357831045697,
          0.9372244248130781
         ],
         "y": [
          10.742343458923937,
          10.042166847529726
         ],
         "z": [
          0,
          0
         ]
        },
        {
         "line": {
          "color": "green"
         },
         "mode": "lines",
         "type": "scatter3d",
         "x": [
          0.42881357831045697,
          0.8382407703465508
         ],
         "y": [
          10.742343458923937,
          11.276004808458495
         ],
         "z": [
          0,
          0
         ]
        },
        {
         "line": {
          "color": "green"
         },
         "mode": "lines",
         "type": "scatter3d",
         "x": [
          0.42881357831045697,
          0.021868355117492622
         ],
         "y": [
          10.742343458923937,
          11.23885671124404
         ],
         "z": [
          0,
          0
         ]
        },
        {
         "line": {
          "color": "green"
         },
         "mode": "lines",
         "type": "scatter3d",
         "x": [
          1.2243598269105955,
          -0.8270077775253487
         ],
         "y": [
          11.751959901181635,
          11.435895024830128
         ],
         "z": [
          0,
          0
         ]
        },
        {
         "line": {
          "color": "green"
         },
         "mode": "lines",
         "type": "scatter3d",
         "x": [
          1.2243598269105955,
          -1.9406578018732303
         ],
         "y": [
          11.751959901181635,
          10.906620976070723
         ],
         "z": [
          0,
          0
         ]
        },
        {
         "line": {
          "color": "green"
         },
         "mode": "lines",
         "type": "scatter3d",
         "x": [
          1.2243598269105955,
          -0.6304188915916519
         ],
         "y": [
          11.751959901181635,
          9.529812869374924
         ],
         "z": [
          0,
          0
         ]
        },
        {
         "line": {
          "color": "green"
         },
         "mode": "lines",
         "type": "scatter3d",
         "x": [
          1.2243598269105955,
          0.9372244248130781
         ],
         "y": [
          11.751959901181635,
          10.042166847529726
         ],
         "z": [
          0,
          0
         ]
        },
        {
         "line": {
          "color": "green"
         },
         "mode": "lines",
         "type": "scatter3d",
         "x": [
          1.2243598269105955,
          0.8382407703465508
         ],
         "y": [
          11.751959901181635,
          11.276004808458495
         ],
         "z": [
          0,
          0
         ]
        },
        {
         "line": {
          "color": "green"
         },
         "mode": "lines",
         "type": "scatter3d",
         "x": [
          1.2243598269105955,
          0.021868355117492622
         ],
         "y": [
          11.751959901181635,
          11.23885671124404
         ],
         "z": [
          0,
          0
         ]
        },
        {
         "line": {
          "color": "green"
         },
         "mode": "lines",
         "type": "scatter3d",
         "x": [
          -0.8270077775253487,
          -1.9406578018732303
         ],
         "y": [
          11.435895024830128,
          10.906620976070723
         ],
         "z": [
          0,
          0
         ]
        },
        {
         "line": {
          "color": "green"
         },
         "mode": "lines",
         "type": "scatter3d",
         "x": [
          -0.8270077775253487,
          -0.6304188915916519
         ],
         "y": [
          11.435895024830128,
          9.529812869374924
         ],
         "z": [
          0,
          0
         ]
        },
        {
         "line": {
          "color": "green"
         },
         "mode": "lines",
         "type": "scatter3d",
         "x": [
          -0.8270077775253487,
          0.9372244248130781
         ],
         "y": [
          11.435895024830128,
          10.042166847529726
         ],
         "z": [
          0,
          0
         ]
        },
        {
         "line": {
          "color": "green"
         },
         "mode": "lines",
         "type": "scatter3d",
         "x": [
          -0.8270077775253487,
          0.8382407703465508
         ],
         "y": [
          11.435895024830128,
          11.276004808458495
         ],
         "z": [
          0,
          0
         ]
        },
        {
         "line": {
          "color": "green"
         },
         "mode": "lines",
         "type": "scatter3d",
         "x": [
          -0.8270077775253487,
          0.021868355117492622
         ],
         "y": [
          11.435895024830128,
          11.23885671124404
         ],
         "z": [
          0,
          0
         ]
        },
        {
         "line": {
          "color": "green"
         },
         "mode": "lines",
         "type": "scatter3d",
         "x": [
          -1.9406578018732303,
          -0.6304188915916519
         ],
         "y": [
          10.906620976070723,
          9.529812869374924
         ],
         "z": [
          0,
          0
         ]
        },
        {
         "line": {
          "color": "green"
         },
         "mode": "lines",
         "type": "scatter3d",
         "x": [
          -1.9406578018732303,
          0.9372244248130781
         ],
         "y": [
          10.906620976070723,
          10.042166847529726
         ],
         "z": [
          0,
          0
         ]
        },
        {
         "line": {
          "color": "green"
         },
         "mode": "lines",
         "type": "scatter3d",
         "x": [
          -1.9406578018732303,
          0.8382407703465508
         ],
         "y": [
          10.906620976070723,
          11.276004808458495
         ],
         "z": [
          0,
          0
         ]
        },
        {
         "line": {
          "color": "green"
         },
         "mode": "lines",
         "type": "scatter3d",
         "x": [
          -1.9406578018732303,
          0.021868355117492622
         ],
         "y": [
          10.906620976070723,
          11.23885671124404
         ],
         "z": [
          0,
          0
         ]
        },
        {
         "line": {
          "color": "green"
         },
         "mode": "lines",
         "type": "scatter3d",
         "x": [
          -0.6304188915916519,
          0.9372244248130781
         ],
         "y": [
          9.529812869374924,
          10.042166847529726
         ],
         "z": [
          0,
          0
         ]
        },
        {
         "line": {
          "color": "green"
         },
         "mode": "lines",
         "type": "scatter3d",
         "x": [
          -0.6304188915916519,
          0.8382407703465508
         ],
         "y": [
          9.529812869374924,
          11.276004808458495
         ],
         "z": [
          0,
          0
         ]
        },
        {
         "line": {
          "color": "green"
         },
         "mode": "lines",
         "type": "scatter3d",
         "x": [
          -0.6304188915916519,
          0.021868355117492622
         ],
         "y": [
          9.529812869374924,
          11.23885671124404
         ],
         "z": [
          0,
          0
         ]
        },
        {
         "line": {
          "color": "green"
         },
         "mode": "lines",
         "type": "scatter3d",
         "x": [
          0.9372244248130781,
          0.8382407703465508
         ],
         "y": [
          10.042166847529726,
          11.276004808458495
         ],
         "z": [
          0,
          0
         ]
        },
        {
         "line": {
          "color": "green"
         },
         "mode": "lines",
         "type": "scatter3d",
         "x": [
          0.9372244248130781,
          0.021868355117492622
         ],
         "y": [
          10.042166847529726,
          11.23885671124404
         ],
         "z": [
          0,
          0
         ]
        },
        {
         "line": {
          "color": "green"
         },
         "mode": "lines",
         "type": "scatter3d",
         "x": [
          0.8382407703465508,
          0.021868355117492622
         ],
         "y": [
          11.276004808458495,
          11.23885671124404
         ],
         "z": [
          0,
          0
         ]
        }
       ],
       "layout": {
        "showlegend": false,
        "template": {
         "data": {
          "bar": [
           {
            "error_x": {
             "color": "#2a3f5f"
            },
            "error_y": {
             "color": "#2a3f5f"
            },
            "marker": {
             "line": {
              "color": "#E5ECF6",
              "width": 0.5
             },
             "pattern": {
              "fillmode": "overlay",
              "size": 10,
              "solidity": 0.2
             }
            },
            "type": "bar"
           }
          ],
          "barpolar": [
           {
            "marker": {
             "line": {
              "color": "#E5ECF6",
              "width": 0.5
             },
             "pattern": {
              "fillmode": "overlay",
              "size": 10,
              "solidity": 0.2
             }
            },
            "type": "barpolar"
           }
          ],
          "carpet": [
           {
            "aaxis": {
             "endlinecolor": "#2a3f5f",
             "gridcolor": "white",
             "linecolor": "white",
             "minorgridcolor": "white",
             "startlinecolor": "#2a3f5f"
            },
            "baxis": {
             "endlinecolor": "#2a3f5f",
             "gridcolor": "white",
             "linecolor": "white",
             "minorgridcolor": "white",
             "startlinecolor": "#2a3f5f"
            },
            "type": "carpet"
           }
          ],
          "choropleth": [
           {
            "colorbar": {
             "outlinewidth": 0,
             "ticks": ""
            },
            "type": "choropleth"
           }
          ],
          "contour": [
           {
            "colorbar": {
             "outlinewidth": 0,
             "ticks": ""
            },
            "colorscale": [
             [
              0,
              "#0d0887"
             ],
             [
              0.1111111111111111,
              "#46039f"
             ],
             [
              0.2222222222222222,
              "#7201a8"
             ],
             [
              0.3333333333333333,
              "#9c179e"
             ],
             [
              0.4444444444444444,
              "#bd3786"
             ],
             [
              0.5555555555555556,
              "#d8576b"
             ],
             [
              0.6666666666666666,
              "#ed7953"
             ],
             [
              0.7777777777777778,
              "#fb9f3a"
             ],
             [
              0.8888888888888888,
              "#fdca26"
             ],
             [
              1,
              "#f0f921"
             ]
            ],
            "type": "contour"
           }
          ],
          "contourcarpet": [
           {
            "colorbar": {
             "outlinewidth": 0,
             "ticks": ""
            },
            "type": "contourcarpet"
           }
          ],
          "heatmap": [
           {
            "colorbar": {
             "outlinewidth": 0,
             "ticks": ""
            },
            "colorscale": [
             [
              0,
              "#0d0887"
             ],
             [
              0.1111111111111111,
              "#46039f"
             ],
             [
              0.2222222222222222,
              "#7201a8"
             ],
             [
              0.3333333333333333,
              "#9c179e"
             ],
             [
              0.4444444444444444,
              "#bd3786"
             ],
             [
              0.5555555555555556,
              "#d8576b"
             ],
             [
              0.6666666666666666,
              "#ed7953"
             ],
             [
              0.7777777777777778,
              "#fb9f3a"
             ],
             [
              0.8888888888888888,
              "#fdca26"
             ],
             [
              1,
              "#f0f921"
             ]
            ],
            "type": "heatmap"
           }
          ],
          "heatmapgl": [
           {
            "colorbar": {
             "outlinewidth": 0,
             "ticks": ""
            },
            "colorscale": [
             [
              0,
              "#0d0887"
             ],
             [
              0.1111111111111111,
              "#46039f"
             ],
             [
              0.2222222222222222,
              "#7201a8"
             ],
             [
              0.3333333333333333,
              "#9c179e"
             ],
             [
              0.4444444444444444,
              "#bd3786"
             ],
             [
              0.5555555555555556,
              "#d8576b"
             ],
             [
              0.6666666666666666,
              "#ed7953"
             ],
             [
              0.7777777777777778,
              "#fb9f3a"
             ],
             [
              0.8888888888888888,
              "#fdca26"
             ],
             [
              1,
              "#f0f921"
             ]
            ],
            "type": "heatmapgl"
           }
          ],
          "histogram": [
           {
            "marker": {
             "pattern": {
              "fillmode": "overlay",
              "size": 10,
              "solidity": 0.2
             }
            },
            "type": "histogram"
           }
          ],
          "histogram2d": [
           {
            "colorbar": {
             "outlinewidth": 0,
             "ticks": ""
            },
            "colorscale": [
             [
              0,
              "#0d0887"
             ],
             [
              0.1111111111111111,
              "#46039f"
             ],
             [
              0.2222222222222222,
              "#7201a8"
             ],
             [
              0.3333333333333333,
              "#9c179e"
             ],
             [
              0.4444444444444444,
              "#bd3786"
             ],
             [
              0.5555555555555556,
              "#d8576b"
             ],
             [
              0.6666666666666666,
              "#ed7953"
             ],
             [
              0.7777777777777778,
              "#fb9f3a"
             ],
             [
              0.8888888888888888,
              "#fdca26"
             ],
             [
              1,
              "#f0f921"
             ]
            ],
            "type": "histogram2d"
           }
          ],
          "histogram2dcontour": [
           {
            "colorbar": {
             "outlinewidth": 0,
             "ticks": ""
            },
            "colorscale": [
             [
              0,
              "#0d0887"
             ],
             [
              0.1111111111111111,
              "#46039f"
             ],
             [
              0.2222222222222222,
              "#7201a8"
             ],
             [
              0.3333333333333333,
              "#9c179e"
             ],
             [
              0.4444444444444444,
              "#bd3786"
             ],
             [
              0.5555555555555556,
              "#d8576b"
             ],
             [
              0.6666666666666666,
              "#ed7953"
             ],
             [
              0.7777777777777778,
              "#fb9f3a"
             ],
             [
              0.8888888888888888,
              "#fdca26"
             ],
             [
              1,
              "#f0f921"
             ]
            ],
            "type": "histogram2dcontour"
           }
          ],
          "mesh3d": [
           {
            "colorbar": {
             "outlinewidth": 0,
             "ticks": ""
            },
            "type": "mesh3d"
           }
          ],
          "parcoords": [
           {
            "line": {
             "colorbar": {
              "outlinewidth": 0,
              "ticks": ""
             }
            },
            "type": "parcoords"
           }
          ],
          "pie": [
           {
            "automargin": true,
            "type": "pie"
           }
          ],
          "scatter": [
           {
            "fillpattern": {
             "fillmode": "overlay",
             "size": 10,
             "solidity": 0.2
            },
            "type": "scatter"
           }
          ],
          "scatter3d": [
           {
            "line": {
             "colorbar": {
              "outlinewidth": 0,
              "ticks": ""
             }
            },
            "marker": {
             "colorbar": {
              "outlinewidth": 0,
              "ticks": ""
             }
            },
            "type": "scatter3d"
           }
          ],
          "scattercarpet": [
           {
            "marker": {
             "colorbar": {
              "outlinewidth": 0,
              "ticks": ""
             }
            },
            "type": "scattercarpet"
           }
          ],
          "scattergeo": [
           {
            "marker": {
             "colorbar": {
              "outlinewidth": 0,
              "ticks": ""
             }
            },
            "type": "scattergeo"
           }
          ],
          "scattergl": [
           {
            "marker": {
             "colorbar": {
              "outlinewidth": 0,
              "ticks": ""
             }
            },
            "type": "scattergl"
           }
          ],
          "scattermapbox": [
           {
            "marker": {
             "colorbar": {
              "outlinewidth": 0,
              "ticks": ""
             }
            },
            "type": "scattermapbox"
           }
          ],
          "scatterpolar": [
           {
            "marker": {
             "colorbar": {
              "outlinewidth": 0,
              "ticks": ""
             }
            },
            "type": "scatterpolar"
           }
          ],
          "scatterpolargl": [
           {
            "marker": {
             "colorbar": {
              "outlinewidth": 0,
              "ticks": ""
             }
            },
            "type": "scatterpolargl"
           }
          ],
          "scatterternary": [
           {
            "marker": {
             "colorbar": {
              "outlinewidth": 0,
              "ticks": ""
             }
            },
            "type": "scatterternary"
           }
          ],
          "surface": [
           {
            "colorbar": {
             "outlinewidth": 0,
             "ticks": ""
            },
            "colorscale": [
             [
              0,
              "#0d0887"
             ],
             [
              0.1111111111111111,
              "#46039f"
             ],
             [
              0.2222222222222222,
              "#7201a8"
             ],
             [
              0.3333333333333333,
              "#9c179e"
             ],
             [
              0.4444444444444444,
              "#bd3786"
             ],
             [
              0.5555555555555556,
              "#d8576b"
             ],
             [
              0.6666666666666666,
              "#ed7953"
             ],
             [
              0.7777777777777778,
              "#fb9f3a"
             ],
             [
              0.8888888888888888,
              "#fdca26"
             ],
             [
              1,
              "#f0f921"
             ]
            ],
            "type": "surface"
           }
          ],
          "table": [
           {
            "cells": {
             "fill": {
              "color": "#EBF0F8"
             },
             "line": {
              "color": "white"
             }
            },
            "header": {
             "fill": {
              "color": "#C8D4E3"
             },
             "line": {
              "color": "white"
             }
            },
            "type": "table"
           }
          ]
         },
         "layout": {
          "annotationdefaults": {
           "arrowcolor": "#2a3f5f",
           "arrowhead": 0,
           "arrowwidth": 1
          },
          "autotypenumbers": "strict",
          "coloraxis": {
           "colorbar": {
            "outlinewidth": 0,
            "ticks": ""
           }
          },
          "colorscale": {
           "diverging": [
            [
             0,
             "#8e0152"
            ],
            [
             0.1,
             "#c51b7d"
            ],
            [
             0.2,
             "#de77ae"
            ],
            [
             0.3,
             "#f1b6da"
            ],
            [
             0.4,
             "#fde0ef"
            ],
            [
             0.5,
             "#f7f7f7"
            ],
            [
             0.6,
             "#e6f5d0"
            ],
            [
             0.7,
             "#b8e186"
            ],
            [
             0.8,
             "#7fbc41"
            ],
            [
             0.9,
             "#4d9221"
            ],
            [
             1,
             "#276419"
            ]
           ],
           "sequential": [
            [
             0,
             "#0d0887"
            ],
            [
             0.1111111111111111,
             "#46039f"
            ],
            [
             0.2222222222222222,
             "#7201a8"
            ],
            [
             0.3333333333333333,
             "#9c179e"
            ],
            [
             0.4444444444444444,
             "#bd3786"
            ],
            [
             0.5555555555555556,
             "#d8576b"
            ],
            [
             0.6666666666666666,
             "#ed7953"
            ],
            [
             0.7777777777777778,
             "#fb9f3a"
            ],
            [
             0.8888888888888888,
             "#fdca26"
            ],
            [
             1,
             "#f0f921"
            ]
           ],
           "sequentialminus": [
            [
             0,
             "#0d0887"
            ],
            [
             0.1111111111111111,
             "#46039f"
            ],
            [
             0.2222222222222222,
             "#7201a8"
            ],
            [
             0.3333333333333333,
             "#9c179e"
            ],
            [
             0.4444444444444444,
             "#bd3786"
            ],
            [
             0.5555555555555556,
             "#d8576b"
            ],
            [
             0.6666666666666666,
             "#ed7953"
            ],
            [
             0.7777777777777778,
             "#fb9f3a"
            ],
            [
             0.8888888888888888,
             "#fdca26"
            ],
            [
             1,
             "#f0f921"
            ]
           ]
          },
          "colorway": [
           "#636efa",
           "#EF553B",
           "#00cc96",
           "#ab63fa",
           "#FFA15A",
           "#19d3f3",
           "#FF6692",
           "#B6E880",
           "#FF97FF",
           "#FECB52"
          ],
          "font": {
           "color": "#2a3f5f"
          },
          "geo": {
           "bgcolor": "white",
           "lakecolor": "white",
           "landcolor": "#E5ECF6",
           "showlakes": true,
           "showland": true,
           "subunitcolor": "white"
          },
          "hoverlabel": {
           "align": "left"
          },
          "hovermode": "closest",
          "mapbox": {
           "style": "light"
          },
          "paper_bgcolor": "white",
          "plot_bgcolor": "#E5ECF6",
          "polar": {
           "angularaxis": {
            "gridcolor": "white",
            "linecolor": "white",
            "ticks": ""
           },
           "bgcolor": "#E5ECF6",
           "radialaxis": {
            "gridcolor": "white",
            "linecolor": "white",
            "ticks": ""
           }
          },
          "scene": {
           "xaxis": {
            "backgroundcolor": "#E5ECF6",
            "gridcolor": "white",
            "gridwidth": 2,
            "linecolor": "white",
            "showbackground": true,
            "ticks": "",
            "zerolinecolor": "white"
           },
           "yaxis": {
            "backgroundcolor": "#E5ECF6",
            "gridcolor": "white",
            "gridwidth": 2,
            "linecolor": "white",
            "showbackground": true,
            "ticks": "",
            "zerolinecolor": "white"
           },
           "zaxis": {
            "backgroundcolor": "#E5ECF6",
            "gridcolor": "white",
            "gridwidth": 2,
            "linecolor": "white",
            "showbackground": true,
            "ticks": "",
            "zerolinecolor": "white"
           }
          },
          "shapedefaults": {
           "line": {
            "color": "#2a3f5f"
           }
          },
          "ternary": {
           "aaxis": {
            "gridcolor": "white",
            "linecolor": "white",
            "ticks": ""
           },
           "baxis": {
            "gridcolor": "white",
            "linecolor": "white",
            "ticks": ""
           },
           "bgcolor": "#E5ECF6",
           "caxis": {
            "gridcolor": "white",
            "linecolor": "white",
            "ticks": ""
           }
          },
          "title": {
           "x": 0.05
          },
          "xaxis": {
           "automargin": true,
           "gridcolor": "white",
           "linecolor": "white",
           "ticks": "",
           "title": {
            "standoff": 15
           },
           "zerolinecolor": "white",
           "zerolinewidth": 2
          },
          "yaxis": {
           "automargin": true,
           "gridcolor": "white",
           "linecolor": "white",
           "ticks": "",
           "title": {
            "standoff": 15
           },
           "zerolinecolor": "white",
           "zerolinewidth": 2
          }
         }
        }
       }
      }
     },
     "metadata": {},
     "output_type": "display_data"
    }
   ],
   "source": [
    "rips_graph(Xaug, 10)"
   ]
  },
  {
   "attachments": {},
   "cell_type": "markdown",
   "metadata": {},
   "source": [
    "## Vamos a hacer el análisis de Persistencia\n",
    "\n",
    "Vamos a comparar lo observado anteriormente con el diagrama de persistencia. Para esto, vamos a utilizar la librería \"gudhi\" de Python."
   ]
  },
  {
   "attachments": {},
   "cell_type": "markdown",
   "metadata": {},
   "source": [
    "Vamos  utilizar otro método para construir nuestro complejo de Rips utilizando una matriz de distancia que encapsula la información de las distancias para dos puntos diferentes en nuestra nube de puntos."
   ]
  },
  {
   "cell_type": "code",
   "execution_count": 8,
   "metadata": {},
   "outputs": [],
   "source": [
    "from scipy.spatial import distance_matrix\n",
    "DX=distance_matrix(X,X,2)"
   ]
  },
  {
   "attachments": {},
   "cell_type": "markdown",
   "metadata": {},
   "source": [
    "Ahora construimos nuestro arbol de complejos de Rips utilizando la matriz de distancias y max_edge_lenght nos indica que tan grande será el radio de las bolas abiertas."
   ]
  },
  {
   "cell_type": "code",
   "execution_count": 9,
   "metadata": {},
   "outputs": [],
   "source": [
    "skeletonX=gd.RipsComplex(\n",
    "    distance_matrix = DX, \n",
    "    max_edge_length = 2\n",
    ") \n",
    "\n",
    "# Aquí vamos a pedir que nuestra complejo sea máximo de dimensión 1 (o sea, sólo tenga vértices y aristas)\n",
    "Rips_simplex_tree_X = skeletonX.create_simplex_tree(max_dimension = 1)"
   ]
  },
  {
   "attachments": {},
   "cell_type": "markdown",
   "metadata": {},
   "source": [
    "Vamos a calcular la persistencia de las propiedades topológicas ($\\beta_0$ y $\\beta_1$) de nuestros complejos de Rips en el árbol (filtración).\n",
    "\n",
    "Veamos los primeros 10 filas, ¿Qué observas?"
   ]
  },
  {
   "cell_type": "code",
   "execution_count": 10,
   "metadata": {},
   "outputs": [
    {
     "data": {
      "text/plain": [
       "[(0, (0.0, inf)),\n",
       " (0, (0.0, inf)),\n",
       " (0, (0.0, inf)),\n",
       " (0, (0.0, inf)),\n",
       " (0, (0.0, inf)),\n",
       " (0, (0.0, 1.9301427241399862)),\n",
       " (0, (0.0, 1.6023628346813144)),\n",
       " (0, (0.0, 1.175461228827924)),\n",
       " (0, (0.0, 1.138706245860114)),\n",
       " (0, (0.0, 1.1261714947895072)),\n",
       " (0, (0.0, 0.9230283811965333)),\n",
       " (0, (0.0, 0.9025442213278142)),\n",
       " (0, (0.0, 0.8762667909042636)),\n",
       " (0, (0.0, 0.8714440805878001)),\n",
       " (0, (0.0, 0.858462451589535)),\n",
       " (0, (0.0, 0.8271304256506905)),\n",
       " (0, (0.0, 0.8053226210872987)),\n",
       " (0, (0.0, 0.6419733829443847)),\n",
       " (0, (0.0, 0.5823789886050974)),\n",
       " (0, (0.0, 0.5176758455154875))]"
      ]
     },
     "execution_count": 10,
     "metadata": {},
     "output_type": "execute_result"
    }
   ],
   "source": [
    "Barcodes_Rips_X = Rips_simplex_tree_X.persistence()\n",
    "Barcodes_Rips_X[0:20]"
   ]
  },
  {
   "cell_type": "code",
   "execution_count": 12,
   "metadata": {},
   "outputs": [],
   "source": [
    "import matplotlib as mpl\n",
    "mpl.rcParams['text.usetex'] = True"
   ]
  },
  {
   "cell_type": "code",
   "execution_count": 14,
   "metadata": {},
   "outputs": [
    {
     "data": {
      "image/png": "[encoded data removed]",
      "text/plain": [
       "<Figure size 640x480 with 1 Axes>"
      ]
     },
     "metadata": {},
     "output_type": "display_data"
    }
   ],
   "source": [
    "gd.plot_persistence_diagram(Barcodes_Rips_X);"
   ]
  },
  {
   "attachments": {},
   "cell_type": "markdown",
   "metadata": {},
   "source": [
    "Notemos que en nuestro gráfico de persistencia, hay tres puntitos rojos que duraron mucho más tiempo en comparación que los otros. Esto nos indica que hay tres componentes conexas persistentes en nuestra base de datos.\n",
    "\n",
    "Por lo tanto, si quisieramos hacer un clustering de nuestros datos, podríamos hacerlo en tres grupos y con esto garantizar que los datos en cada cluster van a estar intrínsecamente relacionados."
   ]
  },
  {
   "attachments": {},
   "cell_type": "markdown",
   "metadata": {},
   "source": [
    "## Otra paquetería para lo mismo\n",
    "\n",
    "Ahora utilizaremos ripser.ripser que es una paquetería de C++ que nos permite calcular la persistencia de las propiedades topológicas de nuestros complejos de Rips de manera eficiente (con algoritmos especializados).\n",
    "\n",
    "La diferencia entre el método de gudhi y ripser es que el método de gudhi calcula la persistencia de las propiedades topológicas de una filtración comenzando desde un valor dado (un radio $r$ inicial para construir la filtración) y en ripser no es necesario inicializar esto."
   ]
  },
  {
   "cell_type": "code",
   "execution_count": 15,
   "metadata": {},
   "outputs": [],
   "source": [
    "def diagram_sizes(dgms):\n",
    "    return \", \".join([f\"|$H_{i}$|={len(d)}\" for i, d in enumerate(dgms)])   #Aquí almacenamos la cantidad de generadores de cada espacio de homología. Estas cantidades se muestran en la impresión del mismo (puedes omitirlo si gustas, por supuesto haciendo los cambios necesarios en el código del diagrama)"
   ]
  },
  {
   "attachments": {},
   "cell_type": "markdown",
   "metadata": {},
   "source": [
    "Vamos a construir el gráfico de persistencia para el mismo conjunto de datos con ripser suponiendo que nuestro complejo simplicial es de dimensión 2, y veamos si es necesaria esta suposición o no."
   ]
  },
  {
   "cell_type": "code",
   "execution_count": 16,
   "metadata": {},
   "outputs": [
    {
     "data": {
      "image/png": "[encoded data removed]",
      "text/plain": [
       "<Figure size 640x480 with 1 Axes>"
      ]
     },
     "metadata": {},
     "output_type": "display_data"
    }
   ],
   "source": [
    "dgm_X = ripser.ripser(X,maxdim=2)['dgms'] #Aquí se construye y grafica el diagrama de persistencia (en este caso, de los puntos simulados). maxdim es la dimensión máxima en homología que quieres que se muestre.\n",
    "persim.plot_diagrams(\n",
    "    dgm_X, \n",
    "    show=True, \n",
    "    title=f\"Datos Simulados\\n{diagram_sizes(dgm_X)}\"\n",
    ") "
   ]
  },
  {
   "attachments": {},
   "cell_type": "markdown",
   "metadata": {},
   "source": [
    "#### ¿Fue necesaria nuestra suposición de que nuestro complejo de Rips era de dimensión 2?\n",
    "\n",
    "(Tu respuesta aquí)"
   ]
  },
  {
   "attachments": {},
   "cell_type": "markdown",
   "metadata": {},
   "source": [
    "# Analicemos un circulo topológico\n",
    "\n",
    "Veamos como se ve un conjunto de datos circular topológico."
   ]
  },
  {
   "cell_type": "code",
   "execution_count": 17,
   "metadata": {},
   "outputs": [],
   "source": [
    "import math\n",
    "from random import random\n",
    "def generate_circle(dim,n, radius, max_noise):\n",
    "    \"\"\"\n",
    "    Generate n points on a 1-sphere with the center in the point (0,0) \n",
    "    with the given radius. \n",
    "    \n",
    "    Noise is added so that the distance from\n",
    "    the generated point to some point on the sphere does not\n",
    "    exceed max_noise parameter.\n",
    "    \n",
    "    Returns the list of generated points.    \n",
    "    \"\"\"\n",
    "    points = []\n",
    "    if dim==3:\n",
    "        for i in range(n):\n",
    "            anglet = 2 * math.pi * random()\n",
    "            anglep = 2* math.pi *random()\n",
    "            noise = max_noise * random()\n",
    "            r = radius * (1 + noise)\n",
    "            point = [r * math.cos(anglet)*math.cos(anglep), r * math.sin(anglet)*math.cos(anglep),r*math.sin(anglep)]\n",
    "            points.append(point)\n",
    "    if dim==2:\n",
    "        for i in range(n):\n",
    "            anglet = 2 * math.pi * random()\n",
    "            noise = max_noise * random()\n",
    "            r = radius * (1 + noise)\n",
    "            point = [r * math.cos(anglet), r * math.sin(anglet),0]\n",
    "            points.append(point)\n",
    "    return np.array(points)"
   ]
  },
  {
   "cell_type": "code",
   "execution_count": 18,
   "metadata": {},
   "outputs": [
    {
     "data": {
      "application/vnd.plotly.v1+json": {
       "config": {
        "plotlyServerURL": "https://plot.ly"
       },
       "data": [
        {
         "mode": "markers",
         "type": "scatter3d",
         "x": [
          -5.302249689007088,
          -5.192243851269012,
          -10.66991911857496,
          -13.083719534402316,
          -2.044931674538602,
          9.048089194675251,
          0.935923757475094,
          12.512688694074095,
          -4.261166692334919,
          -6.581726063804579,
          -13.506601299308501,
          14.736461446286377,
          11.564556107594363,
          -13.37129675667891,
          -15.76207353036172,
          10.771851260545565,
          19.452478835834967,
          -8.157716652015297,
          -18.948014737016486,
          16.86711793385205,
          -13.70160247257328,
          3.0661018517002385,
          5.361577047748059,
          -0.5600782355183372,
          -11.408035071235338,
          -14.968603979957722,
          7.06613434427766,
          -19.04782068872711,
          -10.295651936473906,
          10.08099563110186,
          -4.313567664466708,
          -8.536141401939323,
          11.93080095233531,
          13.721973003962042,
          11.039765673889558,
          4.629100115195126,
          -10.862488744676202,
          -8.145690956087645,
          -9.844605613283418,
          -4.040000420910982,
          12.405563817021518,
          9.437606379440718,
          0.2689363105772984,
          -13.353684258628089,
          18.04592062774805,
          -4.175738459867722,
          10.499771495637486,
          8.042772551868197,
          -14.63715599541433,
          -16.460549986873975,
          10.332679279501555,
          -6.060140213695901,
          -13.265368033362316,
          15.123726264665876,
          9.32015879522642,
          9.240396262663849,
          1.2758344724118575,
          9.679977547268996,
          -2.801305689989083,
          -5.930850115638638,
          -5.6908100789781555,
          -12.039289434535547,
          0.1846175819218924,
          -10.339941787661749,
          8.125008145422258,
          7.120631923094397,
          -10.20969989928601,
          -7.922290679910559,
          -6.792238092701971,
          -7.972183151179836,
          -13.813334033247362,
          14.358488649538964,
          -1.5146895544795342,
          11.644010862673486,
          13.264922289262826,
          -10.25830625445742,
          -13.984353434584508,
          6.126300517722586,
          -0.3099804663255806,
          -12.072596783061146,
          13.06323379028511,
          -3.729106156707781,
          5.7602387026450765,
          7.462117734521508,
          11.94552822200091,
          6.746449189959385,
          5.300856210513844,
          5.029977402537488,
          17.996844597486565,
          -13.265793486314283,
          -10.81351947019232,
          11.371450803124773,
          10.398784482887734,
          -8.487795742478797,
          13.724542987775603,
          3.0908636981042323,
          9.164520322085489,
          9.265690062929407,
          -14.556872618329441,
          -8.708226532937873
         ],
         "y": [
          -13.136094922148624,
          12.170567993026621,
          6.844357023812276,
          9.470558420152956,
          10.71533161310452,
          12.714491006162286,
          -10.247168888821365,
          -2.068122749480994,
          19.35699154075789,
          -10.47045355683054,
          -9.61454474473558,
          -13.113914018631178,
          -2.140546744110084,
          -7.810447164594229,
          8.800916409284605,
          8.729433472926486,
          1.6887677475739413,
          -13.903636254307267,
          -2.3075763015464683,
          -7.174693752328633,
          10.557122334942422,
          -16.401310682147365,
          10.372983015717331,
          -13.207992419600352,
          5.177733963294445,
          -4.346906031180659,
          -14.043495658390043,
          0.16816657360658355,
          1.7865966287285802,
          11.490400288746391,
          -10.05762718599498,
          10.340200824155826,
          2.7845603724419763,
          -3.9072875856593265,
          -2.789641954186215,
          -9.339048270649675,
          -4.631760144285561,
          15.785775765141906,
          5.948033318829055,
          -12.075540014606334,
          -10.336109091903449,
          15.844272048447612,
          -15.79080827091374,
          13.560710908526833,
          -7.677228897459457,
          -11.915750673163386,
          -15.91527213040568,
          13.267907603816811,
          -10.134619484981949,
          3.842636612101214,
          -6.703481417822021,
          10.761582230905553,
          12.522098044929848,
          1.9539991195596111,
          -3.7197338549774495,
          10.792851029093715,
          10.60591122117752,
          16.89696581482008,
          11.359866701305151,
          15.644604333316146,
          -14.62010816211341,
          -9.850707867242862,
          -13.461187545501945,
          7.173499232966819,
          16.516583821873375,
          -18.453949224984743,
          1.8574089731718104,
          -13.626518167563573,
          -16.62039568614089,
          15.7093923199087,
          8.077274508724846,
          -5.238958059180338,
          10.052268762563454,
          -15.405490965982732,
          -14.241089547523314,
          -6.83109430143277,
          -13.856950719351074,
          -11.222855357720592,
          13.709720400296705,
          0.7895249928954834,
          -11.236105796544832,
          10.696169477409006,
          -13.340568314871302,
          -11.525008484458661,
          -0.0034413489593511947,
          -14.964659293996329,
          13.34016540841799,
          11.201543445234618,
          3.1055535638087512,
          -0.9109369522708396,
          -11.435169767962494,
          5.977709050224528,
          2.1950743828976607,
          14.12477500569718,
          -1.5811247672757243,
          15.90668445943191,
          -11.082247118803389,
          15.294914258737206,
          -5.073050521242761,
          13.197998474141832
         ],
         "z": [
          0,
          0,
          0,
          0,
          0,
          0,
          0,
          0,
          0,
          0,
          0,
          0,
          0,
          0,
          0,
          0,
          0,
          0,
          0,
          0,
          0,
          0,
          0,
          0,
          0,
          0,
          0,
          0,
          0,
          0,
          0,
          0,
          0,
          0,
          0,
          0,
          0,
          0,
          0,
          0,
          0,
          0,
          0,
          0,
          0,
          0,
          0,
          0,
          0,
          0,
          0,
          0,
          0,
          0,
          0,
          0,
          0,
          0,
          0,
          0,
          0,
          0,
          0,
          0,
          0,
          0,
          0,
          0,
          0,
          0,
          0,
          0,
          0,
          0,
          0,
          0,
          0,
          0,
          0,
          0,
          0,
          0,
          0,
          0,
          0,
          0,
          0,
          0,
          0,
          0,
          0,
          0,
          0,
          0,
          0,
          0,
          0,
          0,
          0,
          0
         ]
        }
       ],
       "layout": {
        "template": {
         "data": {
          "bar": [
           {
            "error_x": {
             "color": "#2a3f5f"
            },
            "error_y": {
             "color": "#2a3f5f"
            },
            "marker": {
             "line": {
              "color": "#E5ECF6",
              "width": 0.5
             },
             "pattern": {
              "fillmode": "overlay",
              "size": 10,
              "solidity": 0.2
             }
            },
            "type": "bar"
           }
          ],
          "barpolar": [
           {
            "marker": {
             "line": {
              "color": "#E5ECF6",
              "width": 0.5
             },
             "pattern": {
              "fillmode": "overlay",
              "size": 10,
              "solidity": 0.2
             }
            },
            "type": "barpolar"
           }
          ],
          "carpet": [
           {
            "aaxis": {
             "endlinecolor": "#2a3f5f",
             "gridcolor": "white",
             "linecolor": "white",
             "minorgridcolor": "white",
             "startlinecolor": "#2a3f5f"
            },
            "baxis": {
             "endlinecolor": "#2a3f5f",
             "gridcolor": "white",
             "linecolor": "white",
             "minorgridcolor": "white",
             "startlinecolor": "#2a3f5f"
            },
            "type": "carpet"
           }
          ],
          "choropleth": [
           {
            "colorbar": {
             "outlinewidth": 0,
             "ticks": ""
            },
            "type": "choropleth"
           }
          ],
          "contour": [
           {
            "colorbar": {
             "outlinewidth": 0,
             "ticks": ""
            },
            "colorscale": [
             [
              0,
              "#0d0887"
             ],
             [
              0.1111111111111111,
              "#46039f"
             ],
             [
              0.2222222222222222,
              "#7201a8"
             ],
             [
              0.3333333333333333,
              "#9c179e"
             ],
             [
              0.4444444444444444,
              "#bd3786"
             ],
             [
              0.5555555555555556,
              "#d8576b"
             ],
             [
              0.6666666666666666,
              "#ed7953"
             ],
             [
              0.7777777777777778,
              "#fb9f3a"
             ],
             [
              0.8888888888888888,
              "#fdca26"
             ],
             [
              1,
              "#f0f921"
             ]
            ],
            "type": "contour"
           }
          ],
          "contourcarpet": [
           {
            "colorbar": {
             "outlinewidth": 0,
             "ticks": ""
            },
            "type": "contourcarpet"
           }
          ],
          "heatmap": [
           {
            "colorbar": {
             "outlinewidth": 0,
             "ticks": ""
            },
            "colorscale": [
             [
              0,
              "#0d0887"
             ],
             [
              0.1111111111111111,
              "#46039f"
             ],
             [
              0.2222222222222222,
              "#7201a8"
             ],
             [
              0.3333333333333333,
              "#9c179e"
             ],
             [
              0.4444444444444444,
              "#bd3786"
             ],
             [
              0.5555555555555556,
              "#d8576b"
             ],
             [
              0.6666666666666666,
              "#ed7953"
             ],
             [
              0.7777777777777778,
              "#fb9f3a"
             ],
             [
              0.8888888888888888,
              "#fdca26"
             ],
             [
              1,
              "#f0f921"
             ]
            ],
            "type": "heatmap"
           }
          ],
          "heatmapgl": [
           {
            "colorbar": {
             "outlinewidth": 0,
             "ticks": ""
            },
            "colorscale": [
             [
              0,
              "#0d0887"
             ],
             [
              0.1111111111111111,
              "#46039f"
             ],
             [
              0.2222222222222222,
              "#7201a8"
             ],
             [
              0.3333333333333333,
              "#9c179e"
             ],
             [
              0.4444444444444444,
              "#bd3786"
             ],
             [
              0.5555555555555556,
              "#d8576b"
             ],
             [
              0.6666666666666666,
              "#ed7953"
             ],
             [
              0.7777777777777778,
              "#fb9f3a"
             ],
             [
              0.8888888888888888,
              "#fdca26"
             ],
             [
              1,
              "#f0f921"
             ]
            ],
            "type": "heatmapgl"
           }
          ],
          "histogram": [
           {
            "marker": {
             "pattern": {
              "fillmode": "overlay",
              "size": 10,
              "solidity": 0.2
             }
            },
            "type": "histogram"
           }
          ],
          "histogram2d": [
           {
            "colorbar": {
             "outlinewidth": 0,
             "ticks": ""
            },
            "colorscale": [
             [
              0,
              "#0d0887"
             ],
             [
              0.1111111111111111,
              "#46039f"
             ],
             [
              0.2222222222222222,
              "#7201a8"
             ],
             [
              0.3333333333333333,
              "#9c179e"
             ],
             [
              0.4444444444444444,
              "#bd3786"
             ],
             [
              0.5555555555555556,
              "#d8576b"
             ],
             [
              0.6666666666666666,
              "#ed7953"
             ],
             [
              0.7777777777777778,
              "#fb9f3a"
             ],
             [
              0.8888888888888888,
              "#fdca26"
             ],
             [
              1,
              "#f0f921"
             ]
            ],
            "type": "histogram2d"
           }
          ],
          "histogram2dcontour": [
           {
            "colorbar": {
             "outlinewidth": 0,
             "ticks": ""
            },
            "colorscale": [
             [
              0,
              "#0d0887"
             ],
             [
              0.1111111111111111,
              "#46039f"
             ],
             [
              0.2222222222222222,
              "#7201a8"
             ],
             [
              0.3333333333333333,
              "#9c179e"
             ],
             [
              0.4444444444444444,
              "#bd3786"
             ],
             [
              0.5555555555555556,
              "#d8576b"
             ],
             [
              0.6666666666666666,
              "#ed7953"
             ],
             [
              0.7777777777777778,
              "#fb9f3a"
             ],
             [
              0.8888888888888888,
              "#fdca26"
             ],
             [
              1,
              "#f0f921"
             ]
            ],
            "type": "histogram2dcontour"
           }
          ],
          "mesh3d": [
           {
            "colorbar": {
             "outlinewidth": 0,
             "ticks": ""
            },
            "type": "mesh3d"
           }
          ],
          "parcoords": [
           {
            "line": {
             "colorbar": {
              "outlinewidth": 0,
              "ticks": ""
             }
            },
            "type": "parcoords"
           }
          ],
          "pie": [
           {
            "automargin": true,
            "type": "pie"
           }
          ],
          "scatter": [
           {
            "fillpattern": {
             "fillmode": "overlay",
             "size": 10,
             "solidity": 0.2
            },
            "type": "scatter"
           }
          ],
          "scatter3d": [
           {
            "line": {
             "colorbar": {
              "outlinewidth": 0,
              "ticks": ""
             }
            },
            "marker": {
             "colorbar": {
              "outlinewidth": 0,
              "ticks": ""
             }
            },
            "type": "scatter3d"
           }
          ],
          "scattercarpet": [
           {
            "marker": {
             "colorbar": {
              "outlinewidth": 0,
              "ticks": ""
             }
            },
            "type": "scattercarpet"
           }
          ],
          "scattergeo": [
           {
            "marker": {
             "colorbar": {
              "outlinewidth": 0,
              "ticks": ""
             }
            },
            "type": "scattergeo"
           }
          ],
          "scattergl": [
           {
            "marker": {
             "colorbar": {
              "outlinewidth": 0,
              "ticks": ""
             }
            },
            "type": "scattergl"
           }
          ],
          "scattermapbox": [
           {
            "marker": {
             "colorbar": {
              "outlinewidth": 0,
              "ticks": ""
             }
            },
            "type": "scattermapbox"
           }
          ],
          "scatterpolar": [
           {
            "marker": {
             "colorbar": {
              "outlinewidth": 0,
              "ticks": ""
             }
            },
            "type": "scatterpolar"
           }
          ],
          "scatterpolargl": [
           {
            "marker": {
             "colorbar": {
              "outlinewidth": 0,
              "ticks": ""
             }
            },
            "type": "scatterpolargl"
           }
          ],
          "scatterternary": [
           {
            "marker": {
             "colorbar": {
              "outlinewidth": 0,
              "ticks": ""
             }
            },
            "type": "scatterternary"
           }
          ],
          "surface": [
           {
            "colorbar": {
             "outlinewidth": 0,
             "ticks": ""
            },
            "colorscale": [
             [
              0,
              "#0d0887"
             ],
             [
              0.1111111111111111,
              "#46039f"
             ],
             [
              0.2222222222222222,
              "#7201a8"
             ],
             [
              0.3333333333333333,
              "#9c179e"
             ],
             [
              0.4444444444444444,
              "#bd3786"
             ],
             [
              0.5555555555555556,
              "#d8576b"
             ],
             [
              0.6666666666666666,
              "#ed7953"
             ],
             [
              0.7777777777777778,
              "#fb9f3a"
             ],
             [
              0.8888888888888888,
              "#fdca26"
             ],
             [
              1,
              "#f0f921"
             ]
            ],
            "type": "surface"
           }
          ],
          "table": [
           {
            "cells": {
             "fill": {
              "color": "#EBF0F8"
             },
             "line": {
              "color": "white"
             }
            },
            "header": {
             "fill": {
              "color": "#C8D4E3"
             },
             "line": {
              "color": "white"
             }
            },
            "type": "table"
           }
          ]
         },
         "layout": {
          "annotationdefaults": {
           "arrowcolor": "#2a3f5f",
           "arrowhead": 0,
           "arrowwidth": 1
          },
          "autotypenumbers": "strict",
          "coloraxis": {
           "colorbar": {
            "outlinewidth": 0,
            "ticks": ""
           }
          },
          "colorscale": {
           "diverging": [
            [
             0,
             "#8e0152"
            ],
            [
             0.1,
             "#c51b7d"
            ],
            [
             0.2,
             "#de77ae"
            ],
            [
             0.3,
             "#f1b6da"
            ],
            [
             0.4,
             "#fde0ef"
            ],
            [
             0.5,
             "#f7f7f7"
            ],
            [
             0.6,
             "#e6f5d0"
            ],
            [
             0.7,
             "#b8e186"
            ],
            [
             0.8,
             "#7fbc41"
            ],
            [
             0.9,
             "#4d9221"
            ],
            [
             1,
             "#276419"
            ]
           ],
           "sequential": [
            [
             0,
             "#0d0887"
            ],
            [
             0.1111111111111111,
             "#46039f"
            ],
            [
             0.2222222222222222,
             "#7201a8"
            ],
            [
             0.3333333333333333,
             "#9c179e"
            ],
            [
             0.4444444444444444,
             "#bd3786"
            ],
            [
             0.5555555555555556,
             "#d8576b"
            ],
            [
             0.6666666666666666,
             "#ed7953"
            ],
            [
             0.7777777777777778,
             "#fb9f3a"
            ],
            [
             0.8888888888888888,
             "#fdca26"
            ],
            [
             1,
             "#f0f921"
            ]
           ],
           "sequentialminus": [
            [
             0,
             "#0d0887"
            ],
            [
             0.1111111111111111,
             "#46039f"
            ],
            [
             0.2222222222222222,
             "#7201a8"
            ],
            [
             0.3333333333333333,
             "#9c179e"
            ],
            [
             0.4444444444444444,
             "#bd3786"
            ],
            [
             0.5555555555555556,
             "#d8576b"
            ],
            [
             0.6666666666666666,
             "#ed7953"
            ],
            [
             0.7777777777777778,
             "#fb9f3a"
            ],
            [
             0.8888888888888888,
             "#fdca26"
            ],
            [
             1,
             "#f0f921"
            ]
           ]
          },
          "colorway": [
           "#636efa",
           "#EF553B",
           "#00cc96",
           "#ab63fa",
           "#FFA15A",
           "#19d3f3",
           "#FF6692",
           "#B6E880",
           "#FF97FF",
           "#FECB52"
          ],
          "font": {
           "color": "#2a3f5f"
          },
          "geo": {
           "bgcolor": "white",
           "lakecolor": "white",
           "landcolor": "#E5ECF6",
           "showlakes": true,
           "showland": true,
           "subunitcolor": "white"
          },
          "hoverlabel": {
           "align": "left"
          },
          "hovermode": "closest",
          "mapbox": {
           "style": "light"
          },
          "paper_bgcolor": "white",
          "plot_bgcolor": "#E5ECF6",
          "polar": {
           "angularaxis": {
            "gridcolor": "white",
            "linecolor": "white",
            "ticks": ""
           },
           "bgcolor": "#E5ECF6",
           "radialaxis": {
            "gridcolor": "white",
            "linecolor": "white",
            "ticks": ""
           }
          },
          "scene": {
           "xaxis": {
            "backgroundcolor": "#E5ECF6",
            "gridcolor": "white",
            "gridwidth": 2,
            "linecolor": "white",
            "showbackground": true,
            "ticks": "",
            "zerolinecolor": "white"
           },
           "yaxis": {
            "backgroundcolor": "#E5ECF6",
            "gridcolor": "white",
            "gridwidth": 2,
            "linecolor": "white",
            "showbackground": true,
            "ticks": "",
            "zerolinecolor": "white"
           },
           "zaxis": {
            "backgroundcolor": "#E5ECF6",
            "gridcolor": "white",
            "gridwidth": 2,
            "linecolor": "white",
            "showbackground": true,
            "ticks": "",
            "zerolinecolor": "white"
           }
          },
          "shapedefaults": {
           "line": {
            "color": "#2a3f5f"
           }
          },
          "ternary": {
           "aaxis": {
            "gridcolor": "white",
            "linecolor": "white",
            "ticks": ""
           },
           "baxis": {
            "gridcolor": "white",
            "linecolor": "white",
            "ticks": ""
           },
           "bgcolor": "#E5ECF6",
           "caxis": {
            "gridcolor": "white",
            "linecolor": "white",
            "ticks": ""
           }
          },
          "title": {
           "x": 0.05
          },
          "xaxis": {
           "automargin": true,
           "gridcolor": "white",
           "linecolor": "white",
           "ticks": "",
           "title": {
            "standoff": 15
           },
           "zerolinecolor": "white",
           "zerolinewidth": 2
          },
          "yaxis": {
           "automargin": true,
           "gridcolor": "white",
           "linecolor": "white",
           "ticks": "",
           "title": {
            "standoff": 15
           },
           "zerolinecolor": "white",
           "zerolinewidth": 2
          }
         }
        }
       }
      }
     },
     "metadata": {},
     "output_type": "display_data"
    }
   ],
   "source": [
    "circle = generate_circle(2,100, 10, 1)\n",
    "fig = go.Figure(data=[go.Scatter3d(x=circle[:,0], y=circle[:,1],z=circle[:,2],\n",
    "                                   mode='markers')])\n",
    "fig.show()"
   ]
  },
  {
   "cell_type": "code",
   "execution_count": 19,
   "metadata": {},
   "outputs": [
    {
     "data": {
      "image/png": "[encoded data removed]",
      "text/plain": [
       "<Figure size 640x480 with 1 Axes>"
      ]
     },
     "metadata": {},
     "output_type": "display_data"
    }
   ],
   "source": [
    "dgm_X = ripser.ripser(circle,maxdim=2)['dgms'] #Aquí se construye y grafica el diagrama de persistencia (en este caso, de los puntos simulados). maxdim es la dimensión máxima en homología que quieres que se muestre.\n",
    "persim.plot_diagrams(\n",
    "    dgm_X, \n",
    "    show=True, \n",
    "    title=f\"Datos Simulados\\n{diagram_sizes(dgm_X)}\"\n",
    ") "
   ]
  },
  {
   "cell_type": "code",
   "execution_count": 22,
   "metadata": {},
   "outputs": [
    {
     "data": {
      "application/vnd.plotly.v1+json": {
       "config": {
        "plotlyServerURL": "https://plot.ly"
       },
       "data": [
        {
         "mode": "markers",
         "type": "scatter3d",
         "x": [
          -5.302249689007088,
          -5.192243851269012,
          -10.66991911857496,
          -13.083719534402316,
          -2.044931674538602,
          9.048089194675251,
          0.935923757475094,
          12.512688694074095,
          -4.261166692334919,
          -6.581726063804579,
          -13.506601299308501,
          14.736461446286377,
          11.564556107594363,
          -13.37129675667891,
          -15.76207353036172,
          10.771851260545565,
          19.452478835834967,
          -8.157716652015297,
          -18.948014737016486,
          16.86711793385205,
          -13.70160247257328,
          3.0661018517002385,
          5.361577047748059,
          -0.5600782355183372,
          -11.408035071235338,
          -14.968603979957722,
          7.06613434427766,
          -19.04782068872711,
          -10.295651936473906,
          10.08099563110186,
          -4.313567664466708,
          -8.536141401939323,
          11.93080095233531,
          13.721973003962042,
          11.039765673889558,
          4.629100115195126,
          -10.862488744676202,
          -8.145690956087645,
          -9.844605613283418,
          -4.040000420910982,
          12.405563817021518,
          9.437606379440718,
          0.2689363105772984,
          -13.353684258628089,
          18.04592062774805,
          -4.175738459867722,
          10.499771495637486,
          8.042772551868197,
          -14.63715599541433,
          -16.460549986873975,
          10.332679279501555,
          -6.060140213695901,
          -13.265368033362316,
          15.123726264665876,
          9.32015879522642,
          9.240396262663849,
          1.2758344724118575,
          9.679977547268996,
          -2.801305689989083,
          -5.930850115638638,
          -5.6908100789781555,
          -12.039289434535547,
          0.1846175819218924,
          -10.339941787661749,
          8.125008145422258,
          7.120631923094397,
          -10.20969989928601,
          -7.922290679910559,
          -6.792238092701971,
          -7.972183151179836,
          -13.813334033247362,
          14.358488649538964,
          -1.5146895544795342,
          11.644010862673486,
          13.264922289262826,
          -10.25830625445742,
          -13.984353434584508,
          6.126300517722586,
          -0.3099804663255806,
          -12.072596783061146,
          13.06323379028511,
          -3.729106156707781,
          5.7602387026450765,
          7.462117734521508,
          11.94552822200091,
          6.746449189959385,
          5.300856210513844,
          5.029977402537488,
          17.996844597486565,
          -13.265793486314283,
          -10.81351947019232,
          11.371450803124773,
          10.398784482887734,
          -8.487795742478797,
          13.724542987775603,
          3.0908636981042323,
          9.164520322085489,
          9.265690062929407,
          -14.556872618329441,
          -8.708226532937873,
          19.697750310992912,
          19.807756148730988,
          14.33008088142504,
          11.916280465597684,
          22.955068325461397,
          34.04808919467525,
          25.935923757475095,
          37.51268869407409,
          20.738833307665082,
          18.41827393619542,
          11.493398700691499,
          39.73646144628638,
          36.56455610759436,
          11.62870324332109,
          9.23792646963828,
          35.77185126054557,
          44.45247883583497,
          16.842283347984704,
          6.051985262983514,
          41.86711793385205,
          11.29839752742672,
          28.06610185170024,
          30.36157704774806,
          24.439921764481664,
          13.591964928764662,
          10.031396020042278,
          32.06613434427766,
          5.952179311272889,
          14.704348063526094,
          35.08099563110186,
          20.68643233553329,
          16.463858598060675,
          36.93080095233531,
          38.72197300396204,
          36.03976567388956,
          29.629100115195126,
          14.137511255323798,
          16.854309043912355,
          15.155394386716582,
          20.95999957908902,
          37.405563817021516,
          34.437606379440716,
          25.2689363105773,
          11.646315741371911,
          43.045920627748046,
          20.824261540132277,
          35.49977149563749,
          33.0427725518682,
          10.36284400458567,
          8.539450013126025,
          35.332679279501555,
          18.939859786304098,
          11.734631966637684,
          40.123726264665876,
          34.32015879522642,
          34.24039626266385,
          26.27583447241186,
          34.679977547269,
          22.198694310010918,
          19.069149884361362,
          19.309189921021844,
          12.960710565464453,
          25.18461758192189,
          14.660058212338251,
          33.12500814542226,
          32.12063192309439,
          14.79030010071399,
          17.07770932008944,
          18.20776190729803,
          17.027816848820166,
          11.186665966752638,
          39.35848864953896,
          23.485310445520465,
          36.64401086267348,
          38.26492228926283,
          14.74169374554258,
          11.015646565415492,
          31.126300517722587,
          24.69001953367442,
          12.927403216938854,
          38.06323379028511,
          21.27089384329222,
          30.760238702645076,
          32.462117734521506,
          36.94552822200091,
          31.746449189959385,
          30.300856210513842,
          30.02997740253749,
          42.996844597486565,
          11.734206513685717,
          14.18648052980768,
          36.37145080312477,
          35.398784482887734,
          16.512204257521205,
          38.72454298777561,
          28.090863698104233,
          34.16452032208549,
          34.26569006292941,
          10.443127381670559,
          16.29177346706213
         ],
         "y": [
          -13.136094922148624,
          12.170567993026621,
          6.844357023812276,
          9.470558420152956,
          10.71533161310452,
          12.714491006162286,
          -10.247168888821365,
          -2.068122749480994,
          19.35699154075789,
          -10.47045355683054,
          -9.61454474473558,
          -13.113914018631178,
          -2.140546744110084,
          -7.810447164594229,
          8.800916409284605,
          8.729433472926486,
          1.6887677475739413,
          -13.903636254307267,
          -2.3075763015464683,
          -7.174693752328633,
          10.557122334942422,
          -16.401310682147365,
          10.372983015717331,
          -13.207992419600352,
          5.177733963294445,
          -4.346906031180659,
          -14.043495658390043,
          0.16816657360658355,
          1.7865966287285802,
          11.490400288746391,
          -10.05762718599498,
          10.340200824155826,
          2.7845603724419763,
          -3.9072875856593265,
          -2.789641954186215,
          -9.339048270649675,
          -4.631760144285561,
          15.785775765141906,
          5.948033318829055,
          -12.075540014606334,
          -10.336109091903449,
          15.844272048447612,
          -15.79080827091374,
          13.560710908526833,
          -7.677228897459457,
          -11.915750673163386,
          -15.91527213040568,
          13.267907603816811,
          -10.134619484981949,
          3.842636612101214,
          -6.703481417822021,
          10.761582230905553,
          12.522098044929848,
          1.9539991195596111,
          -3.7197338549774495,
          10.792851029093715,
          10.60591122117752,
          16.89696581482008,
          11.359866701305151,
          15.644604333316146,
          -14.62010816211341,
          -9.850707867242862,
          -13.461187545501945,
          7.173499232966819,
          16.516583821873375,
          -18.453949224984743,
          1.8574089731718104,
          -13.626518167563573,
          -16.62039568614089,
          15.7093923199087,
          8.077274508724846,
          -5.238958059180338,
          10.052268762563454,
          -15.405490965982732,
          -14.241089547523314,
          -6.83109430143277,
          -13.856950719351074,
          -11.222855357720592,
          13.709720400296705,
          0.7895249928954834,
          -11.236105796544832,
          10.696169477409006,
          -13.340568314871302,
          -11.525008484458661,
          -0.0034413489593511947,
          -14.964659293996329,
          13.34016540841799,
          11.201543445234618,
          3.1055535638087512,
          -0.9109369522708396,
          -11.435169767962494,
          5.977709050224528,
          2.1950743828976607,
          14.12477500569718,
          -1.5811247672757243,
          15.90668445943191,
          -11.082247118803389,
          15.294914258737206,
          -5.073050521242761,
          13.197998474141832,
          -13.136094922148624,
          12.170567993026621,
          6.844357023812276,
          9.470558420152956,
          10.71533161310452,
          12.714491006162286,
          -10.247168888821365,
          -2.068122749480994,
          19.35699154075789,
          -10.47045355683054,
          -9.61454474473558,
          -13.113914018631178,
          -2.140546744110084,
          -7.810447164594229,
          8.800916409284605,
          8.729433472926486,
          1.6887677475739413,
          -13.903636254307267,
          -2.3075763015464683,
          -7.174693752328633,
          10.557122334942422,
          -16.401310682147365,
          10.372983015717331,
          -13.207992419600352,
          5.177733963294445,
          -4.346906031180659,
          -14.043495658390043,
          0.16816657360658355,
          1.7865966287285802,
          11.490400288746391,
          -10.05762718599498,
          10.340200824155826,
          2.7845603724419763,
          -3.9072875856593265,
          -2.789641954186215,
          -9.339048270649675,
          -4.631760144285561,
          15.785775765141906,
          5.948033318829055,
          -12.075540014606334,
          -10.336109091903449,
          15.844272048447612,
          -15.79080827091374,
          13.560710908526833,
          -7.677228897459457,
          -11.915750673163386,
          -15.91527213040568,
          13.267907603816811,
          -10.134619484981949,
          3.842636612101214,
          -6.703481417822021,
          10.761582230905553,
          12.522098044929848,
          1.9539991195596111,
          -3.7197338549774495,
          10.792851029093715,
          10.60591122117752,
          16.89696581482008,
          11.359866701305151,
          15.644604333316146,
          -14.62010816211341,
          -9.850707867242862,
          -13.461187545501945,
          7.173499232966819,
          16.516583821873375,
          -18.453949224984743,
          1.8574089731718104,
          -13.626518167563573,
          -16.62039568614089,
          15.7093923199087,
          8.077274508724846,
          -5.238958059180338,
          10.052268762563454,
          -15.405490965982732,
          -14.241089547523314,
          -6.83109430143277,
          -13.856950719351074,
          -11.222855357720592,
          13.709720400296705,
          0.7895249928954834,
          -11.236105796544832,
          10.696169477409006,
          -13.340568314871302,
          -11.525008484458661,
          -0.0034413489593511947,
          -14.964659293996329,
          13.34016540841799,
          11.201543445234618,
          3.1055535638087512,
          -0.9109369522708396,
          -11.435169767962494,
          5.977709050224528,
          2.1950743828976607,
          14.12477500569718,
          -1.5811247672757243,
          15.90668445943191,
          -11.082247118803389,
          15.294914258737206,
          -5.073050521242761,
          13.197998474141832
         ],
         "z": [
          0,
          0,
          0,
          0,
          0,
          0,
          0,
          0,
          0,
          0,
          0,
          0,
          0,
          0,
          0,
          0,
          0,
          0,
          0,
          0,
          0,
          0,
          0,
          0,
          0,
          0,
          0,
          0,
          0,
          0,
          0,
          0,
          0,
          0,
          0,
          0,
          0,
          0,
          0,
          0,
          0,
          0,
          0,
          0,
          0,
          0,
          0,
          0,
          0,
          0,
          0,
          0,
          0,
          0,
          0,
          0,
          0,
          0,
          0,
          0,
          0,
          0,
          0,
          0,
          0,
          0,
          0,
          0,
          0,
          0,
          0,
          0,
          0,
          0,
          0,
          0,
          0,
          0,
          0,
          0,
          0,
          0,
          0,
          0,
          0,
          0,
          0,
          0,
          0,
          0,
          0,
          0,
          0,
          0,
          0,
          0,
          0,
          0,
          0,
          0,
          0,
          0,
          0,
          0,
          0,
          0,
          0,
          0,
          0,
          0,
          0,
          0,
          0,
          0,
          0,
          0,
          0,
          0,
          0,
          0,
          0,
          0,
          0,
          0,
          0,
          0,
          0,
          0,
          0,
          0,
          0,
          0,
          0,
          0,
          0,
          0,
          0,
          0,
          0,
          0,
          0,
          0,
          0,
          0,
          0,
          0,
          0,
          0,
          0,
          0,
          0,
          0,
          0,
          0,
          0,
          0,
          0,
          0,
          0,
          0,
          0,
          0,
          0,
          0,
          0,
          0,
          0,
          0,
          0,
          0,
          0,
          0,
          0,
          0,
          0,
          0,
          0,
          0,
          0,
          0,
          0,
          0,
          0,
          0,
          0,
          0,
          0,
          0,
          0,
          0,
          0,
          0,
          0,
          0,
          0,
          0,
          0,
          0,
          0,
          0
         ]
        }
       ],
       "layout": {
        "template": {
         "data": {
          "bar": [
           {
            "error_x": {
             "color": "#2a3f5f"
            },
            "error_y": {
             "color": "#2a3f5f"
            },
            "marker": {
             "line": {
              "color": "#E5ECF6",
              "width": 0.5
             },
             "pattern": {
              "fillmode": "overlay",
              "size": 10,
              "solidity": 0.2
             }
            },
            "type": "bar"
           }
          ],
          "barpolar": [
           {
            "marker": {
             "line": {
              "color": "#E5ECF6",
              "width": 0.5
             },
             "pattern": {
              "fillmode": "overlay",
              "size": 10,
              "solidity": 0.2
             }
            },
            "type": "barpolar"
           }
          ],
          "carpet": [
           {
            "aaxis": {
             "endlinecolor": "#2a3f5f",
             "gridcolor": "white",
             "linecolor": "white",
             "minorgridcolor": "white",
             "startlinecolor": "#2a3f5f"
            },
            "baxis": {
             "endlinecolor": "#2a3f5f",
             "gridcolor": "white",
             "linecolor": "white",
             "minorgridcolor": "white",
             "startlinecolor": "#2a3f5f"
            },
            "type": "carpet"
           }
          ],
          "choropleth": [
           {
            "colorbar": {
             "outlinewidth": 0,
             "ticks": ""
            },
            "type": "choropleth"
           }
          ],
          "contour": [
           {
            "colorbar": {
             "outlinewidth": 0,
             "ticks": ""
            },
            "colorscale": [
             [
              0,
              "#0d0887"
             ],
             [
              0.1111111111111111,
              "#46039f"
             ],
             [
              0.2222222222222222,
              "#7201a8"
             ],
             [
              0.3333333333333333,
              "#9c179e"
             ],
             [
              0.4444444444444444,
              "#bd3786"
             ],
             [
              0.5555555555555556,
              "#d8576b"
             ],
             [
              0.6666666666666666,
              "#ed7953"
             ],
             [
              0.7777777777777778,
              "#fb9f3a"
             ],
             [
              0.8888888888888888,
              "#fdca26"
             ],
             [
              1,
              "#f0f921"
             ]
            ],
            "type": "contour"
           }
          ],
          "contourcarpet": [
           {
            "colorbar": {
             "outlinewidth": 0,
             "ticks": ""
            },
            "type": "contourcarpet"
           }
          ],
          "heatmap": [
           {
            "colorbar": {
             "outlinewidth": 0,
             "ticks": ""
            },
            "colorscale": [
             [
              0,
              "#0d0887"
             ],
             [
              0.1111111111111111,
              "#46039f"
             ],
             [
              0.2222222222222222,
              "#7201a8"
             ],
             [
              0.3333333333333333,
              "#9c179e"
             ],
             [
              0.4444444444444444,
              "#bd3786"
             ],
             [
              0.5555555555555556,
              "#d8576b"
             ],
             [
              0.6666666666666666,
              "#ed7953"
             ],
             [
              0.7777777777777778,
              "#fb9f3a"
             ],
             [
              0.8888888888888888,
              "#fdca26"
             ],
             [
              1,
              "#f0f921"
             ]
            ],
            "type": "heatmap"
           }
          ],
          "heatmapgl": [
           {
            "colorbar": {
             "outlinewidth": 0,
             "ticks": ""
            },
            "colorscale": [
             [
              0,
              "#0d0887"
             ],
             [
              0.1111111111111111,
              "#46039f"
             ],
             [
              0.2222222222222222,
              "#7201a8"
             ],
             [
              0.3333333333333333,
              "#9c179e"
             ],
             [
              0.4444444444444444,
              "#bd3786"
             ],
             [
              0.5555555555555556,
              "#d8576b"
             ],
             [
              0.6666666666666666,
              "#ed7953"
             ],
             [
              0.7777777777777778,
              "#fb9f3a"
             ],
             [
              0.8888888888888888,
              "#fdca26"
             ],
             [
              1,
              "#f0f921"
             ]
            ],
            "type": "heatmapgl"
           }
          ],
          "histogram": [
           {
            "marker": {
             "pattern": {
              "fillmode": "overlay",
              "size": 10,
              "solidity": 0.2
             }
            },
            "type": "histogram"
           }
          ],
          "histogram2d": [
           {
            "colorbar": {
             "outlinewidth": 0,
             "ticks": ""
            },
            "colorscale": [
             [
              0,
              "#0d0887"
             ],
             [
              0.1111111111111111,
              "#46039f"
             ],
             [
              0.2222222222222222,
              "#7201a8"
             ],
             [
              0.3333333333333333,
              "#9c179e"
             ],
             [
              0.4444444444444444,
              "#bd3786"
             ],
             [
              0.5555555555555556,
              "#d8576b"
             ],
             [
              0.6666666666666666,
              "#ed7953"
             ],
             [
              0.7777777777777778,
              "#fb9f3a"
             ],
             [
              0.8888888888888888,
              "#fdca26"
             ],
             [
              1,
              "#f0f921"
             ]
            ],
            "type": "histogram2d"
           }
          ],
          "histogram2dcontour": [
           {
            "colorbar": {
             "outlinewidth": 0,
             "ticks": ""
            },
            "colorscale": [
             [
              0,
              "#0d0887"
             ],
             [
              0.1111111111111111,
              "#46039f"
             ],
             [
              0.2222222222222222,
              "#7201a8"
             ],
             [
              0.3333333333333333,
              "#9c179e"
             ],
             [
              0.4444444444444444,
              "#bd3786"
             ],
             [
              0.5555555555555556,
              "#d8576b"
             ],
             [
              0.6666666666666666,
              "#ed7953"
             ],
             [
              0.7777777777777778,
              "#fb9f3a"
             ],
             [
              0.8888888888888888,
              "#fdca26"
             ],
             [
              1,
              "#f0f921"
             ]
            ],
            "type": "histogram2dcontour"
           }
          ],
          "mesh3d": [
           {
            "colorbar": {
             "outlinewidth": 0,
             "ticks": ""
            },
            "type": "mesh3d"
           }
          ],
          "parcoords": [
           {
            "line": {
             "colorbar": {
              "outlinewidth": 0,
              "ticks": ""
             }
            },
            "type": "parcoords"
           }
          ],
          "pie": [
           {
            "automargin": true,
            "type": "pie"
           }
          ],
          "scatter": [
           {
            "fillpattern": {
             "fillmode": "overlay",
             "size": 10,
             "solidity": 0.2
            },
            "type": "scatter"
           }
          ],
          "scatter3d": [
           {
            "line": {
             "colorbar": {
              "outlinewidth": 0,
              "ticks": ""
             }
            },
            "marker": {
             "colorbar": {
              "outlinewidth": 0,
              "ticks": ""
             }
            },
            "type": "scatter3d"
           }
          ],
          "scattercarpet": [
           {
            "marker": {
             "colorbar": {
              "outlinewidth": 0,
              "ticks": ""
             }
            },
            "type": "scattercarpet"
           }
          ],
          "scattergeo": [
           {
            "marker": {
             "colorbar": {
              "outlinewidth": 0,
              "ticks": ""
             }
            },
            "type": "scattergeo"
           }
          ],
          "scattergl": [
           {
            "marker": {
             "colorbar": {
              "outlinewidth": 0,
              "ticks": ""
             }
            },
            "type": "scattergl"
           }
          ],
          "scattermapbox": [
           {
            "marker": {
             "colorbar": {
              "outlinewidth": 0,
              "ticks": ""
             }
            },
            "type": "scattermapbox"
           }
          ],
          "scatterpolar": [
           {
            "marker": {
             "colorbar": {
              "outlinewidth": 0,
              "ticks": ""
             }
            },
            "type": "scatterpolar"
           }
          ],
          "scatterpolargl": [
           {
            "marker": {
             "colorbar": {
              "outlinewidth": 0,
              "ticks": ""
             }
            },
            "type": "scatterpolargl"
           }
          ],
          "scatterternary": [
           {
            "marker": {
             "colorbar": {
              "outlinewidth": 0,
              "ticks": ""
             }
            },
            "type": "scatterternary"
           }
          ],
          "surface": [
           {
            "colorbar": {
             "outlinewidth": 0,
             "ticks": ""
            },
            "colorscale": [
             [
              0,
              "#0d0887"
             ],
             [
              0.1111111111111111,
              "#46039f"
             ],
             [
              0.2222222222222222,
              "#7201a8"
             ],
             [
              0.3333333333333333,
              "#9c179e"
             ],
             [
              0.4444444444444444,
              "#bd3786"
             ],
             [
              0.5555555555555556,
              "#d8576b"
             ],
             [
              0.6666666666666666,
              "#ed7953"
             ],
             [
              0.7777777777777778,
              "#fb9f3a"
             ],
             [
              0.8888888888888888,
              "#fdca26"
             ],
             [
              1,
              "#f0f921"
             ]
            ],
            "type": "surface"
           }
          ],
          "table": [
           {
            "cells": {
             "fill": {
              "color": "#EBF0F8"
             },
             "line": {
              "color": "white"
             }
            },
            "header": {
             "fill": {
              "color": "#C8D4E3"
             },
             "line": {
              "color": "white"
             }
            },
            "type": "table"
           }
          ]
         },
         "layout": {
          "annotationdefaults": {
           "arrowcolor": "#2a3f5f",
           "arrowhead": 0,
           "arrowwidth": 1
          },
          "autotypenumbers": "strict",
          "coloraxis": {
           "colorbar": {
            "outlinewidth": 0,
            "ticks": ""
           }
          },
          "colorscale": {
           "diverging": [
            [
             0,
             "#8e0152"
            ],
            [
             0.1,
             "#c51b7d"
            ],
            [
             0.2,
             "#de77ae"
            ],
            [
             0.3,
             "#f1b6da"
            ],
            [
             0.4,
             "#fde0ef"
            ],
            [
             0.5,
             "#f7f7f7"
            ],
            [
             0.6,
             "#e6f5d0"
            ],
            [
             0.7,
             "#b8e186"
            ],
            [
             0.8,
             "#7fbc41"
            ],
            [
             0.9,
             "#4d9221"
            ],
            [
             1,
             "#276419"
            ]
           ],
           "sequential": [
            [
             0,
             "#0d0887"
            ],
            [
             0.1111111111111111,
             "#46039f"
            ],
            [
             0.2222222222222222,
             "#7201a8"
            ],
            [
             0.3333333333333333,
             "#9c179e"
            ],
            [
             0.4444444444444444,
             "#bd3786"
            ],
            [
             0.5555555555555556,
             "#d8576b"
            ],
            [
             0.6666666666666666,
             "#ed7953"
            ],
            [
             0.7777777777777778,
             "#fb9f3a"
            ],
            [
             0.8888888888888888,
             "#fdca26"
            ],
            [
             1,
             "#f0f921"
            ]
           ],
           "sequentialminus": [
            [
             0,
             "#0d0887"
            ],
            [
             0.1111111111111111,
             "#46039f"
            ],
            [
             0.2222222222222222,
             "#7201a8"
            ],
            [
             0.3333333333333333,
             "#9c179e"
            ],
            [
             0.4444444444444444,
             "#bd3786"
            ],
            [
             0.5555555555555556,
             "#d8576b"
            ],
            [
             0.6666666666666666,
             "#ed7953"
            ],
            [
             0.7777777777777778,
             "#fb9f3a"
            ],
            [
             0.8888888888888888,
             "#fdca26"
            ],
            [
             1,
             "#f0f921"
            ]
           ]
          },
          "colorway": [
           "#636efa",
           "#EF553B",
           "#00cc96",
           "#ab63fa",
           "#FFA15A",
           "#19d3f3",
           "#FF6692",
           "#B6E880",
           "#FF97FF",
           "#FECB52"
          ],
          "font": {
           "color": "#2a3f5f"
          },
          "geo": {
           "bgcolor": "white",
           "lakecolor": "white",
           "landcolor": "#E5ECF6",
           "showlakes": true,
           "showland": true,
           "subunitcolor": "white"
          },
          "hoverlabel": {
           "align": "left"
          },
          "hovermode": "closest",
          "mapbox": {
           "style": "light"
          },
          "paper_bgcolor": "white",
          "plot_bgcolor": "#E5ECF6",
          "polar": {
           "angularaxis": {
            "gridcolor": "white",
            "linecolor": "white",
            "ticks": ""
           },
           "bgcolor": "#E5ECF6",
           "radialaxis": {
            "gridcolor": "white",
            "linecolor": "white",
            "ticks": ""
           }
          },
          "scene": {
           "xaxis": {
            "backgroundcolor": "#E5ECF6",
            "gridcolor": "white",
            "gridwidth": 2,
            "linecolor": "white",
            "showbackground": true,
            "ticks": "",
            "zerolinecolor": "white"
           },
           "yaxis": {
            "backgroundcolor": "#E5ECF6",
            "gridcolor": "white",
            "gridwidth": 2,
            "linecolor": "white",
            "showbackground": true,
            "ticks": "",
            "zerolinecolor": "white"
           },
           "zaxis": {
            "backgroundcolor": "#E5ECF6",
            "gridcolor": "white",
            "gridwidth": 2,
            "linecolor": "white",
            "showbackground": true,
            "ticks": "",
            "zerolinecolor": "white"
           }
          },
          "shapedefaults": {
           "line": {
            "color": "#2a3f5f"
           }
          },
          "ternary": {
           "aaxis": {
            "gridcolor": "white",
            "linecolor": "white",
            "ticks": ""
           },
           "baxis": {
            "gridcolor": "white",
            "linecolor": "white",
            "ticks": ""
           },
           "bgcolor": "#E5ECF6",
           "caxis": {
            "gridcolor": "white",
            "linecolor": "white",
            "ticks": ""
           }
          },
          "title": {
           "x": 0.05
          },
          "xaxis": {
           "automargin": true,
           "gridcolor": "white",
           "linecolor": "white",
           "ticks": "",
           "title": {
            "standoff": 15
           },
           "zerolinecolor": "white",
           "zerolinewidth": 2
          },
          "yaxis": {
           "automargin": true,
           "gridcolor": "white",
           "linecolor": "white",
           "ticks": "",
           "title": {
            "standoff": 15
           },
           "zerolinecolor": "white",
           "zerolinewidth": 2
          }
         }
        }
       }
      }
     },
     "metadata": {},
     "output_type": "display_data"
    }
   ],
   "source": [
    "aux=np.array([[25,0,0]+circle[i] for i in range(len(circle))])\n",
    "doublecircle=np.append(circle,aux,0)\n",
    "fig = go.Figure(data=[go.Scatter3d(x=doublecircle[:,0], y=doublecircle[:,1],z=doublecircle[:,2],\n",
    "                                   mode='markers')])\n",
    "fig.show()"
   ]
  },
  {
   "cell_type": "code",
   "execution_count": 24,
   "metadata": {},
   "outputs": [
    {
     "data": {
      "image/png": "[encoded data removed]",
      "text/plain": [
       "<Figure size 640x480 with 1 Axes>"
      ]
     },
     "metadata": {},
     "output_type": "display_data"
    }
   ],
   "source": [
    "dgm_X = ripser.ripser(doublecircle,maxdim=2)['dgms'] #Aquí se construye y grafica el diagrama de persistencia (en este caso, de los puntos simulados). maxdim es la dimensión máxima en homología que quieres que se muestre.\n",
    "persim.plot_diagrams(\n",
    "    dgm_X, \n",
    "    show=True, \n",
    "    title=f\"Datos Simulados\\n{diagram_sizes(dgm_X)}\"\n",
    ") "
   ]
  },
  {
   "attachments": {},
   "cell_type": "markdown",
   "metadata": {},
   "source": [
    "### Ejercicio"
   ]
  },
  {
   "attachments": {},
   "cell_type": "markdown",
   "metadata": {},
   "source": [
    "Haz un análisis de persistencia para el conjunto de datos \"calificaciones.csv\" que contiene la información de las calificaciones de 3 parciales en una materia de 10000 alumnos."
   ]
  },
  {
   "attachments": {},
   "cell_type": "markdown",
   "metadata": {},
   "source": [
    "Responden las siguientes preguntas:\n",
    "\n",
    "1. ¿Qué propiedades topológicas persisten?\n",
    "2. ¿Qué podemos inferir de estas propiedades topológicas relativas a la base de datos?"
   ]
  },
  {
   "cell_type": "code",
   "execution_count": 25,
   "metadata": {},
   "outputs": [],
   "source": [
    "import pandas as pd"
   ]
  },
  {
   "cell_type": "code",
   "execution_count": 26,
   "metadata": {},
   "outputs": [
    {
     "name": "stdout",
     "output_type": "stream",
     "text": [
      "[[71.79780725 69.02873986 74.26498076]\n",
      " [93.41332373 95.46659769 94.14428805]\n",
      " [68.61577772 70.13720754 74.10562894]\n",
      " ...\n",
      " [59.48777636 44.45755037 41.00658706]\n",
      " [75.9183264  72.22621307 66.62186699]\n",
      " [88.83021869 88.13870936 96.80700554]]\n"
     ]
    }
   ],
   "source": [
    "# Upload the data\n",
    "data = pd.read_csv(\"calificaciones.csv\")\n",
    "\n",
    "# Select just neccesary columns\n",
    "selected_columns = data.iloc[:, [1,2,3]]\n",
    "\n",
    "#Convert to an array\n",
    "X = selected_columns.to_numpy()\n",
    "\n",
    "print(X)"
   ]
  },
  {
   "cell_type": "code",
   "execution_count": 29,
   "metadata": {},
   "outputs": [],
   "source": [
    "dgm_X = ripser.ripser(X,maxdim=2)['dgms'] #Aquí se construye y grafica el diagrama de persistencia (en este caso, de los puntos simulados). maxdim es la dimensión máxima en homología que quieres que se muestre.\n",
    "persim.plot_diagrams(\n",
    "    dgm_X, \n",
    "    show=True, \n",
    "    title=f\"Datos Simulados\\n{diagram_sizes(dgm_X)}\"\n",
    ") "
   ]
  }
 ],
 "metadata": {
  "kernelspec": {
   "display_name": "Python 3",
   "language": "python",
   "name": "python3"
  },
  "language_info": {
   "codemirror_mode": {
    "name": "ipython",
    "version": 3
   },
   "file_extension": ".py",
   "mimetype": "text/x-python",
   "name": "python",
   "nbconvert_exporter": "python",
   "pygments_lexer": "ipython3",
   "version": "3.10.9"
  },
  "orig_nbformat": 4
 },
 "nbformat": 4,
 "nbformat_minor": 2
}
