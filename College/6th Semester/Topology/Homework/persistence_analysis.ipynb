{
 "cells": [
  {
   "attachments": {},
   "cell_type": "markdown",
   "metadata": {},
   "source": [
    "# Diagramas de Persistencia\n",
    "\n",
    "Los diagramas de persistencia nos indican las propiedades topológicas (de nuestra base de datos) que persisten cuando hacemos variar el parámetro de filtración. En este caso, el parámetro de filtración es el radio de las bolas abiertas en nuestra cubierta (directamente relacionada con el complejo de Rips).\n",
    "\n",
    "Decimos que una propiedad topológica nace cuando aparece por primera vez en el diagrama de persistencia y muere cuando desaparece. La duración de una propiedad topológica es el tiempo que vive en el diagrama de persistencia.\n",
    "\n",
    "Mientras más alejada sea la muerte (o no exista muerte) de la nacimiento, la propiedad topológica es intrinseca a la base de datos.\n",
    "\n",
    "Es importante mencionar que una propiedad topológica puede nacer y morir en el mismo instante de filtración, lo que significa que la propiedad topológica no es intrínseca a la base de datos. Pero una propiedad topológica no puede morir antes de nacer, por lo que parte inferior del rectangulo de la persistencia siempre es cero o no se toma en cuenta.\n",
    "\n",
    "Veamos esto con algunos ejemplos:\n",
    "\n",
    "Componentes conexas: https://gjkoplik.github.io/pers-hom-examples/0d_pers_2d_data_widget.html\n",
    "\n",
    "Hoyo de dimensión 1: https://gjkoplik.github.io/pers-hom-examples/1d_pers_2d_data_widget.html "
   ]
  },
  {
   "attachments": {},
   "cell_type": "markdown",
   "metadata": {},
   "source": [
    "# Intuición con Componentes Conexas\n",
    "\n",
    "El número de componentes conexas persistentes indicará el número de grupos de datos que son intrínsecos a la base de datos. En el ejemplo siguiente, veremos que hay 3 componentes conexas persistentes, lo que significa que hay 3 grupos de datos que son intrínsecos a la base de datos."
   ]
  },
  {
   "cell_type": "code",
   "execution_count": 1,
   "metadata": {},
   "outputs": [],
   "source": [
    "import numpy as np\n",
    "import scipy as sp\n",
    "import pandas as pd\n",
    "import matplotlib.pyplot as plt\n",
    "import tadasets\n",
    "import ripser\n",
    "import persim\n",
    "import gudhi as gd\n",
    "import plotly.graph_objects as go"
   ]
  },
  {
   "cell_type": "code",
   "execution_count": 2,
   "metadata": {},
   "outputs": [
    {
     "data": {
      "text/plain": [
       "<function matplotlib.pyplot.show(close=None, block=None)>"
      ]
     },
     "execution_count": 2,
     "metadata": {},
     "output_type": "execute_result"
    },
    {
     "data": {
      "image/png": "[encoded data removed]",
      "text/plain": [
       "<Figure size 640x480 with 1 Axes>"
      ]
     },
     "metadata": {},
     "output_type": "display_data"
    }
   ],
   "source": [
    "#Primero demos un conjunto de puntos simulados en 3 grupos\n",
    "X1 = np.random.multivariate_normal([0,0],np.array([[1,0],[0,1]]),size = 10)\n",
    "X2 = np.random.multivariate_normal([7,0],np.array([[1,0],[0,0.2]]),size = 8)\n",
    "X3 = np.random.multivariate_normal([0,11],np.array([[1,0],[0,1]]),size = 12)\n",
    "X = np.concatenate((X1,X2,X3))\n",
    "\n",
    "plt.plot(X[:,0],X[:,1],'r+')\n",
    "plt.axis('equal')\n",
    "plt.show"
   ]
  },
  {
   "attachments": {},
   "cell_type": "markdown",
   "metadata": {},
   "source": [
    "### ¿Qué podemos decir de esta base de datos a primera vista?\n",
    "\n",
    "1. ¿Cuántos grupos de datos (componentes conexas) intuyes que hay?\n",
    " Probablemente 3\n",
    "2. ¿Cuénta con huecos? ¿De qué dimensión?\n",
    "Sí, cuenta con huecos de dimensión 1.\n",
    "3. Si existen huecos, ¿podemos decir si estos datos son recurrentes?\n",
    "Probablemente sean recurrentes.\n",
    "\n",
    "\n"
   ]
  },
  {
   "cell_type": "code",
   "execution_count": 3,
   "metadata": {},
   "outputs": [],
   "source": [
    "# Vamos a aumentar la dimensión de este array para utilizar la función rips_graph.\n",
    "Xaug=np.array([[X[i,0],X[i,1],0] for i in range(len(X))])"
   ]
  },
  {
   "cell_type": "code",
   "execution_count": 4,
   "metadata": {},
   "outputs": [],
   "source": [
    "\n",
    "def rips_graph(points,mel):\n",
    "    \"\"\"\n",
    "    Generate the Vietoris-Rips complex on the given set of points in 3D.\n",
    "    Only simplexes up to dimension 2 (2-skeleton) are computed.\n",
    "    The mel parameter denotes the distance cut-off value.\n",
    "    \"\"\"\n",
    "    rc = gd.RipsComplex(points=points,max_edge_length=mel)\n",
    "    st = rc.create_simplex_tree(max_dimension=3)\n",
    "    triangles = np.array([s[0] for s in st.get_skeleton(2) if len(s[0])==3])\n",
    "    edges = []\n",
    "    for s in st.get_skeleton(1):\n",
    "        e = s[0]\n",
    "        if len(e) == 2:\n",
    "            edges.append(points[[e[0],e[1]]])\n",
    "            \n",
    "    f2 = go.Mesh3d(\n",
    "        x=points[:,0],\n",
    "        y=points[:,1],\n",
    "        z=points[:,2],\n",
    "        i = triangles[:,0],\n",
    "        j = triangles[:,1],\n",
    "        k = triangles[:,2],\n",
    "    )\n",
    "    f0 = go.Scatter3d(x=points[:,0], y=points[:,1],z=points[:,2], mode=\"markers\")\n",
    "    data = [f2, f0]\n",
    "# Plot edges\n",
    "    for pts in edges:\n",
    "        seg = go.Scatter3d(x=pts[:,0],y=pts[:,1],z=pts[:,2],mode=\"lines\",line=dict(color='green'))\n",
    "        data.append(seg)\n",
    "    fig = go.Figure(data=data,layout=dict(showlegend=False))\n",
    "    fig.show()"
   ]
  },
  {
   "attachments": {},
   "cell_type": "markdown",
   "metadata": {},
   "source": [
    "### Ejemplo:\n",
    "\n",
    "Realiza el plot del complejo de Rips del conjunto de datos $X,$ utilizando diferentes radios: \n",
    "1. $r=1.$\n",
    "2. $r=2.$\n",
    "3. $r=10.$\n",
    "\n",
    "Dependiendo de los radios, ¿qué observas? ¿Qué puedes decir de la base de datos (propiedades topológicas)?\n",
    "\n",
    "A medida que vamos aumentando los radios, observamos que algunas propiedades no se conservan a medida que el radio aumenta. De hecho, al final se genera una sola componente conexa."
   ]
  },
  {
   "cell_type": "code",
   "execution_count": 5,
   "metadata": {},
   "outputs": [
    {
     "data": {
      "application/vnd.plotly.v1+json": {
       "config": {
        "plotlyServerURL": "https://plot.ly"
       },
       "data": [
        {
         "i": [
          1,
          1,
          1,
          3,
          3,
          3,
          3,
          3,
          4,
          5,
          10,
          10,
          10,
          11,
          19,
          19,
          19,
          19,
          19,
          19,
          19,
          19,
          19,
          19,
          19,
          19,
          19,
          19,
          19,
          20,
          20,
          20,
          20,
          20,
          20,
          20,
          20,
          20,
          20,
          21,
          22,
          23,
          23,
          23,
          23,
          23,
          23,
          24,
          24,
          24,
          25
         ],
         "j": [
          3,
          3,
          7,
          4,
          4,
          5,
          5,
          7,
          7,
          7,
          11,
          11,
          12,
          12,
          20,
          20,
          20,
          20,
          20,
          23,
          23,
          23,
          23,
          24,
          24,
          24,
          25,
          25,
          26,
          23,
          23,
          23,
          23,
          24,
          24,
          24,
          25,
          25,
          26,
          22,
          23,
          24,
          24,
          24,
          25,
          25,
          26,
          25,
          25,
          26,
          26
         ],
         "k": [
          7,
          9,
          9,
          7,
          9,
          7,
          9,
          9,
          9,
          9,
          12,
          16,
          16,
          16,
          23,
          24,
          25,
          26,
          28,
          24,
          25,
          26,
          28,
          25,
          26,
          28,
          26,
          28,
          28,
          24,
          25,
          26,
          28,
          25,
          26,
          28,
          26,
          28,
          28,
          27,
          28,
          25,
          26,
          28,
          26,
          28,
          28,
          26,
          28,
          28,
          28
         ],
         "type": "mesh3d",
         "x": [
          0.15046080005418971,
          -0.2976708087520203,
          -1.2195992916904983,
          0.066932399638839,
          0.26203208800304567,
          0.8588550325312683,
          1.6870251478215628,
          0.24351995095443954,
          -1.0920812658059356,
          0.03151811132497726,
          6.847114832025536,
          6.544741707333095,
          6.56757117006332,
          8.977386852532858,
          7.848893381990088,
          7.930617098900897,
          6.369144826946315,
          7.151418220062759,
          1.7085667240623332,
          -0.11330527834724878,
          -0.8681586114568105,
          0.5655624093057307,
          -0.054450998025203264,
          -0.4648483026477713,
          -0.9239103514987733,
          -0.5083196478427116,
          -0.7235048864024711,
          0.5942333954946766,
          -0.4249211366786726,
          1.3593175203303833
         ],
         "y": [
          -1.4666237837894007,
          -0.3214094333361909,
          1.1770462731147293,
          0.14570068999138808,
          1.0732911818190733,
          0.20304227991221957,
          0.9616975939868174,
          0.47490144993709,
          1.5320314361456322,
          0.3175900914811739,
          0.37203275614353776,
          0.4580115429423126,
          0.02514064234920709,
          -0.7328900276967719,
          0.2962771189995143,
          -0.5416057044443754,
          0.6274447635983534,
          -1.0479182864995367,
          11.426080570152823,
          11.457805816647733,
          11.03318136426151,
          9.956870754188575,
          10.347249919332924,
          10.952758153356248,
          11.280792109793602,
          11.84430541647575,
          11.704407752988354,
          9.838231515099782,
          10.974277477572455,
          10.75535401254119
         ],
         "z": [
          0,
          0,
          0,
          0,
          0,
          0,
          0,
          0,
          0,
          0,
          0,
          0,
          0,
          0,
          0,
          0,
          0,
          0,
          0,
          0,
          0,
          0,
          0,
          0,
          0,
          0,
          0,
          0,
          0,
          0
         ]
        },
        {
         "mode": "markers",
         "type": "scatter3d",
         "x": [
          0.15046080005418971,
          -0.2976708087520203,
          -1.2195992916904983,
          0.066932399638839,
          0.26203208800304567,
          0.8588550325312683,
          1.6870251478215628,
          0.24351995095443954,
          -1.0920812658059356,
          0.03151811132497726,
          6.847114832025536,
          6.544741707333095,
          6.56757117006332,
          8.977386852532858,
          7.848893381990088,
          7.930617098900897,
          6.369144826946315,
          7.151418220062759,
          1.7085667240623332,
          -0.11330527834724878,
          -0.8681586114568105,
          0.5655624093057307,
          -0.054450998025203264,
          -0.4648483026477713,
          -0.9239103514987733,
          -0.5083196478427116,
          -0.7235048864024711,
          0.5942333954946766,
          -0.4249211366786726,
          1.3593175203303833
         ],
         "y": [
          -1.4666237837894007,
          -0.3214094333361909,
          1.1770462731147293,
          0.14570068999138808,
          1.0732911818190733,
          0.20304227991221957,
          0.9616975939868174,
          0.47490144993709,
          1.5320314361456322,
          0.3175900914811739,
          0.37203275614353776,
          0.4580115429423126,
          0.02514064234920709,
          -0.7328900276967719,
          0.2962771189995143,
          -0.5416057044443754,
          0.6274447635983534,
          -1.0479182864995367,
          11.426080570152823,
          11.457805816647733,
          11.03318136426151,
          9.956870754188575,
          10.347249919332924,
          10.952758153356248,
          11.280792109793602,
          11.84430541647575,
          11.704407752988354,
          9.838231515099782,
          10.974277477572455,
          10.75535401254119
         ],
         "z": [
          0,
          0,
          0,
          0,
          0,
          0,
          0,
          0,
          0,
          0,
          0,
          0,
          0,
          0,
          0,
          0,
          0,
          0,
          0,
          0,
          0,
          0,
          0,
          0,
          0,
          0,
          0,
          0,
          0,
          0
         ]
        },
        {
         "line": {
          "color": "green"
         },
         "mode": "lines",
         "type": "scatter3d",
         "x": [
          -0.2976708087520203,
          0.066932399638839
         ],
         "y": [
          -0.3214094333361909,
          0.14570068999138808
         ],
         "z": [
          0,
          0
         ]
        },
        {
         "line": {
          "color": "green"
         },
         "mode": "lines",
         "type": "scatter3d",
         "x": [
          -0.2976708087520203,
          0.24351995095443954
         ],
         "y": [
          -0.3214094333361909,
          0.47490144993709
         ],
         "z": [
          0,
          0
         ]
        },
        {
         "line": {
          "color": "green"
         },
         "mode": "lines",
         "type": "scatter3d",
         "x": [
          -0.2976708087520203,
          0.03151811132497726
         ],
         "y": [
          -0.3214094333361909,
          0.3175900914811739
         ],
         "z": [
          0,
          0
         ]
        },
        {
         "line": {
          "color": "green"
         },
         "mode": "lines",
         "type": "scatter3d",
         "x": [
          -1.2195992916904983,
          -1.0920812658059356
         ],
         "y": [
          1.1770462731147293,
          1.5320314361456322
         ],
         "z": [
          0,
          0
         ]
        },
        {
         "line": {
          "color": "green"
         },
         "mode": "lines",
         "type": "scatter3d",
         "x": [
          0.066932399638839,
          0.26203208800304567
         ],
         "y": [
          0.14570068999138808,
          1.0732911818190733
         ],
         "z": [
          0,
          0
         ]
        },
        {
         "line": {
          "color": "green"
         },
         "mode": "lines",
         "type": "scatter3d",
         "x": [
          0.066932399638839,
          0.8588550325312683
         ],
         "y": [
          0.14570068999138808,
          0.20304227991221957
         ],
         "z": [
          0,
          0
         ]
        },
        {
         "line": {
          "color": "green"
         },
         "mode": "lines",
         "type": "scatter3d",
         "x": [
          0.066932399638839,
          0.24351995095443954
         ],
         "y": [
          0.14570068999138808,
          0.47490144993709
         ],
         "z": [
          0,
          0
         ]
        },
        {
         "line": {
          "color": "green"
         },
         "mode": "lines",
         "type": "scatter3d",
         "x": [
          0.066932399638839,
          0.03151811132497726
         ],
         "y": [
          0.14570068999138808,
          0.3175900914811739
         ],
         "z": [
          0,
          0
         ]
        },
        {
         "line": {
          "color": "green"
         },
         "mode": "lines",
         "type": "scatter3d",
         "x": [
          0.26203208800304567,
          0.24351995095443954
         ],
         "y": [
          1.0732911818190733,
          0.47490144993709
         ],
         "z": [
          0,
          0
         ]
        },
        {
         "line": {
          "color": "green"
         },
         "mode": "lines",
         "type": "scatter3d",
         "x": [
          0.26203208800304567,
          0.03151811132497726
         ],
         "y": [
          1.0732911818190733,
          0.3175900914811739
         ],
         "z": [
          0,
          0
         ]
        },
        {
         "line": {
          "color": "green"
         },
         "mode": "lines",
         "type": "scatter3d",
         "x": [
          0.8588550325312683,
          0.24351995095443954
         ],
         "y": [
          0.20304227991221957,
          0.47490144993709
         ],
         "z": [
          0,
          0
         ]
        },
        {
         "line": {
          "color": "green"
         },
         "mode": "lines",
         "type": "scatter3d",
         "x": [
          0.8588550325312683,
          0.03151811132497726
         ],
         "y": [
          0.20304227991221957,
          0.3175900914811739
         ],
         "z": [
          0,
          0
         ]
        },
        {
         "line": {
          "color": "green"
         },
         "mode": "lines",
         "type": "scatter3d",
         "x": [
          0.24351995095443954,
          0.03151811132497726
         ],
         "y": [
          0.47490144993709,
          0.3175900914811739
         ],
         "z": [
          0,
          0
         ]
        },
        {
         "line": {
          "color": "green"
         },
         "mode": "lines",
         "type": "scatter3d",
         "x": [
          6.847114832025536,
          6.544741707333095
         ],
         "y": [
          0.37203275614353776,
          0.4580115429423126
         ],
         "z": [
          0,
          0
         ]
        },
        {
         "line": {
          "color": "green"
         },
         "mode": "lines",
         "type": "scatter3d",
         "x": [
          6.847114832025536,
          6.56757117006332
         ],
         "y": [
          0.37203275614353776,
          0.02514064234920709
         ],
         "z": [
          0,
          0
         ]
        },
        {
         "line": {
          "color": "green"
         },
         "mode": "lines",
         "type": "scatter3d",
         "x": [
          6.847114832025536,
          6.369144826946315
         ],
         "y": [
          0.37203275614353776,
          0.6274447635983534
         ],
         "z": [
          0,
          0
         ]
        },
        {
         "line": {
          "color": "green"
         },
         "mode": "lines",
         "type": "scatter3d",
         "x": [
          6.544741707333095,
          6.56757117006332
         ],
         "y": [
          0.4580115429423126,
          0.02514064234920709
         ],
         "z": [
          0,
          0
         ]
        },
        {
         "line": {
          "color": "green"
         },
         "mode": "lines",
         "type": "scatter3d",
         "x": [
          6.544741707333095,
          6.369144826946315
         ],
         "y": [
          0.4580115429423126,
          0.6274447635983534
         ],
         "z": [
          0,
          0
         ]
        },
        {
         "line": {
          "color": "green"
         },
         "mode": "lines",
         "type": "scatter3d",
         "x": [
          6.56757117006332,
          6.369144826946315
         ],
         "y": [
          0.02514064234920709,
          0.6274447635983534
         ],
         "z": [
          0,
          0
         ]
        },
        {
         "line": {
          "color": "green"
         },
         "mode": "lines",
         "type": "scatter3d",
         "x": [
          7.848893381990088,
          7.930617098900897
         ],
         "y": [
          0.2962771189995143,
          -0.5416057044443754
         ],
         "z": [
          0,
          0
         ]
        },
        {
         "line": {
          "color": "green"
         },
         "mode": "lines",
         "type": "scatter3d",
         "x": [
          7.930617098900897,
          7.151418220062759
         ],
         "y": [
          -0.5416057044443754,
          -1.0479182864995367
         ],
         "z": [
          0,
          0
         ]
        },
        {
         "line": {
          "color": "green"
         },
         "mode": "lines",
         "type": "scatter3d",
         "x": [
          1.7085667240623332,
          1.3593175203303833
         ],
         "y": [
          11.426080570152823,
          10.75535401254119
         ],
         "z": [
          0,
          0
         ]
        },
        {
         "line": {
          "color": "green"
         },
         "mode": "lines",
         "type": "scatter3d",
         "x": [
          -0.11330527834724878,
          -0.8681586114568105
         ],
         "y": [
          11.457805816647733,
          11.03318136426151
         ],
         "z": [
          0,
          0
         ]
        },
        {
         "line": {
          "color": "green"
         },
         "mode": "lines",
         "type": "scatter3d",
         "x": [
          -0.11330527834724878,
          -0.4648483026477713
         ],
         "y": [
          11.457805816647733,
          10.952758153356248
         ],
         "z": [
          0,
          0
         ]
        },
        {
         "line": {
          "color": "green"
         },
         "mode": "lines",
         "type": "scatter3d",
         "x": [
          -0.11330527834724878,
          -0.9239103514987733
         ],
         "y": [
          11.457805816647733,
          11.280792109793602
         ],
         "z": [
          0,
          0
         ]
        },
        {
         "line": {
          "color": "green"
         },
         "mode": "lines",
         "type": "scatter3d",
         "x": [
          -0.11330527834724878,
          -0.5083196478427116
         ],
         "y": [
          11.457805816647733,
          11.84430541647575
         ],
         "z": [
          0,
          0
         ]
        },
        {
         "line": {
          "color": "green"
         },
         "mode": "lines",
         "type": "scatter3d",
         "x": [
          -0.11330527834724878,
          -0.7235048864024711
         ],
         "y": [
          11.457805816647733,
          11.704407752988354
         ],
         "z": [
          0,
          0
         ]
        },
        {
         "line": {
          "color": "green"
         },
         "mode": "lines",
         "type": "scatter3d",
         "x": [
          -0.11330527834724878,
          -0.4249211366786726
         ],
         "y": [
          11.457805816647733,
          10.974277477572455
         ],
         "z": [
          0,
          0
         ]
        },
        {
         "line": {
          "color": "green"
         },
         "mode": "lines",
         "type": "scatter3d",
         "x": [
          -0.8681586114568105,
          -0.4648483026477713
         ],
         "y": [
          11.03318136426151,
          10.952758153356248
         ],
         "z": [
          0,
          0
         ]
        },
        {
         "line": {
          "color": "green"
         },
         "mode": "lines",
         "type": "scatter3d",
         "x": [
          -0.8681586114568105,
          -0.9239103514987733
         ],
         "y": [
          11.03318136426151,
          11.280792109793602
         ],
         "z": [
          0,
          0
         ]
        },
        {
         "line": {
          "color": "green"
         },
         "mode": "lines",
         "type": "scatter3d",
         "x": [
          -0.8681586114568105,
          -0.5083196478427116
         ],
         "y": [
          11.03318136426151,
          11.84430541647575
         ],
         "z": [
          0,
          0
         ]
        },
        {
         "line": {
          "color": "green"
         },
         "mode": "lines",
         "type": "scatter3d",
         "x": [
          -0.8681586114568105,
          -0.7235048864024711
         ],
         "y": [
          11.03318136426151,
          11.704407752988354
         ],
         "z": [
          0,
          0
         ]
        },
        {
         "line": {
          "color": "green"
         },
         "mode": "lines",
         "type": "scatter3d",
         "x": [
          -0.8681586114568105,
          -0.4249211366786726
         ],
         "y": [
          11.03318136426151,
          10.974277477572455
         ],
         "z": [
          0,
          0
         ]
        },
        {
         "line": {
          "color": "green"
         },
         "mode": "lines",
         "type": "scatter3d",
         "x": [
          0.5655624093057307,
          -0.054450998025203264
         ],
         "y": [
          9.956870754188575,
          10.347249919332924
         ],
         "z": [
          0,
          0
         ]
        },
        {
         "line": {
          "color": "green"
         },
         "mode": "lines",
         "type": "scatter3d",
         "x": [
          0.5655624093057307,
          0.5942333954946766
         ],
         "y": [
          9.956870754188575,
          9.838231515099782
         ],
         "z": [
          0,
          0
         ]
        },
        {
         "line": {
          "color": "green"
         },
         "mode": "lines",
         "type": "scatter3d",
         "x": [
          -0.054450998025203264,
          -0.4648483026477713
         ],
         "y": [
          10.347249919332924,
          10.952758153356248
         ],
         "z": [
          0,
          0
         ]
        },
        {
         "line": {
          "color": "green"
         },
         "mode": "lines",
         "type": "scatter3d",
         "x": [
          -0.054450998025203264,
          0.5942333954946766
         ],
         "y": [
          10.347249919332924,
          9.838231515099782
         ],
         "z": [
          0,
          0
         ]
        },
        {
         "line": {
          "color": "green"
         },
         "mode": "lines",
         "type": "scatter3d",
         "x": [
          -0.054450998025203264,
          -0.4249211366786726
         ],
         "y": [
          10.347249919332924,
          10.974277477572455
         ],
         "z": [
          0,
          0
         ]
        },
        {
         "line": {
          "color": "green"
         },
         "mode": "lines",
         "type": "scatter3d",
         "x": [
          -0.4648483026477713,
          -0.9239103514987733
         ],
         "y": [
          10.952758153356248,
          11.280792109793602
         ],
         "z": [
          0,
          0
         ]
        },
        {
         "line": {
          "color": "green"
         },
         "mode": "lines",
         "type": "scatter3d",
         "x": [
          -0.4648483026477713,
          -0.5083196478427116
         ],
         "y": [
          10.952758153356248,
          11.84430541647575
         ],
         "z": [
          0,
          0
         ]
        },
        {
         "line": {
          "color": "green"
         },
         "mode": "lines",
         "type": "scatter3d",
         "x": [
          -0.4648483026477713,
          -0.7235048864024711
         ],
         "y": [
          10.952758153356248,
          11.704407752988354
         ],
         "z": [
          0,
          0
         ]
        },
        {
         "line": {
          "color": "green"
         },
         "mode": "lines",
         "type": "scatter3d",
         "x": [
          -0.4648483026477713,
          -0.4249211366786726
         ],
         "y": [
          10.952758153356248,
          10.974277477572455
         ],
         "z": [
          0,
          0
         ]
        },
        {
         "line": {
          "color": "green"
         },
         "mode": "lines",
         "type": "scatter3d",
         "x": [
          -0.9239103514987733,
          -0.5083196478427116
         ],
         "y": [
          11.280792109793602,
          11.84430541647575
         ],
         "z": [
          0,
          0
         ]
        },
        {
         "line": {
          "color": "green"
         },
         "mode": "lines",
         "type": "scatter3d",
         "x": [
          -0.9239103514987733,
          -0.7235048864024711
         ],
         "y": [
          11.280792109793602,
          11.704407752988354
         ],
         "z": [
          0,
          0
         ]
        },
        {
         "line": {
          "color": "green"
         },
         "mode": "lines",
         "type": "scatter3d",
         "x": [
          -0.9239103514987733,
          -0.4249211366786726
         ],
         "y": [
          11.280792109793602,
          10.974277477572455
         ],
         "z": [
          0,
          0
         ]
        },
        {
         "line": {
          "color": "green"
         },
         "mode": "lines",
         "type": "scatter3d",
         "x": [
          -0.5083196478427116,
          -0.7235048864024711
         ],
         "y": [
          11.84430541647575,
          11.704407752988354
         ],
         "z": [
          0,
          0
         ]
        },
        {
         "line": {
          "color": "green"
         },
         "mode": "lines",
         "type": "scatter3d",
         "x": [
          -0.5083196478427116,
          -0.4249211366786726
         ],
         "y": [
          11.84430541647575,
          10.974277477572455
         ],
         "z": [
          0,
          0
         ]
        },
        {
         "line": {
          "color": "green"
         },
         "mode": "lines",
         "type": "scatter3d",
         "x": [
          -0.7235048864024711,
          -0.4249211366786726
         ],
         "y": [
          11.704407752988354,
          10.974277477572455
         ],
         "z": [
          0,
          0
         ]
        }
       ],
       "layout": {
        "showlegend": false,
        "template": {
         "data": {
          "bar": [
           {
            "error_x": {
             "color": "#2a3f5f"
            },
            "error_y": {
             "color": "#2a3f5f"
            },
            "marker": {
             "line": {
              "color": "#E5ECF6",
              "width": 0.5
             },
             "pattern": {
              "fillmode": "overlay",
              "size": 10,
              "solidity": 0.2
             }
            },
            "type": "bar"
           }
          ],
          "barpolar": [
           {
            "marker": {
             "line": {
              "color": "#E5ECF6",
              "width": 0.5
             },
             "pattern": {
              "fillmode": "overlay",
              "size": 10,
              "solidity": 0.2
             }
            },
            "type": "barpolar"
           }
          ],
          "carpet": [
           {
            "aaxis": {
             "endlinecolor": "#2a3f5f",
             "gridcolor": "white",
             "linecolor": "white",
             "minorgridcolor": "white",
             "startlinecolor": "#2a3f5f"
            },
            "baxis": {
             "endlinecolor": "#2a3f5f",
             "gridcolor": "white",
             "linecolor": "white",
             "minorgridcolor": "white",
             "startlinecolor": "#2a3f5f"
            },
            "type": "carpet"
           }
          ],
          "choropleth": [
           {
            "colorbar": {
             "outlinewidth": 0,
             "ticks": ""
            },
            "type": "choropleth"
           }
          ],
          "contour": [
           {
            "colorbar": {
             "outlinewidth": 0,
             "ticks": ""
            },
            "colorscale": [
             [
              0,
              "#0d0887"
             ],
             [
              0.1111111111111111,
              "#46039f"
             ],
             [
              0.2222222222222222,
              "#7201a8"
             ],
             [
              0.3333333333333333,
              "#9c179e"
             ],
             [
              0.4444444444444444,
              "#bd3786"
             ],
             [
              0.5555555555555556,
              "#d8576b"
             ],
             [
              0.6666666666666666,
              "#ed7953"
             ],
             [
              0.7777777777777778,
              "#fb9f3a"
             ],
             [
              0.8888888888888888,
              "#fdca26"
             ],
             [
              1,
              "#f0f921"
             ]
            ],
            "type": "contour"
           }
          ],
          "contourcarpet": [
           {
            "colorbar": {
             "outlinewidth": 0,
             "ticks": ""
            },
            "type": "contourcarpet"
           }
          ],
          "heatmap": [
           {
            "colorbar": {
             "outlinewidth": 0,
             "ticks": ""
            },
            "colorscale": [
             [
              0,
              "#0d0887"
             ],
             [
              0.1111111111111111,
              "#46039f"
             ],
             [
              0.2222222222222222,
              "#7201a8"
             ],
             [
              0.3333333333333333,
              "#9c179e"
             ],
             [
              0.4444444444444444,
              "#bd3786"
             ],
             [
              0.5555555555555556,
              "#d8576b"
             ],
             [
              0.6666666666666666,
              "#ed7953"
             ],
             [
              0.7777777777777778,
              "#fb9f3a"
             ],
             [
              0.8888888888888888,
              "#fdca26"
             ],
             [
              1,
              "#f0f921"
             ]
            ],
            "type": "heatmap"
           }
          ],
          "heatmapgl": [
           {
            "colorbar": {
             "outlinewidth": 0,
             "ticks": ""
            },
            "colorscale": [
             [
              0,
              "#0d0887"
             ],
             [
              0.1111111111111111,
              "#46039f"
             ],
             [
              0.2222222222222222,
              "#7201a8"
             ],
             [
              0.3333333333333333,
              "#9c179e"
             ],
             [
              0.4444444444444444,
              "#bd3786"
             ],
             [
              0.5555555555555556,
              "#d8576b"
             ],
             [
              0.6666666666666666,
              "#ed7953"
             ],
             [
              0.7777777777777778,
              "#fb9f3a"
             ],
             [
              0.8888888888888888,
              "#fdca26"
             ],
             [
              1,
              "#f0f921"
             ]
            ],
            "type": "heatmapgl"
           }
          ],
          "histogram": [
           {
            "marker": {
             "pattern": {
              "fillmode": "overlay",
              "size": 10,
              "solidity": 0.2
             }
            },
            "type": "histogram"
           }
          ],
          "histogram2d": [
           {
            "colorbar": {
             "outlinewidth": 0,
             "ticks": ""
            },
            "colorscale": [
             [
              0,
              "#0d0887"
             ],
             [
              0.1111111111111111,
              "#46039f"
             ],
             [
              0.2222222222222222,
              "#7201a8"
             ],
             [
              0.3333333333333333,
              "#9c179e"
             ],
             [
              0.4444444444444444,
              "#bd3786"
             ],
             [
              0.5555555555555556,
              "#d8576b"
             ],
             [
              0.6666666666666666,
              "#ed7953"
             ],
             [
              0.7777777777777778,
              "#fb9f3a"
             ],
             [
              0.8888888888888888,
              "#fdca26"
             ],
             [
              1,
              "#f0f921"
             ]
            ],
            "type": "histogram2d"
           }
          ],
          "histogram2dcontour": [
           {
            "colorbar": {
             "outlinewidth": 0,
             "ticks": ""
            },
            "colorscale": [
             [
              0,
              "#0d0887"
             ],
             [
              0.1111111111111111,
              "#46039f"
             ],
             [
              0.2222222222222222,
              "#7201a8"
             ],
             [
              0.3333333333333333,
              "#9c179e"
             ],
             [
              0.4444444444444444,
              "#bd3786"
             ],
             [
              0.5555555555555556,
              "#d8576b"
             ],
             [
              0.6666666666666666,
              "#ed7953"
             ],
             [
              0.7777777777777778,
              "#fb9f3a"
             ],
             [
              0.8888888888888888,
              "#fdca26"
             ],
             [
              1,
              "#f0f921"
             ]
            ],
            "type": "histogram2dcontour"
           }
          ],
          "mesh3d": [
           {
            "colorbar": {
             "outlinewidth": 0,
             "ticks": ""
            },
            "type": "mesh3d"
           }
          ],
          "parcoords": [
           {
            "line": {
             "colorbar": {
              "outlinewidth": 0,
              "ticks": ""
             }
            },
            "type": "parcoords"
           }
          ],
          "pie": [
           {
            "automargin": true,
            "type": "pie"
           }
          ],
          "scatter": [
           {
            "fillpattern": {
             "fillmode": "overlay",
             "size": 10,
             "solidity": 0.2
            },
            "type": "scatter"
           }
          ],
          "scatter3d": [
           {
            "line": {
             "colorbar": {
              "outlinewidth": 0,
              "ticks": ""
             }
            },
            "marker": {
             "colorbar": {
              "outlinewidth": 0,
              "ticks": ""
             }
            },
            "type": "scatter3d"
           }
          ],
          "scattercarpet": [
           {
            "marker": {
             "colorbar": {
              "outlinewidth": 0,
              "ticks": ""
             }
            },
            "type": "scattercarpet"
           }
          ],
          "scattergeo": [
           {
            "marker": {
             "colorbar": {
              "outlinewidth": 0,
              "ticks": ""
             }
            },
            "type": "scattergeo"
           }
          ],
          "scattergl": [
           {
            "marker": {
             "colorbar": {
              "outlinewidth": 0,
              "ticks": ""
             }
            },
            "type": "scattergl"
           }
          ],
          "scattermapbox": [
           {
            "marker": {
             "colorbar": {
              "outlinewidth": 0,
              "ticks": ""
             }
            },
            "type": "scattermapbox"
           }
          ],
          "scatterpolar": [
           {
            "marker": {
             "colorbar": {
              "outlinewidth": 0,
              "ticks": ""
             }
            },
            "type": "scatterpolar"
           }
          ],
          "scatterpolargl": [
           {
            "marker": {
             "colorbar": {
              "outlinewidth": 0,
              "ticks": ""
             }
            },
            "type": "scatterpolargl"
           }
          ],
          "scatterternary": [
           {
            "marker": {
             "colorbar": {
              "outlinewidth": 0,
              "ticks": ""
             }
            },
            "type": "scatterternary"
           }
          ],
          "surface": [
           {
            "colorbar": {
             "outlinewidth": 0,
             "ticks": ""
            },
            "colorscale": [
             [
              0,
              "#0d0887"
             ],
             [
              0.1111111111111111,
              "#46039f"
             ],
             [
              0.2222222222222222,
              "#7201a8"
             ],
             [
              0.3333333333333333,
              "#9c179e"
             ],
             [
              0.4444444444444444,
              "#bd3786"
             ],
             [
              0.5555555555555556,
              "#d8576b"
             ],
             [
              0.6666666666666666,
              "#ed7953"
             ],
             [
              0.7777777777777778,
              "#fb9f3a"
             ],
             [
              0.8888888888888888,
              "#fdca26"
             ],
             [
              1,
              "#f0f921"
             ]
            ],
            "type": "surface"
           }
          ],
          "table": [
           {
            "cells": {
             "fill": {
              "color": "#EBF0F8"
             },
             "line": {
              "color": "white"
             }
            },
            "header": {
             "fill": {
              "color": "#C8D4E3"
             },
             "line": {
              "color": "white"
             }
            },
            "type": "table"
           }
          ]
         },
         "layout": {
          "annotationdefaults": {
           "arrowcolor": "#2a3f5f",
           "arrowhead": 0,
           "arrowwidth": 1
          },
          "autotypenumbers": "strict",
          "coloraxis": {
           "colorbar": {
            "outlinewidth": 0,
            "ticks": ""
           }
          },
          "colorscale": {
           "diverging": [
            [
             0,
             "#8e0152"
            ],
            [
             0.1,
             "#c51b7d"
            ],
            [
             0.2,
             "#de77ae"
            ],
            [
             0.3,
             "#f1b6da"
            ],
            [
             0.4,
             "#fde0ef"
            ],
            [
             0.5,
             "#f7f7f7"
            ],
            [
             0.6,
             "#e6f5d0"
            ],
            [
             0.7,
             "#b8e186"
            ],
            [
             0.8,
             "#7fbc41"
            ],
            [
             0.9,
             "#4d9221"
            ],
            [
             1,
             "#276419"
            ]
           ],
           "sequential": [
            [
             0,
             "#0d0887"
            ],
            [
             0.1111111111111111,
             "#46039f"
            ],
            [
             0.2222222222222222,
             "#7201a8"
            ],
            [
             0.3333333333333333,
             "#9c179e"
            ],
            [
             0.4444444444444444,
             "#bd3786"
            ],
            [
             0.5555555555555556,
             "#d8576b"
            ],
            [
             0.6666666666666666,
             "#ed7953"
            ],
            [
             0.7777777777777778,
             "#fb9f3a"
            ],
            [
             0.8888888888888888,
             "#fdca26"
            ],
            [
             1,
             "#f0f921"
            ]
           ],
           "sequentialminus": [
            [
             0,
             "#0d0887"
            ],
            [
             0.1111111111111111,
             "#46039f"
            ],
            [
             0.2222222222222222,
             "#7201a8"
            ],
            [
             0.3333333333333333,
             "#9c179e"
            ],
            [
             0.4444444444444444,
             "#bd3786"
            ],
            [
             0.5555555555555556,
             "#d8576b"
            ],
            [
             0.6666666666666666,
             "#ed7953"
            ],
            [
             0.7777777777777778,
             "#fb9f3a"
            ],
            [
             0.8888888888888888,
             "#fdca26"
            ],
            [
             1,
             "#f0f921"
            ]
           ]
          },
          "colorway": [
           "#636efa",
           "#EF553B",
           "#00cc96",
           "#ab63fa",
           "#FFA15A",
           "#19d3f3",
           "#FF6692",
           "#B6E880",
           "#FF97FF",
           "#FECB52"
          ],
          "font": {
           "color": "#2a3f5f"
          },
          "geo": {
           "bgcolor": "white",
           "lakecolor": "white",
           "landcolor": "#E5ECF6",
           "showlakes": true,
           "showland": true,
           "subunitcolor": "white"
          },
          "hoverlabel": {
           "align": "left"
          },
          "hovermode": "closest",
          "mapbox": {
           "style": "light"
          },
          "paper_bgcolor": "white",
          "plot_bgcolor": "#E5ECF6",
          "polar": {
           "angularaxis": {
            "gridcolor": "white",
            "linecolor": "white",
            "ticks": ""
           },
           "bgcolor": "#E5ECF6",
           "radialaxis": {
            "gridcolor": "white",
            "linecolor": "white",
            "ticks": ""
           }
          },
          "scene": {
           "xaxis": {
            "backgroundcolor": "#E5ECF6",
            "gridcolor": "white",
            "gridwidth": 2,
            "linecolor": "white",
            "showbackground": true,
            "ticks": "",
            "zerolinecolor": "white"
           },
           "yaxis": {
            "backgroundcolor": "#E5ECF6",
            "gridcolor": "white",
            "gridwidth": 2,
            "linecolor": "white",
            "showbackground": true,
            "ticks": "",
            "zerolinecolor": "white"
           },
           "zaxis": {
            "backgroundcolor": "#E5ECF6",
            "gridcolor": "white",
            "gridwidth": 2,
            "linecolor": "white",
            "showbackground": true,
            "ticks": "",
            "zerolinecolor": "white"
           }
          },
          "shapedefaults": {
           "line": {
            "color": "#2a3f5f"
           }
          },
          "ternary": {
           "aaxis": {
            "gridcolor": "white",
            "linecolor": "white",
            "ticks": ""
           },
           "baxis": {
            "gridcolor": "white",
            "linecolor": "white",
            "ticks": ""
           },
           "bgcolor": "#E5ECF6",
           "caxis": {
            "gridcolor": "white",
            "linecolor": "white",
            "ticks": ""
           }
          },
          "title": {
           "x": 0.05
          },
          "xaxis": {
           "automargin": true,
           "gridcolor": "white",
           "linecolor": "white",
           "ticks": "",
           "title": {
            "standoff": 15
           },
           "zerolinecolor": "white",
           "zerolinewidth": 2
          },
          "yaxis": {
           "automargin": true,
           "gridcolor": "white",
           "linecolor": "white",
           "ticks": "",
           "title": {
            "standoff": 15
           },
           "zerolinecolor": "white",
           "zerolinewidth": 2
          }
         }
        }
       }
      }
     },
     "metadata": {},
     "output_type": "display_data"
    },
    {
     "data": {
      "application/vnd.plotly.v1+json": {
       "config": {
        "plotlyServerURL": "https://plot.ly"
       },
       "data": [
        {
         "i": [
          0,
          0,
          0,
          0,
          0,
          0,
          0,
          0,
          0,
          0,
          1,
          1,
          1,
          1,
          1,
          1,
          1,
          1,
          1,
          1,
          1,
          1,
          1,
          1,
          2,
          2,
          2,
          2,
          2,
          2,
          2,
          2,
          2,
          2,
          3,
          3,
          3,
          3,
          3,
          3,
          3,
          3,
          3,
          3,
          3,
          3,
          3,
          4,
          4,
          4,
          4,
          4,
          4,
          4,
          4,
          5,
          5,
          5,
          6,
          7,
          10,
          10,
          10,
          10,
          10,
          10,
          10,
          10,
          10,
          10,
          10,
          10,
          10,
          10,
          10,
          11,
          11,
          11,
          11,
          11,
          11,
          11,
          11,
          11,
          11,
          12,
          12,
          12,
          12,
          12,
          12,
          13,
          13,
          13,
          14,
          14,
          14,
          15,
          18,
          18,
          18,
          18,
          18,
          18,
          19,
          19,
          19,
          19,
          19,
          19,
          19,
          19,
          19,
          19,
          19,
          19,
          19,
          19,
          19,
          19,
          19,
          19,
          19,
          19,
          19,
          19,
          19,
          19,
          19,
          19,
          19,
          19,
          19,
          19,
          19,
          19,
          19,
          19,
          19,
          19,
          20,
          20,
          20,
          20,
          20,
          20,
          20,
          20,
          20,
          20,
          20,
          20,
          20,
          20,
          20,
          20,
          20,
          20,
          20,
          20,
          20,
          20,
          20,
          21,
          21,
          21,
          21,
          21,
          21,
          21,
          21,
          21,
          21,
          21,
          21,
          21,
          22,
          22,
          22,
          22,
          22,
          22,
          22,
          22,
          22,
          22,
          22,
          22,
          22,
          22,
          22,
          23,
          23,
          23,
          23,
          23,
          23,
          23,
          23,
          23,
          24,
          24,
          24,
          25,
          27
         ],
         "j": [
          1,
          1,
          1,
          1,
          3,
          3,
          3,
          5,
          5,
          7,
          2,
          2,
          2,
          2,
          3,
          3,
          3,
          3,
          4,
          4,
          4,
          5,
          5,
          7,
          3,
          3,
          3,
          3,
          4,
          4,
          4,
          7,
          7,
          8,
          4,
          4,
          4,
          4,
          4,
          5,
          5,
          5,
          6,
          6,
          7,
          7,
          8,
          5,
          5,
          5,
          6,
          6,
          7,
          7,
          8,
          6,
          6,
          7,
          7,
          8,
          11,
          11,
          11,
          11,
          11,
          12,
          12,
          12,
          12,
          14,
          14,
          14,
          15,
          15,
          16,
          12,
          12,
          12,
          12,
          14,
          14,
          14,
          15,
          15,
          16,
          14,
          14,
          14,
          15,
          15,
          16,
          14,
          14,
          15,
          15,
          15,
          16,
          16,
          19,
          19,
          19,
          21,
          21,
          27,
          20,
          20,
          20,
          20,
          20,
          20,
          20,
          20,
          21,
          21,
          21,
          21,
          21,
          21,
          22,
          22,
          22,
          22,
          22,
          22,
          22,
          23,
          23,
          23,
          23,
          23,
          23,
          24,
          24,
          24,
          25,
          25,
          26,
          27,
          27,
          28,
          21,
          21,
          21,
          21,
          21,
          22,
          22,
          22,
          22,
          22,
          22,
          23,
          23,
          23,
          23,
          23,
          24,
          24,
          24,
          25,
          25,
          26,
          27,
          22,
          22,
          22,
          22,
          22,
          23,
          23,
          23,
          23,
          24,
          27,
          27,
          28,
          23,
          23,
          23,
          23,
          23,
          23,
          24,
          24,
          24,
          25,
          25,
          26,
          27,
          27,
          28,
          24,
          24,
          24,
          25,
          25,
          26,
          27,
          27,
          28,
          25,
          25,
          26,
          26,
          28
         ],
         "k": [
          3,
          5,
          7,
          9,
          5,
          7,
          9,
          7,
          9,
          9,
          3,
          4,
          7,
          9,
          4,
          5,
          7,
          9,
          5,
          7,
          9,
          7,
          9,
          9,
          4,
          7,
          8,
          9,
          7,
          8,
          9,
          8,
          9,
          9,
          5,
          6,
          7,
          8,
          9,
          6,
          7,
          9,
          7,
          9,
          8,
          9,
          9,
          6,
          7,
          9,
          7,
          9,
          8,
          9,
          9,
          7,
          9,
          9,
          9,
          9,
          12,
          14,
          15,
          16,
          17,
          14,
          15,
          16,
          17,
          15,
          16,
          17,
          16,
          17,
          17,
          14,
          15,
          16,
          17,
          15,
          16,
          17,
          16,
          17,
          17,
          15,
          16,
          17,
          16,
          17,
          17,
          15,
          17,
          17,
          16,
          17,
          17,
          17,
          21,
          27,
          29,
          27,
          29,
          29,
          21,
          22,
          23,
          24,
          25,
          26,
          27,
          28,
          22,
          23,
          24,
          27,
          28,
          29,
          23,
          24,
          25,
          26,
          27,
          28,
          29,
          24,
          25,
          26,
          27,
          28,
          29,
          25,
          26,
          28,
          26,
          28,
          28,
          28,
          29,
          29,
          22,
          23,
          24,
          27,
          28,
          23,
          24,
          25,
          26,
          27,
          28,
          24,
          25,
          26,
          27,
          28,
          25,
          26,
          28,
          26,
          28,
          28,
          28,
          23,
          24,
          27,
          28,
          29,
          24,
          27,
          28,
          29,
          28,
          28,
          29,
          29,
          24,
          25,
          26,
          27,
          28,
          29,
          25,
          26,
          28,
          26,
          28,
          28,
          28,
          29,
          29,
          25,
          26,
          28,
          26,
          28,
          28,
          28,
          29,
          29,
          26,
          28,
          28,
          28,
          29
         ],
         "type": "mesh3d",
         "x": [
          0.15046080005418971,
          -0.2976708087520203,
          -1.2195992916904983,
          0.066932399638839,
          0.26203208800304567,
          0.8588550325312683,
          1.6870251478215628,
          0.24351995095443954,
          -1.0920812658059356,
          0.03151811132497726,
          6.847114832025536,
          6.544741707333095,
          6.56757117006332,
          8.977386852532858,
          7.848893381990088,
          7.930617098900897,
          6.369144826946315,
          7.151418220062759,
          1.7085667240623332,
          -0.11330527834724878,
          -0.8681586114568105,
          0.5655624093057307,
          -0.054450998025203264,
          -0.4648483026477713,
          -0.9239103514987733,
          -0.5083196478427116,
          -0.7235048864024711,
          0.5942333954946766,
          -0.4249211366786726,
          1.3593175203303833
         ],
         "y": [
          -1.4666237837894007,
          -0.3214094333361909,
          1.1770462731147293,
          0.14570068999138808,
          1.0732911818190733,
          0.20304227991221957,
          0.9616975939868174,
          0.47490144993709,
          1.5320314361456322,
          0.3175900914811739,
          0.37203275614353776,
          0.4580115429423126,
          0.02514064234920709,
          -0.7328900276967719,
          0.2962771189995143,
          -0.5416057044443754,
          0.6274447635983534,
          -1.0479182864995367,
          11.426080570152823,
          11.457805816647733,
          11.03318136426151,
          9.956870754188575,
          10.347249919332924,
          10.952758153356248,
          11.280792109793602,
          11.84430541647575,
          11.704407752988354,
          9.838231515099782,
          10.974277477572455,
          10.75535401254119
         ],
         "z": [
          0,
          0,
          0,
          0,
          0,
          0,
          0,
          0,
          0,
          0,
          0,
          0,
          0,
          0,
          0,
          0,
          0,
          0,
          0,
          0,
          0,
          0,
          0,
          0,
          0,
          0,
          0,
          0,
          0,
          0
         ]
        },
        {
         "mode": "markers",
         "type": "scatter3d",
         "x": [
          0.15046080005418971,
          -0.2976708087520203,
          -1.2195992916904983,
          0.066932399638839,
          0.26203208800304567,
          0.8588550325312683,
          1.6870251478215628,
          0.24351995095443954,
          -1.0920812658059356,
          0.03151811132497726,
          6.847114832025536,
          6.544741707333095,
          6.56757117006332,
          8.977386852532858,
          7.848893381990088,
          7.930617098900897,
          6.369144826946315,
          7.151418220062759,
          1.7085667240623332,
          -0.11330527834724878,
          -0.8681586114568105,
          0.5655624093057307,
          -0.054450998025203264,
          -0.4648483026477713,
          -0.9239103514987733,
          -0.5083196478427116,
          -0.7235048864024711,
          0.5942333954946766,
          -0.4249211366786726,
          1.3593175203303833
         ],
         "y": [
          -1.4666237837894007,
          -0.3214094333361909,
          1.1770462731147293,
          0.14570068999138808,
          1.0732911818190733,
          0.20304227991221957,
          0.9616975939868174,
          0.47490144993709,
          1.5320314361456322,
          0.3175900914811739,
          0.37203275614353776,
          0.4580115429423126,
          0.02514064234920709,
          -0.7328900276967719,
          0.2962771189995143,
          -0.5416057044443754,
          0.6274447635983534,
          -1.0479182864995367,
          11.426080570152823,
          11.457805816647733,
          11.03318136426151,
          9.956870754188575,
          10.347249919332924,
          10.952758153356248,
          11.280792109793602,
          11.84430541647575,
          11.704407752988354,
          9.838231515099782,
          10.974277477572455,
          10.75535401254119
         ],
         "z": [
          0,
          0,
          0,
          0,
          0,
          0,
          0,
          0,
          0,
          0,
          0,
          0,
          0,
          0,
          0,
          0,
          0,
          0,
          0,
          0,
          0,
          0,
          0,
          0,
          0,
          0,
          0,
          0,
          0,
          0
         ]
        },
        {
         "line": {
          "color": "green"
         },
         "mode": "lines",
         "type": "scatter3d",
         "x": [
          0.15046080005418971,
          -0.2976708087520203
         ],
         "y": [
          -1.4666237837894007,
          -0.3214094333361909
         ],
         "z": [
          0,
          0
         ]
        },
        {
         "line": {
          "color": "green"
         },
         "mode": "lines",
         "type": "scatter3d",
         "x": [
          0.15046080005418971,
          0.066932399638839
         ],
         "y": [
          -1.4666237837894007,
          0.14570068999138808
         ],
         "z": [
          0,
          0
         ]
        },
        {
         "line": {
          "color": "green"
         },
         "mode": "lines",
         "type": "scatter3d",
         "x": [
          0.15046080005418971,
          0.8588550325312683
         ],
         "y": [
          -1.4666237837894007,
          0.20304227991221957
         ],
         "z": [
          0,
          0
         ]
        },
        {
         "line": {
          "color": "green"
         },
         "mode": "lines",
         "type": "scatter3d",
         "x": [
          0.15046080005418971,
          0.24351995095443954
         ],
         "y": [
          -1.4666237837894007,
          0.47490144993709
         ],
         "z": [
          0,
          0
         ]
        },
        {
         "line": {
          "color": "green"
         },
         "mode": "lines",
         "type": "scatter3d",
         "x": [
          0.15046080005418971,
          0.03151811132497726
         ],
         "y": [
          -1.4666237837894007,
          0.3175900914811739
         ],
         "z": [
          0,
          0
         ]
        },
        {
         "line": {
          "color": "green"
         },
         "mode": "lines",
         "type": "scatter3d",
         "x": [
          -0.2976708087520203,
          -1.2195992916904983
         ],
         "y": [
          -0.3214094333361909,
          1.1770462731147293
         ],
         "z": [
          0,
          0
         ]
        },
        {
         "line": {
          "color": "green"
         },
         "mode": "lines",
         "type": "scatter3d",
         "x": [
          -0.2976708087520203,
          0.066932399638839
         ],
         "y": [
          -0.3214094333361909,
          0.14570068999138808
         ],
         "z": [
          0,
          0
         ]
        },
        {
         "line": {
          "color": "green"
         },
         "mode": "lines",
         "type": "scatter3d",
         "x": [
          -0.2976708087520203,
          0.26203208800304567
         ],
         "y": [
          -0.3214094333361909,
          1.0732911818190733
         ],
         "z": [
          0,
          0
         ]
        },
        {
         "line": {
          "color": "green"
         },
         "mode": "lines",
         "type": "scatter3d",
         "x": [
          -0.2976708087520203,
          0.8588550325312683
         ],
         "y": [
          -0.3214094333361909,
          0.20304227991221957
         ],
         "z": [
          0,
          0
         ]
        },
        {
         "line": {
          "color": "green"
         },
         "mode": "lines",
         "type": "scatter3d",
         "x": [
          -0.2976708087520203,
          0.24351995095443954
         ],
         "y": [
          -0.3214094333361909,
          0.47490144993709
         ],
         "z": [
          0,
          0
         ]
        },
        {
         "line": {
          "color": "green"
         },
         "mode": "lines",
         "type": "scatter3d",
         "x": [
          -0.2976708087520203,
          0.03151811132497726
         ],
         "y": [
          -0.3214094333361909,
          0.3175900914811739
         ],
         "z": [
          0,
          0
         ]
        },
        {
         "line": {
          "color": "green"
         },
         "mode": "lines",
         "type": "scatter3d",
         "x": [
          -1.2195992916904983,
          0.066932399638839
         ],
         "y": [
          1.1770462731147293,
          0.14570068999138808
         ],
         "z": [
          0,
          0
         ]
        },
        {
         "line": {
          "color": "green"
         },
         "mode": "lines",
         "type": "scatter3d",
         "x": [
          -1.2195992916904983,
          0.26203208800304567
         ],
         "y": [
          1.1770462731147293,
          1.0732911818190733
         ],
         "z": [
          0,
          0
         ]
        },
        {
         "line": {
          "color": "green"
         },
         "mode": "lines",
         "type": "scatter3d",
         "x": [
          -1.2195992916904983,
          0.24351995095443954
         ],
         "y": [
          1.1770462731147293,
          0.47490144993709
         ],
         "z": [
          0,
          0
         ]
        },
        {
         "line": {
          "color": "green"
         },
         "mode": "lines",
         "type": "scatter3d",
         "x": [
          -1.2195992916904983,
          -1.0920812658059356
         ],
         "y": [
          1.1770462731147293,
          1.5320314361456322
         ],
         "z": [
          0,
          0
         ]
        },
        {
         "line": {
          "color": "green"
         },
         "mode": "lines",
         "type": "scatter3d",
         "x": [
          -1.2195992916904983,
          0.03151811132497726
         ],
         "y": [
          1.1770462731147293,
          0.3175900914811739
         ],
         "z": [
          0,
          0
         ]
        },
        {
         "line": {
          "color": "green"
         },
         "mode": "lines",
         "type": "scatter3d",
         "x": [
          0.066932399638839,
          0.26203208800304567
         ],
         "y": [
          0.14570068999138808,
          1.0732911818190733
         ],
         "z": [
          0,
          0
         ]
        },
        {
         "line": {
          "color": "green"
         },
         "mode": "lines",
         "type": "scatter3d",
         "x": [
          0.066932399638839,
          0.8588550325312683
         ],
         "y": [
          0.14570068999138808,
          0.20304227991221957
         ],
         "z": [
          0,
          0
         ]
        },
        {
         "line": {
          "color": "green"
         },
         "mode": "lines",
         "type": "scatter3d",
         "x": [
          0.066932399638839,
          1.6870251478215628
         ],
         "y": [
          0.14570068999138808,
          0.9616975939868174
         ],
         "z": [
          0,
          0
         ]
        },
        {
         "line": {
          "color": "green"
         },
         "mode": "lines",
         "type": "scatter3d",
         "x": [
          0.066932399638839,
          0.24351995095443954
         ],
         "y": [
          0.14570068999138808,
          0.47490144993709
         ],
         "z": [
          0,
          0
         ]
        },
        {
         "line": {
          "color": "green"
         },
         "mode": "lines",
         "type": "scatter3d",
         "x": [
          0.066932399638839,
          -1.0920812658059356
         ],
         "y": [
          0.14570068999138808,
          1.5320314361456322
         ],
         "z": [
          0,
          0
         ]
        },
        {
         "line": {
          "color": "green"
         },
         "mode": "lines",
         "type": "scatter3d",
         "x": [
          0.066932399638839,
          0.03151811132497726
         ],
         "y": [
          0.14570068999138808,
          0.3175900914811739
         ],
         "z": [
          0,
          0
         ]
        },
        {
         "line": {
          "color": "green"
         },
         "mode": "lines",
         "type": "scatter3d",
         "x": [
          0.26203208800304567,
          0.8588550325312683
         ],
         "y": [
          1.0732911818190733,
          0.20304227991221957
         ],
         "z": [
          0,
          0
         ]
        },
        {
         "line": {
          "color": "green"
         },
         "mode": "lines",
         "type": "scatter3d",
         "x": [
          0.26203208800304567,
          1.6870251478215628
         ],
         "y": [
          1.0732911818190733,
          0.9616975939868174
         ],
         "z": [
          0,
          0
         ]
        },
        {
         "line": {
          "color": "green"
         },
         "mode": "lines",
         "type": "scatter3d",
         "x": [
          0.26203208800304567,
          0.24351995095443954
         ],
         "y": [
          1.0732911818190733,
          0.47490144993709
         ],
         "z": [
          0,
          0
         ]
        },
        {
         "line": {
          "color": "green"
         },
         "mode": "lines",
         "type": "scatter3d",
         "x": [
          0.26203208800304567,
          -1.0920812658059356
         ],
         "y": [
          1.0732911818190733,
          1.5320314361456322
         ],
         "z": [
          0,
          0
         ]
        },
        {
         "line": {
          "color": "green"
         },
         "mode": "lines",
         "type": "scatter3d",
         "x": [
          0.26203208800304567,
          0.03151811132497726
         ],
         "y": [
          1.0732911818190733,
          0.3175900914811739
         ],
         "z": [
          0,
          0
         ]
        },
        {
         "line": {
          "color": "green"
         },
         "mode": "lines",
         "type": "scatter3d",
         "x": [
          0.8588550325312683,
          1.6870251478215628
         ],
         "y": [
          0.20304227991221957,
          0.9616975939868174
         ],
         "z": [
          0,
          0
         ]
        },
        {
         "line": {
          "color": "green"
         },
         "mode": "lines",
         "type": "scatter3d",
         "x": [
          0.8588550325312683,
          0.24351995095443954
         ],
         "y": [
          0.20304227991221957,
          0.47490144993709
         ],
         "z": [
          0,
          0
         ]
        },
        {
         "line": {
          "color": "green"
         },
         "mode": "lines",
         "type": "scatter3d",
         "x": [
          0.8588550325312683,
          0.03151811132497726
         ],
         "y": [
          0.20304227991221957,
          0.3175900914811739
         ],
         "z": [
          0,
          0
         ]
        },
        {
         "line": {
          "color": "green"
         },
         "mode": "lines",
         "type": "scatter3d",
         "x": [
          1.6870251478215628,
          0.24351995095443954
         ],
         "y": [
          0.9616975939868174,
          0.47490144993709
         ],
         "z": [
          0,
          0
         ]
        },
        {
         "line": {
          "color": "green"
         },
         "mode": "lines",
         "type": "scatter3d",
         "x": [
          1.6870251478215628,
          0.03151811132497726
         ],
         "y": [
          0.9616975939868174,
          0.3175900914811739
         ],
         "z": [
          0,
          0
         ]
        },
        {
         "line": {
          "color": "green"
         },
         "mode": "lines",
         "type": "scatter3d",
         "x": [
          0.24351995095443954,
          -1.0920812658059356
         ],
         "y": [
          0.47490144993709,
          1.5320314361456322
         ],
         "z": [
          0,
          0
         ]
        },
        {
         "line": {
          "color": "green"
         },
         "mode": "lines",
         "type": "scatter3d",
         "x": [
          0.24351995095443954,
          0.03151811132497726
         ],
         "y": [
          0.47490144993709,
          0.3175900914811739
         ],
         "z": [
          0,
          0
         ]
        },
        {
         "line": {
          "color": "green"
         },
         "mode": "lines",
         "type": "scatter3d",
         "x": [
          -1.0920812658059356,
          0.03151811132497726
         ],
         "y": [
          1.5320314361456322,
          0.3175900914811739
         ],
         "z": [
          0,
          0
         ]
        },
        {
         "line": {
          "color": "green"
         },
         "mode": "lines",
         "type": "scatter3d",
         "x": [
          6.847114832025536,
          6.544741707333095
         ],
         "y": [
          0.37203275614353776,
          0.4580115429423126
         ],
         "z": [
          0,
          0
         ]
        },
        {
         "line": {
          "color": "green"
         },
         "mode": "lines",
         "type": "scatter3d",
         "x": [
          6.847114832025536,
          6.56757117006332
         ],
         "y": [
          0.37203275614353776,
          0.02514064234920709
         ],
         "z": [
          0,
          0
         ]
        },
        {
         "line": {
          "color": "green"
         },
         "mode": "lines",
         "type": "scatter3d",
         "x": [
          6.847114832025536,
          7.848893381990088
         ],
         "y": [
          0.37203275614353776,
          0.2962771189995143
         ],
         "z": [
          0,
          0
         ]
        },
        {
         "line": {
          "color": "green"
         },
         "mode": "lines",
         "type": "scatter3d",
         "x": [
          6.847114832025536,
          7.930617098900897
         ],
         "y": [
          0.37203275614353776,
          -0.5416057044443754
         ],
         "z": [
          0,
          0
         ]
        },
        {
         "line": {
          "color": "green"
         },
         "mode": "lines",
         "type": "scatter3d",
         "x": [
          6.847114832025536,
          6.369144826946315
         ],
         "y": [
          0.37203275614353776,
          0.6274447635983534
         ],
         "z": [
          0,
          0
         ]
        },
        {
         "line": {
          "color": "green"
         },
         "mode": "lines",
         "type": "scatter3d",
         "x": [
          6.847114832025536,
          7.151418220062759
         ],
         "y": [
          0.37203275614353776,
          -1.0479182864995367
         ],
         "z": [
          0,
          0
         ]
        },
        {
         "line": {
          "color": "green"
         },
         "mode": "lines",
         "type": "scatter3d",
         "x": [
          6.544741707333095,
          6.56757117006332
         ],
         "y": [
          0.4580115429423126,
          0.02514064234920709
         ],
         "z": [
          0,
          0
         ]
        },
        {
         "line": {
          "color": "green"
         },
         "mode": "lines",
         "type": "scatter3d",
         "x": [
          6.544741707333095,
          7.848893381990088
         ],
         "y": [
          0.4580115429423126,
          0.2962771189995143
         ],
         "z": [
          0,
          0
         ]
        },
        {
         "line": {
          "color": "green"
         },
         "mode": "lines",
         "type": "scatter3d",
         "x": [
          6.544741707333095,
          7.930617098900897
         ],
         "y": [
          0.4580115429423126,
          -0.5416057044443754
         ],
         "z": [
          0,
          0
         ]
        },
        {
         "line": {
          "color": "green"
         },
         "mode": "lines",
         "type": "scatter3d",
         "x": [
          6.544741707333095,
          6.369144826946315
         ],
         "y": [
          0.4580115429423126,
          0.6274447635983534
         ],
         "z": [
          0,
          0
         ]
        },
        {
         "line": {
          "color": "green"
         },
         "mode": "lines",
         "type": "scatter3d",
         "x": [
          6.544741707333095,
          7.151418220062759
         ],
         "y": [
          0.4580115429423126,
          -1.0479182864995367
         ],
         "z": [
          0,
          0
         ]
        },
        {
         "line": {
          "color": "green"
         },
         "mode": "lines",
         "type": "scatter3d",
         "x": [
          6.56757117006332,
          7.848893381990088
         ],
         "y": [
          0.02514064234920709,
          0.2962771189995143
         ],
         "z": [
          0,
          0
         ]
        },
        {
         "line": {
          "color": "green"
         },
         "mode": "lines",
         "type": "scatter3d",
         "x": [
          6.56757117006332,
          7.930617098900897
         ],
         "y": [
          0.02514064234920709,
          -0.5416057044443754
         ],
         "z": [
          0,
          0
         ]
        },
        {
         "line": {
          "color": "green"
         },
         "mode": "lines",
         "type": "scatter3d",
         "x": [
          6.56757117006332,
          6.369144826946315
         ],
         "y": [
          0.02514064234920709,
          0.6274447635983534
         ],
         "z": [
          0,
          0
         ]
        },
        {
         "line": {
          "color": "green"
         },
         "mode": "lines",
         "type": "scatter3d",
         "x": [
          6.56757117006332,
          7.151418220062759
         ],
         "y": [
          0.02514064234920709,
          -1.0479182864995367
         ],
         "z": [
          0,
          0
         ]
        },
        {
         "line": {
          "color": "green"
         },
         "mode": "lines",
         "type": "scatter3d",
         "x": [
          8.977386852532858,
          7.848893381990088
         ],
         "y": [
          -0.7328900276967719,
          0.2962771189995143
         ],
         "z": [
          0,
          0
         ]
        },
        {
         "line": {
          "color": "green"
         },
         "mode": "lines",
         "type": "scatter3d",
         "x": [
          8.977386852532858,
          7.930617098900897
         ],
         "y": [
          -0.7328900276967719,
          -0.5416057044443754
         ],
         "z": [
          0,
          0
         ]
        },
        {
         "line": {
          "color": "green"
         },
         "mode": "lines",
         "type": "scatter3d",
         "x": [
          8.977386852532858,
          7.151418220062759
         ],
         "y": [
          -0.7328900276967719,
          -1.0479182864995367
         ],
         "z": [
          0,
          0
         ]
        },
        {
         "line": {
          "color": "green"
         },
         "mode": "lines",
         "type": "scatter3d",
         "x": [
          7.848893381990088,
          7.930617098900897
         ],
         "y": [
          0.2962771189995143,
          -0.5416057044443754
         ],
         "z": [
          0,
          0
         ]
        },
        {
         "line": {
          "color": "green"
         },
         "mode": "lines",
         "type": "scatter3d",
         "x": [
          7.848893381990088,
          6.369144826946315
         ],
         "y": [
          0.2962771189995143,
          0.6274447635983534
         ],
         "z": [
          0,
          0
         ]
        },
        {
         "line": {
          "color": "green"
         },
         "mode": "lines",
         "type": "scatter3d",
         "x": [
          7.848893381990088,
          7.151418220062759
         ],
         "y": [
          0.2962771189995143,
          -1.0479182864995367
         ],
         "z": [
          0,
          0
         ]
        },
        {
         "line": {
          "color": "green"
         },
         "mode": "lines",
         "type": "scatter3d",
         "x": [
          7.930617098900897,
          6.369144826946315
         ],
         "y": [
          -0.5416057044443754,
          0.6274447635983534
         ],
         "z": [
          0,
          0
         ]
        },
        {
         "line": {
          "color": "green"
         },
         "mode": "lines",
         "type": "scatter3d",
         "x": [
          7.930617098900897,
          7.151418220062759
         ],
         "y": [
          -0.5416057044443754,
          -1.0479182864995367
         ],
         "z": [
          0,
          0
         ]
        },
        {
         "line": {
          "color": "green"
         },
         "mode": "lines",
         "type": "scatter3d",
         "x": [
          6.369144826946315,
          7.151418220062759
         ],
         "y": [
          0.6274447635983534,
          -1.0479182864995367
         ],
         "z": [
          0,
          0
         ]
        },
        {
         "line": {
          "color": "green"
         },
         "mode": "lines",
         "type": "scatter3d",
         "x": [
          1.7085667240623332,
          -0.11330527834724878
         ],
         "y": [
          11.426080570152823,
          11.457805816647733
         ],
         "z": [
          0,
          0
         ]
        },
        {
         "line": {
          "color": "green"
         },
         "mode": "lines",
         "type": "scatter3d",
         "x": [
          1.7085667240623332,
          0.5655624093057307
         ],
         "y": [
          11.426080570152823,
          9.956870754188575
         ],
         "z": [
          0,
          0
         ]
        },
        {
         "line": {
          "color": "green"
         },
         "mode": "lines",
         "type": "scatter3d",
         "x": [
          1.7085667240623332,
          0.5942333954946766
         ],
         "y": [
          11.426080570152823,
          9.838231515099782
         ],
         "z": [
          0,
          0
         ]
        },
        {
         "line": {
          "color": "green"
         },
         "mode": "lines",
         "type": "scatter3d",
         "x": [
          1.7085667240623332,
          1.3593175203303833
         ],
         "y": [
          11.426080570152823,
          10.75535401254119
         ],
         "z": [
          0,
          0
         ]
        },
        {
         "line": {
          "color": "green"
         },
         "mode": "lines",
         "type": "scatter3d",
         "x": [
          -0.11330527834724878,
          -0.8681586114568105
         ],
         "y": [
          11.457805816647733,
          11.03318136426151
         ],
         "z": [
          0,
          0
         ]
        },
        {
         "line": {
          "color": "green"
         },
         "mode": "lines",
         "type": "scatter3d",
         "x": [
          -0.11330527834724878,
          0.5655624093057307
         ],
         "y": [
          11.457805816647733,
          9.956870754188575
         ],
         "z": [
          0,
          0
         ]
        },
        {
         "line": {
          "color": "green"
         },
         "mode": "lines",
         "type": "scatter3d",
         "x": [
          -0.11330527834724878,
          -0.054450998025203264
         ],
         "y": [
          11.457805816647733,
          10.347249919332924
         ],
         "z": [
          0,
          0
         ]
        },
        {
         "line": {
          "color": "green"
         },
         "mode": "lines",
         "type": "scatter3d",
         "x": [
          -0.11330527834724878,
          -0.4648483026477713
         ],
         "y": [
          11.457805816647733,
          10.952758153356248
         ],
         "z": [
          0,
          0
         ]
        },
        {
         "line": {
          "color": "green"
         },
         "mode": "lines",
         "type": "scatter3d",
         "x": [
          -0.11330527834724878,
          -0.9239103514987733
         ],
         "y": [
          11.457805816647733,
          11.280792109793602
         ],
         "z": [
          0,
          0
         ]
        },
        {
         "line": {
          "color": "green"
         },
         "mode": "lines",
         "type": "scatter3d",
         "x": [
          -0.11330527834724878,
          -0.5083196478427116
         ],
         "y": [
          11.457805816647733,
          11.84430541647575
         ],
         "z": [
          0,
          0
         ]
        },
        {
         "line": {
          "color": "green"
         },
         "mode": "lines",
         "type": "scatter3d",
         "x": [
          -0.11330527834724878,
          -0.7235048864024711
         ],
         "y": [
          11.457805816647733,
          11.704407752988354
         ],
         "z": [
          0,
          0
         ]
        },
        {
         "line": {
          "color": "green"
         },
         "mode": "lines",
         "type": "scatter3d",
         "x": [
          -0.11330527834724878,
          0.5942333954946766
         ],
         "y": [
          11.457805816647733,
          9.838231515099782
         ],
         "z": [
          0,
          0
         ]
        },
        {
         "line": {
          "color": "green"
         },
         "mode": "lines",
         "type": "scatter3d",
         "x": [
          -0.11330527834724878,
          -0.4249211366786726
         ],
         "y": [
          11.457805816647733,
          10.974277477572455
         ],
         "z": [
          0,
          0
         ]
        },
        {
         "line": {
          "color": "green"
         },
         "mode": "lines",
         "type": "scatter3d",
         "x": [
          -0.11330527834724878,
          1.3593175203303833
         ],
         "y": [
          11.457805816647733,
          10.75535401254119
         ],
         "z": [
          0,
          0
         ]
        },
        {
         "line": {
          "color": "green"
         },
         "mode": "lines",
         "type": "scatter3d",
         "x": [
          -0.8681586114568105,
          0.5655624093057307
         ],
         "y": [
          11.03318136426151,
          9.956870754188575
         ],
         "z": [
          0,
          0
         ]
        },
        {
         "line": {
          "color": "green"
         },
         "mode": "lines",
         "type": "scatter3d",
         "x": [
          -0.8681586114568105,
          -0.054450998025203264
         ],
         "y": [
          11.03318136426151,
          10.347249919332924
         ],
         "z": [
          0,
          0
         ]
        },
        {
         "line": {
          "color": "green"
         },
         "mode": "lines",
         "type": "scatter3d",
         "x": [
          -0.8681586114568105,
          -0.4648483026477713
         ],
         "y": [
          11.03318136426151,
          10.952758153356248
         ],
         "z": [
          0,
          0
         ]
        },
        {
         "line": {
          "color": "green"
         },
         "mode": "lines",
         "type": "scatter3d",
         "x": [
          -0.8681586114568105,
          -0.9239103514987733
         ],
         "y": [
          11.03318136426151,
          11.280792109793602
         ],
         "z": [
          0,
          0
         ]
        },
        {
         "line": {
          "color": "green"
         },
         "mode": "lines",
         "type": "scatter3d",
         "x": [
          -0.8681586114568105,
          -0.5083196478427116
         ],
         "y": [
          11.03318136426151,
          11.84430541647575
         ],
         "z": [
          0,
          0
         ]
        },
        {
         "line": {
          "color": "green"
         },
         "mode": "lines",
         "type": "scatter3d",
         "x": [
          -0.8681586114568105,
          -0.7235048864024711
         ],
         "y": [
          11.03318136426151,
          11.704407752988354
         ],
         "z": [
          0,
          0
         ]
        },
        {
         "line": {
          "color": "green"
         },
         "mode": "lines",
         "type": "scatter3d",
         "x": [
          -0.8681586114568105,
          0.5942333954946766
         ],
         "y": [
          11.03318136426151,
          9.838231515099782
         ],
         "z": [
          0,
          0
         ]
        },
        {
         "line": {
          "color": "green"
         },
         "mode": "lines",
         "type": "scatter3d",
         "x": [
          -0.8681586114568105,
          -0.4249211366786726
         ],
         "y": [
          11.03318136426151,
          10.974277477572455
         ],
         "z": [
          0,
          0
         ]
        },
        {
         "line": {
          "color": "green"
         },
         "mode": "lines",
         "type": "scatter3d",
         "x": [
          0.5655624093057307,
          -0.054450998025203264
         ],
         "y": [
          9.956870754188575,
          10.347249919332924
         ],
         "z": [
          0,
          0
         ]
        },
        {
         "line": {
          "color": "green"
         },
         "mode": "lines",
         "type": "scatter3d",
         "x": [
          0.5655624093057307,
          -0.4648483026477713
         ],
         "y": [
          9.956870754188575,
          10.952758153356248
         ],
         "z": [
          0,
          0
         ]
        },
        {
         "line": {
          "color": "green"
         },
         "mode": "lines",
         "type": "scatter3d",
         "x": [
          0.5655624093057307,
          -0.9239103514987733
         ],
         "y": [
          9.956870754188575,
          11.280792109793602
         ],
         "z": [
          0,
          0
         ]
        },
        {
         "line": {
          "color": "green"
         },
         "mode": "lines",
         "type": "scatter3d",
         "x": [
          0.5655624093057307,
          0.5942333954946766
         ],
         "y": [
          9.956870754188575,
          9.838231515099782
         ],
         "z": [
          0,
          0
         ]
        },
        {
         "line": {
          "color": "green"
         },
         "mode": "lines",
         "type": "scatter3d",
         "x": [
          0.5655624093057307,
          -0.4249211366786726
         ],
         "y": [
          9.956870754188575,
          10.974277477572455
         ],
         "z": [
          0,
          0
         ]
        },
        {
         "line": {
          "color": "green"
         },
         "mode": "lines",
         "type": "scatter3d",
         "x": [
          0.5655624093057307,
          1.3593175203303833
         ],
         "y": [
          9.956870754188575,
          10.75535401254119
         ],
         "z": [
          0,
          0
         ]
        },
        {
         "line": {
          "color": "green"
         },
         "mode": "lines",
         "type": "scatter3d",
         "x": [
          -0.054450998025203264,
          -0.4648483026477713
         ],
         "y": [
          10.347249919332924,
          10.952758153356248
         ],
         "z": [
          0,
          0
         ]
        },
        {
         "line": {
          "color": "green"
         },
         "mode": "lines",
         "type": "scatter3d",
         "x": [
          -0.054450998025203264,
          -0.9239103514987733
         ],
         "y": [
          10.347249919332924,
          11.280792109793602
         ],
         "z": [
          0,
          0
         ]
        },
        {
         "line": {
          "color": "green"
         },
         "mode": "lines",
         "type": "scatter3d",
         "x": [
          -0.054450998025203264,
          -0.5083196478427116
         ],
         "y": [
          10.347249919332924,
          11.84430541647575
         ],
         "z": [
          0,
          0
         ]
        },
        {
         "line": {
          "color": "green"
         },
         "mode": "lines",
         "type": "scatter3d",
         "x": [
          -0.054450998025203264,
          -0.7235048864024711
         ],
         "y": [
          10.347249919332924,
          11.704407752988354
         ],
         "z": [
          0,
          0
         ]
        },
        {
         "line": {
          "color": "green"
         },
         "mode": "lines",
         "type": "scatter3d",
         "x": [
          -0.054450998025203264,
          0.5942333954946766
         ],
         "y": [
          10.347249919332924,
          9.838231515099782
         ],
         "z": [
          0,
          0
         ]
        },
        {
         "line": {
          "color": "green"
         },
         "mode": "lines",
         "type": "scatter3d",
         "x": [
          -0.054450998025203264,
          -0.4249211366786726
         ],
         "y": [
          10.347249919332924,
          10.974277477572455
         ],
         "z": [
          0,
          0
         ]
        },
        {
         "line": {
          "color": "green"
         },
         "mode": "lines",
         "type": "scatter3d",
         "x": [
          -0.054450998025203264,
          1.3593175203303833
         ],
         "y": [
          10.347249919332924,
          10.75535401254119
         ],
         "z": [
          0,
          0
         ]
        },
        {
         "line": {
          "color": "green"
         },
         "mode": "lines",
         "type": "scatter3d",
         "x": [
          -0.4648483026477713,
          -0.9239103514987733
         ],
         "y": [
          10.952758153356248,
          11.280792109793602
         ],
         "z": [
          0,
          0
         ]
        },
        {
         "line": {
          "color": "green"
         },
         "mode": "lines",
         "type": "scatter3d",
         "x": [
          -0.4648483026477713,
          -0.5083196478427116
         ],
         "y": [
          10.952758153356248,
          11.84430541647575
         ],
         "z": [
          0,
          0
         ]
        },
        {
         "line": {
          "color": "green"
         },
         "mode": "lines",
         "type": "scatter3d",
         "x": [
          -0.4648483026477713,
          -0.7235048864024711
         ],
         "y": [
          10.952758153356248,
          11.704407752988354
         ],
         "z": [
          0,
          0
         ]
        },
        {
         "line": {
          "color": "green"
         },
         "mode": "lines",
         "type": "scatter3d",
         "x": [
          -0.4648483026477713,
          0.5942333954946766
         ],
         "y": [
          10.952758153356248,
          9.838231515099782
         ],
         "z": [
          0,
          0
         ]
        },
        {
         "line": {
          "color": "green"
         },
         "mode": "lines",
         "type": "scatter3d",
         "x": [
          -0.4648483026477713,
          -0.4249211366786726
         ],
         "y": [
          10.952758153356248,
          10.974277477572455
         ],
         "z": [
          0,
          0
         ]
        },
        {
         "line": {
          "color": "green"
         },
         "mode": "lines",
         "type": "scatter3d",
         "x": [
          -0.4648483026477713,
          1.3593175203303833
         ],
         "y": [
          10.952758153356248,
          10.75535401254119
         ],
         "z": [
          0,
          0
         ]
        },
        {
         "line": {
          "color": "green"
         },
         "mode": "lines",
         "type": "scatter3d",
         "x": [
          -0.9239103514987733,
          -0.5083196478427116
         ],
         "y": [
          11.280792109793602,
          11.84430541647575
         ],
         "z": [
          0,
          0
         ]
        },
        {
         "line": {
          "color": "green"
         },
         "mode": "lines",
         "type": "scatter3d",
         "x": [
          -0.9239103514987733,
          -0.7235048864024711
         ],
         "y": [
          11.280792109793602,
          11.704407752988354
         ],
         "z": [
          0,
          0
         ]
        },
        {
         "line": {
          "color": "green"
         },
         "mode": "lines",
         "type": "scatter3d",
         "x": [
          -0.9239103514987733,
          -0.4249211366786726
         ],
         "y": [
          11.280792109793602,
          10.974277477572455
         ],
         "z": [
          0,
          0
         ]
        },
        {
         "line": {
          "color": "green"
         },
         "mode": "lines",
         "type": "scatter3d",
         "x": [
          -0.5083196478427116,
          -0.7235048864024711
         ],
         "y": [
          11.84430541647575,
          11.704407752988354
         ],
         "z": [
          0,
          0
         ]
        },
        {
         "line": {
          "color": "green"
         },
         "mode": "lines",
         "type": "scatter3d",
         "x": [
          -0.5083196478427116,
          -0.4249211366786726
         ],
         "y": [
          11.84430541647575,
          10.974277477572455
         ],
         "z": [
          0,
          0
         ]
        },
        {
         "line": {
          "color": "green"
         },
         "mode": "lines",
         "type": "scatter3d",
         "x": [
          -0.7235048864024711,
          -0.4249211366786726
         ],
         "y": [
          11.704407752988354,
          10.974277477572455
         ],
         "z": [
          0,
          0
         ]
        },
        {
         "line": {
          "color": "green"
         },
         "mode": "lines",
         "type": "scatter3d",
         "x": [
          0.5942333954946766,
          -0.4249211366786726
         ],
         "y": [
          9.838231515099782,
          10.974277477572455
         ],
         "z": [
          0,
          0
         ]
        },
        {
         "line": {
          "color": "green"
         },
         "mode": "lines",
         "type": "scatter3d",
         "x": [
          0.5942333954946766,
          1.3593175203303833
         ],
         "y": [
          9.838231515099782,
          10.75535401254119
         ],
         "z": [
          0,
          0
         ]
        },
        {
         "line": {
          "color": "green"
         },
         "mode": "lines",
         "type": "scatter3d",
         "x": [
          -0.4249211366786726,
          1.3593175203303833
         ],
         "y": [
          10.974277477572455,
          10.75535401254119
         ],
         "z": [
          0,
          0
         ]
        }
       ],
       "layout": {
        "showlegend": false,
        "template": {
         "data": {
          "bar": [
           {
            "error_x": {
             "color": "#2a3f5f"
            },
            "error_y": {
             "color": "#2a3f5f"
            },
            "marker": {
             "line": {
              "color": "#E5ECF6",
              "width": 0.5
             },
             "pattern": {
              "fillmode": "overlay",
              "size": 10,
              "solidity": 0.2
             }
            },
            "type": "bar"
           }
          ],
          "barpolar": [
           {
            "marker": {
             "line": {
              "color": "#E5ECF6",
              "width": 0.5
             },
             "pattern": {
              "fillmode": "overlay",
              "size": 10,
              "solidity": 0.2
             }
            },
            "type": "barpolar"
           }
          ],
          "carpet": [
           {
            "aaxis": {
             "endlinecolor": "#2a3f5f",
             "gridcolor": "white",
             "linecolor": "white",
             "minorgridcolor": "white",
             "startlinecolor": "#2a3f5f"
            },
            "baxis": {
             "endlinecolor": "#2a3f5f",
             "gridcolor": "white",
             "linecolor": "white",
             "minorgridcolor": "white",
             "startlinecolor": "#2a3f5f"
            },
            "type": "carpet"
           }
          ],
          "choropleth": [
           {
            "colorbar": {
             "outlinewidth": 0,
             "ticks": ""
            },
            "type": "choropleth"
           }
          ],
          "contour": [
           {
            "colorbar": {
             "outlinewidth": 0,
             "ticks": ""
            },
            "colorscale": [
             [
              0,
              "#0d0887"
             ],
             [
              0.1111111111111111,
              "#46039f"
             ],
             [
              0.2222222222222222,
              "#7201a8"
             ],
             [
              0.3333333333333333,
              "#9c179e"
             ],
             [
              0.4444444444444444,
              "#bd3786"
             ],
             [
              0.5555555555555556,
              "#d8576b"
             ],
             [
              0.6666666666666666,
              "#ed7953"
             ],
             [
              0.7777777777777778,
              "#fb9f3a"
             ],
             [
              0.8888888888888888,
              "#fdca26"
             ],
             [
              1,
              "#f0f921"
             ]
            ],
            "type": "contour"
           }
          ],
          "contourcarpet": [
           {
            "colorbar": {
             "outlinewidth": 0,
             "ticks": ""
            },
            "type": "contourcarpet"
           }
          ],
          "heatmap": [
           {
            "colorbar": {
             "outlinewidth": 0,
             "ticks": ""
            },
            "colorscale": [
             [
              0,
              "#0d0887"
             ],
             [
              0.1111111111111111,
              "#46039f"
             ],
             [
              0.2222222222222222,
              "#7201a8"
             ],
             [
              0.3333333333333333,
              "#9c179e"
             ],
             [
              0.4444444444444444,
              "#bd3786"
             ],
             [
              0.5555555555555556,
              "#d8576b"
             ],
             [
              0.6666666666666666,
              "#ed7953"
             ],
             [
              0.7777777777777778,
              "#fb9f3a"
             ],
             [
              0.8888888888888888,
              "#fdca26"
             ],
             [
              1,
              "#f0f921"
             ]
            ],
            "type": "heatmap"
           }
          ],
          "heatmapgl": [
           {
            "colorbar": {
             "outlinewidth": 0,
             "ticks": ""
            },
            "colorscale": [
             [
              0,
              "#0d0887"
             ],
             [
              0.1111111111111111,
              "#46039f"
             ],
             [
              0.2222222222222222,
              "#7201a8"
             ],
             [
              0.3333333333333333,
              "#9c179e"
             ],
             [
              0.4444444444444444,
              "#bd3786"
             ],
             [
              0.5555555555555556,
              "#d8576b"
             ],
             [
              0.6666666666666666,
              "#ed7953"
             ],
             [
              0.7777777777777778,
              "#fb9f3a"
             ],
             [
              0.8888888888888888,
              "#fdca26"
             ],
             [
              1,
              "#f0f921"
             ]
            ],
            "type": "heatmapgl"
           }
          ],
          "histogram": [
           {
            "marker": {
             "pattern": {
              "fillmode": "overlay",
              "size": 10,
              "solidity": 0.2
             }
            },
            "type": "histogram"
           }
          ],
          "histogram2d": [
           {
            "colorbar": {
             "outlinewidth": 0,
             "ticks": ""
            },
            "colorscale": [
             [
              0,
              "#0d0887"
             ],
             [
              0.1111111111111111,
              "#46039f"
             ],
             [
              0.2222222222222222,
              "#7201a8"
             ],
             [
              0.3333333333333333,
              "#9c179e"
             ],
             [
              0.4444444444444444,
              "#bd3786"
             ],
             [
              0.5555555555555556,
              "#d8576b"
             ],
             [
              0.6666666666666666,
              "#ed7953"
             ],
             [
              0.7777777777777778,
              "#fb9f3a"
             ],
             [
              0.8888888888888888,
              "#fdca26"
             ],
             [
              1,
              "#f0f921"
             ]
            ],
            "type": "histogram2d"
           }
          ],
          "histogram2dcontour": [
           {
            "colorbar": {
             "outlinewidth": 0,
             "ticks": ""
            },
            "colorscale": [
             [
              0,
              "#0d0887"
             ],
             [
              0.1111111111111111,
              "#46039f"
             ],
             [
              0.2222222222222222,
              "#7201a8"
             ],
             [
              0.3333333333333333,
              "#9c179e"
             ],
             [
              0.4444444444444444,
              "#bd3786"
             ],
             [
              0.5555555555555556,
              "#d8576b"
             ],
             [
              0.6666666666666666,
              "#ed7953"
             ],
             [
              0.7777777777777778,
              "#fb9f3a"
             ],
             [
              0.8888888888888888,
              "#fdca26"
             ],
             [
              1,
              "#f0f921"
             ]
            ],
            "type": "histogram2dcontour"
           }
          ],
          "mesh3d": [
           {
            "colorbar": {
             "outlinewidth": 0,
             "ticks": ""
            },
            "type": "mesh3d"
           }
          ],
          "parcoords": [
           {
            "line": {
             "colorbar": {
              "outlinewidth": 0,
              "ticks": ""
             }
            },
            "type": "parcoords"
           }
          ],
          "pie": [
           {
            "automargin": true,
            "type": "pie"
           }
          ],
          "scatter": [
           {
            "fillpattern": {
             "fillmode": "overlay",
             "size": 10,
             "solidity": 0.2
            },
            "type": "scatter"
           }
          ],
          "scatter3d": [
           {
            "line": {
             "colorbar": {
              "outlinewidth": 0,
              "ticks": ""
             }
            },
            "marker": {
             "colorbar": {
              "outlinewidth": 0,
              "ticks": ""
             }
            },
            "type": "scatter3d"
           }
          ],
          "scattercarpet": [
           {
            "marker": {
             "colorbar": {
              "outlinewidth": 0,
              "ticks": ""
             }
            },
            "type": "scattercarpet"
           }
          ],
          "scattergeo": [
           {
            "marker": {
             "colorbar": {
              "outlinewidth": 0,
              "ticks": ""
             }
            },
            "type": "scattergeo"
           }
          ],
          "scattergl": [
           {
            "marker": {
             "colorbar": {
              "outlinewidth": 0,
              "ticks": ""
             }
            },
            "type": "scattergl"
           }
          ],
          "scattermapbox": [
           {
            "marker": {
             "colorbar": {
              "outlinewidth": 0,
              "ticks": ""
             }
            },
            "type": "scattermapbox"
           }
          ],
          "scatterpolar": [
           {
            "marker": {
             "colorbar": {
              "outlinewidth": 0,
              "ticks": ""
             }
            },
            "type": "scatterpolar"
           }
          ],
          "scatterpolargl": [
           {
            "marker": {
             "colorbar": {
              "outlinewidth": 0,
              "ticks": ""
             }
            },
            "type": "scatterpolargl"
           }
          ],
          "scatterternary": [
           {
            "marker": {
             "colorbar": {
              "outlinewidth": 0,
              "ticks": ""
             }
            },
            "type": "scatterternary"
           }
          ],
          "surface": [
           {
            "colorbar": {
             "outlinewidth": 0,
             "ticks": ""
            },
            "colorscale": [
             [
              0,
              "#0d0887"
             ],
             [
              0.1111111111111111,
              "#46039f"
             ],
             [
              0.2222222222222222,
              "#7201a8"
             ],
             [
              0.3333333333333333,
              "#9c179e"
             ],
             [
              0.4444444444444444,
              "#bd3786"
             ],
             [
              0.5555555555555556,
              "#d8576b"
             ],
             [
              0.6666666666666666,
              "#ed7953"
             ],
             [
              0.7777777777777778,
              "#fb9f3a"
             ],
             [
              0.8888888888888888,
              "#fdca26"
             ],
             [
              1,
              "#f0f921"
             ]
            ],
            "type": "surface"
           }
          ],
          "table": [
           {
            "cells": {
             "fill": {
              "color": "#EBF0F8"
             },
             "line": {
              "color": "white"
             }
            },
            "header": {
             "fill": {
              "color": "#C8D4E3"
             },
             "line": {
              "color": "white"
             }
            },
            "type": "table"
           }
          ]
         },
         "layout": {
          "annotationdefaults": {
           "arrowcolor": "#2a3f5f",
           "arrowhead": 0,
           "arrowwidth": 1
          },
          "autotypenumbers": "strict",
          "coloraxis": {
           "colorbar": {
            "outlinewidth": 0,
            "ticks": ""
           }
          },
          "colorscale": {
           "diverging": [
            [
             0,
             "#8e0152"
            ],
            [
             0.1,
             "#c51b7d"
            ],
            [
             0.2,
             "#de77ae"
            ],
            [
             0.3,
             "#f1b6da"
            ],
            [
             0.4,
             "#fde0ef"
            ],
            [
             0.5,
             "#f7f7f7"
            ],
            [
             0.6,
             "#e6f5d0"
            ],
            [
             0.7,
             "#b8e186"
            ],
            [
             0.8,
             "#7fbc41"
            ],
            [
             0.9,
             "#4d9221"
            ],
            [
             1,
             "#276419"
            ]
           ],
           "sequential": [
            [
             0,
             "#0d0887"
            ],
            [
             0.1111111111111111,
             "#46039f"
            ],
            [
             0.2222222222222222,
             "#7201a8"
            ],
            [
             0.3333333333333333,
             "#9c179e"
            ],
            [
             0.4444444444444444,
             "#bd3786"
            ],
            [
             0.5555555555555556,
             "#d8576b"
            ],
            [
             0.6666666666666666,
             "#ed7953"
            ],
            [
             0.7777777777777778,
             "#fb9f3a"
            ],
            [
             0.8888888888888888,
             "#fdca26"
            ],
            [
             1,
             "#f0f921"
            ]
           ],
           "sequentialminus": [
            [
             0,
             "#0d0887"
            ],
            [
             0.1111111111111111,
             "#46039f"
            ],
            [
             0.2222222222222222,
             "#7201a8"
            ],
            [
             0.3333333333333333,
             "#9c179e"
            ],
            [
             0.4444444444444444,
             "#bd3786"
            ],
            [
             0.5555555555555556,
             "#d8576b"
            ],
            [
             0.6666666666666666,
             "#ed7953"
            ],
            [
             0.7777777777777778,
             "#fb9f3a"
            ],
            [
             0.8888888888888888,
             "#fdca26"
            ],
            [
             1,
             "#f0f921"
            ]
           ]
          },
          "colorway": [
           "#636efa",
           "#EF553B",
           "#00cc96",
           "#ab63fa",
           "#FFA15A",
           "#19d3f3",
           "#FF6692",
           "#B6E880",
           "#FF97FF",
           "#FECB52"
          ],
          "font": {
           "color": "#2a3f5f"
          },
          "geo": {
           "bgcolor": "white",
           "lakecolor": "white",
           "landcolor": "#E5ECF6",
           "showlakes": true,
           "showland": true,
           "subunitcolor": "white"
          },
          "hoverlabel": {
           "align": "left"
          },
          "hovermode": "closest",
          "mapbox": {
           "style": "light"
          },
          "paper_bgcolor": "white",
          "plot_bgcolor": "#E5ECF6",
          "polar": {
           "angularaxis": {
            "gridcolor": "white",
            "linecolor": "white",
            "ticks": ""
           },
           "bgcolor": "#E5ECF6",
           "radialaxis": {
            "gridcolor": "white",
            "linecolor": "white",
            "ticks": ""
           }
          },
          "scene": {
           "xaxis": {
            "backgroundcolor": "#E5ECF6",
            "gridcolor": "white",
            "gridwidth": 2,
            "linecolor": "white",
            "showbackground": true,
            "ticks": "",
            "zerolinecolor": "white"
           },
           "yaxis": {
            "backgroundcolor": "#E5ECF6",
            "gridcolor": "white",
            "gridwidth": 2,
            "linecolor": "white",
            "showbackground": true,
            "ticks": "",
            "zerolinecolor": "white"
           },
           "zaxis": {
            "backgroundcolor": "#E5ECF6",
            "gridcolor": "white",
            "gridwidth": 2,
            "linecolor": "white",
            "showbackground": true,
            "ticks": "",
            "zerolinecolor": "white"
           }
          },
          "shapedefaults": {
           "line": {
            "color": "#2a3f5f"
           }
          },
          "ternary": {
           "aaxis": {
            "gridcolor": "white",
            "linecolor": "white",
            "ticks": ""
           },
           "baxis": {
            "gridcolor": "white",
            "linecolor": "white",
            "ticks": ""
           },
           "bgcolor": "#E5ECF6",
           "caxis": {
            "gridcolor": "white",
            "linecolor": "white",
            "ticks": ""
           }
          },
          "title": {
           "x": 0.05
          },
          "xaxis": {
           "automargin": true,
           "gridcolor": "white",
           "linecolor": "white",
           "ticks": "",
           "title": {
            "standoff": 15
           },
           "zerolinecolor": "white",
           "zerolinewidth": 2
          },
          "yaxis": {
           "automargin": true,
           "gridcolor": "white",
           "linecolor": "white",
           "ticks": "",
           "title": {
            "standoff": 15
           },
           "zerolinecolor": "white",
           "zerolinewidth": 2
          }
         }
        }
       }
      }
     },
     "metadata": {},
     "output_type": "display_data"
    },
    {
     "data": {
      "application/vnd.plotly.v1+json": {
       "config": {
        "plotlyServerURL": "https://plot.ly"
       },
       "data": [
        {
         "i": [
          0,
          0,
          0,
          0,
          0,
          0,
          0,
          0,
          0,
          0,
          0,
          0,
          0,
          0,
          0,
          0,
          0,
          0,
          0,
          0,
          0,
          0,
          0,
          0,
          0,
          0,
          0,
          0,
          0,
          0,
          0,
          0,
          0,
          0,
          0,
          0,
          0,
          0,
          0,
          0,
          0,
          0,
          0,
          0,
          0,
          0,
          0,
          0,
          0,
          0,
          0,
          0,
          0,
          0,
          0,
          0,
          0,
          0,
          0,
          0,
          0,
          0,
          0,
          0,
          0,
          0,
          0,
          0,
          0,
          0,
          0,
          0,
          0,
          0,
          0,
          0,
          0,
          0,
          0,
          0,
          0,
          0,
          0,
          0,
          0,
          0,
          0,
          0,
          0,
          0,
          0,
          0,
          0,
          0,
          0,
          0,
          0,
          0,
          0,
          0,
          0,
          0,
          0,
          0,
          0,
          0,
          0,
          0,
          0,
          0,
          0,
          0,
          0,
          0,
          0,
          0,
          0,
          0,
          0,
          0,
          0,
          0,
          0,
          0,
          0,
          0,
          0,
          0,
          0,
          0,
          0,
          0,
          0,
          0,
          1,
          1,
          1,
          1,
          1,
          1,
          1,
          1,
          1,
          1,
          1,
          1,
          1,
          1,
          1,
          1,
          1,
          1,
          1,
          1,
          1,
          1,
          1,
          1,
          1,
          1,
          1,
          1,
          1,
          1,
          1,
          1,
          1,
          1,
          1,
          1,
          1,
          1,
          1,
          1,
          1,
          1,
          1,
          1,
          1,
          1,
          1,
          1,
          1,
          1,
          1,
          1,
          1,
          1,
          1,
          1,
          1,
          1,
          1,
          1,
          1,
          1,
          1,
          1,
          1,
          1,
          1,
          1,
          1,
          1,
          1,
          1,
          1,
          1,
          1,
          1,
          1,
          1,
          1,
          1,
          1,
          1,
          1,
          1,
          1,
          1,
          1,
          1,
          1,
          1,
          1,
          1,
          1,
          1,
          1,
          1,
          1,
          1,
          1,
          1,
          1,
          1,
          1,
          1,
          1,
          1,
          1,
          1,
          1,
          1,
          1,
          1,
          1,
          1,
          1,
          1,
          1,
          1,
          2,
          2,
          2,
          2,
          2,
          2,
          2,
          2,
          2,
          2,
          2,
          2,
          2,
          2,
          2,
          2,
          2,
          2,
          2,
          2,
          2,
          2,
          2,
          2,
          2,
          2,
          2,
          2,
          2,
          2,
          2,
          2,
          2,
          2,
          2,
          2,
          2,
          2,
          2,
          2,
          2,
          2,
          2,
          2,
          2,
          2,
          2,
          2,
          2,
          2,
          2,
          2,
          2,
          2,
          2,
          2,
          2,
          2,
          2,
          2,
          2,
          2,
          2,
          2,
          2,
          2,
          2,
          2,
          2,
          2,
          2,
          2,
          2,
          2,
          2,
          2,
          2,
          2,
          2,
          2,
          2,
          2,
          2,
          2,
          2,
          2,
          2,
          2,
          2,
          2,
          2,
          2,
          2,
          2,
          2,
          2,
          2,
          2,
          2,
          2,
          2,
          2,
          2,
          2,
          2,
          2,
          2,
          2,
          2,
          2,
          2,
          2,
          2,
          2,
          2,
          2,
          2,
          2,
          2,
          2,
          2,
          2,
          2,
          2,
          2,
          2,
          2,
          2,
          2,
          2,
          2,
          2,
          2,
          2,
          2,
          2,
          2,
          2,
          3,
          3,
          3,
          3,
          3,
          3,
          3,
          3,
          3,
          3,
          3,
          3,
          3,
          3,
          3,
          3,
          3,
          3,
          3,
          3,
          3,
          3,
          3,
          3,
          3,
          3,
          3,
          3,
          3,
          3,
          3,
          3,
          3,
          3,
          3,
          3,
          3,
          3,
          3,
          3,
          3,
          3,
          3,
          3,
          3,
          3,
          3,
          3,
          3,
          3,
          3,
          3,
          3,
          3,
          3,
          3,
          3,
          3,
          3,
          3,
          3,
          3,
          3,
          3,
          3,
          3,
          3,
          3,
          3,
          3,
          3,
          3,
          3,
          3,
          3,
          3,
          3,
          3,
          3,
          3,
          3,
          3,
          3,
          3,
          3,
          3,
          3,
          3,
          3,
          3,
          3,
          3,
          3,
          3,
          3,
          3,
          3,
          3,
          3,
          3,
          3,
          3,
          3,
          4,
          4,
          4,
          4,
          4,
          4,
          4,
          4,
          4,
          4,
          4,
          4,
          4,
          4,
          4,
          4,
          4,
          4,
          4,
          4,
          4,
          4,
          4,
          4,
          4,
          4,
          4,
          4,
          4,
          4,
          4,
          4,
          4,
          4,
          4,
          4,
          4,
          4,
          4,
          4,
          4,
          4,
          4,
          4,
          4,
          4,
          4,
          4,
          4,
          4,
          4,
          4,
          4,
          4,
          4,
          4,
          4,
          4,
          4,
          4,
          4,
          4,
          4,
          4,
          4,
          4,
          4,
          4,
          4,
          4,
          4,
          4,
          4,
          4,
          4,
          4,
          4,
          4,
          4,
          4,
          4,
          4,
          4,
          4,
          4,
          4,
          4,
          4,
          4,
          4,
          4,
          4,
          4,
          4,
          4,
          4,
          4,
          4,
          4,
          4,
          4,
          4,
          4,
          4,
          4,
          4,
          4,
          4,
          4,
          5,
          5,
          5,
          5,
          5,
          5,
          5,
          5,
          5,
          5,
          5,
          5,
          5,
          5,
          5,
          5,
          5,
          5,
          5,
          5,
          5,
          5,
          5,
          5,
          5,
          5,
          5,
          5,
          5,
          5,
          5,
          5,
          5,
          5,
          5,
          5,
          5,
          5,
          5,
          5,
          5,
          5,
          5,
          5,
          5,
          5,
          5,
          5,
          5,
          5,
          5,
          5,
          5,
          5,
          5,
          5,
          5,
          5,
          5,
          5,
          5,
          5,
          5,
          5,
          5,
          5,
          5,
          5,
          5,
          5,
          5,
          5,
          5,
          5,
          6,
          6,
          6,
          6,
          6,
          6,
          6,
          6,
          6,
          6,
          6,
          6,
          6,
          6,
          6,
          6,
          6,
          6,
          6,
          6,
          6,
          6,
          6,
          6,
          6,
          6,
          6,
          6,
          6,
          6,
          6,
          6,
          6,
          6,
          6,
          6,
          6,
          6,
          6,
          6,
          6,
          6,
          6,
          6,
          6,
          6,
          6,
          6,
          6,
          6,
          6,
          6,
          6,
          6,
          6,
          6,
          6,
          6,
          6,
          6,
          6,
          6,
          6,
          6,
          6,
          6,
          6,
          6,
          6,
          7,
          7,
          7,
          7,
          7,
          7,
          7,
          7,
          7,
          7,
          7,
          7,
          7,
          7,
          7,
          7,
          7,
          7,
          7,
          7,
          7,
          7,
          7,
          7,
          7,
          7,
          7,
          7,
          7,
          7,
          7,
          7,
          7,
          7,
          7,
          7,
          7,
          7,
          7,
          7,
          7,
          7,
          7,
          7,
          7,
          7,
          7,
          7,
          7,
          7,
          7,
          7,
          8,
          8,
          8,
          8,
          8,
          8,
          8,
          8,
          8,
          8,
          8,
          8,
          8,
          8,
          8,
          8,
          8,
          8,
          8,
          8,
          8,
          8,
          8,
          8,
          8,
          8,
          8,
          8,
          8,
          8,
          8,
          8,
          8,
          8,
          8,
          8,
          8,
          8,
          8,
          8,
          8,
          8,
          8,
          8,
          8,
          8,
          8,
          8,
          8,
          8,
          8,
          8,
          8,
          8,
          8,
          8,
          8,
          8,
          8,
          8,
          8,
          8,
          8,
          8,
          8,
          8,
          9,
          9,
          9,
          9,
          9,
          9,
          9,
          9,
          9,
          9,
          9,
          9,
          9,
          9,
          9,
          9,
          9,
          9,
          9,
          9,
          9,
          9,
          9,
          9,
          9,
          9,
          9,
          9,
          9,
          10,
          10,
          10,
          10,
          10,
          10,
          10,
          10,
          10,
          10,
          10,
          10,
          10,
          10,
          10,
          10,
          10,
          10,
          10,
          10,
          10,
          11,
          11,
          11,
          11,
          11,
          11,
          11,
          11,
          11,
          11,
          11,
          11,
          11,
          11,
          11,
          12,
          12,
          12,
          12,
          12,
          12,
          12,
          12,
          12,
          12,
          13,
          13,
          13,
          13,
          13,
          13,
          14,
          14,
          14,
          15,
          18,
          18,
          18,
          18,
          18,
          18,
          18,
          18,
          18,
          18,
          18,
          18,
          18,
          18,
          18,
          18,
          18,
          18,
          18,
          18,
          18,
          18,
          18,
          18,
          18,
          18,
          18,
          18,
          18,
          18,
          18,
          18,
          18,
          18,
          18,
          18,
          18,
          18,
          18,
          18,
          18,
          18,
          18,
          18,
          18,
          18,
          18,
          18,
          18,
          18,
          18,
          18,
          18,
          18,
          18,
          19,
          19,
          19,
          19,
          19,
          19,
          19,
          19,
          19,
          19,
          19,
          19,
          19,
          19,
          19,
          19,
          19,
          19,
          19,
          19,
          19,
          19,
          19,
          19,
          19,
          19,
          19,
          19,
          19,
          19,
          19,
          19,
          19,
          19,
          19,
          19,
          19,
          19,
          19,
          19,
          19,
          19,
          19,
          19,
          19,
          20,
          20,
          20,
          20,
          20,
          20,
          20,
          20,
          20,
          20,
          20,
          20,
          20,
          20,
          20,
          20,
          20,
          20,
          20,
          20,
          20,
          20,
          20,
          20,
          20,
          20,
          20,
          20,
          20,
          20,
          20,
          20,
          20,
          20,
          20,
          20,
          21,
          21,
          21,
          21,
          21,
          21,
          21,
          21,
          21,
          21,
          21,
          21,
          21,
          21,
          21,
          21,
          21,
          21,
          21,
          21,
          21,
          21,
          21,
          21,
          21,
          21,
          21,
          21,
          22,
          22,
          22,
          22,
          22,
          22,
          22,
          22,
          22,
          22,
          22,
          22,
          22,
          22,
          22,
          22,
          22,
          22,
          22,
          22,
          22,
          23,
          23,
          23,
          23,
          23,
          23,
          23,
          23,
          23,
          23,
          23,
          23,
          23,
          23,
          23,
          24,
          24,
          24,
          24,
          24,
          24,
          24,
          24,
          24,
          24,
          25,
          25,
          25,
          25,
          25,
          25,
          26,
          26,
          26,
          27
         ],
         "j": [
          1,
          1,
          1,
          1,
          1,
          1,
          1,
          1,
          1,
          1,
          1,
          1,
          1,
          1,
          1,
          1,
          2,
          2,
          2,
          2,
          2,
          2,
          2,
          2,
          2,
          2,
          2,
          2,
          2,
          2,
          3,
          3,
          3,
          3,
          3,
          3,
          3,
          3,
          3,
          3,
          3,
          3,
          3,
          3,
          4,
          4,
          4,
          4,
          4,
          4,
          4,
          4,
          4,
          4,
          4,
          4,
          4,
          5,
          5,
          5,
          5,
          5,
          5,
          5,
          5,
          5,
          5,
          5,
          5,
          6,
          6,
          6,
          6,
          6,
          6,
          6,
          6,
          6,
          6,
          6,
          7,
          7,
          7,
          7,
          7,
          7,
          7,
          7,
          7,
          7,
          8,
          8,
          8,
          8,
          8,
          8,
          8,
          8,
          9,
          9,
          9,
          9,
          9,
          9,
          9,
          9,
          10,
          10,
          10,
          10,
          10,
          10,
          10,
          11,
          11,
          11,
          11,
          11,
          11,
          12,
          12,
          12,
          12,
          12,
          13,
          13,
          13,
          13,
          14,
          14,
          14,
          15,
          15,
          16,
          2,
          2,
          2,
          2,
          2,
          2,
          2,
          2,
          2,
          2,
          2,
          2,
          2,
          2,
          3,
          3,
          3,
          3,
          3,
          3,
          3,
          3,
          3,
          3,
          3,
          3,
          3,
          3,
          4,
          4,
          4,
          4,
          4,
          4,
          4,
          4,
          4,
          4,
          4,
          4,
          4,
          5,
          5,
          5,
          5,
          5,
          5,
          5,
          5,
          5,
          5,
          5,
          5,
          6,
          6,
          6,
          6,
          6,
          6,
          6,
          6,
          6,
          6,
          6,
          7,
          7,
          7,
          7,
          7,
          7,
          7,
          7,
          7,
          7,
          8,
          8,
          8,
          8,
          8,
          8,
          8,
          8,
          9,
          9,
          9,
          9,
          9,
          9,
          9,
          9,
          10,
          10,
          10,
          10,
          10,
          10,
          10,
          11,
          11,
          11,
          11,
          11,
          11,
          12,
          12,
          12,
          12,
          12,
          13,
          13,
          13,
          13,
          14,
          14,
          14,
          15,
          15,
          16,
          3,
          3,
          3,
          3,
          3,
          3,
          3,
          3,
          3,
          3,
          3,
          3,
          3,
          3,
          3,
          4,
          4,
          4,
          4,
          4,
          4,
          4,
          4,
          4,
          4,
          4,
          4,
          4,
          4,
          4,
          4,
          4,
          4,
          5,
          5,
          5,
          5,
          5,
          5,
          5,
          5,
          5,
          5,
          5,
          5,
          5,
          6,
          6,
          6,
          6,
          6,
          6,
          6,
          6,
          6,
          6,
          6,
          6,
          6,
          6,
          7,
          7,
          7,
          7,
          7,
          7,
          7,
          7,
          7,
          7,
          7,
          7,
          8,
          8,
          8,
          8,
          8,
          8,
          8,
          8,
          8,
          8,
          8,
          8,
          8,
          8,
          8,
          9,
          9,
          9,
          9,
          9,
          9,
          9,
          9,
          9,
          10,
          10,
          10,
          10,
          10,
          10,
          11,
          11,
          11,
          11,
          11,
          12,
          12,
          12,
          12,
          14,
          14,
          14,
          15,
          15,
          16,
          20,
          20,
          20,
          20,
          20,
          20,
          21,
          21,
          21,
          21,
          21,
          22,
          22,
          22,
          22,
          23,
          23,
          23,
          27,
          27,
          28,
          4,
          4,
          4,
          4,
          4,
          4,
          4,
          4,
          4,
          4,
          4,
          4,
          4,
          4,
          4,
          5,
          5,
          5,
          5,
          5,
          5,
          5,
          5,
          5,
          5,
          5,
          5,
          5,
          5,
          6,
          6,
          6,
          6,
          6,
          6,
          6,
          6,
          6,
          6,
          6,
          6,
          6,
          7,
          7,
          7,
          7,
          7,
          7,
          7,
          7,
          7,
          7,
          7,
          7,
          8,
          8,
          8,
          8,
          8,
          8,
          8,
          8,
          8,
          8,
          9,
          9,
          9,
          9,
          9,
          9,
          9,
          9,
          9,
          9,
          10,
          10,
          10,
          10,
          10,
          10,
          10,
          11,
          11,
          11,
          11,
          11,
          11,
          12,
          12,
          12,
          12,
          12,
          13,
          13,
          13,
          13,
          14,
          14,
          14,
          15,
          15,
          16,
          21,
          5,
          5,
          5,
          5,
          5,
          5,
          5,
          5,
          5,
          5,
          5,
          5,
          5,
          5,
          6,
          6,
          6,
          6,
          6,
          6,
          6,
          6,
          6,
          6,
          6,
          6,
          6,
          6,
          6,
          7,
          7,
          7,
          7,
          7,
          7,
          7,
          7,
          7,
          7,
          7,
          7,
          7,
          8,
          8,
          8,
          8,
          8,
          8,
          8,
          8,
          8,
          8,
          8,
          8,
          8,
          8,
          9,
          9,
          9,
          9,
          9,
          9,
          9,
          9,
          9,
          9,
          10,
          10,
          10,
          10,
          10,
          10,
          10,
          11,
          11,
          11,
          11,
          11,
          11,
          12,
          12,
          12,
          12,
          12,
          13,
          13,
          13,
          13,
          14,
          14,
          14,
          15,
          15,
          16,
          21,
          21,
          21,
          21,
          21,
          22,
          22,
          22,
          22,
          23,
          23,
          23,
          27,
          27,
          28,
          6,
          6,
          6,
          6,
          6,
          6,
          6,
          6,
          6,
          6,
          6,
          6,
          6,
          7,
          7,
          7,
          7,
          7,
          7,
          7,
          7,
          7,
          7,
          7,
          7,
          8,
          8,
          8,
          8,
          8,
          8,
          8,
          8,
          8,
          8,
          9,
          9,
          9,
          9,
          9,
          9,
          9,
          9,
          9,
          9,
          10,
          10,
          10,
          10,
          10,
          10,
          10,
          11,
          11,
          11,
          11,
          11,
          11,
          12,
          12,
          12,
          12,
          12,
          13,
          13,
          13,
          13,
          14,
          14,
          14,
          15,
          15,
          16,
          21,
          7,
          7,
          7,
          7,
          7,
          7,
          7,
          7,
          7,
          7,
          7,
          7,
          7,
          8,
          8,
          8,
          8,
          8,
          8,
          8,
          8,
          8,
          8,
          8,
          8,
          9,
          9,
          9,
          9,
          9,
          9,
          9,
          9,
          9,
          9,
          10,
          10,
          10,
          10,
          10,
          10,
          10,
          11,
          11,
          11,
          11,
          11,
          11,
          12,
          12,
          12,
          12,
          12,
          13,
          13,
          13,
          13,
          14,
          14,
          14,
          15,
          15,
          16,
          21,
          21,
          21,
          22,
          22,
          27,
          8,
          8,
          8,
          8,
          8,
          8,
          8,
          8,
          8,
          8,
          8,
          9,
          9,
          9,
          9,
          9,
          9,
          9,
          9,
          9,
          9,
          10,
          10,
          10,
          10,
          10,
          10,
          10,
          11,
          11,
          11,
          11,
          11,
          11,
          12,
          12,
          12,
          12,
          12,
          13,
          13,
          13,
          13,
          14,
          14,
          14,
          15,
          15,
          16,
          21,
          21,
          22,
          9,
          9,
          9,
          9,
          9,
          9,
          9,
          9,
          9,
          10,
          10,
          10,
          10,
          10,
          10,
          11,
          11,
          11,
          11,
          11,
          12,
          12,
          12,
          12,
          14,
          14,
          14,
          15,
          15,
          16,
          19,
          19,
          19,
          19,
          19,
          19,
          19,
          19,
          20,
          20,
          20,
          20,
          20,
          20,
          20,
          21,
          21,
          21,
          21,
          21,
          21,
          22,
          22,
          22,
          22,
          22,
          23,
          23,
          23,
          23,
          24,
          24,
          24,
          27,
          27,
          28,
          10,
          10,
          10,
          10,
          10,
          10,
          10,
          11,
          11,
          11,
          11,
          11,
          11,
          12,
          12,
          12,
          12,
          12,
          13,
          13,
          13,
          13,
          14,
          14,
          14,
          15,
          15,
          16,
          21,
          11,
          11,
          11,
          11,
          11,
          11,
          12,
          12,
          12,
          12,
          12,
          13,
          13,
          13,
          13,
          14,
          14,
          14,
          15,
          15,
          16,
          12,
          12,
          12,
          12,
          12,
          13,
          13,
          13,
          13,
          14,
          14,
          14,
          15,
          15,
          16,
          13,
          13,
          13,
          13,
          14,
          14,
          14,
          15,
          15,
          16,
          14,
          14,
          14,
          15,
          15,
          16,
          15,
          15,
          16,
          16,
          19,
          19,
          19,
          19,
          19,
          19,
          19,
          19,
          19,
          19,
          20,
          20,
          20,
          20,
          20,
          20,
          20,
          20,
          20,
          21,
          21,
          21,
          21,
          21,
          21,
          21,
          21,
          22,
          22,
          22,
          22,
          22,
          22,
          22,
          23,
          23,
          23,
          23,
          23,
          23,
          24,
          24,
          24,
          24,
          24,
          25,
          25,
          25,
          25,
          26,
          26,
          26,
          27,
          27,
          28,
          20,
          20,
          20,
          20,
          20,
          20,
          20,
          20,
          20,
          21,
          21,
          21,
          21,
          21,
          21,
          21,
          21,
          22,
          22,
          22,
          22,
          22,
          22,
          22,
          23,
          23,
          23,
          23,
          23,
          23,
          24,
          24,
          24,
          24,
          24,
          25,
          25,
          25,
          25,
          26,
          26,
          26,
          27,
          27,
          28,
          21,
          21,
          21,
          21,
          21,
          21,
          21,
          21,
          22,
          22,
          22,
          22,
          22,
          22,
          22,
          23,
          23,
          23,
          23,
          23,
          23,
          24,
          24,
          24,
          24,
          24,
          25,
          25,
          25,
          25,
          26,
          26,
          26,
          27,
          27,
          28,
          22,
          22,
          22,
          22,
          22,
          22,
          22,
          23,
          23,
          23,
          23,
          23,
          23,
          24,
          24,
          24,
          24,
          24,
          25,
          25,
          25,
          25,
          26,
          26,
          26,
          27,
          27,
          28,
          23,
          23,
          23,
          23,
          23,
          23,
          24,
          24,
          24,
          24,
          24,
          25,
          25,
          25,
          25,
          26,
          26,
          26,
          27,
          27,
          28,
          24,
          24,
          24,
          24,
          24,
          25,
          25,
          25,
          25,
          26,
          26,
          26,
          27,
          27,
          28,
          25,
          25,
          25,
          25,
          26,
          26,
          26,
          27,
          27,
          28,
          26,
          26,
          26,
          27,
          27,
          28,
          27,
          27,
          28,
          28
         ],
         "k": [
          2,
          3,
          4,
          5,
          6,
          7,
          8,
          9,
          10,
          11,
          12,
          13,
          14,
          15,
          16,
          17,
          3,
          4,
          5,
          6,
          7,
          8,
          9,
          10,
          11,
          12,
          14,
          15,
          16,
          17,
          4,
          5,
          6,
          7,
          8,
          9,
          10,
          11,
          12,
          13,
          14,
          15,
          16,
          17,
          5,
          6,
          7,
          8,
          9,
          10,
          11,
          12,
          13,
          14,
          15,
          16,
          17,
          6,
          7,
          8,
          9,
          10,
          11,
          12,
          13,
          14,
          15,
          16,
          17,
          7,
          8,
          9,
          10,
          11,
          12,
          13,
          14,
          15,
          16,
          17,
          8,
          9,
          10,
          11,
          12,
          13,
          14,
          15,
          16,
          17,
          9,
          10,
          11,
          12,
          14,
          15,
          16,
          17,
          10,
          11,
          12,
          13,
          14,
          15,
          16,
          17,
          11,
          12,
          13,
          14,
          15,
          16,
          17,
          12,
          13,
          14,
          15,
          16,
          17,
          13,
          14,
          15,
          16,
          17,
          14,
          15,
          16,
          17,
          15,
          16,
          17,
          16,
          17,
          17,
          3,
          4,
          5,
          6,
          7,
          8,
          9,
          10,
          11,
          12,
          14,
          15,
          16,
          17,
          4,
          5,
          6,
          7,
          8,
          9,
          10,
          11,
          12,
          13,
          14,
          15,
          16,
          17,
          5,
          6,
          7,
          8,
          9,
          10,
          11,
          12,
          13,
          14,
          15,
          16,
          17,
          6,
          7,
          8,
          9,
          10,
          11,
          12,
          13,
          14,
          15,
          16,
          17,
          7,
          8,
          9,
          10,
          11,
          12,
          13,
          14,
          15,
          16,
          17,
          8,
          9,
          10,
          11,
          12,
          13,
          14,
          15,
          16,
          17,
          9,
          10,
          11,
          12,
          14,
          15,
          16,
          17,
          10,
          11,
          12,
          13,
          14,
          15,
          16,
          17,
          11,
          12,
          13,
          14,
          15,
          16,
          17,
          12,
          13,
          14,
          15,
          16,
          17,
          13,
          14,
          15,
          16,
          17,
          14,
          15,
          16,
          17,
          15,
          16,
          17,
          16,
          17,
          17,
          4,
          5,
          6,
          7,
          8,
          9,
          10,
          11,
          12,
          14,
          15,
          16,
          17,
          21,
          27,
          5,
          6,
          7,
          8,
          9,
          10,
          11,
          12,
          14,
          15,
          16,
          17,
          21,
          22,
          23,
          27,
          28,
          29,
          6,
          7,
          8,
          9,
          10,
          11,
          12,
          14,
          15,
          16,
          17,
          21,
          27,
          7,
          8,
          9,
          10,
          11,
          12,
          14,
          15,
          16,
          17,
          21,
          22,
          27,
          29,
          8,
          9,
          10,
          11,
          12,
          14,
          15,
          16,
          17,
          21,
          22,
          27,
          9,
          10,
          11,
          12,
          14,
          15,
          16,
          17,
          20,
          21,
          22,
          23,
          27,
          28,
          29,
          10,
          11,
          12,
          14,
          15,
          16,
          17,
          21,
          27,
          11,
          12,
          14,
          15,
          16,
          17,
          12,
          14,
          15,
          16,
          17,
          14,
          15,
          16,
          17,
          15,
          16,
          17,
          16,
          17,
          17,
          21,
          22,
          23,
          27,
          28,
          29,
          22,
          23,
          27,
          28,
          29,
          23,
          27,
          28,
          29,
          27,
          28,
          29,
          28,
          29,
          29,
          5,
          6,
          7,
          8,
          9,
          10,
          11,
          12,
          13,
          14,
          15,
          16,
          17,
          21,
          27,
          6,
          7,
          8,
          9,
          10,
          11,
          12,
          13,
          14,
          15,
          16,
          17,
          21,
          27,
          7,
          8,
          9,
          10,
          11,
          12,
          13,
          14,
          15,
          16,
          17,
          21,
          27,
          8,
          9,
          10,
          11,
          12,
          13,
          14,
          15,
          16,
          17,
          21,
          27,
          9,
          10,
          11,
          12,
          14,
          15,
          16,
          17,
          21,
          27,
          10,
          11,
          12,
          13,
          14,
          15,
          16,
          17,
          21,
          27,
          11,
          12,
          13,
          14,
          15,
          16,
          17,
          12,
          13,
          14,
          15,
          16,
          17,
          13,
          14,
          15,
          16,
          17,
          14,
          15,
          16,
          17,
          15,
          16,
          17,
          16,
          17,
          17,
          27,
          6,
          7,
          8,
          9,
          10,
          11,
          12,
          13,
          14,
          15,
          16,
          17,
          21,
          27,
          7,
          8,
          9,
          10,
          11,
          12,
          13,
          14,
          15,
          16,
          17,
          21,
          22,
          27,
          29,
          8,
          9,
          10,
          11,
          12,
          13,
          14,
          15,
          16,
          17,
          21,
          22,
          27,
          9,
          10,
          11,
          12,
          14,
          15,
          16,
          17,
          21,
          22,
          23,
          27,
          28,
          29,
          10,
          11,
          12,
          13,
          14,
          15,
          16,
          17,
          21,
          27,
          11,
          12,
          13,
          14,
          15,
          16,
          17,
          12,
          13,
          14,
          15,
          16,
          17,
          13,
          14,
          15,
          16,
          17,
          14,
          15,
          16,
          17,
          15,
          16,
          17,
          16,
          17,
          17,
          22,
          23,
          27,
          28,
          29,
          23,
          27,
          28,
          29,
          27,
          28,
          29,
          28,
          29,
          29,
          7,
          8,
          9,
          10,
          11,
          12,
          13,
          14,
          15,
          16,
          17,
          21,
          27,
          8,
          9,
          10,
          11,
          12,
          13,
          14,
          15,
          16,
          17,
          21,
          27,
          9,
          10,
          11,
          12,
          14,
          15,
          16,
          17,
          21,
          27,
          10,
          11,
          12,
          13,
          14,
          15,
          16,
          17,
          21,
          27,
          11,
          12,
          13,
          14,
          15,
          16,
          17,
          12,
          13,
          14,
          15,
          16,
          17,
          13,
          14,
          15,
          16,
          17,
          14,
          15,
          16,
          17,
          15,
          16,
          17,
          16,
          17,
          17,
          27,
          8,
          9,
          10,
          11,
          12,
          13,
          14,
          15,
          16,
          17,
          21,
          22,
          27,
          9,
          10,
          11,
          12,
          14,
          15,
          16,
          17,
          21,
          22,
          27,
          29,
          10,
          11,
          12,
          13,
          14,
          15,
          16,
          17,
          21,
          27,
          11,
          12,
          13,
          14,
          15,
          16,
          17,
          12,
          13,
          14,
          15,
          16,
          17,
          13,
          14,
          15,
          16,
          17,
          14,
          15,
          16,
          17,
          15,
          16,
          17,
          16,
          17,
          17,
          22,
          27,
          29,
          27,
          29,
          29,
          9,
          10,
          11,
          12,
          14,
          15,
          16,
          17,
          21,
          22,
          27,
          10,
          11,
          12,
          13,
          14,
          15,
          16,
          17,
          21,
          27,
          11,
          12,
          13,
          14,
          15,
          16,
          17,
          12,
          13,
          14,
          15,
          16,
          17,
          13,
          14,
          15,
          16,
          17,
          14,
          15,
          16,
          17,
          15,
          16,
          17,
          16,
          17,
          17,
          22,
          27,
          27,
          10,
          11,
          12,
          14,
          15,
          16,
          17,
          21,
          27,
          11,
          12,
          14,
          15,
          16,
          17,
          12,
          14,
          15,
          16,
          17,
          14,
          15,
          16,
          17,
          15,
          16,
          17,
          16,
          17,
          17,
          20,
          21,
          22,
          23,
          24,
          27,
          28,
          29,
          21,
          22,
          23,
          24,
          27,
          28,
          29,
          22,
          23,
          24,
          27,
          28,
          29,
          23,
          24,
          27,
          28,
          29,
          24,
          27,
          28,
          29,
          27,
          28,
          29,
          28,
          29,
          29,
          11,
          12,
          13,
          14,
          15,
          16,
          17,
          12,
          13,
          14,
          15,
          16,
          17,
          13,
          14,
          15,
          16,
          17,
          14,
          15,
          16,
          17,
          15,
          16,
          17,
          16,
          17,
          17,
          27,
          12,
          13,
          14,
          15,
          16,
          17,
          13,
          14,
          15,
          16,
          17,
          14,
          15,
          16,
          17,
          15,
          16,
          17,
          16,
          17,
          17,
          13,
          14,
          15,
          16,
          17,
          14,
          15,
          16,
          17,
          15,
          16,
          17,
          16,
          17,
          17,
          14,
          15,
          16,
          17,
          15,
          16,
          17,
          16,
          17,
          17,
          15,
          16,
          17,
          16,
          17,
          17,
          16,
          17,
          17,
          17,
          20,
          21,
          22,
          23,
          24,
          25,
          26,
          27,
          28,
          29,
          21,
          22,
          23,
          24,
          25,
          26,
          27,
          28,
          29,
          22,
          23,
          24,
          25,
          26,
          27,
          28,
          29,
          23,
          24,
          25,
          26,
          27,
          28,
          29,
          24,
          25,
          26,
          27,
          28,
          29,
          25,
          26,
          27,
          28,
          29,
          26,
          27,
          28,
          29,
          27,
          28,
          29,
          28,
          29,
          29,
          21,
          22,
          23,
          24,
          25,
          26,
          27,
          28,
          29,
          22,
          23,
          24,
          25,
          26,
          27,
          28,
          29,
          23,
          24,
          25,
          26,
          27,
          28,
          29,
          24,
          25,
          26,
          27,
          28,
          29,
          25,
          26,
          27,
          28,
          29,
          26,
          27,
          28,
          29,
          27,
          28,
          29,
          28,
          29,
          29,
          22,
          23,
          24,
          25,
          26,
          27,
          28,
          29,
          23,
          24,
          25,
          26,
          27,
          28,
          29,
          24,
          25,
          26,
          27,
          28,
          29,
          25,
          26,
          27,
          28,
          29,
          26,
          27,
          28,
          29,
          27,
          28,
          29,
          28,
          29,
          29,
          23,
          24,
          25,
          26,
          27,
          28,
          29,
          24,
          25,
          26,
          27,
          28,
          29,
          25,
          26,
          27,
          28,
          29,
          26,
          27,
          28,
          29,
          27,
          28,
          29,
          28,
          29,
          29,
          24,
          25,
          26,
          27,
          28,
          29,
          25,
          26,
          27,
          28,
          29,
          26,
          27,
          28,
          29,
          27,
          28,
          29,
          28,
          29,
          29,
          25,
          26,
          27,
          28,
          29,
          26,
          27,
          28,
          29,
          27,
          28,
          29,
          28,
          29,
          29,
          26,
          27,
          28,
          29,
          27,
          28,
          29,
          28,
          29,
          29,
          27,
          28,
          29,
          28,
          29,
          29,
          28,
          29,
          29,
          29
         ],
         "type": "mesh3d",
         "x": [
          0.15046080005418971,
          -0.2976708087520203,
          -1.2195992916904983,
          0.066932399638839,
          0.26203208800304567,
          0.8588550325312683,
          1.6870251478215628,
          0.24351995095443954,
          -1.0920812658059356,
          0.03151811132497726,
          6.847114832025536,
          6.544741707333095,
          6.56757117006332,
          8.977386852532858,
          7.848893381990088,
          7.930617098900897,
          6.369144826946315,
          7.151418220062759,
          1.7085667240623332,
          -0.11330527834724878,
          -0.8681586114568105,
          0.5655624093057307,
          -0.054450998025203264,
          -0.4648483026477713,
          -0.9239103514987733,
          -0.5083196478427116,
          -0.7235048864024711,
          0.5942333954946766,
          -0.4249211366786726,
          1.3593175203303833
         ],
         "y": [
          -1.4666237837894007,
          -0.3214094333361909,
          1.1770462731147293,
          0.14570068999138808,
          1.0732911818190733,
          0.20304227991221957,
          0.9616975939868174,
          0.47490144993709,
          1.5320314361456322,
          0.3175900914811739,
          0.37203275614353776,
          0.4580115429423126,
          0.02514064234920709,
          -0.7328900276967719,
          0.2962771189995143,
          -0.5416057044443754,
          0.6274447635983534,
          -1.0479182864995367,
          11.426080570152823,
          11.457805816647733,
          11.03318136426151,
          9.956870754188575,
          10.347249919332924,
          10.952758153356248,
          11.280792109793602,
          11.84430541647575,
          11.704407752988354,
          9.838231515099782,
          10.974277477572455,
          10.75535401254119
         ],
         "z": [
          0,
          0,
          0,
          0,
          0,
          0,
          0,
          0,
          0,
          0,
          0,
          0,
          0,
          0,
          0,
          0,
          0,
          0,
          0,
          0,
          0,
          0,
          0,
          0,
          0,
          0,
          0,
          0,
          0,
          0
         ]
        },
        {
         "mode": "markers",
         "type": "scatter3d",
         "x": [
          0.15046080005418971,
          -0.2976708087520203,
          -1.2195992916904983,
          0.066932399638839,
          0.26203208800304567,
          0.8588550325312683,
          1.6870251478215628,
          0.24351995095443954,
          -1.0920812658059356,
          0.03151811132497726,
          6.847114832025536,
          6.544741707333095,
          6.56757117006332,
          8.977386852532858,
          7.848893381990088,
          7.930617098900897,
          6.369144826946315,
          7.151418220062759,
          1.7085667240623332,
          -0.11330527834724878,
          -0.8681586114568105,
          0.5655624093057307,
          -0.054450998025203264,
          -0.4648483026477713,
          -0.9239103514987733,
          -0.5083196478427116,
          -0.7235048864024711,
          0.5942333954946766,
          -0.4249211366786726,
          1.3593175203303833
         ],
         "y": [
          -1.4666237837894007,
          -0.3214094333361909,
          1.1770462731147293,
          0.14570068999138808,
          1.0732911818190733,
          0.20304227991221957,
          0.9616975939868174,
          0.47490144993709,
          1.5320314361456322,
          0.3175900914811739,
          0.37203275614353776,
          0.4580115429423126,
          0.02514064234920709,
          -0.7328900276967719,
          0.2962771189995143,
          -0.5416057044443754,
          0.6274447635983534,
          -1.0479182864995367,
          11.426080570152823,
          11.457805816647733,
          11.03318136426151,
          9.956870754188575,
          10.347249919332924,
          10.952758153356248,
          11.280792109793602,
          11.84430541647575,
          11.704407752988354,
          9.838231515099782,
          10.974277477572455,
          10.75535401254119
         ],
         "z": [
          0,
          0,
          0,
          0,
          0,
          0,
          0,
          0,
          0,
          0,
          0,
          0,
          0,
          0,
          0,
          0,
          0,
          0,
          0,
          0,
          0,
          0,
          0,
          0,
          0,
          0,
          0,
          0,
          0,
          0
         ]
        },
        {
         "line": {
          "color": "green"
         },
         "mode": "lines",
         "type": "scatter3d",
         "x": [
          0.15046080005418971,
          -0.2976708087520203
         ],
         "y": [
          -1.4666237837894007,
          -0.3214094333361909
         ],
         "z": [
          0,
          0
         ]
        },
        {
         "line": {
          "color": "green"
         },
         "mode": "lines",
         "type": "scatter3d",
         "x": [
          0.15046080005418971,
          -1.2195992916904983
         ],
         "y": [
          -1.4666237837894007,
          1.1770462731147293
         ],
         "z": [
          0,
          0
         ]
        },
        {
         "line": {
          "color": "green"
         },
         "mode": "lines",
         "type": "scatter3d",
         "x": [
          0.15046080005418971,
          0.066932399638839
         ],
         "y": [
          -1.4666237837894007,
          0.14570068999138808
         ],
         "z": [
          0,
          0
         ]
        },
        {
         "line": {
          "color": "green"
         },
         "mode": "lines",
         "type": "scatter3d",
         "x": [
          0.15046080005418971,
          0.26203208800304567
         ],
         "y": [
          -1.4666237837894007,
          1.0732911818190733
         ],
         "z": [
          0,
          0
         ]
        },
        {
         "line": {
          "color": "green"
         },
         "mode": "lines",
         "type": "scatter3d",
         "x": [
          0.15046080005418971,
          0.8588550325312683
         ],
         "y": [
          -1.4666237837894007,
          0.20304227991221957
         ],
         "z": [
          0,
          0
         ]
        },
        {
         "line": {
          "color": "green"
         },
         "mode": "lines",
         "type": "scatter3d",
         "x": [
          0.15046080005418971,
          1.6870251478215628
         ],
         "y": [
          -1.4666237837894007,
          0.9616975939868174
         ],
         "z": [
          0,
          0
         ]
        },
        {
         "line": {
          "color": "green"
         },
         "mode": "lines",
         "type": "scatter3d",
         "x": [
          0.15046080005418971,
          0.24351995095443954
         ],
         "y": [
          -1.4666237837894007,
          0.47490144993709
         ],
         "z": [
          0,
          0
         ]
        },
        {
         "line": {
          "color": "green"
         },
         "mode": "lines",
         "type": "scatter3d",
         "x": [
          0.15046080005418971,
          -1.0920812658059356
         ],
         "y": [
          -1.4666237837894007,
          1.5320314361456322
         ],
         "z": [
          0,
          0
         ]
        },
        {
         "line": {
          "color": "green"
         },
         "mode": "lines",
         "type": "scatter3d",
         "x": [
          0.15046080005418971,
          0.03151811132497726
         ],
         "y": [
          -1.4666237837894007,
          0.3175900914811739
         ],
         "z": [
          0,
          0
         ]
        },
        {
         "line": {
          "color": "green"
         },
         "mode": "lines",
         "type": "scatter3d",
         "x": [
          0.15046080005418971,
          6.847114832025536
         ],
         "y": [
          -1.4666237837894007,
          0.37203275614353776
         ],
         "z": [
          0,
          0
         ]
        },
        {
         "line": {
          "color": "green"
         },
         "mode": "lines",
         "type": "scatter3d",
         "x": [
          0.15046080005418971,
          6.544741707333095
         ],
         "y": [
          -1.4666237837894007,
          0.4580115429423126
         ],
         "z": [
          0,
          0
         ]
        },
        {
         "line": {
          "color": "green"
         },
         "mode": "lines",
         "type": "scatter3d",
         "x": [
          0.15046080005418971,
          6.56757117006332
         ],
         "y": [
          -1.4666237837894007,
          0.02514064234920709
         ],
         "z": [
          0,
          0
         ]
        },
        {
         "line": {
          "color": "green"
         },
         "mode": "lines",
         "type": "scatter3d",
         "x": [
          0.15046080005418971,
          8.977386852532858
         ],
         "y": [
          -1.4666237837894007,
          -0.7328900276967719
         ],
         "z": [
          0,
          0
         ]
        },
        {
         "line": {
          "color": "green"
         },
         "mode": "lines",
         "type": "scatter3d",
         "x": [
          0.15046080005418971,
          7.848893381990088
         ],
         "y": [
          -1.4666237837894007,
          0.2962771189995143
         ],
         "z": [
          0,
          0
         ]
        },
        {
         "line": {
          "color": "green"
         },
         "mode": "lines",
         "type": "scatter3d",
         "x": [
          0.15046080005418971,
          7.930617098900897
         ],
         "y": [
          -1.4666237837894007,
          -0.5416057044443754
         ],
         "z": [
          0,
          0
         ]
        },
        {
         "line": {
          "color": "green"
         },
         "mode": "lines",
         "type": "scatter3d",
         "x": [
          0.15046080005418971,
          6.369144826946315
         ],
         "y": [
          -1.4666237837894007,
          0.6274447635983534
         ],
         "z": [
          0,
          0
         ]
        },
        {
         "line": {
          "color": "green"
         },
         "mode": "lines",
         "type": "scatter3d",
         "x": [
          0.15046080005418971,
          7.151418220062759
         ],
         "y": [
          -1.4666237837894007,
          -1.0479182864995367
         ],
         "z": [
          0,
          0
         ]
        },
        {
         "line": {
          "color": "green"
         },
         "mode": "lines",
         "type": "scatter3d",
         "x": [
          -0.2976708087520203,
          -1.2195992916904983
         ],
         "y": [
          -0.3214094333361909,
          1.1770462731147293
         ],
         "z": [
          0,
          0
         ]
        },
        {
         "line": {
          "color": "green"
         },
         "mode": "lines",
         "type": "scatter3d",
         "x": [
          -0.2976708087520203,
          0.066932399638839
         ],
         "y": [
          -0.3214094333361909,
          0.14570068999138808
         ],
         "z": [
          0,
          0
         ]
        },
        {
         "line": {
          "color": "green"
         },
         "mode": "lines",
         "type": "scatter3d",
         "x": [
          -0.2976708087520203,
          0.26203208800304567
         ],
         "y": [
          -0.3214094333361909,
          1.0732911818190733
         ],
         "z": [
          0,
          0
         ]
        },
        {
         "line": {
          "color": "green"
         },
         "mode": "lines",
         "type": "scatter3d",
         "x": [
          -0.2976708087520203,
          0.8588550325312683
         ],
         "y": [
          -0.3214094333361909,
          0.20304227991221957
         ],
         "z": [
          0,
          0
         ]
        },
        {
         "line": {
          "color": "green"
         },
         "mode": "lines",
         "type": "scatter3d",
         "x": [
          -0.2976708087520203,
          1.6870251478215628
         ],
         "y": [
          -0.3214094333361909,
          0.9616975939868174
         ],
         "z": [
          0,
          0
         ]
        },
        {
         "line": {
          "color": "green"
         },
         "mode": "lines",
         "type": "scatter3d",
         "x": [
          -0.2976708087520203,
          0.24351995095443954
         ],
         "y": [
          -0.3214094333361909,
          0.47490144993709
         ],
         "z": [
          0,
          0
         ]
        },
        {
         "line": {
          "color": "green"
         },
         "mode": "lines",
         "type": "scatter3d",
         "x": [
          -0.2976708087520203,
          -1.0920812658059356
         ],
         "y": [
          -0.3214094333361909,
          1.5320314361456322
         ],
         "z": [
          0,
          0
         ]
        },
        {
         "line": {
          "color": "green"
         },
         "mode": "lines",
         "type": "scatter3d",
         "x": [
          -0.2976708087520203,
          0.03151811132497726
         ],
         "y": [
          -0.3214094333361909,
          0.3175900914811739
         ],
         "z": [
          0,
          0
         ]
        },
        {
         "line": {
          "color": "green"
         },
         "mode": "lines",
         "type": "scatter3d",
         "x": [
          -0.2976708087520203,
          6.847114832025536
         ],
         "y": [
          -0.3214094333361909,
          0.37203275614353776
         ],
         "z": [
          0,
          0
         ]
        },
        {
         "line": {
          "color": "green"
         },
         "mode": "lines",
         "type": "scatter3d",
         "x": [
          -0.2976708087520203,
          6.544741707333095
         ],
         "y": [
          -0.3214094333361909,
          0.4580115429423126
         ],
         "z": [
          0,
          0
         ]
        },
        {
         "line": {
          "color": "green"
         },
         "mode": "lines",
         "type": "scatter3d",
         "x": [
          -0.2976708087520203,
          6.56757117006332
         ],
         "y": [
          -0.3214094333361909,
          0.02514064234920709
         ],
         "z": [
          0,
          0
         ]
        },
        {
         "line": {
          "color": "green"
         },
         "mode": "lines",
         "type": "scatter3d",
         "x": [
          -0.2976708087520203,
          8.977386852532858
         ],
         "y": [
          -0.3214094333361909,
          -0.7328900276967719
         ],
         "z": [
          0,
          0
         ]
        },
        {
         "line": {
          "color": "green"
         },
         "mode": "lines",
         "type": "scatter3d",
         "x": [
          -0.2976708087520203,
          7.848893381990088
         ],
         "y": [
          -0.3214094333361909,
          0.2962771189995143
         ],
         "z": [
          0,
          0
         ]
        },
        {
         "line": {
          "color": "green"
         },
         "mode": "lines",
         "type": "scatter3d",
         "x": [
          -0.2976708087520203,
          7.930617098900897
         ],
         "y": [
          -0.3214094333361909,
          -0.5416057044443754
         ],
         "z": [
          0,
          0
         ]
        },
        {
         "line": {
          "color": "green"
         },
         "mode": "lines",
         "type": "scatter3d",
         "x": [
          -0.2976708087520203,
          6.369144826946315
         ],
         "y": [
          -0.3214094333361909,
          0.6274447635983534
         ],
         "z": [
          0,
          0
         ]
        },
        {
         "line": {
          "color": "green"
         },
         "mode": "lines",
         "type": "scatter3d",
         "x": [
          -0.2976708087520203,
          7.151418220062759
         ],
         "y": [
          -0.3214094333361909,
          -1.0479182864995367
         ],
         "z": [
          0,
          0
         ]
        },
        {
         "line": {
          "color": "green"
         },
         "mode": "lines",
         "type": "scatter3d",
         "x": [
          -1.2195992916904983,
          0.066932399638839
         ],
         "y": [
          1.1770462731147293,
          0.14570068999138808
         ],
         "z": [
          0,
          0
         ]
        },
        {
         "line": {
          "color": "green"
         },
         "mode": "lines",
         "type": "scatter3d",
         "x": [
          -1.2195992916904983,
          0.26203208800304567
         ],
         "y": [
          1.1770462731147293,
          1.0732911818190733
         ],
         "z": [
          0,
          0
         ]
        },
        {
         "line": {
          "color": "green"
         },
         "mode": "lines",
         "type": "scatter3d",
         "x": [
          -1.2195992916904983,
          0.8588550325312683
         ],
         "y": [
          1.1770462731147293,
          0.20304227991221957
         ],
         "z": [
          0,
          0
         ]
        },
        {
         "line": {
          "color": "green"
         },
         "mode": "lines",
         "type": "scatter3d",
         "x": [
          -1.2195992916904983,
          1.6870251478215628
         ],
         "y": [
          1.1770462731147293,
          0.9616975939868174
         ],
         "z": [
          0,
          0
         ]
        },
        {
         "line": {
          "color": "green"
         },
         "mode": "lines",
         "type": "scatter3d",
         "x": [
          -1.2195992916904983,
          0.24351995095443954
         ],
         "y": [
          1.1770462731147293,
          0.47490144993709
         ],
         "z": [
          0,
          0
         ]
        },
        {
         "line": {
          "color": "green"
         },
         "mode": "lines",
         "type": "scatter3d",
         "x": [
          -1.2195992916904983,
          -1.0920812658059356
         ],
         "y": [
          1.1770462731147293,
          1.5320314361456322
         ],
         "z": [
          0,
          0
         ]
        },
        {
         "line": {
          "color": "green"
         },
         "mode": "lines",
         "type": "scatter3d",
         "x": [
          -1.2195992916904983,
          0.03151811132497726
         ],
         "y": [
          1.1770462731147293,
          0.3175900914811739
         ],
         "z": [
          0,
          0
         ]
        },
        {
         "line": {
          "color": "green"
         },
         "mode": "lines",
         "type": "scatter3d",
         "x": [
          -1.2195992916904983,
          6.847114832025536
         ],
         "y": [
          1.1770462731147293,
          0.37203275614353776
         ],
         "z": [
          0,
          0
         ]
        },
        {
         "line": {
          "color": "green"
         },
         "mode": "lines",
         "type": "scatter3d",
         "x": [
          -1.2195992916904983,
          6.544741707333095
         ],
         "y": [
          1.1770462731147293,
          0.4580115429423126
         ],
         "z": [
          0,
          0
         ]
        },
        {
         "line": {
          "color": "green"
         },
         "mode": "lines",
         "type": "scatter3d",
         "x": [
          -1.2195992916904983,
          6.56757117006332
         ],
         "y": [
          1.1770462731147293,
          0.02514064234920709
         ],
         "z": [
          0,
          0
         ]
        },
        {
         "line": {
          "color": "green"
         },
         "mode": "lines",
         "type": "scatter3d",
         "x": [
          -1.2195992916904983,
          7.848893381990088
         ],
         "y": [
          1.1770462731147293,
          0.2962771189995143
         ],
         "z": [
          0,
          0
         ]
        },
        {
         "line": {
          "color": "green"
         },
         "mode": "lines",
         "type": "scatter3d",
         "x": [
          -1.2195992916904983,
          7.930617098900897
         ],
         "y": [
          1.1770462731147293,
          -0.5416057044443754
         ],
         "z": [
          0,
          0
         ]
        },
        {
         "line": {
          "color": "green"
         },
         "mode": "lines",
         "type": "scatter3d",
         "x": [
          -1.2195992916904983,
          6.369144826946315
         ],
         "y": [
          1.1770462731147293,
          0.6274447635983534
         ],
         "z": [
          0,
          0
         ]
        },
        {
         "line": {
          "color": "green"
         },
         "mode": "lines",
         "type": "scatter3d",
         "x": [
          -1.2195992916904983,
          7.151418220062759
         ],
         "y": [
          1.1770462731147293,
          -1.0479182864995367
         ],
         "z": [
          0,
          0
         ]
        },
        {
         "line": {
          "color": "green"
         },
         "mode": "lines",
         "type": "scatter3d",
         "x": [
          -1.2195992916904983,
          -0.8681586114568105
         ],
         "y": [
          1.1770462731147293,
          11.03318136426151
         ],
         "z": [
          0,
          0
         ]
        },
        {
         "line": {
          "color": "green"
         },
         "mode": "lines",
         "type": "scatter3d",
         "x": [
          -1.2195992916904983,
          0.5655624093057307
         ],
         "y": [
          1.1770462731147293,
          9.956870754188575
         ],
         "z": [
          0,
          0
         ]
        },
        {
         "line": {
          "color": "green"
         },
         "mode": "lines",
         "type": "scatter3d",
         "x": [
          -1.2195992916904983,
          -0.054450998025203264
         ],
         "y": [
          1.1770462731147293,
          10.347249919332924
         ],
         "z": [
          0,
          0
         ]
        },
        {
         "line": {
          "color": "green"
         },
         "mode": "lines",
         "type": "scatter3d",
         "x": [
          -1.2195992916904983,
          -0.4648483026477713
         ],
         "y": [
          1.1770462731147293,
          10.952758153356248
         ],
         "z": [
          0,
          0
         ]
        },
        {
         "line": {
          "color": "green"
         },
         "mode": "lines",
         "type": "scatter3d",
         "x": [
          -1.2195992916904983,
          0.5942333954946766
         ],
         "y": [
          1.1770462731147293,
          9.838231515099782
         ],
         "z": [
          0,
          0
         ]
        },
        {
         "line": {
          "color": "green"
         },
         "mode": "lines",
         "type": "scatter3d",
         "x": [
          -1.2195992916904983,
          -0.4249211366786726
         ],
         "y": [
          1.1770462731147293,
          10.974277477572455
         ],
         "z": [
          0,
          0
         ]
        },
        {
         "line": {
          "color": "green"
         },
         "mode": "lines",
         "type": "scatter3d",
         "x": [
          -1.2195992916904983,
          1.3593175203303833
         ],
         "y": [
          1.1770462731147293,
          10.75535401254119
         ],
         "z": [
          0,
          0
         ]
        },
        {
         "line": {
          "color": "green"
         },
         "mode": "lines",
         "type": "scatter3d",
         "x": [
          0.066932399638839,
          0.26203208800304567
         ],
         "y": [
          0.14570068999138808,
          1.0732911818190733
         ],
         "z": [
          0,
          0
         ]
        },
        {
         "line": {
          "color": "green"
         },
         "mode": "lines",
         "type": "scatter3d",
         "x": [
          0.066932399638839,
          0.8588550325312683
         ],
         "y": [
          0.14570068999138808,
          0.20304227991221957
         ],
         "z": [
          0,
          0
         ]
        },
        {
         "line": {
          "color": "green"
         },
         "mode": "lines",
         "type": "scatter3d",
         "x": [
          0.066932399638839,
          1.6870251478215628
         ],
         "y": [
          0.14570068999138808,
          0.9616975939868174
         ],
         "z": [
          0,
          0
         ]
        },
        {
         "line": {
          "color": "green"
         },
         "mode": "lines",
         "type": "scatter3d",
         "x": [
          0.066932399638839,
          0.24351995095443954
         ],
         "y": [
          0.14570068999138808,
          0.47490144993709
         ],
         "z": [
          0,
          0
         ]
        },
        {
         "line": {
          "color": "green"
         },
         "mode": "lines",
         "type": "scatter3d",
         "x": [
          0.066932399638839,
          -1.0920812658059356
         ],
         "y": [
          0.14570068999138808,
          1.5320314361456322
         ],
         "z": [
          0,
          0
         ]
        },
        {
         "line": {
          "color": "green"
         },
         "mode": "lines",
         "type": "scatter3d",
         "x": [
          0.066932399638839,
          0.03151811132497726
         ],
         "y": [
          0.14570068999138808,
          0.3175900914811739
         ],
         "z": [
          0,
          0
         ]
        },
        {
         "line": {
          "color": "green"
         },
         "mode": "lines",
         "type": "scatter3d",
         "x": [
          0.066932399638839,
          6.847114832025536
         ],
         "y": [
          0.14570068999138808,
          0.37203275614353776
         ],
         "z": [
          0,
          0
         ]
        },
        {
         "line": {
          "color": "green"
         },
         "mode": "lines",
         "type": "scatter3d",
         "x": [
          0.066932399638839,
          6.544741707333095
         ],
         "y": [
          0.14570068999138808,
          0.4580115429423126
         ],
         "z": [
          0,
          0
         ]
        },
        {
         "line": {
          "color": "green"
         },
         "mode": "lines",
         "type": "scatter3d",
         "x": [
          0.066932399638839,
          6.56757117006332
         ],
         "y": [
          0.14570068999138808,
          0.02514064234920709
         ],
         "z": [
          0,
          0
         ]
        },
        {
         "line": {
          "color": "green"
         },
         "mode": "lines",
         "type": "scatter3d",
         "x": [
          0.066932399638839,
          8.977386852532858
         ],
         "y": [
          0.14570068999138808,
          -0.7328900276967719
         ],
         "z": [
          0,
          0
         ]
        },
        {
         "line": {
          "color": "green"
         },
         "mode": "lines",
         "type": "scatter3d",
         "x": [
          0.066932399638839,
          7.848893381990088
         ],
         "y": [
          0.14570068999138808,
          0.2962771189995143
         ],
         "z": [
          0,
          0
         ]
        },
        {
         "line": {
          "color": "green"
         },
         "mode": "lines",
         "type": "scatter3d",
         "x": [
          0.066932399638839,
          7.930617098900897
         ],
         "y": [
          0.14570068999138808,
          -0.5416057044443754
         ],
         "z": [
          0,
          0
         ]
        },
        {
         "line": {
          "color": "green"
         },
         "mode": "lines",
         "type": "scatter3d",
         "x": [
          0.066932399638839,
          6.369144826946315
         ],
         "y": [
          0.14570068999138808,
          0.6274447635983534
         ],
         "z": [
          0,
          0
         ]
        },
        {
         "line": {
          "color": "green"
         },
         "mode": "lines",
         "type": "scatter3d",
         "x": [
          0.066932399638839,
          7.151418220062759
         ],
         "y": [
          0.14570068999138808,
          -1.0479182864995367
         ],
         "z": [
          0,
          0
         ]
        },
        {
         "line": {
          "color": "green"
         },
         "mode": "lines",
         "type": "scatter3d",
         "x": [
          0.066932399638839,
          0.5655624093057307
         ],
         "y": [
          0.14570068999138808,
          9.956870754188575
         ],
         "z": [
          0,
          0
         ]
        },
        {
         "line": {
          "color": "green"
         },
         "mode": "lines",
         "type": "scatter3d",
         "x": [
          0.066932399638839,
          0.5942333954946766
         ],
         "y": [
          0.14570068999138808,
          9.838231515099782
         ],
         "z": [
          0,
          0
         ]
        },
        {
         "line": {
          "color": "green"
         },
         "mode": "lines",
         "type": "scatter3d",
         "x": [
          0.26203208800304567,
          0.8588550325312683
         ],
         "y": [
          1.0732911818190733,
          0.20304227991221957
         ],
         "z": [
          0,
          0
         ]
        },
        {
         "line": {
          "color": "green"
         },
         "mode": "lines",
         "type": "scatter3d",
         "x": [
          0.26203208800304567,
          1.6870251478215628
         ],
         "y": [
          1.0732911818190733,
          0.9616975939868174
         ],
         "z": [
          0,
          0
         ]
        },
        {
         "line": {
          "color": "green"
         },
         "mode": "lines",
         "type": "scatter3d",
         "x": [
          0.26203208800304567,
          0.24351995095443954
         ],
         "y": [
          1.0732911818190733,
          0.47490144993709
         ],
         "z": [
          0,
          0
         ]
        },
        {
         "line": {
          "color": "green"
         },
         "mode": "lines",
         "type": "scatter3d",
         "x": [
          0.26203208800304567,
          -1.0920812658059356
         ],
         "y": [
          1.0732911818190733,
          1.5320314361456322
         ],
         "z": [
          0,
          0
         ]
        },
        {
         "line": {
          "color": "green"
         },
         "mode": "lines",
         "type": "scatter3d",
         "x": [
          0.26203208800304567,
          0.03151811132497726
         ],
         "y": [
          1.0732911818190733,
          0.3175900914811739
         ],
         "z": [
          0,
          0
         ]
        },
        {
         "line": {
          "color": "green"
         },
         "mode": "lines",
         "type": "scatter3d",
         "x": [
          0.26203208800304567,
          6.847114832025536
         ],
         "y": [
          1.0732911818190733,
          0.37203275614353776
         ],
         "z": [
          0,
          0
         ]
        },
        {
         "line": {
          "color": "green"
         },
         "mode": "lines",
         "type": "scatter3d",
         "x": [
          0.26203208800304567,
          6.544741707333095
         ],
         "y": [
          1.0732911818190733,
          0.4580115429423126
         ],
         "z": [
          0,
          0
         ]
        },
        {
         "line": {
          "color": "green"
         },
         "mode": "lines",
         "type": "scatter3d",
         "x": [
          0.26203208800304567,
          6.56757117006332
         ],
         "y": [
          1.0732911818190733,
          0.02514064234920709
         ],
         "z": [
          0,
          0
         ]
        },
        {
         "line": {
          "color": "green"
         },
         "mode": "lines",
         "type": "scatter3d",
         "x": [
          0.26203208800304567,
          8.977386852532858
         ],
         "y": [
          1.0732911818190733,
          -0.7328900276967719
         ],
         "z": [
          0,
          0
         ]
        },
        {
         "line": {
          "color": "green"
         },
         "mode": "lines",
         "type": "scatter3d",
         "x": [
          0.26203208800304567,
          7.848893381990088
         ],
         "y": [
          1.0732911818190733,
          0.2962771189995143
         ],
         "z": [
          0,
          0
         ]
        },
        {
         "line": {
          "color": "green"
         },
         "mode": "lines",
         "type": "scatter3d",
         "x": [
          0.26203208800304567,
          7.930617098900897
         ],
         "y": [
          1.0732911818190733,
          -0.5416057044443754
         ],
         "z": [
          0,
          0
         ]
        },
        {
         "line": {
          "color": "green"
         },
         "mode": "lines",
         "type": "scatter3d",
         "x": [
          0.26203208800304567,
          6.369144826946315
         ],
         "y": [
          1.0732911818190733,
          0.6274447635983534
         ],
         "z": [
          0,
          0
         ]
        },
        {
         "line": {
          "color": "green"
         },
         "mode": "lines",
         "type": "scatter3d",
         "x": [
          0.26203208800304567,
          7.151418220062759
         ],
         "y": [
          1.0732911818190733,
          -1.0479182864995367
         ],
         "z": [
          0,
          0
         ]
        },
        {
         "line": {
          "color": "green"
         },
         "mode": "lines",
         "type": "scatter3d",
         "x": [
          0.26203208800304567,
          0.5655624093057307
         ],
         "y": [
          1.0732911818190733,
          9.956870754188575
         ],
         "z": [
          0,
          0
         ]
        },
        {
         "line": {
          "color": "green"
         },
         "mode": "lines",
         "type": "scatter3d",
         "x": [
          0.26203208800304567,
          -0.054450998025203264
         ],
         "y": [
          1.0732911818190733,
          10.347249919332924
         ],
         "z": [
          0,
          0
         ]
        },
        {
         "line": {
          "color": "green"
         },
         "mode": "lines",
         "type": "scatter3d",
         "x": [
          0.26203208800304567,
          -0.4648483026477713
         ],
         "y": [
          1.0732911818190733,
          10.952758153356248
         ],
         "z": [
          0,
          0
         ]
        },
        {
         "line": {
          "color": "green"
         },
         "mode": "lines",
         "type": "scatter3d",
         "x": [
          0.26203208800304567,
          0.5942333954946766
         ],
         "y": [
          1.0732911818190733,
          9.838231515099782
         ],
         "z": [
          0,
          0
         ]
        },
        {
         "line": {
          "color": "green"
         },
         "mode": "lines",
         "type": "scatter3d",
         "x": [
          0.26203208800304567,
          -0.4249211366786726
         ],
         "y": [
          1.0732911818190733,
          10.974277477572455
         ],
         "z": [
          0,
          0
         ]
        },
        {
         "line": {
          "color": "green"
         },
         "mode": "lines",
         "type": "scatter3d",
         "x": [
          0.26203208800304567,
          1.3593175203303833
         ],
         "y": [
          1.0732911818190733,
          10.75535401254119
         ],
         "z": [
          0,
          0
         ]
        },
        {
         "line": {
          "color": "green"
         },
         "mode": "lines",
         "type": "scatter3d",
         "x": [
          0.8588550325312683,
          1.6870251478215628
         ],
         "y": [
          0.20304227991221957,
          0.9616975939868174
         ],
         "z": [
          0,
          0
         ]
        },
        {
         "line": {
          "color": "green"
         },
         "mode": "lines",
         "type": "scatter3d",
         "x": [
          0.8588550325312683,
          0.24351995095443954
         ],
         "y": [
          0.20304227991221957,
          0.47490144993709
         ],
         "z": [
          0,
          0
         ]
        },
        {
         "line": {
          "color": "green"
         },
         "mode": "lines",
         "type": "scatter3d",
         "x": [
          0.8588550325312683,
          -1.0920812658059356
         ],
         "y": [
          0.20304227991221957,
          1.5320314361456322
         ],
         "z": [
          0,
          0
         ]
        },
        {
         "line": {
          "color": "green"
         },
         "mode": "lines",
         "type": "scatter3d",
         "x": [
          0.8588550325312683,
          0.03151811132497726
         ],
         "y": [
          0.20304227991221957,
          0.3175900914811739
         ],
         "z": [
          0,
          0
         ]
        },
        {
         "line": {
          "color": "green"
         },
         "mode": "lines",
         "type": "scatter3d",
         "x": [
          0.8588550325312683,
          6.847114832025536
         ],
         "y": [
          0.20304227991221957,
          0.37203275614353776
         ],
         "z": [
          0,
          0
         ]
        },
        {
         "line": {
          "color": "green"
         },
         "mode": "lines",
         "type": "scatter3d",
         "x": [
          0.8588550325312683,
          6.544741707333095
         ],
         "y": [
          0.20304227991221957,
          0.4580115429423126
         ],
         "z": [
          0,
          0
         ]
        },
        {
         "line": {
          "color": "green"
         },
         "mode": "lines",
         "type": "scatter3d",
         "x": [
          0.8588550325312683,
          6.56757117006332
         ],
         "y": [
          0.20304227991221957,
          0.02514064234920709
         ],
         "z": [
          0,
          0
         ]
        },
        {
         "line": {
          "color": "green"
         },
         "mode": "lines",
         "type": "scatter3d",
         "x": [
          0.8588550325312683,
          8.977386852532858
         ],
         "y": [
          0.20304227991221957,
          -0.7328900276967719
         ],
         "z": [
          0,
          0
         ]
        },
        {
         "line": {
          "color": "green"
         },
         "mode": "lines",
         "type": "scatter3d",
         "x": [
          0.8588550325312683,
          7.848893381990088
         ],
         "y": [
          0.20304227991221957,
          0.2962771189995143
         ],
         "z": [
          0,
          0
         ]
        },
        {
         "line": {
          "color": "green"
         },
         "mode": "lines",
         "type": "scatter3d",
         "x": [
          0.8588550325312683,
          7.930617098900897
         ],
         "y": [
          0.20304227991221957,
          -0.5416057044443754
         ],
         "z": [
          0,
          0
         ]
        },
        {
         "line": {
          "color": "green"
         },
         "mode": "lines",
         "type": "scatter3d",
         "x": [
          0.8588550325312683,
          6.369144826946315
         ],
         "y": [
          0.20304227991221957,
          0.6274447635983534
         ],
         "z": [
          0,
          0
         ]
        },
        {
         "line": {
          "color": "green"
         },
         "mode": "lines",
         "type": "scatter3d",
         "x": [
          0.8588550325312683,
          7.151418220062759
         ],
         "y": [
          0.20304227991221957,
          -1.0479182864995367
         ],
         "z": [
          0,
          0
         ]
        },
        {
         "line": {
          "color": "green"
         },
         "mode": "lines",
         "type": "scatter3d",
         "x": [
          0.8588550325312683,
          0.5655624093057307
         ],
         "y": [
          0.20304227991221957,
          9.956870754188575
         ],
         "z": [
          0,
          0
         ]
        },
        {
         "line": {
          "color": "green"
         },
         "mode": "lines",
         "type": "scatter3d",
         "x": [
          0.8588550325312683,
          0.5942333954946766
         ],
         "y": [
          0.20304227991221957,
          9.838231515099782
         ],
         "z": [
          0,
          0
         ]
        },
        {
         "line": {
          "color": "green"
         },
         "mode": "lines",
         "type": "scatter3d",
         "x": [
          1.6870251478215628,
          0.24351995095443954
         ],
         "y": [
          0.9616975939868174,
          0.47490144993709
         ],
         "z": [
          0,
          0
         ]
        },
        {
         "line": {
          "color": "green"
         },
         "mode": "lines",
         "type": "scatter3d",
         "x": [
          1.6870251478215628,
          -1.0920812658059356
         ],
         "y": [
          0.9616975939868174,
          1.5320314361456322
         ],
         "z": [
          0,
          0
         ]
        },
        {
         "line": {
          "color": "green"
         },
         "mode": "lines",
         "type": "scatter3d",
         "x": [
          1.6870251478215628,
          0.03151811132497726
         ],
         "y": [
          0.9616975939868174,
          0.3175900914811739
         ],
         "z": [
          0,
          0
         ]
        },
        {
         "line": {
          "color": "green"
         },
         "mode": "lines",
         "type": "scatter3d",
         "x": [
          1.6870251478215628,
          6.847114832025536
         ],
         "y": [
          0.9616975939868174,
          0.37203275614353776
         ],
         "z": [
          0,
          0
         ]
        },
        {
         "line": {
          "color": "green"
         },
         "mode": "lines",
         "type": "scatter3d",
         "x": [
          1.6870251478215628,
          6.544741707333095
         ],
         "y": [
          0.9616975939868174,
          0.4580115429423126
         ],
         "z": [
          0,
          0
         ]
        },
        {
         "line": {
          "color": "green"
         },
         "mode": "lines",
         "type": "scatter3d",
         "x": [
          1.6870251478215628,
          6.56757117006332
         ],
         "y": [
          0.9616975939868174,
          0.02514064234920709
         ],
         "z": [
          0,
          0
         ]
        },
        {
         "line": {
          "color": "green"
         },
         "mode": "lines",
         "type": "scatter3d",
         "x": [
          1.6870251478215628,
          8.977386852532858
         ],
         "y": [
          0.9616975939868174,
          -0.7328900276967719
         ],
         "z": [
          0,
          0
         ]
        },
        {
         "line": {
          "color": "green"
         },
         "mode": "lines",
         "type": "scatter3d",
         "x": [
          1.6870251478215628,
          7.848893381990088
         ],
         "y": [
          0.9616975939868174,
          0.2962771189995143
         ],
         "z": [
          0,
          0
         ]
        },
        {
         "line": {
          "color": "green"
         },
         "mode": "lines",
         "type": "scatter3d",
         "x": [
          1.6870251478215628,
          7.930617098900897
         ],
         "y": [
          0.9616975939868174,
          -0.5416057044443754
         ],
         "z": [
          0,
          0
         ]
        },
        {
         "line": {
          "color": "green"
         },
         "mode": "lines",
         "type": "scatter3d",
         "x": [
          1.6870251478215628,
          6.369144826946315
         ],
         "y": [
          0.9616975939868174,
          0.6274447635983534
         ],
         "z": [
          0,
          0
         ]
        },
        {
         "line": {
          "color": "green"
         },
         "mode": "lines",
         "type": "scatter3d",
         "x": [
          1.6870251478215628,
          7.151418220062759
         ],
         "y": [
          0.9616975939868174,
          -1.0479182864995367
         ],
         "z": [
          0,
          0
         ]
        },
        {
         "line": {
          "color": "green"
         },
         "mode": "lines",
         "type": "scatter3d",
         "x": [
          1.6870251478215628,
          0.5655624093057307
         ],
         "y": [
          0.9616975939868174,
          9.956870754188575
         ],
         "z": [
          0,
          0
         ]
        },
        {
         "line": {
          "color": "green"
         },
         "mode": "lines",
         "type": "scatter3d",
         "x": [
          1.6870251478215628,
          -0.054450998025203264
         ],
         "y": [
          0.9616975939868174,
          10.347249919332924
         ],
         "z": [
          0,
          0
         ]
        },
        {
         "line": {
          "color": "green"
         },
         "mode": "lines",
         "type": "scatter3d",
         "x": [
          1.6870251478215628,
          0.5942333954946766
         ],
         "y": [
          0.9616975939868174,
          9.838231515099782
         ],
         "z": [
          0,
          0
         ]
        },
        {
         "line": {
          "color": "green"
         },
         "mode": "lines",
         "type": "scatter3d",
         "x": [
          1.6870251478215628,
          1.3593175203303833
         ],
         "y": [
          0.9616975939868174,
          10.75535401254119
         ],
         "z": [
          0,
          0
         ]
        },
        {
         "line": {
          "color": "green"
         },
         "mode": "lines",
         "type": "scatter3d",
         "x": [
          0.24351995095443954,
          -1.0920812658059356
         ],
         "y": [
          0.47490144993709,
          1.5320314361456322
         ],
         "z": [
          0,
          0
         ]
        },
        {
         "line": {
          "color": "green"
         },
         "mode": "lines",
         "type": "scatter3d",
         "x": [
          0.24351995095443954,
          0.03151811132497726
         ],
         "y": [
          0.47490144993709,
          0.3175900914811739
         ],
         "z": [
          0,
          0
         ]
        },
        {
         "line": {
          "color": "green"
         },
         "mode": "lines",
         "type": "scatter3d",
         "x": [
          0.24351995095443954,
          6.847114832025536
         ],
         "y": [
          0.47490144993709,
          0.37203275614353776
         ],
         "z": [
          0,
          0
         ]
        },
        {
         "line": {
          "color": "green"
         },
         "mode": "lines",
         "type": "scatter3d",
         "x": [
          0.24351995095443954,
          6.544741707333095
         ],
         "y": [
          0.47490144993709,
          0.4580115429423126
         ],
         "z": [
          0,
          0
         ]
        },
        {
         "line": {
          "color": "green"
         },
         "mode": "lines",
         "type": "scatter3d",
         "x": [
          0.24351995095443954,
          6.56757117006332
         ],
         "y": [
          0.47490144993709,
          0.02514064234920709
         ],
         "z": [
          0,
          0
         ]
        },
        {
         "line": {
          "color": "green"
         },
         "mode": "lines",
         "type": "scatter3d",
         "x": [
          0.24351995095443954,
          8.977386852532858
         ],
         "y": [
          0.47490144993709,
          -0.7328900276967719
         ],
         "z": [
          0,
          0
         ]
        },
        {
         "line": {
          "color": "green"
         },
         "mode": "lines",
         "type": "scatter3d",
         "x": [
          0.24351995095443954,
          7.848893381990088
         ],
         "y": [
          0.47490144993709,
          0.2962771189995143
         ],
         "z": [
          0,
          0
         ]
        },
        {
         "line": {
          "color": "green"
         },
         "mode": "lines",
         "type": "scatter3d",
         "x": [
          0.24351995095443954,
          7.930617098900897
         ],
         "y": [
          0.47490144993709,
          -0.5416057044443754
         ],
         "z": [
          0,
          0
         ]
        },
        {
         "line": {
          "color": "green"
         },
         "mode": "lines",
         "type": "scatter3d",
         "x": [
          0.24351995095443954,
          6.369144826946315
         ],
         "y": [
          0.47490144993709,
          0.6274447635983534
         ],
         "z": [
          0,
          0
         ]
        },
        {
         "line": {
          "color": "green"
         },
         "mode": "lines",
         "type": "scatter3d",
         "x": [
          0.24351995095443954,
          7.151418220062759
         ],
         "y": [
          0.47490144993709,
          -1.0479182864995367
         ],
         "z": [
          0,
          0
         ]
        },
        {
         "line": {
          "color": "green"
         },
         "mode": "lines",
         "type": "scatter3d",
         "x": [
          0.24351995095443954,
          0.5655624093057307
         ],
         "y": [
          0.47490144993709,
          9.956870754188575
         ],
         "z": [
          0,
          0
         ]
        },
        {
         "line": {
          "color": "green"
         },
         "mode": "lines",
         "type": "scatter3d",
         "x": [
          0.24351995095443954,
          -0.054450998025203264
         ],
         "y": [
          0.47490144993709,
          10.347249919332924
         ],
         "z": [
          0,
          0
         ]
        },
        {
         "line": {
          "color": "green"
         },
         "mode": "lines",
         "type": "scatter3d",
         "x": [
          0.24351995095443954,
          0.5942333954946766
         ],
         "y": [
          0.47490144993709,
          9.838231515099782
         ],
         "z": [
          0,
          0
         ]
        },
        {
         "line": {
          "color": "green"
         },
         "mode": "lines",
         "type": "scatter3d",
         "x": [
          -1.0920812658059356,
          0.03151811132497726
         ],
         "y": [
          1.5320314361456322,
          0.3175900914811739
         ],
         "z": [
          0,
          0
         ]
        },
        {
         "line": {
          "color": "green"
         },
         "mode": "lines",
         "type": "scatter3d",
         "x": [
          -1.0920812658059356,
          6.847114832025536
         ],
         "y": [
          1.5320314361456322,
          0.37203275614353776
         ],
         "z": [
          0,
          0
         ]
        },
        {
         "line": {
          "color": "green"
         },
         "mode": "lines",
         "type": "scatter3d",
         "x": [
          -1.0920812658059356,
          6.544741707333095
         ],
         "y": [
          1.5320314361456322,
          0.4580115429423126
         ],
         "z": [
          0,
          0
         ]
        },
        {
         "line": {
          "color": "green"
         },
         "mode": "lines",
         "type": "scatter3d",
         "x": [
          -1.0920812658059356,
          6.56757117006332
         ],
         "y": [
          1.5320314361456322,
          0.02514064234920709
         ],
         "z": [
          0,
          0
         ]
        },
        {
         "line": {
          "color": "green"
         },
         "mode": "lines",
         "type": "scatter3d",
         "x": [
          -1.0920812658059356,
          7.848893381990088
         ],
         "y": [
          1.5320314361456322,
          0.2962771189995143
         ],
         "z": [
          0,
          0
         ]
        },
        {
         "line": {
          "color": "green"
         },
         "mode": "lines",
         "type": "scatter3d",
         "x": [
          -1.0920812658059356,
          7.930617098900897
         ],
         "y": [
          1.5320314361456322,
          -0.5416057044443754
         ],
         "z": [
          0,
          0
         ]
        },
        {
         "line": {
          "color": "green"
         },
         "mode": "lines",
         "type": "scatter3d",
         "x": [
          -1.0920812658059356,
          6.369144826946315
         ],
         "y": [
          1.5320314361456322,
          0.6274447635983534
         ],
         "z": [
          0,
          0
         ]
        },
        {
         "line": {
          "color": "green"
         },
         "mode": "lines",
         "type": "scatter3d",
         "x": [
          -1.0920812658059356,
          7.151418220062759
         ],
         "y": [
          1.5320314361456322,
          -1.0479182864995367
         ],
         "z": [
          0,
          0
         ]
        },
        {
         "line": {
          "color": "green"
         },
         "mode": "lines",
         "type": "scatter3d",
         "x": [
          -1.0920812658059356,
          -0.11330527834724878
         ],
         "y": [
          1.5320314361456322,
          11.457805816647733
         ],
         "z": [
          0,
          0
         ]
        },
        {
         "line": {
          "color": "green"
         },
         "mode": "lines",
         "type": "scatter3d",
         "x": [
          -1.0920812658059356,
          -0.8681586114568105
         ],
         "y": [
          1.5320314361456322,
          11.03318136426151
         ],
         "z": [
          0,
          0
         ]
        },
        {
         "line": {
          "color": "green"
         },
         "mode": "lines",
         "type": "scatter3d",
         "x": [
          -1.0920812658059356,
          0.5655624093057307
         ],
         "y": [
          1.5320314361456322,
          9.956870754188575
         ],
         "z": [
          0,
          0
         ]
        },
        {
         "line": {
          "color": "green"
         },
         "mode": "lines",
         "type": "scatter3d",
         "x": [
          -1.0920812658059356,
          -0.054450998025203264
         ],
         "y": [
          1.5320314361456322,
          10.347249919332924
         ],
         "z": [
          0,
          0
         ]
        },
        {
         "line": {
          "color": "green"
         },
         "mode": "lines",
         "type": "scatter3d",
         "x": [
          -1.0920812658059356,
          -0.4648483026477713
         ],
         "y": [
          1.5320314361456322,
          10.952758153356248
         ],
         "z": [
          0,
          0
         ]
        },
        {
         "line": {
          "color": "green"
         },
         "mode": "lines",
         "type": "scatter3d",
         "x": [
          -1.0920812658059356,
          -0.9239103514987733
         ],
         "y": [
          1.5320314361456322,
          11.280792109793602
         ],
         "z": [
          0,
          0
         ]
        },
        {
         "line": {
          "color": "green"
         },
         "mode": "lines",
         "type": "scatter3d",
         "x": [
          -1.0920812658059356,
          0.5942333954946766
         ],
         "y": [
          1.5320314361456322,
          9.838231515099782
         ],
         "z": [
          0,
          0
         ]
        },
        {
         "line": {
          "color": "green"
         },
         "mode": "lines",
         "type": "scatter3d",
         "x": [
          -1.0920812658059356,
          -0.4249211366786726
         ],
         "y": [
          1.5320314361456322,
          10.974277477572455
         ],
         "z": [
          0,
          0
         ]
        },
        {
         "line": {
          "color": "green"
         },
         "mode": "lines",
         "type": "scatter3d",
         "x": [
          -1.0920812658059356,
          1.3593175203303833
         ],
         "y": [
          1.5320314361456322,
          10.75535401254119
         ],
         "z": [
          0,
          0
         ]
        },
        {
         "line": {
          "color": "green"
         },
         "mode": "lines",
         "type": "scatter3d",
         "x": [
          0.03151811132497726,
          6.847114832025536
         ],
         "y": [
          0.3175900914811739,
          0.37203275614353776
         ],
         "z": [
          0,
          0
         ]
        },
        {
         "line": {
          "color": "green"
         },
         "mode": "lines",
         "type": "scatter3d",
         "x": [
          0.03151811132497726,
          6.544741707333095
         ],
         "y": [
          0.3175900914811739,
          0.4580115429423126
         ],
         "z": [
          0,
          0
         ]
        },
        {
         "line": {
          "color": "green"
         },
         "mode": "lines",
         "type": "scatter3d",
         "x": [
          0.03151811132497726,
          6.56757117006332
         ],
         "y": [
          0.3175900914811739,
          0.02514064234920709
         ],
         "z": [
          0,
          0
         ]
        },
        {
         "line": {
          "color": "green"
         },
         "mode": "lines",
         "type": "scatter3d",
         "x": [
          0.03151811132497726,
          8.977386852532858
         ],
         "y": [
          0.3175900914811739,
          -0.7328900276967719
         ],
         "z": [
          0,
          0
         ]
        },
        {
         "line": {
          "color": "green"
         },
         "mode": "lines",
         "type": "scatter3d",
         "x": [
          0.03151811132497726,
          7.848893381990088
         ],
         "y": [
          0.3175900914811739,
          0.2962771189995143
         ],
         "z": [
          0,
          0
         ]
        },
        {
         "line": {
          "color": "green"
         },
         "mode": "lines",
         "type": "scatter3d",
         "x": [
          0.03151811132497726,
          7.930617098900897
         ],
         "y": [
          0.3175900914811739,
          -0.5416057044443754
         ],
         "z": [
          0,
          0
         ]
        },
        {
         "line": {
          "color": "green"
         },
         "mode": "lines",
         "type": "scatter3d",
         "x": [
          0.03151811132497726,
          6.369144826946315
         ],
         "y": [
          0.3175900914811739,
          0.6274447635983534
         ],
         "z": [
          0,
          0
         ]
        },
        {
         "line": {
          "color": "green"
         },
         "mode": "lines",
         "type": "scatter3d",
         "x": [
          0.03151811132497726,
          7.151418220062759
         ],
         "y": [
          0.3175900914811739,
          -1.0479182864995367
         ],
         "z": [
          0,
          0
         ]
        },
        {
         "line": {
          "color": "green"
         },
         "mode": "lines",
         "type": "scatter3d",
         "x": [
          0.03151811132497726,
          0.5655624093057307
         ],
         "y": [
          0.3175900914811739,
          9.956870754188575
         ],
         "z": [
          0,
          0
         ]
        },
        {
         "line": {
          "color": "green"
         },
         "mode": "lines",
         "type": "scatter3d",
         "x": [
          0.03151811132497726,
          0.5942333954946766
         ],
         "y": [
          0.3175900914811739,
          9.838231515099782
         ],
         "z": [
          0,
          0
         ]
        },
        {
         "line": {
          "color": "green"
         },
         "mode": "lines",
         "type": "scatter3d",
         "x": [
          6.847114832025536,
          6.544741707333095
         ],
         "y": [
          0.37203275614353776,
          0.4580115429423126
         ],
         "z": [
          0,
          0
         ]
        },
        {
         "line": {
          "color": "green"
         },
         "mode": "lines",
         "type": "scatter3d",
         "x": [
          6.847114832025536,
          6.56757117006332
         ],
         "y": [
          0.37203275614353776,
          0.02514064234920709
         ],
         "z": [
          0,
          0
         ]
        },
        {
         "line": {
          "color": "green"
         },
         "mode": "lines",
         "type": "scatter3d",
         "x": [
          6.847114832025536,
          8.977386852532858
         ],
         "y": [
          0.37203275614353776,
          -0.7328900276967719
         ],
         "z": [
          0,
          0
         ]
        },
        {
         "line": {
          "color": "green"
         },
         "mode": "lines",
         "type": "scatter3d",
         "x": [
          6.847114832025536,
          7.848893381990088
         ],
         "y": [
          0.37203275614353776,
          0.2962771189995143
         ],
         "z": [
          0,
          0
         ]
        },
        {
         "line": {
          "color": "green"
         },
         "mode": "lines",
         "type": "scatter3d",
         "x": [
          6.847114832025536,
          7.930617098900897
         ],
         "y": [
          0.37203275614353776,
          -0.5416057044443754
         ],
         "z": [
          0,
          0
         ]
        },
        {
         "line": {
          "color": "green"
         },
         "mode": "lines",
         "type": "scatter3d",
         "x": [
          6.847114832025536,
          6.369144826946315
         ],
         "y": [
          0.37203275614353776,
          0.6274447635983534
         ],
         "z": [
          0,
          0
         ]
        },
        {
         "line": {
          "color": "green"
         },
         "mode": "lines",
         "type": "scatter3d",
         "x": [
          6.847114832025536,
          7.151418220062759
         ],
         "y": [
          0.37203275614353776,
          -1.0479182864995367
         ],
         "z": [
          0,
          0
         ]
        },
        {
         "line": {
          "color": "green"
         },
         "mode": "lines",
         "type": "scatter3d",
         "x": [
          6.544741707333095,
          6.56757117006332
         ],
         "y": [
          0.4580115429423126,
          0.02514064234920709
         ],
         "z": [
          0,
          0
         ]
        },
        {
         "line": {
          "color": "green"
         },
         "mode": "lines",
         "type": "scatter3d",
         "x": [
          6.544741707333095,
          8.977386852532858
         ],
         "y": [
          0.4580115429423126,
          -0.7328900276967719
         ],
         "z": [
          0,
          0
         ]
        },
        {
         "line": {
          "color": "green"
         },
         "mode": "lines",
         "type": "scatter3d",
         "x": [
          6.544741707333095,
          7.848893381990088
         ],
         "y": [
          0.4580115429423126,
          0.2962771189995143
         ],
         "z": [
          0,
          0
         ]
        },
        {
         "line": {
          "color": "green"
         },
         "mode": "lines",
         "type": "scatter3d",
         "x": [
          6.544741707333095,
          7.930617098900897
         ],
         "y": [
          0.4580115429423126,
          -0.5416057044443754
         ],
         "z": [
          0,
          0
         ]
        },
        {
         "line": {
          "color": "green"
         },
         "mode": "lines",
         "type": "scatter3d",
         "x": [
          6.544741707333095,
          6.369144826946315
         ],
         "y": [
          0.4580115429423126,
          0.6274447635983534
         ],
         "z": [
          0,
          0
         ]
        },
        {
         "line": {
          "color": "green"
         },
         "mode": "lines",
         "type": "scatter3d",
         "x": [
          6.544741707333095,
          7.151418220062759
         ],
         "y": [
          0.4580115429423126,
          -1.0479182864995367
         ],
         "z": [
          0,
          0
         ]
        },
        {
         "line": {
          "color": "green"
         },
         "mode": "lines",
         "type": "scatter3d",
         "x": [
          6.56757117006332,
          8.977386852532858
         ],
         "y": [
          0.02514064234920709,
          -0.7328900276967719
         ],
         "z": [
          0,
          0
         ]
        },
        {
         "line": {
          "color": "green"
         },
         "mode": "lines",
         "type": "scatter3d",
         "x": [
          6.56757117006332,
          7.848893381990088
         ],
         "y": [
          0.02514064234920709,
          0.2962771189995143
         ],
         "z": [
          0,
          0
         ]
        },
        {
         "line": {
          "color": "green"
         },
         "mode": "lines",
         "type": "scatter3d",
         "x": [
          6.56757117006332,
          7.930617098900897
         ],
         "y": [
          0.02514064234920709,
          -0.5416057044443754
         ],
         "z": [
          0,
          0
         ]
        },
        {
         "line": {
          "color": "green"
         },
         "mode": "lines",
         "type": "scatter3d",
         "x": [
          6.56757117006332,
          6.369144826946315
         ],
         "y": [
          0.02514064234920709,
          0.6274447635983534
         ],
         "z": [
          0,
          0
         ]
        },
        {
         "line": {
          "color": "green"
         },
         "mode": "lines",
         "type": "scatter3d",
         "x": [
          6.56757117006332,
          7.151418220062759
         ],
         "y": [
          0.02514064234920709,
          -1.0479182864995367
         ],
         "z": [
          0,
          0
         ]
        },
        {
         "line": {
          "color": "green"
         },
         "mode": "lines",
         "type": "scatter3d",
         "x": [
          8.977386852532858,
          7.848893381990088
         ],
         "y": [
          -0.7328900276967719,
          0.2962771189995143
         ],
         "z": [
          0,
          0
         ]
        },
        {
         "line": {
          "color": "green"
         },
         "mode": "lines",
         "type": "scatter3d",
         "x": [
          8.977386852532858,
          7.930617098900897
         ],
         "y": [
          -0.7328900276967719,
          -0.5416057044443754
         ],
         "z": [
          0,
          0
         ]
        },
        {
         "line": {
          "color": "green"
         },
         "mode": "lines",
         "type": "scatter3d",
         "x": [
          8.977386852532858,
          6.369144826946315
         ],
         "y": [
          -0.7328900276967719,
          0.6274447635983534
         ],
         "z": [
          0,
          0
         ]
        },
        {
         "line": {
          "color": "green"
         },
         "mode": "lines",
         "type": "scatter3d",
         "x": [
          8.977386852532858,
          7.151418220062759
         ],
         "y": [
          -0.7328900276967719,
          -1.0479182864995367
         ],
         "z": [
          0,
          0
         ]
        },
        {
         "line": {
          "color": "green"
         },
         "mode": "lines",
         "type": "scatter3d",
         "x": [
          7.848893381990088,
          7.930617098900897
         ],
         "y": [
          0.2962771189995143,
          -0.5416057044443754
         ],
         "z": [
          0,
          0
         ]
        },
        {
         "line": {
          "color": "green"
         },
         "mode": "lines",
         "type": "scatter3d",
         "x": [
          7.848893381990088,
          6.369144826946315
         ],
         "y": [
          0.2962771189995143,
          0.6274447635983534
         ],
         "z": [
          0,
          0
         ]
        },
        {
         "line": {
          "color": "green"
         },
         "mode": "lines",
         "type": "scatter3d",
         "x": [
          7.848893381990088,
          7.151418220062759
         ],
         "y": [
          0.2962771189995143,
          -1.0479182864995367
         ],
         "z": [
          0,
          0
         ]
        },
        {
         "line": {
          "color": "green"
         },
         "mode": "lines",
         "type": "scatter3d",
         "x": [
          7.930617098900897,
          6.369144826946315
         ],
         "y": [
          -0.5416057044443754,
          0.6274447635983534
         ],
         "z": [
          0,
          0
         ]
        },
        {
         "line": {
          "color": "green"
         },
         "mode": "lines",
         "type": "scatter3d",
         "x": [
          7.930617098900897,
          7.151418220062759
         ],
         "y": [
          -0.5416057044443754,
          -1.0479182864995367
         ],
         "z": [
          0,
          0
         ]
        },
        {
         "line": {
          "color": "green"
         },
         "mode": "lines",
         "type": "scatter3d",
         "x": [
          6.369144826946315,
          7.151418220062759
         ],
         "y": [
          0.6274447635983534,
          -1.0479182864995367
         ],
         "z": [
          0,
          0
         ]
        },
        {
         "line": {
          "color": "green"
         },
         "mode": "lines",
         "type": "scatter3d",
         "x": [
          1.7085667240623332,
          -0.11330527834724878
         ],
         "y": [
          11.426080570152823,
          11.457805816647733
         ],
         "z": [
          0,
          0
         ]
        },
        {
         "line": {
          "color": "green"
         },
         "mode": "lines",
         "type": "scatter3d",
         "x": [
          1.7085667240623332,
          -0.8681586114568105
         ],
         "y": [
          11.426080570152823,
          11.03318136426151
         ],
         "z": [
          0,
          0
         ]
        },
        {
         "line": {
          "color": "green"
         },
         "mode": "lines",
         "type": "scatter3d",
         "x": [
          1.7085667240623332,
          0.5655624093057307
         ],
         "y": [
          11.426080570152823,
          9.956870754188575
         ],
         "z": [
          0,
          0
         ]
        },
        {
         "line": {
          "color": "green"
         },
         "mode": "lines",
         "type": "scatter3d",
         "x": [
          1.7085667240623332,
          -0.054450998025203264
         ],
         "y": [
          11.426080570152823,
          10.347249919332924
         ],
         "z": [
          0,
          0
         ]
        },
        {
         "line": {
          "color": "green"
         },
         "mode": "lines",
         "type": "scatter3d",
         "x": [
          1.7085667240623332,
          -0.4648483026477713
         ],
         "y": [
          11.426080570152823,
          10.952758153356248
         ],
         "z": [
          0,
          0
         ]
        },
        {
         "line": {
          "color": "green"
         },
         "mode": "lines",
         "type": "scatter3d",
         "x": [
          1.7085667240623332,
          -0.9239103514987733
         ],
         "y": [
          11.426080570152823,
          11.280792109793602
         ],
         "z": [
          0,
          0
         ]
        },
        {
         "line": {
          "color": "green"
         },
         "mode": "lines",
         "type": "scatter3d",
         "x": [
          1.7085667240623332,
          -0.5083196478427116
         ],
         "y": [
          11.426080570152823,
          11.84430541647575
         ],
         "z": [
          0,
          0
         ]
        },
        {
         "line": {
          "color": "green"
         },
         "mode": "lines",
         "type": "scatter3d",
         "x": [
          1.7085667240623332,
          -0.7235048864024711
         ],
         "y": [
          11.426080570152823,
          11.704407752988354
         ],
         "z": [
          0,
          0
         ]
        },
        {
         "line": {
          "color": "green"
         },
         "mode": "lines",
         "type": "scatter3d",
         "x": [
          1.7085667240623332,
          0.5942333954946766
         ],
         "y": [
          11.426080570152823,
          9.838231515099782
         ],
         "z": [
          0,
          0
         ]
        },
        {
         "line": {
          "color": "green"
         },
         "mode": "lines",
         "type": "scatter3d",
         "x": [
          1.7085667240623332,
          -0.4249211366786726
         ],
         "y": [
          11.426080570152823,
          10.974277477572455
         ],
         "z": [
          0,
          0
         ]
        },
        {
         "line": {
          "color": "green"
         },
         "mode": "lines",
         "type": "scatter3d",
         "x": [
          1.7085667240623332,
          1.3593175203303833
         ],
         "y": [
          11.426080570152823,
          10.75535401254119
         ],
         "z": [
          0,
          0
         ]
        },
        {
         "line": {
          "color": "green"
         },
         "mode": "lines",
         "type": "scatter3d",
         "x": [
          -0.11330527834724878,
          -0.8681586114568105
         ],
         "y": [
          11.457805816647733,
          11.03318136426151
         ],
         "z": [
          0,
          0
         ]
        },
        {
         "line": {
          "color": "green"
         },
         "mode": "lines",
         "type": "scatter3d",
         "x": [
          -0.11330527834724878,
          0.5655624093057307
         ],
         "y": [
          11.457805816647733,
          9.956870754188575
         ],
         "z": [
          0,
          0
         ]
        },
        {
         "line": {
          "color": "green"
         },
         "mode": "lines",
         "type": "scatter3d",
         "x": [
          -0.11330527834724878,
          -0.054450998025203264
         ],
         "y": [
          11.457805816647733,
          10.347249919332924
         ],
         "z": [
          0,
          0
         ]
        },
        {
         "line": {
          "color": "green"
         },
         "mode": "lines",
         "type": "scatter3d",
         "x": [
          -0.11330527834724878,
          -0.4648483026477713
         ],
         "y": [
          11.457805816647733,
          10.952758153356248
         ],
         "z": [
          0,
          0
         ]
        },
        {
         "line": {
          "color": "green"
         },
         "mode": "lines",
         "type": "scatter3d",
         "x": [
          -0.11330527834724878,
          -0.9239103514987733
         ],
         "y": [
          11.457805816647733,
          11.280792109793602
         ],
         "z": [
          0,
          0
         ]
        },
        {
         "line": {
          "color": "green"
         },
         "mode": "lines",
         "type": "scatter3d",
         "x": [
          -0.11330527834724878,
          -0.5083196478427116
         ],
         "y": [
          11.457805816647733,
          11.84430541647575
         ],
         "z": [
          0,
          0
         ]
        },
        {
         "line": {
          "color": "green"
         },
         "mode": "lines",
         "type": "scatter3d",
         "x": [
          -0.11330527834724878,
          -0.7235048864024711
         ],
         "y": [
          11.457805816647733,
          11.704407752988354
         ],
         "z": [
          0,
          0
         ]
        },
        {
         "line": {
          "color": "green"
         },
         "mode": "lines",
         "type": "scatter3d",
         "x": [
          -0.11330527834724878,
          0.5942333954946766
         ],
         "y": [
          11.457805816647733,
          9.838231515099782
         ],
         "z": [
          0,
          0
         ]
        },
        {
         "line": {
          "color": "green"
         },
         "mode": "lines",
         "type": "scatter3d",
         "x": [
          -0.11330527834724878,
          -0.4249211366786726
         ],
         "y": [
          11.457805816647733,
          10.974277477572455
         ],
         "z": [
          0,
          0
         ]
        },
        {
         "line": {
          "color": "green"
         },
         "mode": "lines",
         "type": "scatter3d",
         "x": [
          -0.11330527834724878,
          1.3593175203303833
         ],
         "y": [
          11.457805816647733,
          10.75535401254119
         ],
         "z": [
          0,
          0
         ]
        },
        {
         "line": {
          "color": "green"
         },
         "mode": "lines",
         "type": "scatter3d",
         "x": [
          -0.8681586114568105,
          0.5655624093057307
         ],
         "y": [
          11.03318136426151,
          9.956870754188575
         ],
         "z": [
          0,
          0
         ]
        },
        {
         "line": {
          "color": "green"
         },
         "mode": "lines",
         "type": "scatter3d",
         "x": [
          -0.8681586114568105,
          -0.054450998025203264
         ],
         "y": [
          11.03318136426151,
          10.347249919332924
         ],
         "z": [
          0,
          0
         ]
        },
        {
         "line": {
          "color": "green"
         },
         "mode": "lines",
         "type": "scatter3d",
         "x": [
          -0.8681586114568105,
          -0.4648483026477713
         ],
         "y": [
          11.03318136426151,
          10.952758153356248
         ],
         "z": [
          0,
          0
         ]
        },
        {
         "line": {
          "color": "green"
         },
         "mode": "lines",
         "type": "scatter3d",
         "x": [
          -0.8681586114568105,
          -0.9239103514987733
         ],
         "y": [
          11.03318136426151,
          11.280792109793602
         ],
         "z": [
          0,
          0
         ]
        },
        {
         "line": {
          "color": "green"
         },
         "mode": "lines",
         "type": "scatter3d",
         "x": [
          -0.8681586114568105,
          -0.5083196478427116
         ],
         "y": [
          11.03318136426151,
          11.84430541647575
         ],
         "z": [
          0,
          0
         ]
        },
        {
         "line": {
          "color": "green"
         },
         "mode": "lines",
         "type": "scatter3d",
         "x": [
          -0.8681586114568105,
          -0.7235048864024711
         ],
         "y": [
          11.03318136426151,
          11.704407752988354
         ],
         "z": [
          0,
          0
         ]
        },
        {
         "line": {
          "color": "green"
         },
         "mode": "lines",
         "type": "scatter3d",
         "x": [
          -0.8681586114568105,
          0.5942333954946766
         ],
         "y": [
          11.03318136426151,
          9.838231515099782
         ],
         "z": [
          0,
          0
         ]
        },
        {
         "line": {
          "color": "green"
         },
         "mode": "lines",
         "type": "scatter3d",
         "x": [
          -0.8681586114568105,
          -0.4249211366786726
         ],
         "y": [
          11.03318136426151,
          10.974277477572455
         ],
         "z": [
          0,
          0
         ]
        },
        {
         "line": {
          "color": "green"
         },
         "mode": "lines",
         "type": "scatter3d",
         "x": [
          -0.8681586114568105,
          1.3593175203303833
         ],
         "y": [
          11.03318136426151,
          10.75535401254119
         ],
         "z": [
          0,
          0
         ]
        },
        {
         "line": {
          "color": "green"
         },
         "mode": "lines",
         "type": "scatter3d",
         "x": [
          0.5655624093057307,
          -0.054450998025203264
         ],
         "y": [
          9.956870754188575,
          10.347249919332924
         ],
         "z": [
          0,
          0
         ]
        },
        {
         "line": {
          "color": "green"
         },
         "mode": "lines",
         "type": "scatter3d",
         "x": [
          0.5655624093057307,
          -0.4648483026477713
         ],
         "y": [
          9.956870754188575,
          10.952758153356248
         ],
         "z": [
          0,
          0
         ]
        },
        {
         "line": {
          "color": "green"
         },
         "mode": "lines",
         "type": "scatter3d",
         "x": [
          0.5655624093057307,
          -0.9239103514987733
         ],
         "y": [
          9.956870754188575,
          11.280792109793602
         ],
         "z": [
          0,
          0
         ]
        },
        {
         "line": {
          "color": "green"
         },
         "mode": "lines",
         "type": "scatter3d",
         "x": [
          0.5655624093057307,
          -0.5083196478427116
         ],
         "y": [
          9.956870754188575,
          11.84430541647575
         ],
         "z": [
          0,
          0
         ]
        },
        {
         "line": {
          "color": "green"
         },
         "mode": "lines",
         "type": "scatter3d",
         "x": [
          0.5655624093057307,
          -0.7235048864024711
         ],
         "y": [
          9.956870754188575,
          11.704407752988354
         ],
         "z": [
          0,
          0
         ]
        },
        {
         "line": {
          "color": "green"
         },
         "mode": "lines",
         "type": "scatter3d",
         "x": [
          0.5655624093057307,
          0.5942333954946766
         ],
         "y": [
          9.956870754188575,
          9.838231515099782
         ],
         "z": [
          0,
          0
         ]
        },
        {
         "line": {
          "color": "green"
         },
         "mode": "lines",
         "type": "scatter3d",
         "x": [
          0.5655624093057307,
          -0.4249211366786726
         ],
         "y": [
          9.956870754188575,
          10.974277477572455
         ],
         "z": [
          0,
          0
         ]
        },
        {
         "line": {
          "color": "green"
         },
         "mode": "lines",
         "type": "scatter3d",
         "x": [
          0.5655624093057307,
          1.3593175203303833
         ],
         "y": [
          9.956870754188575,
          10.75535401254119
         ],
         "z": [
          0,
          0
         ]
        },
        {
         "line": {
          "color": "green"
         },
         "mode": "lines",
         "type": "scatter3d",
         "x": [
          -0.054450998025203264,
          -0.4648483026477713
         ],
         "y": [
          10.347249919332924,
          10.952758153356248
         ],
         "z": [
          0,
          0
         ]
        },
        {
         "line": {
          "color": "green"
         },
         "mode": "lines",
         "type": "scatter3d",
         "x": [
          -0.054450998025203264,
          -0.9239103514987733
         ],
         "y": [
          10.347249919332924,
          11.280792109793602
         ],
         "z": [
          0,
          0
         ]
        },
        {
         "line": {
          "color": "green"
         },
         "mode": "lines",
         "type": "scatter3d",
         "x": [
          -0.054450998025203264,
          -0.5083196478427116
         ],
         "y": [
          10.347249919332924,
          11.84430541647575
         ],
         "z": [
          0,
          0
         ]
        },
        {
         "line": {
          "color": "green"
         },
         "mode": "lines",
         "type": "scatter3d",
         "x": [
          -0.054450998025203264,
          -0.7235048864024711
         ],
         "y": [
          10.347249919332924,
          11.704407752988354
         ],
         "z": [
          0,
          0
         ]
        },
        {
         "line": {
          "color": "green"
         },
         "mode": "lines",
         "type": "scatter3d",
         "x": [
          -0.054450998025203264,
          0.5942333954946766
         ],
         "y": [
          10.347249919332924,
          9.838231515099782
         ],
         "z": [
          0,
          0
         ]
        },
        {
         "line": {
          "color": "green"
         },
         "mode": "lines",
         "type": "scatter3d",
         "x": [
          -0.054450998025203264,
          -0.4249211366786726
         ],
         "y": [
          10.347249919332924,
          10.974277477572455
         ],
         "z": [
          0,
          0
         ]
        },
        {
         "line": {
          "color": "green"
         },
         "mode": "lines",
         "type": "scatter3d",
         "x": [
          -0.054450998025203264,
          1.3593175203303833
         ],
         "y": [
          10.347249919332924,
          10.75535401254119
         ],
         "z": [
          0,
          0
         ]
        },
        {
         "line": {
          "color": "green"
         },
         "mode": "lines",
         "type": "scatter3d",
         "x": [
          -0.4648483026477713,
          -0.9239103514987733
         ],
         "y": [
          10.952758153356248,
          11.280792109793602
         ],
         "z": [
          0,
          0
         ]
        },
        {
         "line": {
          "color": "green"
         },
         "mode": "lines",
         "type": "scatter3d",
         "x": [
          -0.4648483026477713,
          -0.5083196478427116
         ],
         "y": [
          10.952758153356248,
          11.84430541647575
         ],
         "z": [
          0,
          0
         ]
        },
        {
         "line": {
          "color": "green"
         },
         "mode": "lines",
         "type": "scatter3d",
         "x": [
          -0.4648483026477713,
          -0.7235048864024711
         ],
         "y": [
          10.952758153356248,
          11.704407752988354
         ],
         "z": [
          0,
          0
         ]
        },
        {
         "line": {
          "color": "green"
         },
         "mode": "lines",
         "type": "scatter3d",
         "x": [
          -0.4648483026477713,
          0.5942333954946766
         ],
         "y": [
          10.952758153356248,
          9.838231515099782
         ],
         "z": [
          0,
          0
         ]
        },
        {
         "line": {
          "color": "green"
         },
         "mode": "lines",
         "type": "scatter3d",
         "x": [
          -0.4648483026477713,
          -0.4249211366786726
         ],
         "y": [
          10.952758153356248,
          10.974277477572455
         ],
         "z": [
          0,
          0
         ]
        },
        {
         "line": {
          "color": "green"
         },
         "mode": "lines",
         "type": "scatter3d",
         "x": [
          -0.4648483026477713,
          1.3593175203303833
         ],
         "y": [
          10.952758153356248,
          10.75535401254119
         ],
         "z": [
          0,
          0
         ]
        },
        {
         "line": {
          "color": "green"
         },
         "mode": "lines",
         "type": "scatter3d",
         "x": [
          -0.9239103514987733,
          -0.5083196478427116
         ],
         "y": [
          11.280792109793602,
          11.84430541647575
         ],
         "z": [
          0,
          0
         ]
        },
        {
         "line": {
          "color": "green"
         },
         "mode": "lines",
         "type": "scatter3d",
         "x": [
          -0.9239103514987733,
          -0.7235048864024711
         ],
         "y": [
          11.280792109793602,
          11.704407752988354
         ],
         "z": [
          0,
          0
         ]
        },
        {
         "line": {
          "color": "green"
         },
         "mode": "lines",
         "type": "scatter3d",
         "x": [
          -0.9239103514987733,
          0.5942333954946766
         ],
         "y": [
          11.280792109793602,
          9.838231515099782
         ],
         "z": [
          0,
          0
         ]
        },
        {
         "line": {
          "color": "green"
         },
         "mode": "lines",
         "type": "scatter3d",
         "x": [
          -0.9239103514987733,
          -0.4249211366786726
         ],
         "y": [
          11.280792109793602,
          10.974277477572455
         ],
         "z": [
          0,
          0
         ]
        },
        {
         "line": {
          "color": "green"
         },
         "mode": "lines",
         "type": "scatter3d",
         "x": [
          -0.9239103514987733,
          1.3593175203303833
         ],
         "y": [
          11.280792109793602,
          10.75535401254119
         ],
         "z": [
          0,
          0
         ]
        },
        {
         "line": {
          "color": "green"
         },
         "mode": "lines",
         "type": "scatter3d",
         "x": [
          -0.5083196478427116,
          -0.7235048864024711
         ],
         "y": [
          11.84430541647575,
          11.704407752988354
         ],
         "z": [
          0,
          0
         ]
        },
        {
         "line": {
          "color": "green"
         },
         "mode": "lines",
         "type": "scatter3d",
         "x": [
          -0.5083196478427116,
          0.5942333954946766
         ],
         "y": [
          11.84430541647575,
          9.838231515099782
         ],
         "z": [
          0,
          0
         ]
        },
        {
         "line": {
          "color": "green"
         },
         "mode": "lines",
         "type": "scatter3d",
         "x": [
          -0.5083196478427116,
          -0.4249211366786726
         ],
         "y": [
          11.84430541647575,
          10.974277477572455
         ],
         "z": [
          0,
          0
         ]
        },
        {
         "line": {
          "color": "green"
         },
         "mode": "lines",
         "type": "scatter3d",
         "x": [
          -0.5083196478427116,
          1.3593175203303833
         ],
         "y": [
          11.84430541647575,
          10.75535401254119
         ],
         "z": [
          0,
          0
         ]
        },
        {
         "line": {
          "color": "green"
         },
         "mode": "lines",
         "type": "scatter3d",
         "x": [
          -0.7235048864024711,
          0.5942333954946766
         ],
         "y": [
          11.704407752988354,
          9.838231515099782
         ],
         "z": [
          0,
          0
         ]
        },
        {
         "line": {
          "color": "green"
         },
         "mode": "lines",
         "type": "scatter3d",
         "x": [
          -0.7235048864024711,
          -0.4249211366786726
         ],
         "y": [
          11.704407752988354,
          10.974277477572455
         ],
         "z": [
          0,
          0
         ]
        },
        {
         "line": {
          "color": "green"
         },
         "mode": "lines",
         "type": "scatter3d",
         "x": [
          -0.7235048864024711,
          1.3593175203303833
         ],
         "y": [
          11.704407752988354,
          10.75535401254119
         ],
         "z": [
          0,
          0
         ]
        },
        {
         "line": {
          "color": "green"
         },
         "mode": "lines",
         "type": "scatter3d",
         "x": [
          0.5942333954946766,
          -0.4249211366786726
         ],
         "y": [
          9.838231515099782,
          10.974277477572455
         ],
         "z": [
          0,
          0
         ]
        },
        {
         "line": {
          "color": "green"
         },
         "mode": "lines",
         "type": "scatter3d",
         "x": [
          0.5942333954946766,
          1.3593175203303833
         ],
         "y": [
          9.838231515099782,
          10.75535401254119
         ],
         "z": [
          0,
          0
         ]
        },
        {
         "line": {
          "color": "green"
         },
         "mode": "lines",
         "type": "scatter3d",
         "x": [
          -0.4249211366786726,
          1.3593175203303833
         ],
         "y": [
          10.974277477572455,
          10.75535401254119
         ],
         "z": [
          0,
          0
         ]
        }
       ],
       "layout": {
        "showlegend": false,
        "template": {
         "data": {
          "bar": [
           {
            "error_x": {
             "color": "#2a3f5f"
            },
            "error_y": {
             "color": "#2a3f5f"
            },
            "marker": {
             "line": {
              "color": "#E5ECF6",
              "width": 0.5
             },
             "pattern": {
              "fillmode": "overlay",
              "size": 10,
              "solidity": 0.2
             }
            },
            "type": "bar"
           }
          ],
          "barpolar": [
           {
            "marker": {
             "line": {
              "color": "#E5ECF6",
              "width": 0.5
             },
             "pattern": {
              "fillmode": "overlay",
              "size": 10,
              "solidity": 0.2
             }
            },
            "type": "barpolar"
           }
          ],
          "carpet": [
           {
            "aaxis": {
             "endlinecolor": "#2a3f5f",
             "gridcolor": "white",
             "linecolor": "white",
             "minorgridcolor": "white",
             "startlinecolor": "#2a3f5f"
            },
            "baxis": {
             "endlinecolor": "#2a3f5f",
             "gridcolor": "white",
             "linecolor": "white",
             "minorgridcolor": "white",
             "startlinecolor": "#2a3f5f"
            },
            "type": "carpet"
           }
          ],
          "choropleth": [
           {
            "colorbar": {
             "outlinewidth": 0,
             "ticks": ""
            },
            "type": "choropleth"
           }
          ],
          "contour": [
           {
            "colorbar": {
             "outlinewidth": 0,
             "ticks": ""
            },
            "colorscale": [
             [
              0,
              "#0d0887"
             ],
             [
              0.1111111111111111,
              "#46039f"
             ],
             [
              0.2222222222222222,
              "#7201a8"
             ],
             [
              0.3333333333333333,
              "#9c179e"
             ],
             [
              0.4444444444444444,
              "#bd3786"
             ],
             [
              0.5555555555555556,
              "#d8576b"
             ],
             [
              0.6666666666666666,
              "#ed7953"
             ],
             [
              0.7777777777777778,
              "#fb9f3a"
             ],
             [
              0.8888888888888888,
              "#fdca26"
             ],
             [
              1,
              "#f0f921"
             ]
            ],
            "type": "contour"
           }
          ],
          "contourcarpet": [
           {
            "colorbar": {
             "outlinewidth": 0,
             "ticks": ""
            },
            "type": "contourcarpet"
           }
          ],
          "heatmap": [
           {
            "colorbar": {
             "outlinewidth": 0,
             "ticks": ""
            },
            "colorscale": [
             [
              0,
              "#0d0887"
             ],
             [
              0.1111111111111111,
              "#46039f"
             ],
             [
              0.2222222222222222,
              "#7201a8"
             ],
             [
              0.3333333333333333,
              "#9c179e"
             ],
             [
              0.4444444444444444,
              "#bd3786"
             ],
             [
              0.5555555555555556,
              "#d8576b"
             ],
             [
              0.6666666666666666,
              "#ed7953"
             ],
             [
              0.7777777777777778,
              "#fb9f3a"
             ],
             [
              0.8888888888888888,
              "#fdca26"
             ],
             [
              1,
              "#f0f921"
             ]
            ],
            "type": "heatmap"
           }
          ],
          "heatmapgl": [
           {
            "colorbar": {
             "outlinewidth": 0,
             "ticks": ""
            },
            "colorscale": [
             [
              0,
              "#0d0887"
             ],
             [
              0.1111111111111111,
              "#46039f"
             ],
             [
              0.2222222222222222,
              "#7201a8"
             ],
             [
              0.3333333333333333,
              "#9c179e"
             ],
             [
              0.4444444444444444,
              "#bd3786"
             ],
             [
              0.5555555555555556,
              "#d8576b"
             ],
             [
              0.6666666666666666,
              "#ed7953"
             ],
             [
              0.7777777777777778,
              "#fb9f3a"
             ],
             [
              0.8888888888888888,
              "#fdca26"
             ],
             [
              1,
              "#f0f921"
             ]
            ],
            "type": "heatmapgl"
           }
          ],
          "histogram": [
           {
            "marker": {
             "pattern": {
              "fillmode": "overlay",
              "size": 10,
              "solidity": 0.2
             }
            },
            "type": "histogram"
           }
          ],
          "histogram2d": [
           {
            "colorbar": {
             "outlinewidth": 0,
             "ticks": ""
            },
            "colorscale": [
             [
              0,
              "#0d0887"
             ],
             [
              0.1111111111111111,
              "#46039f"
             ],
             [
              0.2222222222222222,
              "#7201a8"
             ],
             [
              0.3333333333333333,
              "#9c179e"
             ],
             [
              0.4444444444444444,
              "#bd3786"
             ],
             [
              0.5555555555555556,
              "#d8576b"
             ],
             [
              0.6666666666666666,
              "#ed7953"
             ],
             [
              0.7777777777777778,
              "#fb9f3a"
             ],
             [
              0.8888888888888888,
              "#fdca26"
             ],
             [
              1,
              "#f0f921"
             ]
            ],
            "type": "histogram2d"
           }
          ],
          "histogram2dcontour": [
           {
            "colorbar": {
             "outlinewidth": 0,
             "ticks": ""
            },
            "colorscale": [
             [
              0,
              "#0d0887"
             ],
             [
              0.1111111111111111,
              "#46039f"
             ],
             [
              0.2222222222222222,
              "#7201a8"
             ],
             [
              0.3333333333333333,
              "#9c179e"
             ],
             [
              0.4444444444444444,
              "#bd3786"
             ],
             [
              0.5555555555555556,
              "#d8576b"
             ],
             [
              0.6666666666666666,
              "#ed7953"
             ],
             [
              0.7777777777777778,
              "#fb9f3a"
             ],
             [
              0.8888888888888888,
              "#fdca26"
             ],
             [
              1,
              "#f0f921"
             ]
            ],
            "type": "histogram2dcontour"
           }
          ],
          "mesh3d": [
           {
            "colorbar": {
             "outlinewidth": 0,
             "ticks": ""
            },
            "type": "mesh3d"
           }
          ],
          "parcoords": [
           {
            "line": {
             "colorbar": {
              "outlinewidth": 0,
              "ticks": ""
             }
            },
            "type": "parcoords"
           }
          ],
          "pie": [
           {
            "automargin": true,
            "type": "pie"
           }
          ],
          "scatter": [
           {
            "fillpattern": {
             "fillmode": "overlay",
             "size": 10,
             "solidity": 0.2
            },
            "type": "scatter"
           }
          ],
          "scatter3d": [
           {
            "line": {
             "colorbar": {
              "outlinewidth": 0,
              "ticks": ""
             }
            },
            "marker": {
             "colorbar": {
              "outlinewidth": 0,
              "ticks": ""
             }
            },
            "type": "scatter3d"
           }
          ],
          "scattercarpet": [
           {
            "marker": {
             "colorbar": {
              "outlinewidth": 0,
              "ticks": ""
             }
            },
            "type": "scattercarpet"
           }
          ],
          "scattergeo": [
           {
            "marker": {
             "colorbar": {
              "outlinewidth": 0,
              "ticks": ""
             }
            },
            "type": "scattergeo"
           }
          ],
          "scattergl": [
           {
            "marker": {
             "colorbar": {
              "outlinewidth": 0,
              "ticks": ""
             }
            },
            "type": "scattergl"
           }
          ],
          "scattermapbox": [
           {
            "marker": {
             "colorbar": {
              "outlinewidth": 0,
              "ticks": ""
             }
            },
            "type": "scattermapbox"
           }
          ],
          "scatterpolar": [
           {
            "marker": {
             "colorbar": {
              "outlinewidth": 0,
              "ticks": ""
             }
            },
            "type": "scatterpolar"
           }
          ],
          "scatterpolargl": [
           {
            "marker": {
             "colorbar": {
              "outlinewidth": 0,
              "ticks": ""
             }
            },
            "type": "scatterpolargl"
           }
          ],
          "scatterternary": [
           {
            "marker": {
             "colorbar": {
              "outlinewidth": 0,
              "ticks": ""
             }
            },
            "type": "scatterternary"
           }
          ],
          "surface": [
           {
            "colorbar": {
             "outlinewidth": 0,
             "ticks": ""
            },
            "colorscale": [
             [
              0,
              "#0d0887"
             ],
             [
              0.1111111111111111,
              "#46039f"
             ],
             [
              0.2222222222222222,
              "#7201a8"
             ],
             [
              0.3333333333333333,
              "#9c179e"
             ],
             [
              0.4444444444444444,
              "#bd3786"
             ],
             [
              0.5555555555555556,
              "#d8576b"
             ],
             [
              0.6666666666666666,
              "#ed7953"
             ],
             [
              0.7777777777777778,
              "#fb9f3a"
             ],
             [
              0.8888888888888888,
              "#fdca26"
             ],
             [
              1,
              "#f0f921"
             ]
            ],
            "type": "surface"
           }
          ],
          "table": [
           {
            "cells": {
             "fill": {
              "color": "#EBF0F8"
             },
             "line": {
              "color": "white"
             }
            },
            "header": {
             "fill": {
              "color": "#C8D4E3"
             },
             "line": {
              "color": "white"
             }
            },
            "type": "table"
           }
          ]
         },
         "layout": {
          "annotationdefaults": {
           "arrowcolor": "#2a3f5f",
           "arrowhead": 0,
           "arrowwidth": 1
          },
          "autotypenumbers": "strict",
          "coloraxis": {
           "colorbar": {
            "outlinewidth": 0,
            "ticks": ""
           }
          },
          "colorscale": {
           "diverging": [
            [
             0,
             "#8e0152"
            ],
            [
             0.1,
             "#c51b7d"
            ],
            [
             0.2,
             "#de77ae"
            ],
            [
             0.3,
             "#f1b6da"
            ],
            [
             0.4,
             "#fde0ef"
            ],
            [
             0.5,
             "#f7f7f7"
            ],
            [
             0.6,
             "#e6f5d0"
            ],
            [
             0.7,
             "#b8e186"
            ],
            [
             0.8,
             "#7fbc41"
            ],
            [
             0.9,
             "#4d9221"
            ],
            [
             1,
             "#276419"
            ]
           ],
           "sequential": [
            [
             0,
             "#0d0887"
            ],
            [
             0.1111111111111111,
             "#46039f"
            ],
            [
             0.2222222222222222,
             "#7201a8"
            ],
            [
             0.3333333333333333,
             "#9c179e"
            ],
            [
             0.4444444444444444,
             "#bd3786"
            ],
            [
             0.5555555555555556,
             "#d8576b"
            ],
            [
             0.6666666666666666,
             "#ed7953"
            ],
            [
             0.7777777777777778,
             "#fb9f3a"
            ],
            [
             0.8888888888888888,
             "#fdca26"
            ],
            [
             1,
             "#f0f921"
            ]
           ],
           "sequentialminus": [
            [
             0,
             "#0d0887"
            ],
            [
             0.1111111111111111,
             "#46039f"
            ],
            [
             0.2222222222222222,
             "#7201a8"
            ],
            [
             0.3333333333333333,
             "#9c179e"
            ],
            [
             0.4444444444444444,
             "#bd3786"
            ],
            [
             0.5555555555555556,
             "#d8576b"
            ],
            [
             0.6666666666666666,
             "#ed7953"
            ],
            [
             0.7777777777777778,
             "#fb9f3a"
            ],
            [
             0.8888888888888888,
             "#fdca26"
            ],
            [
             1,
             "#f0f921"
            ]
           ]
          },
          "colorway": [
           "#636efa",
           "#EF553B",
           "#00cc96",
           "#ab63fa",
           "#FFA15A",
           "#19d3f3",
           "#FF6692",
           "#B6E880",
           "#FF97FF",
           "#FECB52"
          ],
          "font": {
           "color": "#2a3f5f"
          },
          "geo": {
           "bgcolor": "white",
           "lakecolor": "white",
           "landcolor": "#E5ECF6",
           "showlakes": true,
           "showland": true,
           "subunitcolor": "white"
          },
          "hoverlabel": {
           "align": "left"
          },
          "hovermode": "closest",
          "mapbox": {
           "style": "light"
          },
          "paper_bgcolor": "white",
          "plot_bgcolor": "#E5ECF6",
          "polar": {
           "angularaxis": {
            "gridcolor": "white",
            "linecolor": "white",
            "ticks": ""
           },
           "bgcolor": "#E5ECF6",
           "radialaxis": {
            "gridcolor": "white",
            "linecolor": "white",
            "ticks": ""
           }
          },
          "scene": {
           "xaxis": {
            "backgroundcolor": "#E5ECF6",
            "gridcolor": "white",
            "gridwidth": 2,
            "linecolor": "white",
            "showbackground": true,
            "ticks": "",
            "zerolinecolor": "white"
           },
           "yaxis": {
            "backgroundcolor": "#E5ECF6",
            "gridcolor": "white",
            "gridwidth": 2,
            "linecolor": "white",
            "showbackground": true,
            "ticks": "",
            "zerolinecolor": "white"
           },
           "zaxis": {
            "backgroundcolor": "#E5ECF6",
            "gridcolor": "white",
            "gridwidth": 2,
            "linecolor": "white",
            "showbackground": true,
            "ticks": "",
            "zerolinecolor": "white"
           }
          },
          "shapedefaults": {
           "line": {
            "color": "#2a3f5f"
           }
          },
          "ternary": {
           "aaxis": {
            "gridcolor": "white",
            "linecolor": "white",
            "ticks": ""
           },
           "baxis": {
            "gridcolor": "white",
            "linecolor": "white",
            "ticks": ""
           },
           "bgcolor": "#E5ECF6",
           "caxis": {
            "gridcolor": "white",
            "linecolor": "white",
            "ticks": ""
           }
          },
          "title": {
           "x": 0.05
          },
          "xaxis": {
           "automargin": true,
           "gridcolor": "white",
           "linecolor": "white",
           "ticks": "",
           "title": {
            "standoff": 15
           },
           "zerolinecolor": "white",
           "zerolinewidth": 2
          },
          "yaxis": {
           "automargin": true,
           "gridcolor": "white",
           "linecolor": "white",
           "ticks": "",
           "title": {
            "standoff": 15
           },
           "zerolinecolor": "white",
           "zerolinewidth": 2
          }
         }
        }
       }
      }
     },
     "metadata": {},
     "output_type": "display_data"
    }
   ],
   "source": [
    "rips_graph(Xaug, 1)\n",
    "rips_graph(Xaug, 2)\n",
    "rips_graph(Xaug, 10)"
   ]
  },
  {
   "attachments": {},
   "cell_type": "markdown",
   "metadata": {},
   "source": [
    "## Vamos a hacer el análisis de Persistencia\n",
    "\n",
    "Vamos a comparar lo observado anteriormente con el diagrama de persistencia. Para esto, vamos a utilizar la librería \"gudhi\" de Python."
   ]
  },
  {
   "attachments": {},
   "cell_type": "markdown",
   "metadata": {},
   "source": [
    "Vamos  utilizar otro método para construir nuestro complejo de Rips utilizando una matriz de distancia que encapsula la información de las distancias para dos puntos diferentes en nuestra nube de puntos."
   ]
  },
  {
   "cell_type": "code",
   "execution_count": 6,
   "metadata": {},
   "outputs": [],
   "source": [
    "from scipy.spatial import distance_matrix\n",
    "DX=distance_matrix(X,X,2)"
   ]
  },
  {
   "attachments": {},
   "cell_type": "markdown",
   "metadata": {},
   "source": [
    "Ahora construimos nuestro arbol de complejos de Rips utilizando la matriz de distancias y max_edge_lenght nos indica que tan grande será el radio de las bolas abiertas."
   ]
  },
  {
   "cell_type": "code",
   "execution_count": 7,
   "metadata": {},
   "outputs": [],
   "source": [
    "skeletonX=gd.RipsComplex(\n",
    "    distance_matrix = DX, \n",
    "    max_edge_length = 2\n",
    ") \n",
    "\n",
    "# Aquí vamos a pedir que nuestra complejo sea máximo de dimensión 1 (o sea, sólo tenga vértices y aristas)\n",
    "Rips_simplex_tree_X = skeletonX.create_simplex_tree(max_dimension = 1)"
   ]
  },
  {
   "attachments": {},
   "cell_type": "markdown",
   "metadata": {},
   "source": [
    "Vamos a calcular la persistencia de las propiedades topológicas ($\\beta_0$ y $\\beta_1$) de nuestros complejos de Rips en el árbol (filtración).\n",
    "\n",
    "Veamos los primeros 10 filas, ¿Qué observas?"
   ]
  },
  {
   "cell_type": "code",
   "execution_count": 8,
   "metadata": {},
   "outputs": [
    {
     "data": {
      "text/plain": [
       "[(0, (0.0, inf)),\n",
       " (0, (0.0, inf)),\n",
       " (0, (0.0, inf)),\n",
       " (0, (0.0, 1.4297082205483058)),\n",
       " (0, (0.0, 1.2297714614086672)),\n",
       " (0, (0.0, 1.1258875122085543)),\n",
       " (0, (0.0, 1.123131170181634)),\n",
       " (0, (0.0, 1.0641036648000246)),\n",
       " (0, (0.0, 1.0046388304899314)),\n",
       " (0, (0.0, 0.929248795280347)),\n",
       " (0, (0.0, 0.8418588906271778)),\n",
       " (0, (0.0, 0.7562070625119504)),\n",
       " (0, (0.0, 0.7326749059773465)),\n",
       " (0, (0.0, 0.7282936786940756)),\n",
       " (0, (0.0, 0.6727144051867582)),\n",
       " (0, (0.0, 0.5986760145854335)),\n",
       " (0, (0.0, 0.5925600112090035)),\n",
       " (0, (0.0, 0.5526466255891873)),\n",
       " (0, (0.0, 0.46862838539696783)),\n",
       " (0, (0.0, 0.4334724915710765))]"
      ]
     },
     "execution_count": 8,
     "metadata": {},
     "output_type": "execute_result"
    }
   ],
   "source": [
    "Barcodes_Rips_X = Rips_simplex_tree_X.persistence()\n",
    "Barcodes_Rips_X[0:20]"
   ]
  },
  {
   "cell_type": "code",
   "execution_count": 9,
   "metadata": {},
   "outputs": [],
   "source": [
    "import matplotlib as mpl\n",
    "mpl.rcParams['text.usetex'] = True"
   ]
  },
  {
   "cell_type": "code",
   "execution_count": 10,
   "metadata": {},
   "outputs": [
    {
     "name": "stderr",
     "output_type": "stream",
     "text": [
      "usetex mode requires TeX.\n"
     ]
    },
    {
     "data": {
      "image/png": "[encoded data removed]",
      "text/plain": [
       "<Figure size 640x480 with 1 Axes>"
      ]
     },
     "metadata": {},
     "output_type": "display_data"
    }
   ],
   "source": [
    "gd.plot_persistence_diagram(Barcodes_Rips_X);"
   ]
  },
  {
   "attachments": {},
   "cell_type": "markdown",
   "metadata": {},
   "source": [
    "Notemos que en nuestro gráfico de persistencia, hay tres puntitos rojos que duraron mucho más tiempo en comparación que los otros. Esto nos indica que hay tres componentes conexas persistentes en nuestra base de datos.\n",
    "\n",
    "Por lo tanto, si quisieramos hacer un clustering de nuestros datos, podríamos hacerlo en tres grupos y con esto garantizar que los datos en cada cluster van a estar intrínsecamente relacionados."
   ]
  },
  {
   "attachments": {},
   "cell_type": "markdown",
   "metadata": {},
   "source": [
    "## Otra paquetería para lo mismo\n",
    "\n",
    "Ahora utilizaremos ripser.ripser que es una paquetería de C++ que nos permite calcular la persistencia de las propiedades topológicas de nuestros complejos de Rips de manera eficiente (con algoritmos especializados).\n",
    "\n",
    "La diferencia entre el método de gudhi y ripser es que el método de gudhi calcula la persistencia de las propiedades topológicas de una filtración comenzando desde un valor dado (un radio $r$ inicial para construir la filtración) y en ripser no es necesario inicializar esto."
   ]
  },
  {
   "cell_type": "code",
   "execution_count": 11,
   "metadata": {},
   "outputs": [],
   "source": [
    "def diagram_sizes(dgms):\n",
    "    return \", \".join([f\"|$H_{i}$|={len(d)}\" for i, d in enumerate(dgms)])   #Aquí almacenamos la cantidad de generadores de cada espacio de homología. Estas cantidades se muestran en la impresión del mismo (puedes omitirlo si gustas, por supuesto haciendo los cambios necesarios en el código del diagrama)"
   ]
  },
  {
   "attachments": {},
   "cell_type": "markdown",
   "metadata": {},
   "source": [
    "Vamos a construir el gráfico de persistencia para el mismo conjunto de datos con ripser suponiendo que nuestro complejo simplicial es de dimensión 2, y veamos si es necesaria esta suposición o no."
   ]
  },
  {
   "cell_type": "code",
   "execution_count": 12,
   "metadata": {},
   "outputs": [
    {
     "data": {
      "image/png": "[encoded data removed]",
      "text/plain": [
       "<Figure size 640x480 with 1 Axes>"
      ]
     },
     "metadata": {},
     "output_type": "display_data"
    }
   ],
   "source": [
    "dgm_X = ripser.ripser(X,maxdim=2)['dgms'] #Aquí se construye y grafica el diagrama de persistencia (en este caso, de los puntos simulados). maxdim es la dimensión máxima en homología que quieres que se muestre.\n",
    "persim.plot_diagrams(\n",
    "    dgm_X, \n",
    "    show=True, \n",
    "    title=f\"Datos Simulados\\n{diagram_sizes(dgm_X)}\"\n",
    ") "
   ]
  },
  {
   "attachments": {},
   "cell_type": "markdown",
   "metadata": {},
   "source": [
    "#### ¿Fue necesaria nuestra suposición de que nuestro complejo de Rips era de dimensión 2?\n",
    "\n",
    "No, ya que se observa que se evalúan diversas dimensiones y el diagrama nos revela estas dimensiones."
   ]
  },
  {
   "attachments": {},
   "cell_type": "markdown",
   "metadata": {},
   "source": [
    "# Analicemos un circulo topológico\n",
    "\n",
    "Veamos como se ve un conjunto de datos circular topológico."
   ]
  },
  {
   "cell_type": "code",
   "execution_count": 13,
   "metadata": {},
   "outputs": [],
   "source": [
    "import math\n",
    "from random import random\n",
    "def generate_circle(dim,n, radius, max_noise):\n",
    "    \"\"\"\n",
    "    Generate n points on a 1-sphere with the center in the point (0,0) \n",
    "    with the given radius. \n",
    "    \n",
    "    Noise is added so that the distance from\n",
    "    the generated point to some point on the sphere does not\n",
    "    exceed max_noise parameter.\n",
    "    \n",
    "    Returns the list of generated points.    \n",
    "    \"\"\"\n",
    "    points = []\n",
    "    if dim==3:\n",
    "        for i in range(n):\n",
    "            anglet = 2 * math.pi * random()\n",
    "            anglep = 2* math.pi *random()\n",
    "            noise = max_noise * random()\n",
    "            r = radius * (1 + noise)\n",
    "            point = [r * math.cos(anglet)*math.cos(anglep), r * math.sin(anglet)*math.cos(anglep),r*math.sin(anglep)]\n",
    "            points.append(point)\n",
    "    if dim==2:\n",
    "        for i in range(n):\n",
    "            anglet = 2 * math.pi * random()\n",
    "            noise = max_noise * random()\n",
    "            r = radius * (1 + noise)\n",
    "            point = [r * math.cos(anglet), r * math.sin(anglet),0]\n",
    "            points.append(point)\n",
    "    return np.array(points)"
   ]
  },
  {
   "cell_type": "code",
   "execution_count": 14,
   "metadata": {},
   "outputs": [
    {
     "data": {
      "application/vnd.plotly.v1+json": {
       "config": {
        "plotlyServerURL": "https://plot.ly"
       },
       "data": [
        {
         "mode": "markers",
         "type": "scatter3d",
         "x": [
          -8.846049490395375,
          11.620231595518941,
          18.692376107658408,
          7.460165660622347,
          7.2404232361826155,
          -14.583786958151592,
          -6.692838187371535,
          -10.651769252971292,
          -9.359641957124358,
          -9.9849360916399,
          14.04328584035898,
          -12.813234604437481,
          13.919243639934171,
          0.2810553131533227,
          9.919414785472167,
          -7.53618042774265,
          12.253232494576125,
          -0.07573338300602524,
          6.739050164761856,
          -7.140710700184299,
          10.628637946153354,
          5.644136557525647,
          -11.269757766207416,
          0.5336385380724099,
          -7.16615023655802,
          -13.912337064685731,
          -0.7290856228330751,
          -11.829912212184494,
          14.916376161616277,
          -4.1878310691170295,
          -11.206058773712181,
          -10.84018204903564,
          15.156679817528014,
          -8.563238262266266,
          -11.108102420468278,
          6.580856385614637,
          -4.346929156890138,
          17.336296757743252,
          -4.693079667358603,
          6.218747528603665,
          -12.805433642389495,
          19.062588409351235,
          0.2142574858905232,
          -9.676107359990752,
          1.4161314130915732,
          11.73369927444127,
          -12.476520145970811,
          15.238415895934985,
          9.794547663384114,
          -11.747876220902093,
          -14.267908355410084,
          -11.009792180333013,
          -8.387404603172882,
          17.179554594203545,
          -6.143787838752639,
          -3.780027866938438,
          15.566136092426428,
          -14.438482483914537,
          11.50386828409831,
          4.293805598339314,
          11.224379536538576,
          15.522792874612879,
          3.196227103991184,
          -15.376519654956832,
          13.106558953556938,
          17.87309348841696,
          12.053575632372661,
          9.96398583924055,
          -18.140604133854843,
          -17.657016785085204,
          -1.4034408717209994,
          -14.28669332950004,
          -6.8926932802112075,
          -8.051081394884994,
          -15.132797696307444,
          -15.649047102507458,
          10.736294645607446,
          14.38663308690639,
          -17.286437149126822,
          7.916425836258062,
          9.007790854367284,
          -3.094584616882035,
          16.032437778657464,
          5.8394119218503375,
          18.518682291150633,
          1.5600270106588974,
          2.4708362140529205,
          12.998032936117088,
          -0.36563697745864826,
          10.631663681631782,
          -10.858386377314106,
          -16.414106162641303,
          -4.610573773452629,
          -10.738605315920688,
          11.183072829521336,
          -9.107875902951054,
          14.622013157082616,
          3.0843262615714986,
          -10.577207541599481,
          -0.2316287046651513
         ],
         "y": [
          13.695444239932064,
          -11.706002213020211,
          -3.0752892596129042,
          15.929143451454216,
          -11.200097138929333,
          9.052344884262103,
          -9.991707596078937,
          2.0234590952385325,
          -8.202538892647738,
          -2.375243884779308,
          -12.966333069516033,
          -13.555620628006558,
          1.962722115940471,
          -14.906225954014133,
          -4.542947132498944,
          11.082862421359978,
          9.910194607411231,
          17.810023544249542,
          8.316742920173679,
          -10.703470914052971,
          0.10477544722162063,
          12.97877363469761,
          10.803939437080569,
          -12.902775569720657,
          17.256663032841324,
          -1.6608353367690505,
          12.777434991837284,
          13.560543600913975,
          11.238648336106486,
          -11.635058801603735,
          -1.442446128025351,
          -10.553573280096925,
          -7.409085217513812,
          14.43037767676349,
          10.707022203748922,
          -12.423026495511587,
          -15.159844055320313,
          -8.694701171827427,
          -12.595958277739717,
          15.49764644706541,
          14.05957922316413,
          -5.018261909832763,
          10.529255613919073,
          -4.118453828706302,
          15.287363579066247,
          -1.580309868254964,
          -7.950406572724937,
          -11.174611437954619,
          -5.709764445738245,
          7.3931280019965655,
          -5.766411958552044,
          8.964026113182872,
          -12.46151730072041,
          2.32116764397448,
          15.362790558832573,
          -17.62698214254893,
          -5.0127804301832635,
          3.054900306058653,
          6.047095713244667,
          -10.911589861083842,
          10.75608573168665,
          -11.155296933629995,
          -12.434030947978139,
          7.09415092264705,
          12.650455416835369,
          -8.753063526489573,
          10.070007956530633,
          9.701554134484935,
          0.9394016447400056,
          -8.068502623108856,
          11.099940080029562,
          -2.6729098128541353,
          12.539800833803197,
          -14.191485446338396,
          9.429997128490331,
          -3.6003016765990496,
          7.591160919501587,
          -8.362513057402097,
          -3.12584319644883,
          -11.491529041249716,
          -16.925580067393984,
          -18.302977209780224,
          -1.538725343952844,
          -10.28807692633941,
          0.8481813594983858,
          -12.283220998731828,
          19.545887130481645,
          3.151125861268111,
          18.312426420480058,
          -6.037854951323191,
          16.00724580364344,
          -5.1385249794674905,
          -15.894092458293805,
          -9.158790053879493,
          -6.730958065069737,
          9.078307956427048,
          -9.635514988930769,
          11.129927729558265,
          12.696864801115801,
          -15.931549268270068
         ],
         "z": [
          0,
          0,
          0,
          0,
          0,
          0,
          0,
          0,
          0,
          0,
          0,
          0,
          0,
          0,
          0,
          0,
          0,
          0,
          0,
          0,
          0,
          0,
          0,
          0,
          0,
          0,
          0,
          0,
          0,
          0,
          0,
          0,
          0,
          0,
          0,
          0,
          0,
          0,
          0,
          0,
          0,
          0,
          0,
          0,
          0,
          0,
          0,
          0,
          0,
          0,
          0,
          0,
          0,
          0,
          0,
          0,
          0,
          0,
          0,
          0,
          0,
          0,
          0,
          0,
          0,
          0,
          0,
          0,
          0,
          0,
          0,
          0,
          0,
          0,
          0,
          0,
          0,
          0,
          0,
          0,
          0,
          0,
          0,
          0,
          0,
          0,
          0,
          0,
          0,
          0,
          0,
          0,
          0,
          0,
          0,
          0,
          0,
          0,
          0,
          0
         ]
        }
       ],
       "layout": {
        "template": {
         "data": {
          "bar": [
           {
            "error_x": {
             "color": "#2a3f5f"
            },
            "error_y": {
             "color": "#2a3f5f"
            },
            "marker": {
             "line": {
              "color": "#E5ECF6",
              "width": 0.5
             },
             "pattern": {
              "fillmode": "overlay",
              "size": 10,
              "solidity": 0.2
             }
            },
            "type": "bar"
           }
          ],
          "barpolar": [
           {
            "marker": {
             "line": {
              "color": "#E5ECF6",
              "width": 0.5
             },
             "pattern": {
              "fillmode": "overlay",
              "size": 10,
              "solidity": 0.2
             }
            },
            "type": "barpolar"
           }
          ],
          "carpet": [
           {
            "aaxis": {
             "endlinecolor": "#2a3f5f",
             "gridcolor": "white",
             "linecolor": "white",
             "minorgridcolor": "white",
             "startlinecolor": "#2a3f5f"
            },
            "baxis": {
             "endlinecolor": "#2a3f5f",
             "gridcolor": "white",
             "linecolor": "white",
             "minorgridcolor": "white",
             "startlinecolor": "#2a3f5f"
            },
            "type": "carpet"
           }
          ],
          "choropleth": [
           {
            "colorbar": {
             "outlinewidth": 0,
             "ticks": ""
            },
            "type": "choropleth"
           }
          ],
          "contour": [
           {
            "colorbar": {
             "outlinewidth": 0,
             "ticks": ""
            },
            "colorscale": [
             [
              0,
              "#0d0887"
             ],
             [
              0.1111111111111111,
              "#46039f"
             ],
             [
              0.2222222222222222,
              "#7201a8"
             ],
             [
              0.3333333333333333,
              "#9c179e"
             ],
             [
              0.4444444444444444,
              "#bd3786"
             ],
             [
              0.5555555555555556,
              "#d8576b"
             ],
             [
              0.6666666666666666,
              "#ed7953"
             ],
             [
              0.7777777777777778,
              "#fb9f3a"
             ],
             [
              0.8888888888888888,
              "#fdca26"
             ],
             [
              1,
              "#f0f921"
             ]
            ],
            "type": "contour"
           }
          ],
          "contourcarpet": [
           {
            "colorbar": {
             "outlinewidth": 0,
             "ticks": ""
            },
            "type": "contourcarpet"
           }
          ],
          "heatmap": [
           {
            "colorbar": {
             "outlinewidth": 0,
             "ticks": ""
            },
            "colorscale": [
             [
              0,
              "#0d0887"
             ],
             [
              0.1111111111111111,
              "#46039f"
             ],
             [
              0.2222222222222222,
              "#7201a8"
             ],
             [
              0.3333333333333333,
              "#9c179e"
             ],
             [
              0.4444444444444444,
              "#bd3786"
             ],
             [
              0.5555555555555556,
              "#d8576b"
             ],
             [
              0.6666666666666666,
              "#ed7953"
             ],
             [
              0.7777777777777778,
              "#fb9f3a"
             ],
             [
              0.8888888888888888,
              "#fdca26"
             ],
             [
              1,
              "#f0f921"
             ]
            ],
            "type": "heatmap"
           }
          ],
          "heatmapgl": [
           {
            "colorbar": {
             "outlinewidth": 0,
             "ticks": ""
            },
            "colorscale": [
             [
              0,
              "#0d0887"
             ],
             [
              0.1111111111111111,
              "#46039f"
             ],
             [
              0.2222222222222222,
              "#7201a8"
             ],
             [
              0.3333333333333333,
              "#9c179e"
             ],
             [
              0.4444444444444444,
              "#bd3786"
             ],
             [
              0.5555555555555556,
              "#d8576b"
             ],
             [
              0.6666666666666666,
              "#ed7953"
             ],
             [
              0.7777777777777778,
              "#fb9f3a"
             ],
             [
              0.8888888888888888,
              "#fdca26"
             ],
             [
              1,
              "#f0f921"
             ]
            ],
            "type": "heatmapgl"
           }
          ],
          "histogram": [
           {
            "marker": {
             "pattern": {
              "fillmode": "overlay",
              "size": 10,
              "solidity": 0.2
             }
            },
            "type": "histogram"
           }
          ],
          "histogram2d": [
           {
            "colorbar": {
             "outlinewidth": 0,
             "ticks": ""
            },
            "colorscale": [
             [
              0,
              "#0d0887"
             ],
             [
              0.1111111111111111,
              "#46039f"
             ],
             [
              0.2222222222222222,
              "#7201a8"
             ],
             [
              0.3333333333333333,
              "#9c179e"
             ],
             [
              0.4444444444444444,
              "#bd3786"
             ],
             [
              0.5555555555555556,
              "#d8576b"
             ],
             [
              0.6666666666666666,
              "#ed7953"
             ],
             [
              0.7777777777777778,
              "#fb9f3a"
             ],
             [
              0.8888888888888888,
              "#fdca26"
             ],
             [
              1,
              "#f0f921"
             ]
            ],
            "type": "histogram2d"
           }
          ],
          "histogram2dcontour": [
           {
            "colorbar": {
             "outlinewidth": 0,
             "ticks": ""
            },
            "colorscale": [
             [
              0,
              "#0d0887"
             ],
             [
              0.1111111111111111,
              "#46039f"
             ],
             [
              0.2222222222222222,
              "#7201a8"
             ],
             [
              0.3333333333333333,
              "#9c179e"
             ],
             [
              0.4444444444444444,
              "#bd3786"
             ],
             [
              0.5555555555555556,
              "#d8576b"
             ],
             [
              0.6666666666666666,
              "#ed7953"
             ],
             [
              0.7777777777777778,
              "#fb9f3a"
             ],
             [
              0.8888888888888888,
              "#fdca26"
             ],
             [
              1,
              "#f0f921"
             ]
            ],
            "type": "histogram2dcontour"
           }
          ],
          "mesh3d": [
           {
            "colorbar": {
             "outlinewidth": 0,
             "ticks": ""
            },
            "type": "mesh3d"
           }
          ],
          "parcoords": [
           {
            "line": {
             "colorbar": {
              "outlinewidth": 0,
              "ticks": ""
             }
            },
            "type": "parcoords"
           }
          ],
          "pie": [
           {
            "automargin": true,
            "type": "pie"
           }
          ],
          "scatter": [
           {
            "fillpattern": {
             "fillmode": "overlay",
             "size": 10,
             "solidity": 0.2
            },
            "type": "scatter"
           }
          ],
          "scatter3d": [
           {
            "line": {
             "colorbar": {
              "outlinewidth": 0,
              "ticks": ""
             }
            },
            "marker": {
             "colorbar": {
              "outlinewidth": 0,
              "ticks": ""
             }
            },
            "type": "scatter3d"
           }
          ],
          "scattercarpet": [
           {
            "marker": {
             "colorbar": {
              "outlinewidth": 0,
              "ticks": ""
             }
            },
            "type": "scattercarpet"
           }
          ],
          "scattergeo": [
           {
            "marker": {
             "colorbar": {
              "outlinewidth": 0,
              "ticks": ""
             }
            },
            "type": "scattergeo"
           }
          ],
          "scattergl": [
           {
            "marker": {
             "colorbar": {
              "outlinewidth": 0,
              "ticks": ""
             }
            },
            "type": "scattergl"
           }
          ],
          "scattermapbox": [
           {
            "marker": {
             "colorbar": {
              "outlinewidth": 0,
              "ticks": ""
             }
            },
            "type": "scattermapbox"
           }
          ],
          "scatterpolar": [
           {
            "marker": {
             "colorbar": {
              "outlinewidth": 0,
              "ticks": ""
             }
            },
            "type": "scatterpolar"
           }
          ],
          "scatterpolargl": [
           {
            "marker": {
             "colorbar": {
              "outlinewidth": 0,
              "ticks": ""
             }
            },
            "type": "scatterpolargl"
           }
          ],
          "scatterternary": [
           {
            "marker": {
             "colorbar": {
              "outlinewidth": 0,
              "ticks": ""
             }
            },
            "type": "scatterternary"
           }
          ],
          "surface": [
           {
            "colorbar": {
             "outlinewidth": 0,
             "ticks": ""
            },
            "colorscale": [
             [
              0,
              "#0d0887"
             ],
             [
              0.1111111111111111,
              "#46039f"
             ],
             [
              0.2222222222222222,
              "#7201a8"
             ],
             [
              0.3333333333333333,
              "#9c179e"
             ],
             [
              0.4444444444444444,
              "#bd3786"
             ],
             [
              0.5555555555555556,
              "#d8576b"
             ],
             [
              0.6666666666666666,
              "#ed7953"
             ],
             [
              0.7777777777777778,
              "#fb9f3a"
             ],
             [
              0.8888888888888888,
              "#fdca26"
             ],
             [
              1,
              "#f0f921"
             ]
            ],
            "type": "surface"
           }
          ],
          "table": [
           {
            "cells": {
             "fill": {
              "color": "#EBF0F8"
             },
             "line": {
              "color": "white"
             }
            },
            "header": {
             "fill": {
              "color": "#C8D4E3"
             },
             "line": {
              "color": "white"
             }
            },
            "type": "table"
           }
          ]
         },
         "layout": {
          "annotationdefaults": {
           "arrowcolor": "#2a3f5f",
           "arrowhead": 0,
           "arrowwidth": 1
          },
          "autotypenumbers": "strict",
          "coloraxis": {
           "colorbar": {
            "outlinewidth": 0,
            "ticks": ""
           }
          },
          "colorscale": {
           "diverging": [
            [
             0,
             "#8e0152"
            ],
            [
             0.1,
             "#c51b7d"
            ],
            [
             0.2,
             "#de77ae"
            ],
            [
             0.3,
             "#f1b6da"
            ],
            [
             0.4,
             "#fde0ef"
            ],
            [
             0.5,
             "#f7f7f7"
            ],
            [
             0.6,
             "#e6f5d0"
            ],
            [
             0.7,
             "#b8e186"
            ],
            [
             0.8,
             "#7fbc41"
            ],
            [
             0.9,
             "#4d9221"
            ],
            [
             1,
             "#276419"
            ]
           ],
           "sequential": [
            [
             0,
             "#0d0887"
            ],
            [
             0.1111111111111111,
             "#46039f"
            ],
            [
             0.2222222222222222,
             "#7201a8"
            ],
            [
             0.3333333333333333,
             "#9c179e"
            ],
            [
             0.4444444444444444,
             "#bd3786"
            ],
            [
             0.5555555555555556,
             "#d8576b"
            ],
            [
             0.6666666666666666,
             "#ed7953"
            ],
            [
             0.7777777777777778,
             "#fb9f3a"
            ],
            [
             0.8888888888888888,
             "#fdca26"
            ],
            [
             1,
             "#f0f921"
            ]
           ],
           "sequentialminus": [
            [
             0,
             "#0d0887"
            ],
            [
             0.1111111111111111,
             "#46039f"
            ],
            [
             0.2222222222222222,
             "#7201a8"
            ],
            [
             0.3333333333333333,
             "#9c179e"
            ],
            [
             0.4444444444444444,
             "#bd3786"
            ],
            [
             0.5555555555555556,
             "#d8576b"
            ],
            [
             0.6666666666666666,
             "#ed7953"
            ],
            [
             0.7777777777777778,
             "#fb9f3a"
            ],
            [
             0.8888888888888888,
             "#fdca26"
            ],
            [
             1,
             "#f0f921"
            ]
           ]
          },
          "colorway": [
           "#636efa",
           "#EF553B",
           "#00cc96",
           "#ab63fa",
           "#FFA15A",
           "#19d3f3",
           "#FF6692",
           "#B6E880",
           "#FF97FF",
           "#FECB52"
          ],
          "font": {
           "color": "#2a3f5f"
          },
          "geo": {
           "bgcolor": "white",
           "lakecolor": "white",
           "landcolor": "#E5ECF6",
           "showlakes": true,
           "showland": true,
           "subunitcolor": "white"
          },
          "hoverlabel": {
           "align": "left"
          },
          "hovermode": "closest",
          "mapbox": {
           "style": "light"
          },
          "paper_bgcolor": "white",
          "plot_bgcolor": "#E5ECF6",
          "polar": {
           "angularaxis": {
            "gridcolor": "white",
            "linecolor": "white",
            "ticks": ""
           },
           "bgcolor": "#E5ECF6",
           "radialaxis": {
            "gridcolor": "white",
            "linecolor": "white",
            "ticks": ""
           }
          },
          "scene": {
           "xaxis": {
            "backgroundcolor": "#E5ECF6",
            "gridcolor": "white",
            "gridwidth": 2,
            "linecolor": "white",
            "showbackground": true,
            "ticks": "",
            "zerolinecolor": "white"
           },
           "yaxis": {
            "backgroundcolor": "#E5ECF6",
            "gridcolor": "white",
            "gridwidth": 2,
            "linecolor": "white",
            "showbackground": true,
            "ticks": "",
            "zerolinecolor": "white"
           },
           "zaxis": {
            "backgroundcolor": "#E5ECF6",
            "gridcolor": "white",
            "gridwidth": 2,
            "linecolor": "white",
            "showbackground": true,
            "ticks": "",
            "zerolinecolor": "white"
           }
          },
          "shapedefaults": {
           "line": {
            "color": "#2a3f5f"
           }
          },
          "ternary": {
           "aaxis": {
            "gridcolor": "white",
            "linecolor": "white",
            "ticks": ""
           },
           "baxis": {
            "gridcolor": "white",
            "linecolor": "white",
            "ticks": ""
           },
           "bgcolor": "#E5ECF6",
           "caxis": {
            "gridcolor": "white",
            "linecolor": "white",
            "ticks": ""
           }
          },
          "title": {
           "x": 0.05
          },
          "xaxis": {
           "automargin": true,
           "gridcolor": "white",
           "linecolor": "white",
           "ticks": "",
           "title": {
            "standoff": 15
           },
           "zerolinecolor": "white",
           "zerolinewidth": 2
          },
          "yaxis": {
           "automargin": true,
           "gridcolor": "white",
           "linecolor": "white",
           "ticks": "",
           "title": {
            "standoff": 15
           },
           "zerolinecolor": "white",
           "zerolinewidth": 2
          }
         }
        }
       }
      }
     },
     "metadata": {},
     "output_type": "display_data"
    }
   ],
   "source": [
    "circle = generate_circle(2,100, 10, 1)\n",
    "fig = go.Figure(data=[go.Scatter3d(x=circle[:,0], y=circle[:,1],z=circle[:,2],\n",
    "                                   mode='markers')])\n",
    "fig.show()"
   ]
  },
  {
   "cell_type": "code",
   "execution_count": 15,
   "metadata": {},
   "outputs": [
    {
     "data": {
      "image/png": "[encoded data removed]",
      "text/plain": [
       "<Figure size 640x480 with 1 Axes>"
      ]
     },
     "metadata": {},
     "output_type": "display_data"
    }
   ],
   "source": [
    "dgm_X = ripser.ripser(circle,maxdim=2)['dgms'] #Aquí se construye y grafica el diagrama de persistencia (en este caso, de los puntos simulados). maxdim es la dimensión máxima en homología que quieres que se muestre.\n",
    "persim.plot_diagrams(\n",
    "    dgm_X, \n",
    "    show=True, \n",
    "    title=f\"Datos Simulados\\n{diagram_sizes(dgm_X)}\"\n",
    ") "
   ]
  },
  {
   "cell_type": "code",
   "execution_count": 16,
   "metadata": {},
   "outputs": [
    {
     "data": {
      "application/vnd.plotly.v1+json": {
       "config": {
        "plotlyServerURL": "https://plot.ly"
       },
       "data": [
        {
         "mode": "markers",
         "type": "scatter3d",
         "x": [
          -8.846049490395375,
          11.620231595518941,
          18.692376107658408,
          7.460165660622347,
          7.2404232361826155,
          -14.583786958151592,
          -6.692838187371535,
          -10.651769252971292,
          -9.359641957124358,
          -9.9849360916399,
          14.04328584035898,
          -12.813234604437481,
          13.919243639934171,
          0.2810553131533227,
          9.919414785472167,
          -7.53618042774265,
          12.253232494576125,
          -0.07573338300602524,
          6.739050164761856,
          -7.140710700184299,
          10.628637946153354,
          5.644136557525647,
          -11.269757766207416,
          0.5336385380724099,
          -7.16615023655802,
          -13.912337064685731,
          -0.7290856228330751,
          -11.829912212184494,
          14.916376161616277,
          -4.1878310691170295,
          -11.206058773712181,
          -10.84018204903564,
          15.156679817528014,
          -8.563238262266266,
          -11.108102420468278,
          6.580856385614637,
          -4.346929156890138,
          17.336296757743252,
          -4.693079667358603,
          6.218747528603665,
          -12.805433642389495,
          19.062588409351235,
          0.2142574858905232,
          -9.676107359990752,
          1.4161314130915732,
          11.73369927444127,
          -12.476520145970811,
          15.238415895934985,
          9.794547663384114,
          -11.747876220902093,
          -14.267908355410084,
          -11.009792180333013,
          -8.387404603172882,
          17.179554594203545,
          -6.143787838752639,
          -3.780027866938438,
          15.566136092426428,
          -14.438482483914537,
          11.50386828409831,
          4.293805598339314,
          11.224379536538576,
          15.522792874612879,
          3.196227103991184,
          -15.376519654956832,
          13.106558953556938,
          17.87309348841696,
          12.053575632372661,
          9.96398583924055,
          -18.140604133854843,
          -17.657016785085204,
          -1.4034408717209994,
          -14.28669332950004,
          -6.8926932802112075,
          -8.051081394884994,
          -15.132797696307444,
          -15.649047102507458,
          10.736294645607446,
          14.38663308690639,
          -17.286437149126822,
          7.916425836258062,
          9.007790854367284,
          -3.094584616882035,
          16.032437778657464,
          5.8394119218503375,
          18.518682291150633,
          1.5600270106588974,
          2.4708362140529205,
          12.998032936117088,
          -0.36563697745864826,
          10.631663681631782,
          -10.858386377314106,
          -16.414106162641303,
          -4.610573773452629,
          -10.738605315920688,
          11.183072829521336,
          -9.107875902951054,
          14.622013157082616,
          3.0843262615714986,
          -10.577207541599481,
          -0.2316287046651513,
          16.153950509604627,
          36.620231595518945,
          43.692376107658404,
          32.460165660622344,
          32.240423236182615,
          10.416213041848408,
          18.307161812628465,
          14.348230747028708,
          15.640358042875642,
          15.0150639083601,
          39.043285840358976,
          12.186765395562519,
          38.91924363993417,
          25.281055313153324,
          34.91941478547217,
          17.46381957225735,
          37.253232494576125,
          24.924266616993975,
          31.739050164761856,
          17.8592892998157,
          35.628637946153354,
          30.64413655752565,
          13.730242233792584,
          25.53363853807241,
          17.83384976344198,
          11.087662935314269,
          24.270914377166925,
          13.170087787815506,
          39.91637616161628,
          20.81216893088297,
          13.793941226287819,
          14.15981795096436,
          40.156679817528016,
          16.436761737733733,
          13.891897579531722,
          31.580856385614638,
          20.653070843109862,
          42.336296757743256,
          20.306920332641397,
          31.218747528603664,
          12.194566357610505,
          44.062588409351235,
          25.214257485890524,
          15.323892640009248,
          26.416131413091573,
          36.73369927444127,
          12.523479854029189,
          40.238415895934985,
          34.794547663384115,
          13.252123779097907,
          10.732091644589916,
          13.990207819666987,
          16.612595396827118,
          42.179554594203545,
          18.856212161247363,
          21.21997213306156,
          40.566136092426426,
          10.561517516085463,
          36.50386828409831,
          29.293805598339315,
          36.22437953653858,
          40.522792874612875,
          28.196227103991184,
          9.623480345043168,
          38.10655895355694,
          42.873093488416956,
          37.05357563237266,
          34.96398583924055,
          6.859395866145157,
          7.3429832149147956,
          23.596559128279,
          10.71330667049996,
          18.10730671978879,
          16.948918605115004,
          9.867202303692556,
          9.350952897492542,
          35.736294645607444,
          39.386633086906386,
          7.713562850873178,
          32.916425836258064,
          34.007790854367286,
          21.905415383117965,
          41.03243777865747,
          30.83941192185034,
          43.51868229115063,
          26.560027010658896,
          27.47083621405292,
          37.998032936117085,
          24.63436302254135,
          35.63166368163178,
          14.141613622685894,
          8.585893837358697,
          20.38942622654737,
          14.261394684079312,
          36.183072829521336,
          15.892124097048946,
          39.62201315708262,
          28.084326261571498,
          14.422792458400519,
          24.76837129533485
         ],
         "y": [
          13.695444239932064,
          -11.706002213020211,
          -3.0752892596129042,
          15.929143451454216,
          -11.200097138929333,
          9.052344884262103,
          -9.991707596078937,
          2.0234590952385325,
          -8.202538892647738,
          -2.375243884779308,
          -12.966333069516033,
          -13.555620628006558,
          1.962722115940471,
          -14.906225954014133,
          -4.542947132498944,
          11.082862421359978,
          9.910194607411231,
          17.810023544249542,
          8.316742920173679,
          -10.703470914052971,
          0.10477544722162063,
          12.97877363469761,
          10.803939437080569,
          -12.902775569720657,
          17.256663032841324,
          -1.6608353367690505,
          12.777434991837284,
          13.560543600913975,
          11.238648336106486,
          -11.635058801603735,
          -1.442446128025351,
          -10.553573280096925,
          -7.409085217513812,
          14.43037767676349,
          10.707022203748922,
          -12.423026495511587,
          -15.159844055320313,
          -8.694701171827427,
          -12.595958277739717,
          15.49764644706541,
          14.05957922316413,
          -5.018261909832763,
          10.529255613919073,
          -4.118453828706302,
          15.287363579066247,
          -1.580309868254964,
          -7.950406572724937,
          -11.174611437954619,
          -5.709764445738245,
          7.3931280019965655,
          -5.766411958552044,
          8.964026113182872,
          -12.46151730072041,
          2.32116764397448,
          15.362790558832573,
          -17.62698214254893,
          -5.0127804301832635,
          3.054900306058653,
          6.047095713244667,
          -10.911589861083842,
          10.75608573168665,
          -11.155296933629995,
          -12.434030947978139,
          7.09415092264705,
          12.650455416835369,
          -8.753063526489573,
          10.070007956530633,
          9.701554134484935,
          0.9394016447400056,
          -8.068502623108856,
          11.099940080029562,
          -2.6729098128541353,
          12.539800833803197,
          -14.191485446338396,
          9.429997128490331,
          -3.6003016765990496,
          7.591160919501587,
          -8.362513057402097,
          -3.12584319644883,
          -11.491529041249716,
          -16.925580067393984,
          -18.302977209780224,
          -1.538725343952844,
          -10.28807692633941,
          0.8481813594983858,
          -12.283220998731828,
          19.545887130481645,
          3.151125861268111,
          18.312426420480058,
          -6.037854951323191,
          16.00724580364344,
          -5.1385249794674905,
          -15.894092458293805,
          -9.158790053879493,
          -6.730958065069737,
          9.078307956427048,
          -9.635514988930769,
          11.129927729558265,
          12.696864801115801,
          -15.931549268270068,
          13.695444239932064,
          -11.706002213020211,
          -3.0752892596129042,
          15.929143451454216,
          -11.200097138929333,
          9.052344884262103,
          -9.991707596078937,
          2.0234590952385325,
          -8.202538892647738,
          -2.375243884779308,
          -12.966333069516033,
          -13.555620628006558,
          1.962722115940471,
          -14.906225954014133,
          -4.542947132498944,
          11.082862421359978,
          9.910194607411231,
          17.810023544249542,
          8.316742920173679,
          -10.703470914052971,
          0.10477544722162063,
          12.97877363469761,
          10.803939437080569,
          -12.902775569720657,
          17.256663032841324,
          -1.6608353367690505,
          12.777434991837284,
          13.560543600913975,
          11.238648336106486,
          -11.635058801603735,
          -1.442446128025351,
          -10.553573280096925,
          -7.409085217513812,
          14.43037767676349,
          10.707022203748922,
          -12.423026495511587,
          -15.159844055320313,
          -8.694701171827427,
          -12.595958277739717,
          15.49764644706541,
          14.05957922316413,
          -5.018261909832763,
          10.529255613919073,
          -4.118453828706302,
          15.287363579066247,
          -1.580309868254964,
          -7.950406572724937,
          -11.174611437954619,
          -5.709764445738245,
          7.3931280019965655,
          -5.766411958552044,
          8.964026113182872,
          -12.46151730072041,
          2.32116764397448,
          15.362790558832573,
          -17.62698214254893,
          -5.0127804301832635,
          3.054900306058653,
          6.047095713244667,
          -10.911589861083842,
          10.75608573168665,
          -11.155296933629995,
          -12.434030947978139,
          7.09415092264705,
          12.650455416835369,
          -8.753063526489573,
          10.070007956530633,
          9.701554134484935,
          0.9394016447400056,
          -8.068502623108856,
          11.099940080029562,
          -2.6729098128541353,
          12.539800833803197,
          -14.191485446338396,
          9.429997128490331,
          -3.6003016765990496,
          7.591160919501587,
          -8.362513057402097,
          -3.12584319644883,
          -11.491529041249716,
          -16.925580067393984,
          -18.302977209780224,
          -1.538725343952844,
          -10.28807692633941,
          0.8481813594983858,
          -12.283220998731828,
          19.545887130481645,
          3.151125861268111,
          18.312426420480058,
          -6.037854951323191,
          16.00724580364344,
          -5.1385249794674905,
          -15.894092458293805,
          -9.158790053879493,
          -6.730958065069737,
          9.078307956427048,
          -9.635514988930769,
          11.129927729558265,
          12.696864801115801,
          -15.931549268270068
         ],
         "z": [
          0,
          0,
          0,
          0,
          0,
          0,
          0,
          0,
          0,
          0,
          0,
          0,
          0,
          0,
          0,
          0,
          0,
          0,
          0,
          0,
          0,
          0,
          0,
          0,
          0,
          0,
          0,
          0,
          0,
          0,
          0,
          0,
          0,
          0,
          0,
          0,
          0,
          0,
          0,
          0,
          0,
          0,
          0,
          0,
          0,
          0,
          0,
          0,
          0,
          0,
          0,
          0,
          0,
          0,
          0,
          0,
          0,
          0,
          0,
          0,
          0,
          0,
          0,
          0,
          0,
          0,
          0,
          0,
          0,
          0,
          0,
          0,
          0,
          0,
          0,
          0,
          0,
          0,
          0,
          0,
          0,
          0,
          0,
          0,
          0,
          0,
          0,
          0,
          0,
          0,
          0,
          0,
          0,
          0,
          0,
          0,
          0,
          0,
          0,
          0,
          0,
          0,
          0,
          0,
          0,
          0,
          0,
          0,
          0,
          0,
          0,
          0,
          0,
          0,
          0,
          0,
          0,
          0,
          0,
          0,
          0,
          0,
          0,
          0,
          0,
          0,
          0,
          0,
          0,
          0,
          0,
          0,
          0,
          0,
          0,
          0,
          0,
          0,
          0,
          0,
          0,
          0,
          0,
          0,
          0,
          0,
          0,
          0,
          0,
          0,
          0,
          0,
          0,
          0,
          0,
          0,
          0,
          0,
          0,
          0,
          0,
          0,
          0,
          0,
          0,
          0,
          0,
          0,
          0,
          0,
          0,
          0,
          0,
          0,
          0,
          0,
          0,
          0,
          0,
          0,
          0,
          0,
          0,
          0,
          0,
          0,
          0,
          0,
          0,
          0,
          0,
          0,
          0,
          0,
          0,
          0,
          0,
          0,
          0,
          0
         ]
        }
       ],
       "layout": {
        "template": {
         "data": {
          "bar": [
           {
            "error_x": {
             "color": "#2a3f5f"
            },
            "error_y": {
             "color": "#2a3f5f"
            },
            "marker": {
             "line": {
              "color": "#E5ECF6",
              "width": 0.5
             },
             "pattern": {
              "fillmode": "overlay",
              "size": 10,
              "solidity": 0.2
             }
            },
            "type": "bar"
           }
          ],
          "barpolar": [
           {
            "marker": {
             "line": {
              "color": "#E5ECF6",
              "width": 0.5
             },
             "pattern": {
              "fillmode": "overlay",
              "size": 10,
              "solidity": 0.2
             }
            },
            "type": "barpolar"
           }
          ],
          "carpet": [
           {
            "aaxis": {
             "endlinecolor": "#2a3f5f",
             "gridcolor": "white",
             "linecolor": "white",
             "minorgridcolor": "white",
             "startlinecolor": "#2a3f5f"
            },
            "baxis": {
             "endlinecolor": "#2a3f5f",
             "gridcolor": "white",
             "linecolor": "white",
             "minorgridcolor": "white",
             "startlinecolor": "#2a3f5f"
            },
            "type": "carpet"
           }
          ],
          "choropleth": [
           {
            "colorbar": {
             "outlinewidth": 0,
             "ticks": ""
            },
            "type": "choropleth"
           }
          ],
          "contour": [
           {
            "colorbar": {
             "outlinewidth": 0,
             "ticks": ""
            },
            "colorscale": [
             [
              0,
              "#0d0887"
             ],
             [
              0.1111111111111111,
              "#46039f"
             ],
             [
              0.2222222222222222,
              "#7201a8"
             ],
             [
              0.3333333333333333,
              "#9c179e"
             ],
             [
              0.4444444444444444,
              "#bd3786"
             ],
             [
              0.5555555555555556,
              "#d8576b"
             ],
             [
              0.6666666666666666,
              "#ed7953"
             ],
             [
              0.7777777777777778,
              "#fb9f3a"
             ],
             [
              0.8888888888888888,
              "#fdca26"
             ],
             [
              1,
              "#f0f921"
             ]
            ],
            "type": "contour"
           }
          ],
          "contourcarpet": [
           {
            "colorbar": {
             "outlinewidth": 0,
             "ticks": ""
            },
            "type": "contourcarpet"
           }
          ],
          "heatmap": [
           {
            "colorbar": {
             "outlinewidth": 0,
             "ticks": ""
            },
            "colorscale": [
             [
              0,
              "#0d0887"
             ],
             [
              0.1111111111111111,
              "#46039f"
             ],
             [
              0.2222222222222222,
              "#7201a8"
             ],
             [
              0.3333333333333333,
              "#9c179e"
             ],
             [
              0.4444444444444444,
              "#bd3786"
             ],
             [
              0.5555555555555556,
              "#d8576b"
             ],
             [
              0.6666666666666666,
              "#ed7953"
             ],
             [
              0.7777777777777778,
              "#fb9f3a"
             ],
             [
              0.8888888888888888,
              "#fdca26"
             ],
             [
              1,
              "#f0f921"
             ]
            ],
            "type": "heatmap"
           }
          ],
          "heatmapgl": [
           {
            "colorbar": {
             "outlinewidth": 0,
             "ticks": ""
            },
            "colorscale": [
             [
              0,
              "#0d0887"
             ],
             [
              0.1111111111111111,
              "#46039f"
             ],
             [
              0.2222222222222222,
              "#7201a8"
             ],
             [
              0.3333333333333333,
              "#9c179e"
             ],
             [
              0.4444444444444444,
              "#bd3786"
             ],
             [
              0.5555555555555556,
              "#d8576b"
             ],
             [
              0.6666666666666666,
              "#ed7953"
             ],
             [
              0.7777777777777778,
              "#fb9f3a"
             ],
             [
              0.8888888888888888,
              "#fdca26"
             ],
             [
              1,
              "#f0f921"
             ]
            ],
            "type": "heatmapgl"
           }
          ],
          "histogram": [
           {
            "marker": {
             "pattern": {
              "fillmode": "overlay",
              "size": 10,
              "solidity": 0.2
             }
            },
            "type": "histogram"
           }
          ],
          "histogram2d": [
           {
            "colorbar": {
             "outlinewidth": 0,
             "ticks": ""
            },
            "colorscale": [
             [
              0,
              "#0d0887"
             ],
             [
              0.1111111111111111,
              "#46039f"
             ],
             [
              0.2222222222222222,
              "#7201a8"
             ],
             [
              0.3333333333333333,
              "#9c179e"
             ],
             [
              0.4444444444444444,
              "#bd3786"
             ],
             [
              0.5555555555555556,
              "#d8576b"
             ],
             [
              0.6666666666666666,
              "#ed7953"
             ],
             [
              0.7777777777777778,
              "#fb9f3a"
             ],
             [
              0.8888888888888888,
              "#fdca26"
             ],
             [
              1,
              "#f0f921"
             ]
            ],
            "type": "histogram2d"
           }
          ],
          "histogram2dcontour": [
           {
            "colorbar": {
             "outlinewidth": 0,
             "ticks": ""
            },
            "colorscale": [
             [
              0,
              "#0d0887"
             ],
             [
              0.1111111111111111,
              "#46039f"
             ],
             [
              0.2222222222222222,
              "#7201a8"
             ],
             [
              0.3333333333333333,
              "#9c179e"
             ],
             [
              0.4444444444444444,
              "#bd3786"
             ],
             [
              0.5555555555555556,
              "#d8576b"
             ],
             [
              0.6666666666666666,
              "#ed7953"
             ],
             [
              0.7777777777777778,
              "#fb9f3a"
             ],
             [
              0.8888888888888888,
              "#fdca26"
             ],
             [
              1,
              "#f0f921"
             ]
            ],
            "type": "histogram2dcontour"
           }
          ],
          "mesh3d": [
           {
            "colorbar": {
             "outlinewidth": 0,
             "ticks": ""
            },
            "type": "mesh3d"
           }
          ],
          "parcoords": [
           {
            "line": {
             "colorbar": {
              "outlinewidth": 0,
              "ticks": ""
             }
            },
            "type": "parcoords"
           }
          ],
          "pie": [
           {
            "automargin": true,
            "type": "pie"
           }
          ],
          "scatter": [
           {
            "fillpattern": {
             "fillmode": "overlay",
             "size": 10,
             "solidity": 0.2
            },
            "type": "scatter"
           }
          ],
          "scatter3d": [
           {
            "line": {
             "colorbar": {
              "outlinewidth": 0,
              "ticks": ""
             }
            },
            "marker": {
             "colorbar": {
              "outlinewidth": 0,
              "ticks": ""
             }
            },
            "type": "scatter3d"
           }
          ],
          "scattercarpet": [
           {
            "marker": {
             "colorbar": {
              "outlinewidth": 0,
              "ticks": ""
             }
            },
            "type": "scattercarpet"
           }
          ],
          "scattergeo": [
           {
            "marker": {
             "colorbar": {
              "outlinewidth": 0,
              "ticks": ""
             }
            },
            "type": "scattergeo"
           }
          ],
          "scattergl": [
           {
            "marker": {
             "colorbar": {
              "outlinewidth": 0,
              "ticks": ""
             }
            },
            "type": "scattergl"
           }
          ],
          "scattermapbox": [
           {
            "marker": {
             "colorbar": {
              "outlinewidth": 0,
              "ticks": ""
             }
            },
            "type": "scattermapbox"
           }
          ],
          "scatterpolar": [
           {
            "marker": {
             "colorbar": {
              "outlinewidth": 0,
              "ticks": ""
             }
            },
            "type": "scatterpolar"
           }
          ],
          "scatterpolargl": [
           {
            "marker": {
             "colorbar": {
              "outlinewidth": 0,
              "ticks": ""
             }
            },
            "type": "scatterpolargl"
           }
          ],
          "scatterternary": [
           {
            "marker": {
             "colorbar": {
              "outlinewidth": 0,
              "ticks": ""
             }
            },
            "type": "scatterternary"
           }
          ],
          "surface": [
           {
            "colorbar": {
             "outlinewidth": 0,
             "ticks": ""
            },
            "colorscale": [
             [
              0,
              "#0d0887"
             ],
             [
              0.1111111111111111,
              "#46039f"
             ],
             [
              0.2222222222222222,
              "#7201a8"
             ],
             [
              0.3333333333333333,
              "#9c179e"
             ],
             [
              0.4444444444444444,
              "#bd3786"
             ],
             [
              0.5555555555555556,
              "#d8576b"
             ],
             [
              0.6666666666666666,
              "#ed7953"
             ],
             [
              0.7777777777777778,
              "#fb9f3a"
             ],
             [
              0.8888888888888888,
              "#fdca26"
             ],
             [
              1,
              "#f0f921"
             ]
            ],
            "type": "surface"
           }
          ],
          "table": [
           {
            "cells": {
             "fill": {
              "color": "#EBF0F8"
             },
             "line": {
              "color": "white"
             }
            },
            "header": {
             "fill": {
              "color": "#C8D4E3"
             },
             "line": {
              "color": "white"
             }
            },
            "type": "table"
           }
          ]
         },
         "layout": {
          "annotationdefaults": {
           "arrowcolor": "#2a3f5f",
           "arrowhead": 0,
           "arrowwidth": 1
          },
          "autotypenumbers": "strict",
          "coloraxis": {
           "colorbar": {
            "outlinewidth": 0,
            "ticks": ""
           }
          },
          "colorscale": {
           "diverging": [
            [
             0,
             "#8e0152"
            ],
            [
             0.1,
             "#c51b7d"
            ],
            [
             0.2,
             "#de77ae"
            ],
            [
             0.3,
             "#f1b6da"
            ],
            [
             0.4,
             "#fde0ef"
            ],
            [
             0.5,
             "#f7f7f7"
            ],
            [
             0.6,
             "#e6f5d0"
            ],
            [
             0.7,
             "#b8e186"
            ],
            [
             0.8,
             "#7fbc41"
            ],
            [
             0.9,
             "#4d9221"
            ],
            [
             1,
             "#276419"
            ]
           ],
           "sequential": [
            [
             0,
             "#0d0887"
            ],
            [
             0.1111111111111111,
             "#46039f"
            ],
            [
             0.2222222222222222,
             "#7201a8"
            ],
            [
             0.3333333333333333,
             "#9c179e"
            ],
            [
             0.4444444444444444,
             "#bd3786"
            ],
            [
             0.5555555555555556,
             "#d8576b"
            ],
            [
             0.6666666666666666,
             "#ed7953"
            ],
            [
             0.7777777777777778,
             "#fb9f3a"
            ],
            [
             0.8888888888888888,
             "#fdca26"
            ],
            [
             1,
             "#f0f921"
            ]
           ],
           "sequentialminus": [
            [
             0,
             "#0d0887"
            ],
            [
             0.1111111111111111,
             "#46039f"
            ],
            [
             0.2222222222222222,
             "#7201a8"
            ],
            [
             0.3333333333333333,
             "#9c179e"
            ],
            [
             0.4444444444444444,
             "#bd3786"
            ],
            [
             0.5555555555555556,
             "#d8576b"
            ],
            [
             0.6666666666666666,
             "#ed7953"
            ],
            [
             0.7777777777777778,
             "#fb9f3a"
            ],
            [
             0.8888888888888888,
             "#fdca26"
            ],
            [
             1,
             "#f0f921"
            ]
           ]
          },
          "colorway": [
           "#636efa",
           "#EF553B",
           "#00cc96",
           "#ab63fa",
           "#FFA15A",
           "#19d3f3",
           "#FF6692",
           "#B6E880",
           "#FF97FF",
           "#FECB52"
          ],
          "font": {
           "color": "#2a3f5f"
          },
          "geo": {
           "bgcolor": "white",
           "lakecolor": "white",
           "landcolor": "#E5ECF6",
           "showlakes": true,
           "showland": true,
           "subunitcolor": "white"
          },
          "hoverlabel": {
           "align": "left"
          },
          "hovermode": "closest",
          "mapbox": {
           "style": "light"
          },
          "paper_bgcolor": "white",
          "plot_bgcolor": "#E5ECF6",
          "polar": {
           "angularaxis": {
            "gridcolor": "white",
            "linecolor": "white",
            "ticks": ""
           },
           "bgcolor": "#E5ECF6",
           "radialaxis": {
            "gridcolor": "white",
            "linecolor": "white",
            "ticks": ""
           }
          },
          "scene": {
           "xaxis": {
            "backgroundcolor": "#E5ECF6",
            "gridcolor": "white",
            "gridwidth": 2,
            "linecolor": "white",
            "showbackground": true,
            "ticks": "",
            "zerolinecolor": "white"
           },
           "yaxis": {
            "backgroundcolor": "#E5ECF6",
            "gridcolor": "white",
            "gridwidth": 2,
            "linecolor": "white",
            "showbackground": true,
            "ticks": "",
            "zerolinecolor": "white"
           },
           "zaxis": {
            "backgroundcolor": "#E5ECF6",
            "gridcolor": "white",
            "gridwidth": 2,
            "linecolor": "white",
            "showbackground": true,
            "ticks": "",
            "zerolinecolor": "white"
           }
          },
          "shapedefaults": {
           "line": {
            "color": "#2a3f5f"
           }
          },
          "ternary": {
           "aaxis": {
            "gridcolor": "white",
            "linecolor": "white",
            "ticks": ""
           },
           "baxis": {
            "gridcolor": "white",
            "linecolor": "white",
            "ticks": ""
           },
           "bgcolor": "#E5ECF6",
           "caxis": {
            "gridcolor": "white",
            "linecolor": "white",
            "ticks": ""
           }
          },
          "title": {
           "x": 0.05
          },
          "xaxis": {
           "automargin": true,
           "gridcolor": "white",
           "linecolor": "white",
           "ticks": "",
           "title": {
            "standoff": 15
           },
           "zerolinecolor": "white",
           "zerolinewidth": 2
          },
          "yaxis": {
           "automargin": true,
           "gridcolor": "white",
           "linecolor": "white",
           "ticks": "",
           "title": {
            "standoff": 15
           },
           "zerolinecolor": "white",
           "zerolinewidth": 2
          }
         }
        }
       }
      }
     },
     "metadata": {},
     "output_type": "display_data"
    }
   ],
   "source": [
    "aux=np.array([[25,0,0]+circle[i] for i in range(len(circle))])\n",
    "doublecircle=np.append(circle,aux,0)\n",
    "fig = go.Figure(data=[go.Scatter3d(x=doublecircle[:,0], y=doublecircle[:,1],z=doublecircle[:,2],\n",
    "                                   mode='markers')])\n",
    "fig.show()"
   ]
  },
  {
   "cell_type": "code",
   "execution_count": 17,
   "metadata": {},
   "outputs": [
    {
     "data": {
      "image/png": "[encoded data removed]",
      "text/plain": [
       "<Figure size 640x480 with 1 Axes>"
      ]
     },
     "metadata": {},
     "output_type": "display_data"
    }
   ],
   "source": [
    "dgm_X = ripser.ripser(doublecircle,maxdim=2)['dgms'] #Aquí se construye y grafica el diagrama de persistencia (en este caso, de los puntos simulados). maxdim es la dimensión máxima en homología que quieres que se muestre.\n",
    "persim.plot_diagrams(\n",
    "    dgm_X, \n",
    "    show=True, \n",
    "    title=f\"Datos Simulados\\n{diagram_sizes(dgm_X)}\"\n",
    ") "
   ]
  },
  {
   "attachments": {},
   "cell_type": "markdown",
   "metadata": {},
   "source": [
    "### Ejercicio"
   ]
  },
  {
   "attachments": {},
   "cell_type": "markdown",
   "metadata": {},
   "source": [
    "Haz un análisis de persistencia para el conjunto de datos \"calificaciones.csv\" que contiene la información de las calificaciones de 3 parciales en una materia de 10000 alumnos."
   ]
  },
  {
   "attachments": {},
   "cell_type": "markdown",
   "metadata": {},
   "source": [
    "Responden las siguientes preguntas:\n",
    "\n",
    "1. ¿Qué propiedades topológicas persisten?\n",
    "2. ¿Qué podemos inferir de estas propiedades topológicas relativas a la base de datos?\n",
    "\n",
    "Persisten únicamente las componentes conexas. Las cuales son 3, por lo que podemos inferir 3 grupos bien definidios de alumnos  o calificaciones."
   ]
  },
  {
   "attachments": {},
   "cell_type": "markdown",
   "metadata": {},
   "source": []
  },
  {
   "cell_type": "code",
   "execution_count": 18,
   "metadata": {},
   "outputs": [],
   "source": [
    "import pandas as pd"
   ]
  },
  {
   "cell_type": "code",
   "execution_count": 21,
   "metadata": {},
   "outputs": [],
   "source": [
    "# Upload the data\n",
    "data = pd.read_csv(\"calificaciones.csv\")\n",
    "\n",
    "# Select just neccesary columns\n",
    "selected_columns = data.iloc[:100, [1,2,3]]\n",
    "\n",
    "#Convert to an array\n",
    "X = selected_columns.to_numpy()\n"
   ]
  },
  {
   "cell_type": "code",
   "execution_count": 22,
   "metadata": {},
   "outputs": [
    {
     "data": {
      "image/png": "[encoded data removed]",
      "text/plain": [
       "<Figure size 640x480 with 1 Axes>"
      ]
     },
     "metadata": {},
     "output_type": "display_data"
    }
   ],
   "source": [
    "dgm_X = ripser.ripser(X,maxdim=2)['dgms'] #Aquí se construye y grafica el diagrama de persistencia (en este caso, de los puntos simulados). maxdim es la dimensión máxima en homología que quieres que se muestre.\n",
    "persim.plot_diagrams(\n",
    "    dgm_X, \n",
    "    show=True, \n",
    "    title=f\"Datos Simulados\\n{diagram_sizes(dgm_X)}\"\n",
    ") "
   ]
  }
 ],
 "metadata": {
  "kernelspec": {
   "display_name": "Python 3",
   "language": "python",
   "name": "python3"
  },
  "language_info": {
   "codemirror_mode": {
    "name": "ipython",
    "version": 3
   },
   "file_extension": ".py",
   "mimetype": "text/x-python",
   "name": "python",
   "nbconvert_exporter": "python",
   "pygments_lexer": "ipython3",
   "version": "3.10.9"
  },
  "orig_nbformat": 4
 },
 "nbformat": 4,
 "nbformat_minor": 2
}
